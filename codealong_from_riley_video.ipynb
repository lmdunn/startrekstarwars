{
 "cells": [
  {
   "cell_type": "code",
   "execution_count": 22,
   "id": "386a35e8-2b58-4999-8b52-6c73880e3a24",
   "metadata": {},
   "outputs": [],
   "source": [
    "import pandas as pd\n",
    "import requests"
   ]
  },
  {
   "cell_type": "code",
   "execution_count": 2,
   "id": "c9c17c63-8e2a-45a9-8645-302e82b09bdb",
   "metadata": {},
   "outputs": [],
   "source": [
    "url = 'https://api.pushshift.io/reddit/search/submission'"
   ]
  },
  {
   "cell_type": "code",
   "execution_count": 13,
   "id": "99ab4909-87b2-444c-89b4-26094bf831f5",
   "metadata": {},
   "outputs": [],
   "source": [
    "params = {\n",
    "    'subreddit': 'startrek',\n",
    "    'size': 100\n",
    "}"
   ]
  },
  {
   "cell_type": "code",
   "execution_count": 14,
   "id": "4d445f44-62be-472b-85b2-a86b281879b5",
   "metadata": {},
   "outputs": [],
   "source": [
    "res = requests.get(url, params)"
   ]
  },
  {
   "cell_type": "code",
   "execution_count": 15,
   "id": "c6a06489-6f05-431e-9538-d99b348769a7",
   "metadata": {},
   "outputs": [
    {
     "data": {
      "text/plain": [
       "200"
      ]
     },
     "execution_count": 15,
     "metadata": {},
     "output_type": "execute_result"
    }
   ],
   "source": [
    "res.status_code"
   ]
  },
  {
   "cell_type": "code",
   "execution_count": 16,
   "id": "3f51dfcb-411e-41a9-8808-8620d664d14c",
   "metadata": {},
   "outputs": [],
   "source": [
    "data = res.json()"
   ]
  },
  {
   "cell_type": "code",
   "execution_count": 42,
   "id": "a06699e4-059a-4e86-97c6-80c949e6e727",
   "metadata": {},
   "outputs": [],
   "source": [
    "posts = data['data']"
   ]
  },
  {
   "cell_type": "code",
   "execution_count": 18,
   "id": "1704851b-1c82-48e4-9983-fbd312b2fcc3",
   "metadata": {},
   "outputs": [
    {
     "data": {
      "text/plain": [
       "100"
      ]
     },
     "execution_count": 18,
     "metadata": {},
     "output_type": "execute_result"
    }
   ],
   "source": [
    "len(posts)"
   ]
  },
  {
   "cell_type": "code",
   "execution_count": 23,
   "id": "dfae9b00-fb47-46ee-b1c1-78a3c8adbc90",
   "metadata": {},
   "outputs": [],
   "source": [
    "df = pd.DataFrame(posts)"
   ]
  },
  {
   "cell_type": "code",
   "execution_count": 36,
   "id": "43b8a8c5-d32a-4959-b9a2-df3b286203ac",
   "metadata": {},
   "outputs": [
    {
     "data": {
      "text/plain": [
       "(100, 70)"
      ]
     },
     "execution_count": 36,
     "metadata": {},
     "output_type": "execute_result"
    }
   ],
   "source": [
    "df.shape"
   ]
  },
  {
   "cell_type": "code",
   "execution_count": 26,
   "id": "66b58097-0cd7-4353-a722-b044d851a569",
   "metadata": {},
   "outputs": [
    {
     "data": {
      "text/html": [
       "<div>\n",
       "<style scoped>\n",
       "    .dataframe tbody tr th:only-of-type {\n",
       "        vertical-align: middle;\n",
       "    }\n",
       "\n",
       "    .dataframe tbody tr th {\n",
       "        vertical-align: top;\n",
       "    }\n",
       "\n",
       "    .dataframe thead th {\n",
       "        text-align: right;\n",
       "    }\n",
       "</style>\n",
       "<table border=\"1\" class=\"dataframe\">\n",
       "  <thead>\n",
       "    <tr style=\"text-align: right;\">\n",
       "      <th></th>\n",
       "      <th>subreddit</th>\n",
       "      <th>selftext</th>\n",
       "      <th>title</th>\n",
       "    </tr>\n",
       "  </thead>\n",
       "  <tbody>\n",
       "    <tr>\n",
       "      <th>0</th>\n",
       "      <td>startrek</td>\n",
       "      <td></td>\n",
       "      <td>Spock knows best</td>\n",
       "    </tr>\n",
       "    <tr>\n",
       "      <th>1</th>\n",
       "      <td>startrek</td>\n",
       "      <td>I've seen a lot of things talked about, Phaser...</td>\n",
       "      <td>I've been asked a lot recently, Vader vs Kirk.</td>\n",
       "    </tr>\n",
       "    <tr>\n",
       "      <th>2</th>\n",
       "      <td>startrek</td>\n",
       "      <td></td>\n",
       "      <td>Robert Picardo officiates at Bill Nye's marria...</td>\n",
       "    </tr>\n",
       "    <tr>\n",
       "      <th>3</th>\n",
       "      <td>startrek</td>\n",
       "      <td>[removed]</td>\n",
       "      <td>\"Measure of a Man\" and Picard's Warning</td>\n",
       "    </tr>\n",
       "    <tr>\n",
       "      <th>4</th>\n",
       "      <td>startrek</td>\n",
       "      <td>For years I’ve been saying I wanted to get int...</td>\n",
       "      <td>Finally got around to watching Star Trek</td>\n",
       "    </tr>\n",
       "  </tbody>\n",
       "</table>\n",
       "</div>"
      ],
      "text/plain": [
       "  subreddit                                           selftext  \\\n",
       "0  startrek                                                      \n",
       "1  startrek  I've seen a lot of things talked about, Phaser...   \n",
       "2  startrek                                                      \n",
       "3  startrek                                          [removed]   \n",
       "4  startrek  For years I’ve been saying I wanted to get int...   \n",
       "\n",
       "                                               title  \n",
       "0                                   Spock knows best  \n",
       "1     I've been asked a lot recently, Vader vs Kirk.  \n",
       "2  Robert Picardo officiates at Bill Nye's marria...  \n",
       "3            \"Measure of a Man\" and Picard's Warning  \n",
       "4           Finally got around to watching Star Trek  "
      ]
     },
     "execution_count": 26,
     "metadata": {},
     "output_type": "execute_result"
    }
   ],
   "source": [
    "df[['subreddit', 'selftext', 'title']].head()"
   ]
  },
  {
   "cell_type": "markdown",
   "id": "e56b17b5-0e80-4dab-9603-dc34626ede43",
   "metadata": {},
   "source": [
    "Use before and after to get additional posts"
   ]
  },
  {
   "cell_type": "code",
   "execution_count": 43,
   "id": "1164b571-57e7-42da-bf6c-6d2188b1c9ef",
   "metadata": {},
   "outputs": [
    {
     "data": {
      "text/plain": [
       "{'all_awardings': [],\n",
       " 'allow_live_comments': False,\n",
       " 'author': 'Falkoro',\n",
       " 'author_flair_css_class': None,\n",
       " 'author_flair_richtext': [],\n",
       " 'author_flair_text': None,\n",
       " 'author_flair_type': 'text',\n",
       " 'author_fullname': 't2_i786y',\n",
       " 'author_is_blocked': False,\n",
       " 'author_patreon_flair': False,\n",
       " 'author_premium': False,\n",
       " 'awarders': [],\n",
       " 'can_mod_post': False,\n",
       " 'contest_mode': False,\n",
       " 'created_utc': 1655928270,\n",
       " 'domain': 'reddit.com',\n",
       " 'full_link': 'https://www.reddit.com/r/startrek/comments/vie2zr/spock_knows_best/',\n",
       " 'gildings': {},\n",
       " 'id': 'vie2zr',\n",
       " 'is_created_from_ads_ui': False,\n",
       " 'is_crosspostable': False,\n",
       " 'is_meta': False,\n",
       " 'is_original_content': False,\n",
       " 'is_reddit_media_domain': False,\n",
       " 'is_robot_indexable': False,\n",
       " 'is_self': False,\n",
       " 'is_video': False,\n",
       " 'link_flair_background_color': '',\n",
       " 'link_flair_richtext': [],\n",
       " 'link_flair_text_color': 'dark',\n",
       " 'link_flair_type': 'text',\n",
       " 'locked': False,\n",
       " 'media_only': False,\n",
       " 'no_follow': True,\n",
       " 'num_comments': 1,\n",
       " 'num_crossposts': 0,\n",
       " 'over_18': False,\n",
       " 'parent_whitelist_status': 'all_ads',\n",
       " 'permalink': '/r/startrek/comments/vie2zr/spock_knows_best/',\n",
       " 'pinned': False,\n",
       " 'post_hint': 'link',\n",
       " 'preview': {'enabled': False,\n",
       "  'images': [{'id': 'LrWDPGyAG13ttrwJc8pcV-pQ0jYNMNb1LyjcVOtLdV8',\n",
       "    'resolutions': [{'height': 97,\n",
       "      'url': 'https://external-preview.redd.it/6x26hVgMaU9y1c5iibszgwE0wCMd44d90VwJFvJyMiA.png?width=108&amp;crop=smart&amp;auto=webp&amp;s=583bbfee72777af0ff418fc989617e42ad5671cf',\n",
       "      'width': 108},\n",
       "     {'height': 194,\n",
       "      'url': 'https://external-preview.redd.it/6x26hVgMaU9y1c5iibszgwE0wCMd44d90VwJFvJyMiA.png?width=216&amp;crop=smart&amp;auto=webp&amp;s=7d7d61d664ffc4e4e04f32ff884c4b1bf950a78c',\n",
       "      'width': 216},\n",
       "     {'height': 287,\n",
       "      'url': 'https://external-preview.redd.it/6x26hVgMaU9y1c5iibszgwE0wCMd44d90VwJFvJyMiA.png?width=320&amp;crop=smart&amp;auto=webp&amp;s=ecfb051c5e0841425f603c774ee6b6aa9e2b1632',\n",
       "      'width': 320},\n",
       "     {'height': 575,\n",
       "      'url': 'https://external-preview.redd.it/6x26hVgMaU9y1c5iibszgwE0wCMd44d90VwJFvJyMiA.png?width=640&amp;crop=smart&amp;auto=webp&amp;s=e08e8b39ffcdb2cbb1ccfb71df9aa53141a6fcfe',\n",
       "      'width': 640},\n",
       "     {'height': 863,\n",
       "      'url': 'https://external-preview.redd.it/6x26hVgMaU9y1c5iibszgwE0wCMd44d90VwJFvJyMiA.png?width=960&amp;crop=smart&amp;auto=webp&amp;s=a6277a6a4a9f72c62829c354d9fa6b9f7ce68c9d',\n",
       "      'width': 960},\n",
       "     {'height': 971,\n",
       "      'url': 'https://external-preview.redd.it/6x26hVgMaU9y1c5iibszgwE0wCMd44d90VwJFvJyMiA.png?width=1080&amp;crop=smart&amp;auto=webp&amp;s=7d8636e5e5f53cb7b4607c0aff2ff7052987cc6e',\n",
       "      'width': 1080}],\n",
       "    'source': {'height': 1295,\n",
       "     'url': 'https://external-preview.redd.it/6x26hVgMaU9y1c5iibszgwE0wCMd44d90VwJFvJyMiA.png?auto=webp&amp;s=5caf692adc7902de02ce4a04ec13dc4ad0df4e6b',\n",
       "     'width': 1439},\n",
       "    'variants': {}}]},\n",
       " 'pwls': 6,\n",
       " 'removed_by_category': 'moderator',\n",
       " 'retrieved_on': 1655928280,\n",
       " 'score': 1,\n",
       " 'selftext': '',\n",
       " 'send_replies': True,\n",
       " 'spoiler': False,\n",
       " 'stickied': False,\n",
       " 'subreddit': 'startrek',\n",
       " 'subreddit_id': 't5_2qixm',\n",
       " 'subreddit_subscribers': 369418,\n",
       " 'subreddit_type': 'public',\n",
       " 'thumbnail': 'https://a.thumbs.redditmedia.com/Ty-cS75MoM0p9KvaGfFzneKDHWFExEojfXqGq4OKex8.jpg',\n",
       " 'thumbnail_height': 125,\n",
       " 'thumbnail_width': 140,\n",
       " 'title': 'Spock knows best',\n",
       " 'total_awards_received': 0,\n",
       " 'treatment_tags': [],\n",
       " 'upvote_ratio': 1.0,\n",
       " 'url': 'https://www.reddit.com/r/vegan/comments/vi5lvt/spock_knows_best/?utm_medium=android_app&amp;utm_source=share',\n",
       " 'url_overridden_by_dest': 'https://www.reddit.com/r/vegan/comments/vi5lvt/spock_knows_best/?utm_medium=android_app&amp;utm_source=share',\n",
       " 'whitelist_status': 'all_ads',\n",
       " 'wls': 6}"
      ]
     },
     "execution_count": 43,
     "metadata": {},
     "output_type": "execute_result"
    }
   ],
   "source": [
    "posts[0]"
   ]
  },
  {
   "cell_type": "code",
   "execution_count": 27,
   "id": "1e0c87f1-a37d-4a67-8be2-aacaf7be8ebd",
   "metadata": {
    "collapsed": true,
    "jupyter": {
     "outputs_hidden": true
    },
    "tags": []
   },
   "outputs": [
    {
     "data": {
      "text/plain": [
       "{'all_awardings': [],\n",
       " 'allow_live_comments': False,\n",
       " 'author': 'ZarDoZ69X',\n",
       " 'author_flair_css_class': None,\n",
       " 'author_flair_richtext': [],\n",
       " 'author_flair_text': None,\n",
       " 'author_flair_type': 'text',\n",
       " 'author_fullname': 't2_7e30ud0d',\n",
       " 'author_is_blocked': False,\n",
       " 'author_patreon_flair': False,\n",
       " 'author_premium': False,\n",
       " 'awarders': [],\n",
       " 'can_mod_post': False,\n",
       " 'contest_mode': False,\n",
       " 'created_utc': 1655754492,\n",
       " 'domain': 'youtube.com',\n",
       " 'full_link': 'https://www.reddit.com/r/startrek/comments/vgu299/top_10_star_trek_the_next_generation_episodes/',\n",
       " 'gildings': {},\n",
       " 'id': 'vgu299',\n",
       " 'is_created_from_ads_ui': False,\n",
       " 'is_crosspostable': True,\n",
       " 'is_meta': False,\n",
       " 'is_original_content': False,\n",
       " 'is_reddit_media_domain': False,\n",
       " 'is_robot_indexable': True,\n",
       " 'is_self': False,\n",
       " 'is_video': False,\n",
       " 'link_flair_background_color': '',\n",
       " 'link_flair_richtext': [],\n",
       " 'link_flair_text_color': 'dark',\n",
       " 'link_flair_type': 'text',\n",
       " 'locked': False,\n",
       " 'media': {'oembed': {'author_name': 'Jessie Gender After Dark',\n",
       "   'author_url': 'https://www.youtube.com/channel/UCEpOFHzI2sToo7X1J6ON90g',\n",
       "   'height': 200,\n",
       "   'html': '&lt;iframe width=\"356\" height=\"200\" src=\"https://www.youtube.com/embed/1whdFss7MII?feature=oembed&amp;enablejsapi=1\" frameborder=\"0\" allow=\"accelerometer; autoplay; clipboard-write; encrypted-media; gyroscope; picture-in-picture\" allowfullscreen title=\"Top 10 Star Trek The Next Generation Episodes\"&gt;&lt;/iframe&gt;',\n",
       "   'provider_name': 'YouTube',\n",
       "   'provider_url': 'https://www.youtube.com/',\n",
       "   'thumbnail_height': 360,\n",
       "   'thumbnail_url': 'https://i.ytimg.com/vi/1whdFss7MII/hqdefault.jpg',\n",
       "   'thumbnail_width': 480,\n",
       "   'title': 'Top 10 Star Trek The Next Generation Episodes',\n",
       "   'type': 'video',\n",
       "   'version': '1.0',\n",
       "   'width': 356},\n",
       "  'type': 'youtube.com'},\n",
       " 'media_embed': {'content': '&lt;iframe width=\"356\" height=\"200\" src=\"https://www.youtube.com/embed/1whdFss7MII?feature=oembed&amp;enablejsapi=1\" frameborder=\"0\" allow=\"accelerometer; autoplay; clipboard-write; encrypted-media; gyroscope; picture-in-picture\" allowfullscreen title=\"Top 10 Star Trek The Next Generation Episodes\"&gt;&lt;/iframe&gt;',\n",
       "  'height': 200,\n",
       "  'scrolling': False,\n",
       "  'width': 356},\n",
       " 'media_only': False,\n",
       " 'no_follow': False,\n",
       " 'num_comments': 1,\n",
       " 'num_crossposts': 0,\n",
       " 'over_18': False,\n",
       " 'parent_whitelist_status': 'all_ads',\n",
       " 'permalink': '/r/startrek/comments/vgu299/top_10_star_trek_the_next_generation_episodes/',\n",
       " 'pinned': False,\n",
       " 'post_hint': 'rich:video',\n",
       " 'preview': {'enabled': False,\n",
       "  'images': [{'id': '5C3Ttp1j2Iei2d9AgnIyHJ2ockkmv9iqUzNPZH_IoPk',\n",
       "    'resolutions': [{'height': 81,\n",
       "      'url': 'https://external-preview.redd.it/1pn7n9PuZQP2pkKnCSadh7P2G31ge-8Jk6j6q4CRL3o.jpg?width=108&amp;crop=smart&amp;auto=webp&amp;s=69e3d84882e92205b7c0c69c0c633984e93f0e04',\n",
       "      'width': 108},\n",
       "     {'height': 162,\n",
       "      'url': 'https://external-preview.redd.it/1pn7n9PuZQP2pkKnCSadh7P2G31ge-8Jk6j6q4CRL3o.jpg?width=216&amp;crop=smart&amp;auto=webp&amp;s=92a2150740c9c91bf09a6f7f12706d0509a9fbc9',\n",
       "      'width': 216},\n",
       "     {'height': 240,\n",
       "      'url': 'https://external-preview.redd.it/1pn7n9PuZQP2pkKnCSadh7P2G31ge-8Jk6j6q4CRL3o.jpg?width=320&amp;crop=smart&amp;auto=webp&amp;s=b6be6aafe60904909831fdbb0ec709231091683e',\n",
       "      'width': 320}],\n",
       "    'source': {'height': 360,\n",
       "     'url': 'https://external-preview.redd.it/1pn7n9PuZQP2pkKnCSadh7P2G31ge-8Jk6j6q4CRL3o.jpg?auto=webp&amp;s=bc0da6faeb902279896f93f33c79535eee829f1a',\n",
       "     'width': 480},\n",
       "    'variants': {}}]},\n",
       " 'pwls': 6,\n",
       " 'retrieved_on': 1655754504,\n",
       " 'score': 1,\n",
       " 'secure_media': {'oembed': {'author_name': 'Jessie Gender After Dark',\n",
       "   'author_url': 'https://www.youtube.com/channel/UCEpOFHzI2sToo7X1J6ON90g',\n",
       "   'height': 200,\n",
       "   'html': '&lt;iframe width=\"356\" height=\"200\" src=\"https://www.youtube.com/embed/1whdFss7MII?feature=oembed&amp;enablejsapi=1\" frameborder=\"0\" allow=\"accelerometer; autoplay; clipboard-write; encrypted-media; gyroscope; picture-in-picture\" allowfullscreen title=\"Top 10 Star Trek The Next Generation Episodes\"&gt;&lt;/iframe&gt;',\n",
       "   'provider_name': 'YouTube',\n",
       "   'provider_url': 'https://www.youtube.com/',\n",
       "   'thumbnail_height': 360,\n",
       "   'thumbnail_url': 'https://i.ytimg.com/vi/1whdFss7MII/hqdefault.jpg',\n",
       "   'thumbnail_width': 480,\n",
       "   'title': 'Top 10 Star Trek The Next Generation Episodes',\n",
       "   'type': 'video',\n",
       "   'version': '1.0',\n",
       "   'width': 356},\n",
       "  'type': 'youtube.com'},\n",
       " 'secure_media_embed': {'content': '&lt;iframe width=\"356\" height=\"200\" src=\"https://www.youtube.com/embed/1whdFss7MII?feature=oembed&amp;enablejsapi=1\" frameborder=\"0\" allow=\"accelerometer; autoplay; clipboard-write; encrypted-media; gyroscope; picture-in-picture\" allowfullscreen title=\"Top 10 Star Trek The Next Generation Episodes\"&gt;&lt;/iframe&gt;',\n",
       "  'height': 200,\n",
       "  'media_domain_url': 'https://www.redditmedia.com/mediaembed/vgu299',\n",
       "  'scrolling': False,\n",
       "  'width': 356},\n",
       " 'selftext': '',\n",
       " 'send_replies': True,\n",
       " 'spoiler': False,\n",
       " 'stickied': False,\n",
       " 'subreddit': 'startrek',\n",
       " 'subreddit_id': 't5_2qixm',\n",
       " 'subreddit_subscribers': 367925,\n",
       " 'subreddit_type': 'public',\n",
       " 'thumbnail': 'https://b.thumbs.redditmedia.com/H2cPLLghDsdCLxhWtPprAeIhYQPoWgbEIezIEHY9XdQ.jpg',\n",
       " 'thumbnail_height': 105,\n",
       " 'thumbnail_width': 140,\n",
       " 'title': 'Top 10 Star Trek The Next Generation Episodes',\n",
       " 'total_awards_received': 0,\n",
       " 'treatment_tags': [],\n",
       " 'upvote_ratio': 1.0,\n",
       " 'url': 'https://youtube.com/watch?v=1whdFss7MII&amp;feature=share',\n",
       " 'url_overridden_by_dest': 'https://youtube.com/watch?v=1whdFss7MII&amp;feature=share',\n",
       " 'whitelist_status': 'all_ads',\n",
       " 'wls': 6}"
      ]
     },
     "execution_count": 27,
     "metadata": {},
     "output_type": "execute_result"
    }
   ],
   "source": [
    "posts[-1]"
   ]
  },
  {
   "cell_type": "code",
   "execution_count": 28,
   "id": "6ef15b2b-c5cc-41b4-87bc-63eeb9970fde",
   "metadata": {},
   "outputs": [],
   "source": [
    "params2 = {\n",
    "    'subreddit': 'startrek',\n",
    "    'size': 100,\n",
    "    'before': 1655754492\n",
    "}"
   ]
  },
  {
   "cell_type": "code",
   "execution_count": 29,
   "id": "8eeaae13-efa6-4562-a41f-37b112b65180",
   "metadata": {},
   "outputs": [],
   "source": [
    "res2 = requests.get(url, params2)"
   ]
  },
  {
   "cell_type": "code",
   "execution_count": 30,
   "id": "a58774dc-3c44-4ef7-9348-17a26ef900e2",
   "metadata": {},
   "outputs": [
    {
     "data": {
      "text/plain": [
       "200"
      ]
     },
     "execution_count": 30,
     "metadata": {},
     "output_type": "execute_result"
    }
   ],
   "source": [
    "res2.status_code"
   ]
  },
  {
   "cell_type": "code",
   "execution_count": 32,
   "id": "a40ad4b1-07ee-40c5-a66a-02760279a77e",
   "metadata": {},
   "outputs": [],
   "source": [
    "data2 = res2.json()"
   ]
  },
  {
   "cell_type": "code",
   "execution_count": 37,
   "id": "0e3637f5-139a-4404-9b7f-7579de6579f0",
   "metadata": {},
   "outputs": [],
   "source": [
    "posts2 = data2['data']"
   ]
  },
  {
   "cell_type": "code",
   "execution_count": 38,
   "id": "ea8f9998-ad0a-4ce6-904d-aa372ecf9abd",
   "metadata": {},
   "outputs": [
    {
     "data": {
      "text/plain": [
       "list"
      ]
     },
     "execution_count": 38,
     "metadata": {},
     "output_type": "execute_result"
    }
   ],
   "source": [
    "type(posts)"
   ]
  },
  {
   "cell_type": "code",
   "execution_count": 41,
   "id": "140bfb6c-491d-4de8-beb8-b1653a400a57",
   "metadata": {},
   "outputs": [
    {
     "data": {
      "text/html": [
       "<div>\n",
       "<style scoped>\n",
       "    .dataframe tbody tr th:only-of-type {\n",
       "        vertical-align: middle;\n",
       "    }\n",
       "\n",
       "    .dataframe tbody tr th {\n",
       "        vertical-align: top;\n",
       "    }\n",
       "\n",
       "    .dataframe thead th {\n",
       "        text-align: right;\n",
       "    }\n",
       "</style>\n",
       "<table border=\"1\" class=\"dataframe\">\n",
       "  <thead>\n",
       "    <tr style=\"text-align: right;\">\n",
       "      <th></th>\n",
       "      <th>all_awardings</th>\n",
       "      <th>allow_live_comments</th>\n",
       "      <th>author</th>\n",
       "      <th>author_flair_css_class</th>\n",
       "      <th>author_flair_richtext</th>\n",
       "      <th>author_flair_text</th>\n",
       "      <th>author_flair_type</th>\n",
       "      <th>author_fullname</th>\n",
       "      <th>author_is_blocked</th>\n",
       "      <th>author_patreon_flair</th>\n",
       "      <th>...</th>\n",
       "      <th>removed_by_category</th>\n",
       "      <th>post_hint</th>\n",
       "      <th>preview</th>\n",
       "      <th>thumbnail_height</th>\n",
       "      <th>thumbnail_width</th>\n",
       "      <th>url_overridden_by_dest</th>\n",
       "      <th>media</th>\n",
       "      <th>media_embed</th>\n",
       "      <th>secure_media</th>\n",
       "      <th>secure_media_embed</th>\n",
       "    </tr>\n",
       "  </thead>\n",
       "  <tbody>\n",
       "    <tr>\n",
       "      <th>0</th>\n",
       "      <td>[]</td>\n",
       "      <td>False</td>\n",
       "      <td>CubeWorldWisdom</td>\n",
       "      <td>None</td>\n",
       "      <td>[]</td>\n",
       "      <td>None</td>\n",
       "      <td>text</td>\n",
       "      <td>t2_48egotv4</td>\n",
       "      <td>False</td>\n",
       "      <td>False</td>\n",
       "      <td>...</td>\n",
       "      <td>NaN</td>\n",
       "      <td>NaN</td>\n",
       "      <td>NaN</td>\n",
       "      <td>NaN</td>\n",
       "      <td>NaN</td>\n",
       "      <td>NaN</td>\n",
       "      <td>NaN</td>\n",
       "      <td>NaN</td>\n",
       "      <td>NaN</td>\n",
       "      <td>NaN</td>\n",
       "    </tr>\n",
       "    <tr>\n",
       "      <th>1</th>\n",
       "      <td>[]</td>\n",
       "      <td>False</td>\n",
       "      <td>ProudAce547</td>\n",
       "      <td>None</td>\n",
       "      <td>[]</td>\n",
       "      <td>None</td>\n",
       "      <td>text</td>\n",
       "      <td>t2_o8sooa6g</td>\n",
       "      <td>False</td>\n",
       "      <td>False</td>\n",
       "      <td>...</td>\n",
       "      <td>NaN</td>\n",
       "      <td>NaN</td>\n",
       "      <td>NaN</td>\n",
       "      <td>NaN</td>\n",
       "      <td>NaN</td>\n",
       "      <td>NaN</td>\n",
       "      <td>NaN</td>\n",
       "      <td>NaN</td>\n",
       "      <td>NaN</td>\n",
       "      <td>NaN</td>\n",
       "    </tr>\n",
       "    <tr>\n",
       "      <th>2</th>\n",
       "      <td>[]</td>\n",
       "      <td>False</td>\n",
       "      <td>MobiusCake</td>\n",
       "      <td>None</td>\n",
       "      <td>[]</td>\n",
       "      <td>None</td>\n",
       "      <td>text</td>\n",
       "      <td>t2_37wcxd70</td>\n",
       "      <td>False</td>\n",
       "      <td>False</td>\n",
       "      <td>...</td>\n",
       "      <td>NaN</td>\n",
       "      <td>NaN</td>\n",
       "      <td>NaN</td>\n",
       "      <td>NaN</td>\n",
       "      <td>NaN</td>\n",
       "      <td>NaN</td>\n",
       "      <td>NaN</td>\n",
       "      <td>NaN</td>\n",
       "      <td>NaN</td>\n",
       "      <td>NaN</td>\n",
       "    </tr>\n",
       "    <tr>\n",
       "      <th>3</th>\n",
       "      <td>[]</td>\n",
       "      <td>False</td>\n",
       "      <td>ChiefQuinby</td>\n",
       "      <td>None</td>\n",
       "      <td>[]</td>\n",
       "      <td>None</td>\n",
       "      <td>text</td>\n",
       "      <td>t2_2sahe4cw</td>\n",
       "      <td>False</td>\n",
       "      <td>False</td>\n",
       "      <td>...</td>\n",
       "      <td>reddit</td>\n",
       "      <td>NaN</td>\n",
       "      <td>NaN</td>\n",
       "      <td>NaN</td>\n",
       "      <td>NaN</td>\n",
       "      <td>NaN</td>\n",
       "      <td>NaN</td>\n",
       "      <td>NaN</td>\n",
       "      <td>NaN</td>\n",
       "      <td>NaN</td>\n",
       "    </tr>\n",
       "    <tr>\n",
       "      <th>4</th>\n",
       "      <td>[]</td>\n",
       "      <td>False</td>\n",
       "      <td>man_bear_</td>\n",
       "      <td>None</td>\n",
       "      <td>[]</td>\n",
       "      <td>None</td>\n",
       "      <td>text</td>\n",
       "      <td>t2_oohoeb0a</td>\n",
       "      <td>False</td>\n",
       "      <td>False</td>\n",
       "      <td>...</td>\n",
       "      <td>moderator</td>\n",
       "      <td>NaN</td>\n",
       "      <td>NaN</td>\n",
       "      <td>NaN</td>\n",
       "      <td>NaN</td>\n",
       "      <td>NaN</td>\n",
       "      <td>NaN</td>\n",
       "      <td>NaN</td>\n",
       "      <td>NaN</td>\n",
       "      <td>NaN</td>\n",
       "    </tr>\n",
       "  </tbody>\n",
       "</table>\n",
       "<p>5 rows × 69 columns</p>\n",
       "</div>"
      ],
      "text/plain": [
       "  all_awardings  allow_live_comments           author author_flair_css_class  \\\n",
       "0            []                False  CubeWorldWisdom                   None   \n",
       "1            []                False      ProudAce547                   None   \n",
       "2            []                False       MobiusCake                   None   \n",
       "3            []                False      ChiefQuinby                   None   \n",
       "4            []                False        man_bear_                   None   \n",
       "\n",
       "  author_flair_richtext author_flair_text author_flair_type author_fullname  \\\n",
       "0                    []              None              text     t2_48egotv4   \n",
       "1                    []              None              text     t2_o8sooa6g   \n",
       "2                    []              None              text     t2_37wcxd70   \n",
       "3                    []              None              text     t2_2sahe4cw   \n",
       "4                    []              None              text     t2_oohoeb0a   \n",
       "\n",
       "   author_is_blocked  author_patreon_flair  ...  removed_by_category  \\\n",
       "0              False                 False  ...                  NaN   \n",
       "1              False                 False  ...                  NaN   \n",
       "2              False                 False  ...                  NaN   \n",
       "3              False                 False  ...               reddit   \n",
       "4              False                 False  ...            moderator   \n",
       "\n",
       "  post_hint  preview  thumbnail_height  thumbnail_width  \\\n",
       "0       NaN      NaN               NaN              NaN   \n",
       "1       NaN      NaN               NaN              NaN   \n",
       "2       NaN      NaN               NaN              NaN   \n",
       "3       NaN      NaN               NaN              NaN   \n",
       "4       NaN      NaN               NaN              NaN   \n",
       "\n",
       "  url_overridden_by_dest media media_embed secure_media  secure_media_embed  \n",
       "0                    NaN   NaN         NaN          NaN                 NaN  \n",
       "1                    NaN   NaN         NaN          NaN                 NaN  \n",
       "2                    NaN   NaN         NaN          NaN                 NaN  \n",
       "3                    NaN   NaN         NaN          NaN                 NaN  \n",
       "4                    NaN   NaN         NaN          NaN                 NaN  \n",
       "\n",
       "[5 rows x 69 columns]"
      ]
     },
     "execution_count": 41,
     "metadata": {},
     "output_type": "execute_result"
    }
   ],
   "source": [
    "posts2 = pd.DataFrame(posts2)\n",
    "\n",
    "posts2.head()"
   ]
  },
  {
   "cell_type": "code",
   "execution_count": null,
   "id": "f79e435d-2638-4b0e-8b52-07e3c9e5fb34",
   "metadata": {},
   "outputs": [],
   "source": []
  }
 ],
 "metadata": {
  "kernelspec": {
   "display_name": "Python [conda env:dsi]",
   "language": "python",
   "name": "conda-env-dsi-py"
  },
  "language_info": {
   "codemirror_mode": {
    "name": "ipython",
    "version": 3
   },
   "file_extension": ".py",
   "mimetype": "text/x-python",
   "name": "python",
   "nbconvert_exporter": "python",
   "pygments_lexer": "ipython3",
   "version": "3.9.12"
  }
 },
 "nbformat": 4,
 "nbformat_minor": 5
}
