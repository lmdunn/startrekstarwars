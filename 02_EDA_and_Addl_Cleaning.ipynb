{
 "cells": [
  {
   "cell_type": "code",
   "execution_count": 60,
   "id": "36dc7c06-e4ec-4cd8-9437-dd6ec67e883f",
   "metadata": {},
   "outputs": [],
   "source": [
    "import matplotlib.pyplot as plt\n",
    "import pandas as pd\n",
    "import seaborn as sns\n",
    "\n",
    "from nltk.corpus import stopwords\n",
    "from sklearn.feature_extraction.text import CountVectorizer\n",
    "\n",
    "pd.options.display.max_colwidth = 400 #we used this in the NLP EDA Lab 5.02 and it I thought it makes sense to use it here, too."
   ]
  },
  {
   "cell_type": "code",
   "execution_count": 248,
   "id": "61ad5408-d996-4f7c-925d-19570985b816",
   "metadata": {},
   "outputs": [],
   "source": [
    "df = pd.read_csv('data/data2022-06-26.csv')"
   ]
  },
  {
   "cell_type": "code",
   "execution_count": 249,
   "id": "af8edd15-9263-42d7-9da6-ff18ac40ecbe",
   "metadata": {},
   "outputs": [],
   "source": [
    "back_up = df.copy()"
   ]
  },
  {
   "cell_type": "code",
   "execution_count": 250,
   "id": "c3459b52-b567-4cba-b2d0-afd50ddc2969",
   "metadata": {},
   "outputs": [
    {
     "data": {
      "text/html": [
       "<div>\n",
       "<style scoped>\n",
       "    .dataframe tbody tr th:only-of-type {\n",
       "        vertical-align: middle;\n",
       "    }\n",
       "\n",
       "    .dataframe tbody tr th {\n",
       "        vertical-align: top;\n",
       "    }\n",
       "\n",
       "    .dataframe thead th {\n",
       "        text-align: right;\n",
       "    }\n",
       "</style>\n",
       "<table border=\"1\" class=\"dataframe\">\n",
       "  <thead>\n",
       "    <tr style=\"text-align: right;\">\n",
       "      <th></th>\n",
       "      <th>created_utc</th>\n",
       "      <th>selftext</th>\n",
       "      <th>subreddit</th>\n",
       "      <th>title</th>\n",
       "    </tr>\n",
       "  </thead>\n",
       "  <tbody>\n",
       "    <tr>\n",
       "      <th>0</th>\n",
       "      <td>1656261965</td>\n",
       "      <td>[removed]</td>\n",
       "      <td>startrek</td>\n",
       "      <td>Which version of Klingons will appear in SNW?</td>\n",
       "    </tr>\n",
       "  </tbody>\n",
       "</table>\n",
       "</div>"
      ],
      "text/plain": [
       "   created_utc   selftext subreddit  \\\n",
       "0   1656261965  [removed]  startrek   \n",
       "\n",
       "                                           title  \n",
       "0  Which version of Klingons will appear in SNW?  "
      ]
     },
     "execution_count": 250,
     "metadata": {},
     "output_type": "execute_result"
    }
   ],
   "source": [
    "df.head(1)"
   ]
  },
  {
   "cell_type": "code",
   "execution_count": 251,
   "id": "3fece033-5c06-4fde-a4f5-8dfb722f0797",
   "metadata": {},
   "outputs": [
    {
     "data": {
      "text/plain": [
       "created_utc     int64\n",
       "selftext       object\n",
       "subreddit      object\n",
       "title          object\n",
       "dtype: object"
      ]
     },
     "execution_count": 251,
     "metadata": {},
     "output_type": "execute_result"
    }
   ],
   "source": [
    "df.dtypes"
   ]
  },
  {
   "cell_type": "code",
   "execution_count": 252,
   "id": "a394bec2-b6c1-44a7-aac6-64b5c06e779e",
   "metadata": {},
   "outputs": [
    {
     "data": {
      "text/plain": [
       "created_utc       0\n",
       "selftext       2359\n",
       "subreddit         0\n",
       "title             0\n",
       "dtype: int64"
      ]
     },
     "execution_count": 252,
     "metadata": {},
     "output_type": "execute_result"
    }
   ],
   "source": [
    "df.isnull().sum()"
   ]
  },
  {
   "cell_type": "markdown",
   "id": "8a643cc1-611f-4d94-b84d-0ac35632eb7f",
   "metadata": {},
   "source": [
    "I'm opting to fill the nulls with '' because I want to explore posts that just consist of the title, which seems to be a fairly common way to use these subreddits."
   ]
  },
  {
   "cell_type": "code",
   "execution_count": 253,
   "id": "a69fb60b-b840-4ca8-a56f-6a0ae5c61856",
   "metadata": {},
   "outputs": [
    {
     "data": {
      "text/plain": [
       "created_utc    0\n",
       "selftext       0\n",
       "subreddit      0\n",
       "title          0\n",
       "dtype: int64"
      ]
     },
     "execution_count": 253,
     "metadata": {},
     "output_type": "execute_result"
    }
   ],
   "source": [
    "df['selftext'] = df['selftext'].fillna('')\n",
    "df.isnull().sum()"
   ]
  },
  {
   "cell_type": "markdown",
   "id": "fcf4e3ae-8211-44da-a182-295ac77ecf45",
   "metadata": {},
   "source": [
    "I referenced the NLP EDA Lab 5.02 for this code to add column and word counts"
   ]
  },
  {
   "cell_type": "code",
   "execution_count": 254,
   "id": "536b6a72-57ea-427c-948f-8d6fcabf7b77",
   "metadata": {},
   "outputs": [
    {
     "data": {
      "text/html": [
       "<div>\n",
       "<style scoped>\n",
       "    .dataframe tbody tr th:only-of-type {\n",
       "        vertical-align: middle;\n",
       "    }\n",
       "\n",
       "    .dataframe tbody tr th {\n",
       "        vertical-align: top;\n",
       "    }\n",
       "\n",
       "    .dataframe thead th {\n",
       "        text-align: right;\n",
       "    }\n",
       "</style>\n",
       "<table border=\"1\" class=\"dataframe\">\n",
       "  <thead>\n",
       "    <tr style=\"text-align: right;\">\n",
       "      <th></th>\n",
       "      <th>created_utc</th>\n",
       "      <th>selftext</th>\n",
       "      <th>subreddit</th>\n",
       "      <th>title</th>\n",
       "      <th>submission_length</th>\n",
       "      <th>submission_word_count</th>\n",
       "      <th>title_length</th>\n",
       "      <th>title_word_count</th>\n",
       "    </tr>\n",
       "  </thead>\n",
       "  <tbody>\n",
       "    <tr>\n",
       "      <th>0</th>\n",
       "      <td>1656261965</td>\n",
       "      <td>[removed]</td>\n",
       "      <td>startrek</td>\n",
       "      <td>Which version of Klingons will appear in SNW?</td>\n",
       "      <td>9</td>\n",
       "      <td>1</td>\n",
       "      <td>45</td>\n",
       "      <td>8</td>\n",
       "    </tr>\n",
       "    <tr>\n",
       "      <th>1</th>\n",
       "      <td>1656254308</td>\n",
       "      <td>[removed]</td>\n",
       "      <td>startrek</td>\n",
       "      <td>On the Gorn and language</td>\n",
       "      <td>9</td>\n",
       "      <td>1</td>\n",
       "      <td>24</td>\n",
       "      <td>5</td>\n",
       "    </tr>\n",
       "    <tr>\n",
       "      <th>2</th>\n",
       "      <td>1656248567</td>\n",
       "      <td>[removed]</td>\n",
       "      <td>startrek</td>\n",
       "      <td>What are some good things that can be said about Star Trek V?</td>\n",
       "      <td>9</td>\n",
       "      <td>1</td>\n",
       "      <td>61</td>\n",
       "      <td>13</td>\n",
       "    </tr>\n",
       "    <tr>\n",
       "      <th>3</th>\n",
       "      <td>1656238740</td>\n",
       "      <td>[removed]</td>\n",
       "      <td>startrek</td>\n",
       "      <td>A Lord of the Rings reference in SNW 1x08</td>\n",
       "      <td>9</td>\n",
       "      <td>1</td>\n",
       "      <td>41</td>\n",
       "      <td>9</td>\n",
       "    </tr>\n",
       "    <tr>\n",
       "      <th>4</th>\n",
       "      <td>1656238132</td>\n",
       "      <td>[removed]</td>\n",
       "      <td>startrek</td>\n",
       "      <td>The sword props used in SNW 1x08 are replicas of Aragorn's sword from 'The Fellowship of the Ring' and 'The Two Towers'</td>\n",
       "      <td>9</td>\n",
       "      <td>1</td>\n",
       "      <td>119</td>\n",
       "      <td>22</td>\n",
       "    </tr>\n",
       "  </tbody>\n",
       "</table>\n",
       "</div>"
      ],
      "text/plain": [
       "   created_utc   selftext subreddit  \\\n",
       "0   1656261965  [removed]  startrek   \n",
       "1   1656254308  [removed]  startrek   \n",
       "2   1656248567  [removed]  startrek   \n",
       "3   1656238740  [removed]  startrek   \n",
       "4   1656238132  [removed]  startrek   \n",
       "\n",
       "                                                                                                                     title  \\\n",
       "0                                                                            Which version of Klingons will appear in SNW?   \n",
       "1                                                                                                 On the Gorn and language   \n",
       "2                                                            What are some good things that can be said about Star Trek V?   \n",
       "3                                                                                A Lord of the Rings reference in SNW 1x08   \n",
       "4  The sword props used in SNW 1x08 are replicas of Aragorn's sword from 'The Fellowship of the Ring' and 'The Two Towers'   \n",
       "\n",
       "   submission_length  submission_word_count  title_length  title_word_count  \n",
       "0                  9                      1            45                 8  \n",
       "1                  9                      1            24                 5  \n",
       "2                  9                      1            61                13  \n",
       "3                  9                      1            41                 9  \n",
       "4                  9                      1           119                22  "
      ]
     },
     "execution_count": 254,
     "metadata": {},
     "output_type": "execute_result"
    }
   ],
   "source": [
    "df['submission_length'] = 0\n",
    "df['submission_word_count'] = 0\n",
    "df['title_length'] = 0\n",
    "df['title_word_count'] = 0\n",
    "for i in range(len(df)):\n",
    "    df.loc[i, 'submission_length'] = len(df.loc[i, 'selftext'])\n",
    "for i in range(len(df)):\n",
    "    df.loc[i, 'title_length'] = len(df.loc[i, 'title'])\n",
    "for i in range(len(df)):\n",
    "    df.loc[i, 'submission_word_count'] = len(df.loc[i,'selftext'].split())\n",
    "for i in range(len(df)):\n",
    "    df.loc[i, 'title_word_count'] = len(df.loc[i,'title'].split())\n",
    "    \n",
    "df.head()"
   ]
  },
  {
   "cell_type": "code",
   "execution_count": 255,
   "id": "0a504070-bb09-4569-9f1f-49dea03aad80",
   "metadata": {},
   "outputs": [
    {
     "data": {
      "text/html": [
       "<div>\n",
       "<style scoped>\n",
       "    .dataframe tbody tr th:only-of-type {\n",
       "        vertical-align: middle;\n",
       "    }\n",
       "\n",
       "    .dataframe tbody tr th {\n",
       "        vertical-align: top;\n",
       "    }\n",
       "\n",
       "    .dataframe thead th {\n",
       "        text-align: right;\n",
       "    }\n",
       "</style>\n",
       "<table border=\"1\" class=\"dataframe\">\n",
       "  <thead>\n",
       "    <tr style=\"text-align: right;\">\n",
       "      <th></th>\n",
       "      <th>created_utc</th>\n",
       "      <th>selftext</th>\n",
       "      <th>subreddit</th>\n",
       "      <th>title</th>\n",
       "      <th>submission_length</th>\n",
       "      <th>submission_word_count</th>\n",
       "      <th>title_length</th>\n",
       "      <th>title_word_count</th>\n",
       "    </tr>\n",
       "  </thead>\n",
       "  <tbody>\n",
       "    <tr>\n",
       "      <th>3537</th>\n",
       "      <td>1656263202</td>\n",
       "      <td>[removed]</td>\n",
       "      <td>starwars</td>\n",
       "      <td>I know (almost) nothing about Star Wars, ask me anything</td>\n",
       "      <td>9</td>\n",
       "      <td>1</td>\n",
       "      <td>56</td>\n",
       "      <td>10</td>\n",
       "    </tr>\n",
       "    <tr>\n",
       "      <th>3538</th>\n",
       "      <td>1656263028</td>\n",
       "      <td>[removed]</td>\n",
       "      <td>starwars</td>\n",
       "      <td>My Star Wars writing debut</td>\n",
       "      <td>9</td>\n",
       "      <td>1</td>\n",
       "      <td>26</td>\n",
       "      <td>5</td>\n",
       "    </tr>\n",
       "    <tr>\n",
       "      <th>3539</th>\n",
       "      <td>1656258044</td>\n",
       "      <td>[removed]</td>\n",
       "      <td>starwars</td>\n",
       "      <td>I wrote a story!</td>\n",
       "      <td>9</td>\n",
       "      <td>1</td>\n",
       "      <td>16</td>\n",
       "      <td>4</td>\n",
       "    </tr>\n",
       "  </tbody>\n",
       "</table>\n",
       "</div>"
      ],
      "text/plain": [
       "      created_utc   selftext subreddit  \\\n",
       "3537   1656263202  [removed]  starwars   \n",
       "3538   1656263028  [removed]  starwars   \n",
       "3539   1656258044  [removed]  starwars   \n",
       "\n",
       "                                                         title  \\\n",
       "3537  I know (almost) nothing about Star Wars, ask me anything   \n",
       "3538                                My Star Wars writing debut   \n",
       "3539                                          I wrote a story!   \n",
       "\n",
       "      submission_length  submission_word_count  title_length  title_word_count  \n",
       "3537                  9                      1            56                10  \n",
       "3538                  9                      1            26                 5  \n",
       "3539                  9                      1            16                 4  "
      ]
     },
     "execution_count": 255,
     "metadata": {},
     "output_type": "execute_result"
    }
   ],
   "source": [
    "df['subreddit'] = df['subreddit'].str.lower()\n",
    "df[df['subreddit'] != 'startrek'].head(3)"
   ]
  },
  {
   "cell_type": "code",
   "execution_count": 256,
   "id": "9dbeac2c-9dca-41cb-88cc-8057b2a5a54a",
   "metadata": {},
   "outputs": [],
   "source": [
    "df.to_csv('data/cleaned_with_removed_posts.csv')"
   ]
  },
  {
   "cell_type": "markdown",
   "id": "b181fa1d-4346-4b6a-b0d8-2cc756bd7f5d",
   "metadata": {
    "tags": []
   },
   "source": [
    "# `'[removed]'`\n",
    "\n",
    "'[removed]' interferes with my \"submission_length\" and \"submission_word_count\" analyses, so I explore that here before removing those rows.\n",
    "\n",
    "IMPORTANT NOTE: It's possible that some portion of the removed posts were removed because they were duplicates of other posts. [The rules for the StarWars subreddit](https://www.reddit.com/r/StarWars/wiki/rules) are explicit that you cannot repost material. However, as I'm exploring the language used in these posts, I opted to remove the repeat titles. Admittedly, that means that some of the titles that are analyzed may point towards posts that were removed for repetition, *not* for the content itself, but that's a possibility I decided is preferable to overcounting the words in the repeated titles. On the day that I drew my data, there were 53 repeated Star Trek titles and 83 repeated Star Wars titles. These represent a relatively small number of data points.\n",
    "\n",
    "Observations:\n",
    "\n",
    "There are 3584 Star Trek posts in the data set, of which 39.29% are \"[removed]\"\n",
    "There are 3490 Star Wars posts in the data set, of which 16.48% are \"[removed]\"\n",
    "Star Trek posts are removed at a higher rate.\n",
    "\n",
    "![Removal Rates Bar Chart](images/removal_rates.png \"removal rates for 'startrek' and 'StarWars' subreddits\")\n",
    "\n",
    "NOTE: I referenced [this site](https://www.digitalocean.com/community/tutorials/markdown-markdown-images) and [this site](https://marinegeo.github.io/2018-08-10-adding-images-markdown/) to learn how to add images to markdown files.\n",
    "\n",
    "I was curious to see if what words were appearing most frequently in the titles of these posts, so I vectorized them. I tried to remove only value neutral words. For example, the English stopwords list includes 'not', but it seems plausible that negative posts may be more likely to be removed, so I don't want to take 'not' out.\n",
    "\n",
    "When comparing top 10, top 25, and top 50 most used words for removed posts versus all posts, it was interesting to see that a number of Star Trek show names appeared in the top word counts for removed posts, but not for all posts (`'picard'`, and `'enterprise'` and `'discovery'` in the top 50). Initially, I wondered if perhaps Star Trek fans were more apt to 'flame' a show in a manner that violated rules (one of two hypotheses for the reason there are more removed posts in the 'startrek' subreddit). On closer examination, however, it appears that the reason those Star Trek show names appear in those lists is simply because there are more removed Star Trek posts than Star Wars posts; none of those titles appear when comparing the top words from removed Star Trek posts to the top words from all Star Trek posts. In fact, the top 10 lists for removed and all Star Trek posts are the same, the top 25 removed list only has two words that don't appear in the top 25 words for all Star Trek posts, `'time', 'question'` and the top 50 removed words only contains 6 discrepancies, `'some', 'had', 'ever'`. Perhaps these will turn out to be helpful features to identifying \"removed\" posts, but subjectively they don't seem particularly insightful into the cause behind post removal.\n",
    "\n",
    "**I believe, instead, that the discrepancy in rates of removal results from differences in the two subreddits rules.**\n",
    "\n",
    "I checked [the rules for the startrek subreddit](https://www.reddit.com/r/startrek/wiki/guidelines) and [the rules for the StarWars subreddit](https://www.reddit.com/r/StarWars/wiki/rules). Interestingly, the Star Wars rules were harder to find while the Star Trek ones were posted at the top of the page.\n",
    "\n",
    "Subjectively, the Star Trek rules seem more attuned to interpersonal relationships (the first four are 'Be constructive', 'Be welcoming', 'Be honest', and 'Be nice'). None of the overall Star Wars rules speak about interpersonal behavior, though within the rules about 'comments' there is a rule about respecting fellow redditors, which links to [this page](https://www.reddit.com/r/StarWars/comments/cq4yv9/respecting_fellow_redditors_civility_bans_and_you/). This suggests that whether or not Star Trek fans are more likely to go after a show they don't like or break rules than Star Wars fans are, the moderation rules/moderators of the 'startrek' subreddit go further in enforcing some norms than those of the 'StarWars' subreddit.\n",
    "\n",
    "Incidentally, an examination of discrepancies between the Top 10, 25, and 50 removed Star Wars posts and all Star Wars posts was more revelatory. The discrepancies were as follows:\n",
    "\n",
    "|List|Words That Appear In 'Removed' List But Not In All Posts List |\n",
    "|---|---|\n",
    "|Top 10| `'series', 'spoilers'`|\n",
    "|Top 25| `'spoilers', 'should', 'show', 'finale', 'watch', 'but'`|\n",
    "|Top 50| `'watch', 'order', 'question', 'reva', 'ep', 'want', 'best', 'season', 'sith', 'never', 'no'`|\n",
    "\n",
    "Firstly, the appearance of 'spoilers' among the words appearing more frequently in removed posts than all posts at both the Top 10 and Top 25 level suggests that posting about \"spoilers\" leads to more frequent removal. It's also interesting that [Reva](https://starwars.fandom.com/wiki/Reva), a specific character appears in these lists,  as does ['Sith'](https://starwars.fandom.com/wiki/Sith?so=search), a group of characters, whereas there are no characters in the Star Trek list. This *might* suggest that Star Wars fans are more likely to discuss specific characters in a way that gets them removed. That said, these are both references that are relevant to a new show (['Obi-Wan Kenobi'](https://en.wikipedia.org/wiki/Obi-Wan_Kenobi_(TV_series), with Reva being a character on the show, it seems plausible that they're simply being discussed more frequently in posts that include spoilers and are being removed for their spoilers, not because of inflammatory discussion of characters.\n",
    "\n",
    "I started to break the lists down to top 10, 11-25, and 26-50, but realized that would not likely be revelatory: 'discovery' ('Star Trek: Discovery') appears in the 26-50 most used words for removed posts, but not for all posts. However, it doesn't appear when comparing the top 50, which suggests that 'discovery' actually appears higher in the non-removed posts than in the removed posts.\n",
    "\n",
    "An examination of the top 10, 25, and 50 words verifies this. These lists don't reveal any surprises, though they do provide a list to work from for removing potential 'proper name' stop words if we want to examine the language that's not proper names from either show to see what non-show-specific words appear most frequently.\n",
    "\n",
    "I'm also curious to see if I can predict which posts were removed based on the title and what I learn from that, so I'm going to export a file with the removals to look at that in modeling. My plan is to do vectorization in the model building, so I've just exported the dataframe without vectorization."
   ]
  },
  {
   "cell_type": "markdown",
   "id": "9d4a2282-6e68-40c5-805f-e7a729af8568",
   "metadata": {},
   "source": [
    "[This stackoverflow answer](https://stackoverflow.com/a/48115401), which I've referenced before, helped me to understand how to pull out the keys and values from the value counts for the following work."
   ]
  },
  {
   "cell_type": "code",
   "execution_count": 257,
   "id": "215b190e-eca2-4c2c-87ee-7ab206e87315",
   "metadata": {},
   "outputs": [
    {
     "name": "stdout",
     "output_type": "stream",
     "text": [
      "1936\n",
      "\n",
      "startrek    1394\n",
      "starwars     542\n",
      "Name: subreddit, dtype: int64\n",
      "\n",
      "Check that count totals are equal to thet total number of \"[removed]\" posts, 1936: 1394 + 542 = 1936\n",
      "\n",
      "There are 3537 Star Trek posts in the data set, of which 39.41% are \"[removed]\"\n",
      "There are 3409 Star Wars posts in the data set, of which 15.9% are \"[removed]\"\n"
     ]
    }
   ],
   "source": [
    "print(len(df[df['selftext'] == '[removed]']))\n",
    "print('')\n",
    "print(df[df['selftext'] == '[removed]']['subreddit'].value_counts())\n",
    "print('')\n",
    "values = df[df['selftext'] == '[removed]']['subreddit'].value_counts().keys().tolist()\n",
    "counts = df[df['selftext'] == '[removed]']['subreddit'].value_counts().tolist()\n",
    "\n",
    "print(f'Check that count totals are equal to thet total number of \"[removed]\" posts, {len(df[df[\"selftext\"] == \"[removed]\"])}: {counts[0]} + {counts[1]} = {counts[0]+counts[1]}')\n",
    "print('')\n",
    "print(f'There are {len(df[df[\"subreddit\"] == \"startrek\"])} Star Trek posts in the data set, of which {round((counts[0]/len(df[df[\"subreddit\"] == \"startrek\"]))*100, 2)}% are \"[removed]\"')\n",
    "print(f'There are {len(df[df[\"subreddit\"] == \"starwars\"])} Star Wars posts in the data set, of which {round((counts[1]/len(df[df[\"subreddit\"] == \"starwars\"]))*100, 2)}% are \"[removed]\"')\n"
   ]
  },
  {
   "cell_type": "markdown",
   "id": "084085c8-7041-4e1e-b0fd-d7a800bb826c",
   "metadata": {},
   "source": [
    "To help me add labels to the visualization below, I found [this site](https://www.geeksforgeeks.org/adding-value-labels-on-a-matplotlib-bar-chart/), which led me to the `plt.text()` function. I then looked up the documentation to better understand how to use it to get the labels I wanted."
   ]
  },
  {
   "cell_type": "code",
   "execution_count": 300,
   "id": "420ed104-8253-4dd4-a3ed-1949d9846de1",
   "metadata": {},
   "outputs": [
    {
     "data": {
      "image/png": "[encoded data removed]",
      "text/plain": [
       "<Figure size 432x288 with 1 Axes>"
      ]
     },
     "metadata": {
      "needs_background": "light"
     },
     "output_type": "display_data"
    }
   ],
   "source": [
    "removal_rates = {\n",
    "    'Star Trek': round((counts[0]/len(df[df[\"subreddit\"] == \"startrek\"]))*100, 2),\n",
    "    'Star Wars': round((counts[1]/len(df[df[\"subreddit\"] == \"starwars\"]))*100, 2)\n",
    "}\n",
    "plt.title('Rates Posts are Removed,\\nStar Trek and Star Wars Subreddits')\n",
    "plt.xlabel('Subreddits')\n",
    "plt.ylabel('Removal Rate, % of total posts')\n",
    "\n",
    "plt.ylim(0, 45)\n",
    "plt.bar(['/r/startrek', '/r/StarWars'], removal_rates.values(), color = 'dodgerblue')\n",
    "\n",
    "plt.text(0, removal_rates['Star Trek']+1, str(removal_rates['Star Trek'])+'%', ha = 'center')\n",
    "plt.text(1, removal_rates['Star Wars']+1, str(removal_rates['Star Wars'])+'%', ha = 'center')\n",
    "\n",
    "plt.tight_layout()\n",
    "plt.savefig('images/removal_rates.png');"
   ]
  },
  {
   "cell_type": "code",
   "execution_count": 259,
   "id": "ae069e40-6b45-419f-a1c8-4ccc8452ed1b",
   "metadata": {},
   "outputs": [
    {
     "name": "stdout",
     "output_type": "stream",
     "text": [
      "['a', 'about', 'above', 'after', 'again', 'against', 'ain', 'all', 'am', 'an', 'and', 'any', 'are', 'aren', \"aren't\", 'as', 'at', 'be', 'because', 'been', 'before', 'being', 'below', 'between', 'both', 'but', 'by', 'can', 'couldn', \"couldn't\", 'd', 'did', 'didn', \"didn't\", 'do', 'does', 'doesn', \"doesn't\", 'doing', 'don', \"don't\", 'down', 'during', 'each', 'few', 'for', 'from', 'further', 'had', 'hadn', \"hadn't\", 'has', 'hasn', \"hasn't\", 'have', 'haven', \"haven't\", 'having', 'he', 'her', 'here', 'hers', 'herself', 'him', 'himself', 'his', 'how', 'i', 'if', 'in', 'into', 'is', 'isn', \"isn't\", 'it', \"it's\", 'its', 'itself', 'just', 'll', 'm', 'ma', 'me', 'mightn', \"mightn't\", 'more', 'most', 'mustn', \"mustn't\", 'my', 'myself', 'needn', \"needn't\", 'no', 'nor', 'not', 'now', 'o', 'of', 'off', 'on', 'once', 'only', 'or', 'other', 'our', 'ours', 'ourselves', 'out', 'over', 'own', 're', 's', 'same', 'shan', \"shan't\", 'she', \"she's\", 'should', \"should've\", 'shouldn', \"shouldn't\", 'so', 'some', 'such', 't', 'than', 'that', \"that'll\", 'the', 'their', 'theirs', 'them', 'themselves', 'then', 'there', 'these', 'they', 'this', 'those', 'through', 'to', 'too', 'under', 'until', 'up', 've', 'very', 'was', 'wasn', \"wasn't\", 'we', 'were', 'weren', \"weren't\", 'what', 'when', 'where', 'which', 'while', 'who', 'whom', 'why', 'will', 'with', 'won', \"won't\", 'wouldn', \"wouldn't\", 'y', 'you', \"you'd\", \"you'll\", \"you're\", \"you've\", 'your', 'yours', 'yourself', 'yourselves']\n"
     ]
    }
   ],
   "source": [
    "#I referenced NLP 1 Lesson 5.01 to find the list of English stopwords\n",
    "print(sorted((stopwords).words('english')))"
   ]
  },
  {
   "cell_type": "markdown",
   "id": "5a35e3b8-d86e-40bc-99f4-015ee80025f9",
   "metadata": {},
   "source": [
    "These are the words I'm removing from the stopwords list so I can see if they appear in the titles of removed posts: 'against', 'ain', 'am', 'and', 'are', 'aren', \"aren't\", 'be', 'been', 'being', 'but', 'can', 'couldn', 'did', 'didn', \"didn't\", 'do', 'does', 'doesn',\"couldn't\", \"doesn't\", 'doing', 'don', \"don't\", 'down', 'few', 'further', 'had', 'hadn', \"hadn't\", 'has', 'hasn', \"hasn't\", 'have', 'haven', \"haven't\", 'having','he', 'her', 'hers', 'herself', 'him', 'himself', 'his','is', 'isn', \"isn't\", 'just',  'mightn', \"mightn't\", 'more', 'most', 'mustn', \"mustn't\", 'needn', \"needn't\", 'no', 'nor', 'not', 'off', 'on', 'only', 'or', 'out', 'over', 'same', 'shan', \"shan't\", 'she', \"she's\", \"should've\", 'shouldn', \"shouldn't\", 'should',  'so', 'some', 'too', 'under', 'until', 'up', 'very', 'was', 'wasn', \"wasn't\", 'were', 'weren', \"weren't\", 'will', 'won', \"won't\", 'wouldn', \"wouldn't\",\n",
    "\n",
    "I've kept all verbs in the titles (i.e. taken them out of the stopwords list). For example, I kept 'is' because I want to keep contractions like \"isn't\", which is not value neutral. While it seems more likely 'is' will appear in a value neutral statement, that seems to be tilting the playing field if I remove it.\n",
    "\n",
    "I also opted to remove gendered pronouns from the stopwords list. I'm curious to see if there are any patterns to the use of gendered pronouns."
   ]
  },
  {
   "cell_type": "code",
   "execution_count": 260,
   "id": "8b4a6cf7-8059-4ce6-9954-f78cd8f728db",
   "metadata": {},
   "outputs": [],
   "source": [
    "neutral_stopwords = ['a', 'about', 'above', 'after', 'again', 'all', 'an', 'any', 'as', 'at', 'because', 'before', 'below',\n",
    "                     'between', 'both', 'by', 'd', 'during', 'each', 'for', 'from',  'here',  'how', 'i', 'if', 'in', 'into', 'it', \"it's\", 'its', 'itself',\n",
    "                     'll', 'm', 'ma', 'me','my', 'myself', 'now', 'o', 'of', 'once', 'other', 'our', 'ours', 'ourselves', \n",
    "                     'own', 're', 's',   'such', 't', 'than', 'that', \"that'll\", 'the', 'their',\n",
    "                     'theirs', 'them', 'themselves', 'then', 'there', 'these', 'they', 'this', 'those', 'through', 'to', \n",
    "                      've', 'we', 'what', 'when', 'where', 'which', 'while', 'who', 'whom', 'why', 'with', \n",
    "                     'y', 'you', \"you'd\", \"you'll\", \"you're\", \"you've\", 'your', 'yours', 'yourself', 'yourselves']"
   ]
  },
  {
   "cell_type": "markdown",
   "id": "dee257a6-89bc-48f5-91f7-136d26d18daa",
   "metadata": {},
   "source": [
    "I referenced the NLP Lab 5.02 on EDA for help with getting the following code right."
   ]
  },
  {
   "cell_type": "code",
   "execution_count": 261,
   "id": "8cf63073-55d7-4dec-9239-0db8c9f4b483",
   "metadata": {},
   "outputs": [
    {
     "data": {
      "text/plain": [
       "(6946, 7908)"
      ]
     },
     "execution_count": 261,
     "metadata": {},
     "output_type": "execute_result"
    }
   ],
   "source": [
    "cvec = CountVectorizer(stop_words = neutral_stopwords)\n",
    "cvec.fit(df['title'])\n",
    "vectorized = cvec.transform(df['title'])\n",
    "vectorized.shape"
   ]
  },
  {
   "cell_type": "code",
   "execution_count": 262,
   "id": "f4c79637-004d-4f64-ab71-f3904b1d0db8",
   "metadata": {},
   "outputs": [
    {
     "name": "stdout",
     "output_type": "stream",
     "text": [
      "(6946, 7908)\n"
     ]
    },
    {
     "data": {
      "text/plain": [
       "pandas.core.frame.DataFrame"
      ]
     },
     "execution_count": 262,
     "metadata": {},
     "output_type": "execute_result"
    }
   ],
   "source": [
    "vectorized = pd.DataFrame(vectorized.todense(), columns = cvec.get_feature_names_out())\n",
    "print(vectorized.shape)\n",
    "type(vectorized)"
   ]
  },
  {
   "cell_type": "code",
   "execution_count": 263,
   "id": "29338789-5aec-423a-aaa3-5fa99186b2a3",
   "metadata": {},
   "outputs": [
    {
     "name": "stdout",
     "output_type": "stream",
     "text": [
      "(6946, 7910)\n"
     ]
    },
    {
     "data": {
      "text/html": [
       "<div>\n",
       "<style scoped>\n",
       "    .dataframe tbody tr th:only-of-type {\n",
       "        vertical-align: middle;\n",
       "    }\n",
       "\n",
       "    .dataframe tbody tr th {\n",
       "        vertical-align: top;\n",
       "    }\n",
       "\n",
       "    .dataframe thead th {\n",
       "        text-align: right;\n",
       "    }\n",
       "</style>\n",
       "<table border=\"1\" class=\"dataframe\">\n",
       "  <thead>\n",
       "    <tr style=\"text-align: right;\">\n",
       "      <th></th>\n",
       "      <th>selftext</th>\n",
       "      <th>subreddit_name</th>\n",
       "      <th>00</th>\n",
       "      <th>000</th>\n",
       "      <th>01</th>\n",
       "      <th>010</th>\n",
       "      <th>01x06</th>\n",
       "      <th>02</th>\n",
       "      <th>02png</th>\n",
       "      <th>03</th>\n",
       "      <th>...</th>\n",
       "      <th>ليلة</th>\n",
       "      <th>مهذبة</th>\n",
       "      <th>نسخ</th>\n",
       "      <th>وليلة</th>\n",
       "      <th>एक</th>\n",
       "      <th>लचस</th>\n",
       "      <th>षक</th>\n",
       "      <th>ดท</th>\n",
       "      <th>ทางเข</th>\n",
       "      <th>าส</th>\n",
       "    </tr>\n",
       "  </thead>\n",
       "  <tbody>\n",
       "    <tr>\n",
       "      <th>0</th>\n",
       "      <td>[removed]</td>\n",
       "      <td>startrek</td>\n",
       "      <td>0</td>\n",
       "      <td>0</td>\n",
       "      <td>0</td>\n",
       "      <td>0</td>\n",
       "      <td>0</td>\n",
       "      <td>0</td>\n",
       "      <td>0</td>\n",
       "      <td>0</td>\n",
       "      <td>...</td>\n",
       "      <td>0</td>\n",
       "      <td>0</td>\n",
       "      <td>0</td>\n",
       "      <td>0</td>\n",
       "      <td>0</td>\n",
       "      <td>0</td>\n",
       "      <td>0</td>\n",
       "      <td>0</td>\n",
       "      <td>0</td>\n",
       "      <td>0</td>\n",
       "    </tr>\n",
       "    <tr>\n",
       "      <th>1</th>\n",
       "      <td>[removed]</td>\n",
       "      <td>startrek</td>\n",
       "      <td>0</td>\n",
       "      <td>0</td>\n",
       "      <td>0</td>\n",
       "      <td>0</td>\n",
       "      <td>0</td>\n",
       "      <td>0</td>\n",
       "      <td>0</td>\n",
       "      <td>0</td>\n",
       "      <td>...</td>\n",
       "      <td>0</td>\n",
       "      <td>0</td>\n",
       "      <td>0</td>\n",
       "      <td>0</td>\n",
       "      <td>0</td>\n",
       "      <td>0</td>\n",
       "      <td>0</td>\n",
       "      <td>0</td>\n",
       "      <td>0</td>\n",
       "      <td>0</td>\n",
       "    </tr>\n",
       "    <tr>\n",
       "      <th>2</th>\n",
       "      <td>[removed]</td>\n",
       "      <td>startrek</td>\n",
       "      <td>0</td>\n",
       "      <td>0</td>\n",
       "      <td>0</td>\n",
       "      <td>0</td>\n",
       "      <td>0</td>\n",
       "      <td>0</td>\n",
       "      <td>0</td>\n",
       "      <td>0</td>\n",
       "      <td>...</td>\n",
       "      <td>0</td>\n",
       "      <td>0</td>\n",
       "      <td>0</td>\n",
       "      <td>0</td>\n",
       "      <td>0</td>\n",
       "      <td>0</td>\n",
       "      <td>0</td>\n",
       "      <td>0</td>\n",
       "      <td>0</td>\n",
       "      <td>0</td>\n",
       "    </tr>\n",
       "    <tr>\n",
       "      <th>3</th>\n",
       "      <td>[removed]</td>\n",
       "      <td>startrek</td>\n",
       "      <td>0</td>\n",
       "      <td>0</td>\n",
       "      <td>0</td>\n",
       "      <td>0</td>\n",
       "      <td>0</td>\n",
       "      <td>0</td>\n",
       "      <td>0</td>\n",
       "      <td>0</td>\n",
       "      <td>...</td>\n",
       "      <td>0</td>\n",
       "      <td>0</td>\n",
       "      <td>0</td>\n",
       "      <td>0</td>\n",
       "      <td>0</td>\n",
       "      <td>0</td>\n",
       "      <td>0</td>\n",
       "      <td>0</td>\n",
       "      <td>0</td>\n",
       "      <td>0</td>\n",
       "    </tr>\n",
       "    <tr>\n",
       "      <th>4</th>\n",
       "      <td>[removed]</td>\n",
       "      <td>startrek</td>\n",
       "      <td>0</td>\n",
       "      <td>0</td>\n",
       "      <td>0</td>\n",
       "      <td>0</td>\n",
       "      <td>0</td>\n",
       "      <td>0</td>\n",
       "      <td>0</td>\n",
       "      <td>0</td>\n",
       "      <td>...</td>\n",
       "      <td>0</td>\n",
       "      <td>0</td>\n",
       "      <td>0</td>\n",
       "      <td>0</td>\n",
       "      <td>0</td>\n",
       "      <td>0</td>\n",
       "      <td>0</td>\n",
       "      <td>0</td>\n",
       "      <td>0</td>\n",
       "      <td>0</td>\n",
       "    </tr>\n",
       "  </tbody>\n",
       "</table>\n",
       "<p>5 rows × 7910 columns</p>\n",
       "</div>"
      ],
      "text/plain": [
       "    selftext subreddit_name  00  000  01  010  01x06  02  02png  03  ...  \\\n",
       "0  [removed]       startrek   0    0   0    0      0   0      0   0  ...   \n",
       "1  [removed]       startrek   0    0   0    0      0   0      0   0  ...   \n",
       "2  [removed]       startrek   0    0   0    0      0   0      0   0  ...   \n",
       "3  [removed]       startrek   0    0   0    0      0   0      0   0  ...   \n",
       "4  [removed]       startrek   0    0   0    0      0   0      0   0  ...   \n",
       "\n",
       "   ليلة  مهذبة  نسخ  وليلة  एक  लचस  षक  ดท  ทางเข  าส  \n",
       "0     0      0    0      0   0    0   0   0      0   0  \n",
       "1     0      0    0      0   0    0   0   0      0   0  \n",
       "2     0      0    0      0   0    0   0   0      0   0  \n",
       "3     0      0    0      0   0    0   0   0      0   0  \n",
       "4     0      0    0      0   0    0   0   0      0   0  \n",
       "\n",
       "[5 rows x 7910 columns]"
      ]
     },
     "execution_count": 263,
     "metadata": {},
     "output_type": "execute_result"
    }
   ],
   "source": [
    "#subreddit appears as a word, so I need to rename that column in order to be able to call it, below\n",
    "df_copy = df.copy()\n",
    "df_copy.rename(columns = {'subreddit': 'subreddit_name'}, inplace = True)\n",
    "\n",
    "with_removed_vectorized = pd.concat([df['selftext'], df_copy['subreddit_name'], vectorized], axis = 1)\n",
    "print(with_removed_vectorized.shape)\n",
    "with_removed_vectorized.head()"
   ]
  },
  {
   "cell_type": "code",
   "execution_count": 264,
   "id": "483a8e73-5ba6-49e1-bde5-31d4986a19a5",
   "metadata": {},
   "outputs": [
    {
     "name": "stdout",
     "output_type": "stream",
     "text": [
      "Number of removed posts in new dataframe: 1936\n",
      "Sanity check. Number of removed posts from original dataframe: 1936\n",
      "====================\n",
      "The following words appear in the top 10 most used words in removed posts but not in the top 10 words for all posts ['picard']\n",
      "====================\n",
      "The following words appear in the top 25 most used words in removed posts but not in the top 25 words for all posts ['spoilers']\n",
      "====================\n",
      "The following words appear in the top 50 most used words in removed posts but not in the top 50 words for all posts ['watch', 'enterprise', 'should', 'some', 'want', 'discovery']\n"
     ]
    }
   ],
   "source": [
    "print('Number of removed posts in new dataframe:', len(with_removed_vectorized[with_removed_vectorized[\"selftext\"] == \"[removed]\"]))\n",
    "print('Sanity check. Number of removed posts from original dataframe:', len(df[df[\"selftext\"] == \"[removed]\"]))\n",
    "print('='*20)\n",
    "\n",
    "top_10_removed = list(pd.Series(with_removed_vectorized[with_removed_vectorized['selftext'] =='[removed]'].drop(columns = ['selftext', 'subreddit_name'])\\\n",
    "                           .sum().sort_values(ascending = False)).reset_index()[:10]['index'])\n",
    "top_10_all = list(pd.Series(with_removed_vectorized.drop(columns = ['selftext', 'subreddit_name'])\\\n",
    "                       .sum().sort_values(ascending = False)).reset_index()[:10]['index'])\n",
    "\n",
    "print(f'The following words appear in the top 10 most used words in removed posts but not in the top 10 words for all posts {[word for word in top_10_removed if word not in top_10_all]}')\n",
    "print('='*20)\n",
    "\n",
    "top_25_removed = list(pd.Series(with_removed_vectorized[with_removed_vectorized['selftext'] =='[removed]'].drop(columns = ['selftext', 'subreddit_name'])\\\n",
    "                           .sum().sort_values(ascending = False)).reset_index()[:25]['index'])\n",
    "top_25_all = list(pd.Series(with_removed_vectorized.drop(columns = ['selftext', 'subreddit_name'])\\\n",
    "                       .sum().sort_values(ascending = False)).reset_index()[:25]['index'])\n",
    "\n",
    "print(f'The following words appear in the top 25 most used words in removed posts but not in the top 25 words for all posts {[word for word in top_25_removed if word not in top_25_all]}')\n",
    "print('='*20)\n",
    "\n",
    "top_50_removed = list(pd.Series(with_removed_vectorized[with_removed_vectorized['selftext'] =='[removed]'].drop(columns = ['selftext', 'subreddit_name'])\\\n",
    "                           .sum().sort_values(ascending = False)).reset_index()[:50]['index'])\n",
    "top_50_all = list(pd.Series(with_removed_vectorized.drop(columns = ['selftext', 'subreddit_name'])\\\n",
    "                       .sum().sort_values(ascending = False)).reset_index()[:50]['index'])\n",
    "\n",
    "print(f'The following words appear in the top 50 most used words in removed posts but not in the top 50 words for all posts {[word for word in top_50_removed if word not in top_50_all]}')\n"
   ]
  },
  {
   "cell_type": "code",
   "execution_count": 265,
   "id": "cd7010e7-5d27-46f2-82a5-1c3bbd8c5bea",
   "metadata": {
    "tags": []
   },
   "outputs": [
    {
     "name": "stdout",
     "output_type": "stream",
     "text": [
      "Number of startrek posts in new dataframe: 3537\n",
      "Sanity check. Number of startrek posts from original dataframe: 3537\n",
      "====================\n",
      "The following words appear in the top 10 most used words in removed \"startrek\"\n",
      " posts but not in the top 10 words for all \"startrek\" posts []\n",
      "====================\n",
      "The following words appear in the top 25 most used words in removed \"startrek\"\n",
      " posts but not in the top 25 words for all \"startrek\" posts ['time', 'can']\n",
      "====================\n",
      "The following words appear in the top 50 most used words in removed \"startrek\" posts but not in the top 50 words for all \"startrek\" posts ['some', 'had', 'ever']\n"
     ]
    }
   ],
   "source": [
    "print('Number of startrek posts in new dataframe:', len(with_removed_vectorized[with_removed_vectorized[\"subreddit_name\"] == \"startrek\"]))\n",
    "print('Sanity check. Number of startrek posts from original dataframe:', len(df_copy[df_copy[\"subreddit_name\"] == \"startrek\"]))\n",
    "print('='*20)\n",
    "\n",
    "top_10_removed_st = list(pd.Series(with_removed_vectorized[(with_removed_vectorized['selftext'] =='[removed]') & (with_removed_vectorized['subreddit_name'] == 'startrek')]\\\n",
    "                                   .drop(columns = ['selftext', 'subreddit_name']).sum().sort_values(ascending = False)).reset_index()[:10]['index'])\n",
    "top_10_all_st = list(pd.Series(with_removed_vectorized[with_removed_vectorized['subreddit_name'] == 'startrek'].drop(columns = ['selftext', 'subreddit_name'])\\\n",
    "                       .sum().sort_values(ascending = False)).reset_index()[:10]['index'])\n",
    "\n",
    "print(f'The following words appear in the top 10 most used words in removed \"startrek\"\\n posts but not in the top 10 words for all \"startrek\" posts {[word for word in top_10_removed_st if word not in top_10_all_st]}')\n",
    "print('='*20)\n",
    "\n",
    "top_25_removed_st = list(pd.Series(with_removed_vectorized[(with_removed_vectorized['selftext'] =='[removed]') & (with_removed_vectorized['subreddit_name'] == 'startrek')]\\\n",
    "                         .drop(columns = ['selftext', 'subreddit_name']).sum().sort_values(ascending = False)).reset_index()[:25]['index'])\n",
    "top_25_all_st = list(pd.Series(with_removed_vectorized[with_removed_vectorized['subreddit_name'] == 'startrek'].drop(columns = ['selftext', 'subreddit_name'])\\\n",
    "                       .sum().sort_values(ascending = False)).reset_index()[:25]['index'])\n",
    "\n",
    "print(f'The following words appear in the top 25 most used words in removed \"startrek\"\\n posts but not in the top 25 words for all \"startrek\" posts {[word for word in top_25_removed_st if word not in top_25_all_st]}')\n",
    "print('='*20)\n",
    "\n",
    "top_50_removed_st = list(pd.Series(with_removed_vectorized[(with_removed_vectorized['selftext'] =='[removed]') & (with_removed_vectorized['subreddit_name'] == 'startrek')]\\\n",
    "                                   .drop(columns = ['selftext', 'subreddit_name']).sum().sort_values(ascending = False)).reset_index()[:50]['index'])\n",
    "top_50_all_st = list(pd.Series(with_removed_vectorized[with_removed_vectorized['subreddit_name'] == 'startrek'].drop(columns = ['selftext', 'subreddit_name'])\\\n",
    "                       .sum().sort_values(ascending = False)).reset_index()[:50]['index'])\n",
    "\n",
    "print(f'The following words appear in the top 50 most used words in removed \"startrek\" posts but not in the top 50 words for all \"startrek\" posts {[word for word in top_50_removed_st if word not in top_50_all_st]}')\n"
   ]
  },
  {
   "cell_type": "code",
   "execution_count": 266,
   "id": "cc297437-dea0-42c0-8184-5c72c3600733",
   "metadata": {
    "tags": []
   },
   "outputs": [
    {
     "name": "stdout",
     "output_type": "stream",
     "text": [
      "Number of StarWars posts in new dataframe: 3409\n",
      "Sanity check. Number of StarWars posts from original dataframe: 3409\n",
      "====================\n",
      "The following words appear in the top 10 most used words in removed \"StarWars\"\n",
      " posts but not in the top 10 words for all \"StarWars\" posts ['series', 'spoilers']\n",
      "====================\n",
      "The following words appear in the top 25 most used words in removed \"StarWars\"\n",
      " posts but not in the top 25 words for all \"StarWars\" posts ['spoilers', 'should', 'show', 'finale', 'watch', 'but']\n",
      "====================\n",
      "The following words appear in the top 50 most used words in removed \"StarWars\" posts but not in the top 50 words for all \"StarWars\" posts ['watch', 'order', 'question', 'reva', 'ep', 'want', 'best', 'season', 'sith', 'never', 'no']\n"
     ]
    }
   ],
   "source": [
    "print('Number of StarWars posts in new dataframe:', len(with_removed_vectorized[with_removed_vectorized[\"subreddit_name\"] == \"starwars\"]))\n",
    "print('Sanity check. Number of StarWars posts from original dataframe:', len(df_copy[df_copy[\"subreddit_name\"] == \"starwars\"]))\n",
    "print('='*20)\n",
    "\n",
    "top_10_removed_sw = list(pd.Series(with_removed_vectorized[(with_removed_vectorized['selftext'] =='[removed]') & (with_removed_vectorized['subreddit_name'] == 'starwars')]\\\n",
    "                                   .drop(columns = ['selftext', 'subreddit_name']).sum().sort_values(ascending = False)).reset_index()[:10]['index'])\n",
    "top_10_all_sw = list(pd.Series(with_removed_vectorized[with_removed_vectorized['subreddit_name'] == 'starwars'].drop(columns = ['selftext', 'subreddit_name'])\\\n",
    "                       .sum().sort_values(ascending = False)).reset_index()[:10]['index'])\n",
    "\n",
    "print(f'The following words appear in the top 10 most used words in removed \"StarWars\"\\n posts but not in the top 10 words for all \"StarWars\" posts {[word for word in top_10_removed_sw if word not in top_10_all_sw]}')\n",
    "print('='*20)\n",
    "\n",
    "top_25_removed_sw = list(pd.Series(with_removed_vectorized[(with_removed_vectorized['selftext'] =='[removed]') & (with_removed_vectorized['subreddit_name'] == 'starwars')]\\\n",
    "                         .drop(columns = ['selftext', 'subreddit_name']).sum().sort_values(ascending = False)).reset_index()[:25]['index'])\n",
    "top_25_all_sw = list(pd.Series(with_removed_vectorized[with_removed_vectorized['subreddit_name'] == 'starwars'].drop(columns = ['selftext', 'subreddit_name'])\\\n",
    "                       .sum().sort_values(ascending = False)).reset_index()[:25]['index'])\n",
    "\n",
    "print(f'The following words appear in the top 25 most used words in removed \"StarWars\"\\n posts but not in the top 25 words for all \"StarWars\" posts {[word for word in top_25_removed_sw if word not in top_25_all_sw]}')\n",
    "print('='*20)\n",
    "\n",
    "top_50_removed_sw = list(pd.Series(with_removed_vectorized[(with_removed_vectorized['selftext'] =='[removed]') & (with_removed_vectorized['subreddit_name'] == 'starwars')]\\\n",
    "                                   .drop(columns = ['selftext', 'subreddit_name']).sum().sort_values(ascending = False)).reset_index()[:50]['index'])\n",
    "top_50_all_sw = list(pd.Series(with_removed_vectorized[with_removed_vectorized['subreddit_name'] == 'starwars'].drop(columns = ['selftext', 'subreddit_name'])\\\n",
    "                       .sum().sort_values(ascending = False)).reset_index()[:50]['index'])\n",
    "\n",
    "print(f'The following words appear in the top 50 most used words in removed \"StarWars\" posts but not in the top 50 words for all \"StarWars\" posts {[word for word in top_50_removed_sw if word not in top_50_all_sw]}')\n"
   ]
  },
  {
   "cell_type": "code",
   "execution_count": 267,
   "id": "85673afa-03f0-4bf3-b4f9-dd391c16e998",
   "metadata": {},
   "outputs": [
    {
     "name": "stdout",
     "output_type": "stream",
     "text": [
      "Top 10, all posts: ['star', 'and', 'is', 'trek', 'new', 'obi', 'kenobi', 'wan', 'wars', 'on']\n",
      "====================\n",
      "Top 25, all posts: ['star', 'and', 'is', 'trek', 'new', 'obi', 'kenobi', 'wan', 'wars', 'on', 'was', 'episode', 'picard', 'vader', 'strange', 'worlds', 'have', 'do', 'be', 'like', 'series', 'so', 'are', 'season', 'snw']\n",
      "====================\n",
      "Top 50, all posts: ['star', 'and', 'is', 'trek', 'new', 'obi', 'kenobi', 'wan', 'wars', 'on', 'was', 'episode', 'picard', 'vader', 'strange', 'worlds', 'have', 'do', 'be', 'like', 'series', 'so', 'are', 'season', 'snw', 'did', 'would', 'just', 'one', 'or', 'spoilers', 'think', 'but', 'can', 'not', 'has', 'show', 'does', 'first', 'anyone', 'darth', 'more', 'question', 'time', 'finale', 'anakin', 'he', 'tng', 'best', 'see']\n"
     ]
    }
   ],
   "source": [
    "print('Top 10, all posts:', top_10_all)\n",
    "print('='*20)\n",
    "print('Top 25, all posts:', top_25_all)\n",
    "print('='*20)\n",
    "print('Top 50, all posts:', top_50_all)"
   ]
  },
  {
   "cell_type": "code",
   "execution_count": 268,
   "id": "806872b8-887c-46c1-8bef-9770897e5c67",
   "metadata": {},
   "outputs": [
    {
     "name": "stdout",
     "output_type": "stream",
     "text": [
      "Top 10, all Star Trek posts: ['trek', 'star', 'and', 'is', 'new', 'picard', 'strange', 'worlds', 'on', 'snw']\n",
      "====================\n",
      "Top 25, all Star Trek posts: ['trek', 'star', 'and', 'is', 'new', 'picard', 'strange', 'worlds', 'on', 'snw', 'episode', 'season', 'was', 'tng', 'be', 'enterprise', 'have', 'are', 'so', 'do', 'series', 'discovery', 'just', 'has', 'would']\n",
      "====================\n",
      "Top 50, all Star Trek posts: ['trek', 'star', 'and', 'is', 'new', 'picard', 'strange', 'worlds', 'on', 'snw', 'episode', 'season', 'was', 'tng', 'be', 'enterprise', 'have', 'are', 'so', 'do', 'series', 'discovery', 'just', 'has', 'would', 'did', 'time', 'or', 'can', 'first', 'like', 'spoilers', 'one', 'ds9', 'question', 'not', 'best', 'does', 'think', 'tos', 'but', 'more', 'voyager', 'anyone', 'spock', 'watch', 'borg', 'paramount', 'show', 'love']\n"
     ]
    }
   ],
   "source": [
    "print('Top 10, all Star Trek posts:', top_10_all_st)\n",
    "print('='*20)\n",
    "print('Top 25, all Star Trek posts:', top_25_all_st)\n",
    "print('='*20)\n",
    "print('Top 50, all Star Trek posts:', top_50_all_st)"
   ]
  },
  {
   "cell_type": "code",
   "execution_count": 269,
   "id": "98181ec5-aa15-4e82-b446-7ae63b555cb2",
   "metadata": {},
   "outputs": [
    {
     "name": "stdout",
     "output_type": "stream",
     "text": [
      "Top 10, all Star Wars posts: ['obi', 'kenobi', 'wan', 'and', 'wars', 'is', 'star', 'vader', 'was', 'on']\n",
      "====================\n",
      "Top 25, all Star Wars posts: ['obi', 'kenobi', 'wan', 'and', 'wars', 'is', 'star', 'vader', 'was', 'on', 'like', 'have', 'episode', 'darth', 'do', 'series', 'anakin', 'did', 'one', 'would', 'be', 'so', 'are', 'just', 'or']\n",
      "====================\n",
      "Top 50, all Star Wars posts: ['obi', 'kenobi', 'wan', 'and', 'wars', 'is', 'star', 'vader', 'was', 'on', 'like', 'have', 'episode', 'darth', 'do', 'series', 'anakin', 'did', 'one', 'would', 'be', 'so', 'are', 'just', 'or', 'jedi', 'but', 'finale', 'think', 'new', 'he', 'spoilers', 'show', 'not', 'can', 'anyone', 'disney', 'made', 'does', 'more', 'his', 'know', 'see', 'scene', 'out', 'some', 'clone', 'should', 'really', 'first']\n"
     ]
    }
   ],
   "source": [
    "print('Top 10, all Star Wars posts:', top_10_all_sw)\n",
    "print('='*20)\n",
    "print('Top 25, all Star Wars posts:', top_25_all_sw)\n",
    "print('='*20)\n",
    "print('Top 50, all Star Wars posts:', top_50_all_sw)"
   ]
  },
  {
   "cell_type": "markdown",
   "id": "5cf86acc-5038-48c2-acd9-6c20964bb023",
   "metadata": {},
   "source": [
    "-----"
   ]
  },
  {
   "cell_type": "markdown",
   "id": "ccef3495-cc88-427d-a8a7-aadd6dc969f9",
   "metadata": {},
   "source": [
    "# Comparing Blank Submissions Across the Subreddits\n",
    "\n",
    "Does either subreddit have a higher rate of blank submissions? For the purposes of this I'm removing the 'removed' and 'deleted' posts."
   ]
  },
  {
   "cell_type": "code",
   "execution_count": 297,
   "id": "aaaf2e28-fa64-493d-9ab0-ee04323cbb91",
   "metadata": {},
   "outputs": [
    {
     "data": {
      "text/plain": [
       "startrek    3537\n",
       "starwars    3409\n",
       "Name: subreddit, dtype: int64"
      ]
     },
     "execution_count": 297,
     "metadata": {},
     "output_type": "execute_result"
    }
   ],
   "source": [
    "df['subreddit'].value_counts()"
   ]
  },
  {
   "cell_type": "code",
   "execution_count": 277,
   "id": "ebafe3b3-5a36-4fdb-8a8f-c85702042120",
   "metadata": {},
   "outputs": [
    {
     "data": {
      "text/plain": [
       "starwars    1729\n",
       "startrek     630\n",
       "Name: subreddit, dtype: int64"
      ]
     },
     "execution_count": 277,
     "metadata": {},
     "output_type": "execute_result"
    }
   ],
   "source": [
    "df[df['selftext'] == '']['subreddit'].value_counts()"
   ]
  },
  {
   "cell_type": "code",
   "execution_count": 278,
   "id": "8fd3722f-2887-4b4b-8ce2-2a40ca96043e",
   "metadata": {},
   "outputs": [
    {
     "data": {
      "text/plain": [
       "['starwars', 'startrek']"
      ]
     },
     "execution_count": 278,
     "metadata": {},
     "output_type": "execute_result"
    }
   ],
   "source": [
    "blank_values = df[df['selftext'] == '']['subreddit'].value_counts().tolist()\n",
    "blank_keys = df[df['selftext'] == '']['subreddit'].value_counts().keys().tolist()\n",
    "blank_keys"
   ]
  },
  {
   "cell_type": "code",
   "execution_count": 279,
   "id": "10b687b3-fd94-44fe-8418-606c203115c7",
   "metadata": {},
   "outputs": [
    {
     "name": "stdout",
     "output_type": "stream",
     "text": [
      "Star Wars percent blank submissions: 50.71868583162218\n",
      "====================\n",
      "Star Trek percent blank submissions: 17.8117048346056\n"
     ]
    }
   ],
   "source": [
    "sw_percent_blank = blank_values[0]/len(df[df['subreddit'] == 'starwars'])*100\n",
    "st_percent_blank = blank_values[1]/len(df[df['subreddit'] == 'startrek'])*100\n",
    "print('Star Wars percent blank submissions:', sw_percent_blank)\n",
    "print('='*20)\n",
    "print('Star Trek percent blank submissions:', st_percent_blank)"
   ]
  },
  {
   "cell_type": "code",
   "execution_count": 302,
   "id": "2a5ba85e-42eb-4907-8c90-72f612552f89",
   "metadata": {},
   "outputs": [
    {
     "data": {
      "image/png": "[encoded data removed]",
      "text/plain": [
       "<Figure size 432x288 with 1 Axes>"
      ]
     },
     "metadata": {
      "needs_background": "light"
     },
     "output_type": "display_data"
    }
   ],
   "source": [
    "plt.title('Percent of Blank Submissions by subreddit,\\n \"startrek\" and \"StarWars\"')\n",
    "plt.xlabel('Subreddit')\n",
    "plt.ylabel('Percent Blank Submissions')\n",
    "plt.ylim(0,55)\n",
    "plt.bar(['/r/startrek', '/r/StarWars'], [st_percent_blank, sw_percent_blank], color = 'dodgerblue')\n",
    "\n",
    "plt.text(1, sw_percent_blank+1, str(round(sw_percent_blank, 2))+'%', ha = 'center')\n",
    "plt.text(0, st_percent_blank+1, str(round(st_percent_blank, 2))+'%', ha = 'center')\n",
    "\n",
    "plt.tight_layout()\n",
    "plt.savefig('images/percent_blank_posts.png');\n"
   ]
  },
  {
   "cell_type": "markdown",
   "id": "b93296bd-921c-457c-b749-12681b50719e",
   "metadata": {},
   "source": [
    "Because of the high percentage of blank posts, consisting just of a title, in the StarWars subreddit, I'm going to include the titles in my model building. It seems to be an important part of how StarWars subredditors communicate with each other."
   ]
  },
  {
   "cell_type": "markdown",
   "id": "650c32df-790f-455f-847a-dc380b5ba6e6",
   "metadata": {
    "tags": []
   },
   "source": [
    "# Exploring Word Counts and Post Length In Non-Removed or Deleted Submission Posts\n",
    "\n",
    "There are a lot of blank submissions. There are 6 '[deleted]' submissions, as well. '[deleted]' means that [the user deleted the post](https://www.reddit.com/r/help/comments/h92oqg/what_does_deleted_mean/).\n",
    "\n",
    "For the purposes of examining word counts in these submissions, I've removed the empty and '[deleted]' submissions."
   ]
  },
  {
   "cell_type": "code",
   "execution_count": 303,
   "id": "ade6b7fa-8a36-495c-9e9e-e73e47606366",
   "metadata": {
    "tags": []
   },
   "outputs": [
    {
     "name": "stdout",
     "output_type": "stream",
     "text": [
      "                                                                                                                                                                                                                                                                                                                                                                                                                                                                                                                                                                                                                                                                                                                                                                                                                                                                                                                                                                                                                                                                                                                                                                                                                                                                                                                                                                                                                                                                                                                                                                                                                                                                                                                                                                                                                                                                                                                                                                                                                                                                                                                                                                                                                                                                                                                                                                                                                                                                                                                                                                                                                                                                                                                                                                                                                                                                                                                                                                                                                                                                                                                                                                                                                                                                                                                                                                                                                                                                                                                                                                                                                                                                                                                                                                                                                                                                                                                                                                                                                                                                                                                                                                                                                                                                                                                                                                                                                                                                                                                                                                                                                                                                                                                                                                                                                                                                                                                                                                                                                                                                                                                                                                                                                                                                                                                                                  2359\n",
      "Anyone know where to get cool star wars phone wallpapers?                                                                                                                                                                                                                                                                                                                                                                                                                                                                                                                                                                                                                                                                                                                                                                                                                                                                                                                                                                                                                                                                                                                                                                                                                                                                                                                                                                                                                                                                                                                                                                                                                                                                                                                                                                                                                                                                                                                                                                                                                                                                                                                                                                                                                                                                                                                                                                                                                                                                                                                                                                                                                                                                                                                                                                                                                                                                                                                                                                                                                                                                                                                                                                                                                                                                                                                                                                                                                                                                                                                                                                                                                                                                                                                                                                                                                                                                                                                                                                                                                                                                                                                                                                                                                                                                                                                                                                                                                                                                                                                                                                                                                                                                                                                                                                                                                                                                                                                                                                                                                                                                                                                                                                                                                                                                                            1\n",
      "Just finished watching the show. I'm not dissapointed, this is more or less what I expected it to be like. \\n\\n\\nThere was alot of poor writing involved, plot-holes and illogical scenes that I'm sure have been thoroughly discussed. \\n\\n\\nAll I want to say is what a performance by Ewan Mcgregor. Goddamn, when he looked at Split-helm-Vader and his whole expression changed, from focused and determined to bewilderment as if he looked upon the young padawan that he trained, and said ; \"Anakin\" ... I'm not ashamed to say that I choked up, that was an amazing bit of acting and brought up alot of nostalgia. Ewan McGregor as always gives his all.                                                                                                                                                                                                                                                                                                                                                                                                                                                                                                                                                                                                                                                                                                                                                                                                                                                                                                                                                                                                                                                                                                                                                                                                                                                                                                                                                                                                                                                                                                                                                                                                                                                                                                                                                                                                                                                                                                                                                                                                                                                                                                                                                                                                                                                                                                                                                                                                                                                                                                                                                                                                                                                                                                                                                                                                                                                                                                                                                                                                                                                                                                                                                                                                                                                                                                                                                                                                                                                                                                                                                                                                                                                                                                                                                                                                                                                                                                                                                                                                                                                                                                                                                                                                                                                                                                                                                                                                                                                                                                                                                                                                                                                                                1\n",
      "I’ve seen various discussions on Kenobi’s score, particularly earlier on during the show’s run, but haven’t heard too much since the finale was released.  Most of the reactions to the score have been very negative.  And of course, spoilers for the show are present. \\n\\n*A sidebar before I get into it too much, I just want to mention to not blame the composer for the use or lack of use of existing themes.  The composer is bringing about the desires of the production.  If they wanted existing Star Wars themes to be used, they would have been used.  ESPECIALLY on something like Star Wars, the composer isn’t going to get to just do what they want.  Not to mention, using existing music means getting clearance to do so (again, way outside of the scope of the composer on a production like this).  Not only that, but there were plenty of rumblings about issues behind the scenes for the production of Kenobi, especially regarding the score.  So don’t attack Holt over you not liking the choices that were made; it likely wasn’t ever her choice, and she’s a very competent composer who was in a bad position for this show no matter what.*  \\n\\n&gt;!Back to it.  Up until the finale, no episodes had fully used any of the preexisting Star Wars themes for the series.  Some themes were certainly hinted at, particularly some material having an Imperial or Rebel leaning to them, but the themes were never directly quoted, even when they probably should have been as there were a number of scenes that really would have benefitted from The Force Theme and the Imperial March.  The show has been heavily reliant on the Kenobi theme that Williams wrote for the show, as well as a few new themes written by Holt for the show (Leia, Inquisitors, etc.).  !&lt;\\n\\n&gt;!As the time went on, the themes became ever so slightly more present.  The opening of the finale was still going that route, with a modified version of some OT material.  And then we finally got three of the preexisting themes actually quoted fully in the final moments of resoution: Darth Vader’s theme, Leia’s theme, and the Force Theme.  This finally shows that their omission wasn’t somehow a glaring issue that had been overlooked, rather, a conscious choice.  !&lt;\\n\\n&gt;!I can generally understand the justification for why we get them when we do.  We get Vader’s theme once he’s truly, fully, become Vader.  He’s no longer consumed by Kenobi, the last thing tying him to Anakin.  We get Leia’s theme when Kenobi finally sees her as more than just a little girl, but as the Princess Leia Organa.  And the Force theme is used when Kenobi has truly accepted his use of the force and realized he doesn’t need to be cutting himself off from it.  He finally means it when he says “may the force be with you”, and his ties to the force have finally been deepened instead of lessened.  !&lt;\\n\\n&gt;!The impact of those themes in those moments was very strong, especially because of the lack of them previously.  It’s a bold move, especially for Star Wars, to take this approach.  I’m honestly still on the fence about if I really like it.  I’m a HUGE fan of the overly-thematic approach that Star Wars usually has and it’s truly my first love within film music.  A huge part of me wishes that the show had been using all of the legacy Star Wars themes from the outset and stuck to a John Williams-esque style of writing throughout.  But a part of me also appreciates that they’re trying new things and are working to move past being merely one version of Star Wars.  The future of Star Wars only exists if they’re willing to go outside the box and tell new stories in new ways in the universe, and this is a small part of that.  !&lt;\\n\\n&gt;!Really, my biggest issues with the series are just that they didn’t bring in more legacy themes in the final episode specifically.  Qui-Gon’s theme should have appeared when he did.  Palpatine’s theme probably should have been used when he had his moment.  I would have loved a light, childlike, woodwind rendition of the main theme/Luke’s theme when Obi-Wan and Luke formally meet.  !&lt;\\n\\n&gt;!The most grievous omission was not using Anakin vs. Obi-Wan when they dueled in this episode.  I’ve seen some fantastic edits of the scene on this subreddit and that’s what I wish we had gotten.  Had that moment been the first time we got preexisting themes in their fullness…the impact of that could honestly not be overstated.  It would have been phenomenal.  Instead we got a very mediocre piece that has faint echoes of the ideas in Anakin vs. Obi-wan, which was disappointing.  In that moment it should have been all or nothing…having gone the silent route would have been better than what we got.  !&lt;\\n\\n&amp;#x200B;\\n\\n&gt;!I’ve really only heard discourse around the score prior to the finale, and like I said, it was mostly negative.  I’m really curious about people’s thoughts now that their approach has been fully revealed and makes sense.  Do you like that they pushed back the use of the themes until the end?  Do you wish they hadn’t used any of them?  Did you want more of them in the end, like I did?  !&lt;       1\n",
      "I, like everyone else, loved the split mask scene with Vader in the Kenobi finale. However, canonically, Vader's vocal cords are meant to be nearly useless, and as such his real voice is supposed to be a whisper. Hearing James Earl Jones's voice mixed with Hayden's was a treat, but it does raise some questions about the extent of Vader's injuries.                                                                                                                                                                                                                                                                                                                                                                                                                                                                                                                                                                                                                                                                                                                                                                                                                                                                                                                                                                                                                                                                                                                                                                                                                                                                                                                                                                                                                                                                                                                                                                                                                                                                                                                                                                                                                                                                                                                                                                                                                                                                                                                                                                                                                                                                                                                                                                                                                                                                                                                                                                                                                                                                                                                                                                                                                                                                                                                                                                                                                                                                                                                                                                                                                                                                                                                                                                                                                                                                                                                                                                                                                                                                                                                                                                                                                                                                                                                                                                                                                                                                                                                                                                                                                                                                                                                                                                                                                                                                                                                                                                                                                                                                                                                                                                                                                                                                                                                                                                                        1\n",
      "Name: selftext, dtype: int64\n",
      "(5005, 8)\n"
     ]
    },
    {
     "data": {
      "text/html": [
       "<div>\n",
       "<style scoped>\n",
       "    .dataframe tbody tr th:only-of-type {\n",
       "        vertical-align: middle;\n",
       "    }\n",
       "\n",
       "    .dataframe tbody tr th {\n",
       "        vertical-align: top;\n",
       "    }\n",
       "\n",
       "    .dataframe thead th {\n",
       "        text-align: right;\n",
       "    }\n",
       "</style>\n",
       "<table border=\"1\" class=\"dataframe\">\n",
       "  <thead>\n",
       "    <tr style=\"text-align: right;\">\n",
       "      <th></th>\n",
       "      <th>created_utc</th>\n",
       "      <th>selftext</th>\n",
       "      <th>subreddit</th>\n",
       "      <th>title</th>\n",
       "      <th>submission_length</th>\n",
       "      <th>submission_word_count</th>\n",
       "      <th>title_length</th>\n",
       "      <th>title_word_count</th>\n",
       "    </tr>\n",
       "  </thead>\n",
       "  <tbody>\n",
       "    <tr>\n",
       "      <th>1394</th>\n",
       "      <td>1656243979</td>\n",
       "      <td></td>\n",
       "      <td>startrek</td>\n",
       "      <td>I’m beaming and I had to share - Sir Patrick Stewart answered my fan question on stage! An unforgettable moment for me.</td>\n",
       "      <td>0</td>\n",
       "      <td>0</td>\n",
       "      <td>119</td>\n",
       "      <td>22</td>\n",
       "    </tr>\n",
       "    <tr>\n",
       "      <th>1395</th>\n",
       "      <td>1656242414</td>\n",
       "      <td></td>\n",
       "      <td>startrek</td>\n",
       "      <td>America and the Star Trek Universe. Roe Vs Wade, LGBTQIA Rights, Racism.</td>\n",
       "      <td>0</td>\n",
       "      <td>0</td>\n",
       "      <td>72</td>\n",
       "      <td>12</td>\n",
       "    </tr>\n",
       "  </tbody>\n",
       "</table>\n",
       "</div>"
      ],
      "text/plain": [
       "      created_utc selftext subreddit  \\\n",
       "1394   1656243979           startrek   \n",
       "1395   1656242414           startrek   \n",
       "\n",
       "                                                                                                                        title  \\\n",
       "1394  I’m beaming and I had to share - Sir Patrick Stewart answered my fan question on stage! An unforgettable moment for me.   \n",
       "1395                                                 America and the Star Trek Universe. Roe Vs Wade, LGBTQIA Rights, Racism.   \n",
       "\n",
       "      submission_length  submission_word_count  title_length  title_word_count  \n",
       "1394                  0                      0           119                22  \n",
       "1395                  0                      0            72                12  "
      ]
     },
     "execution_count": 303,
     "metadata": {},
     "output_type": "execute_result"
    }
   ],
   "source": [
    "#I have to go back and look at '[deleted]'\n",
    "no_remov_del_subm = df[(df['selftext'] != '[removed]') & (df['selftext'] != '[deleted]')]\n",
    "print(no_remov_del_subm['selftext'].value_counts()[:5])\n",
    "print(no_remov_del_subm.shape)\n",
    "no_remov_del_subm.head(2)"
   ]
  },
  {
   "cell_type": "markdown",
   "id": "8888c812-da71-489f-ab8e-b71c1a03eb1b",
   "metadata": {},
   "source": [
    "In preparation for vectorizing I changed the 'subreddit' column name to 'subreddit_name'."
   ]
  },
  {
   "cell_type": "code",
   "execution_count": 307,
   "id": "8430ec60-e174-4052-837c-f7129e717455",
   "metadata": {},
   "outputs": [
    {
     "data": {
      "text/html": [
       "<div>\n",
       "<style scoped>\n",
       "    .dataframe tbody tr th:only-of-type {\n",
       "        vertical-align: middle;\n",
       "    }\n",
       "\n",
       "    .dataframe tbody tr th {\n",
       "        vertical-align: top;\n",
       "    }\n",
       "\n",
       "    .dataframe thead th {\n",
       "        text-align: right;\n",
       "    }\n",
       "</style>\n",
       "<table border=\"1\" class=\"dataframe\">\n",
       "  <thead>\n",
       "    <tr style=\"text-align: right;\">\n",
       "      <th></th>\n",
       "      <th>created_utc</th>\n",
       "      <th>selftext</th>\n",
       "      <th>subreddit_name</th>\n",
       "      <th>title</th>\n",
       "      <th>submission_length</th>\n",
       "      <th>submission_word_count</th>\n",
       "      <th>title_length</th>\n",
       "      <th>title_word_count</th>\n",
       "    </tr>\n",
       "  </thead>\n",
       "  <tbody>\n",
       "    <tr>\n",
       "      <th>1394</th>\n",
       "      <td>1656243979</td>\n",
       "      <td></td>\n",
       "      <td>startrek</td>\n",
       "      <td>I’m beaming and I had to share - Sir Patrick Stewart answered my fan question on stage! An unforgettable moment for me.</td>\n",
       "      <td>0</td>\n",
       "      <td>0</td>\n",
       "      <td>119</td>\n",
       "      <td>22</td>\n",
       "    </tr>\n",
       "  </tbody>\n",
       "</table>\n",
       "</div>"
      ],
      "text/plain": [
       "      created_utc selftext subreddit_name  \\\n",
       "1394   1656243979                startrek   \n",
       "\n",
       "                                                                                                                        title  \\\n",
       "1394  I’m beaming and I had to share - Sir Patrick Stewart answered my fan question on stage! An unforgettable moment for me.   \n",
       "\n",
       "      submission_length  submission_word_count  title_length  title_word_count  \n",
       "1394                  0                      0           119                22  "
      ]
     },
     "execution_count": 307,
     "metadata": {},
     "output_type": "execute_result"
    }
   ],
   "source": [
    "no_remov_del_subm = no_remov_del_subm.rename(columns = {'subreddit': 'subreddit_name'})\n",
    "no_remov_del_subm.head(1)"
   ]
  },
  {
   "cell_type": "code",
   "execution_count": 311,
   "id": "3b69c84c-0e0f-488c-8a1b-18e912d8bcaa",
   "metadata": {},
   "outputs": [
    {
     "name": "stdout",
     "output_type": "stream",
     "text": [
      "Submission length (characters) mean by subreddit is subreddit_name\n",
      "startrek    459.099486\n",
      "starwars    243.629190\n",
      "Name: submission_length, dtype: float64\n",
      "Submission length (characters median by subreddit is subreddit_name\n",
      "startrek    185.0\n",
      "starwars      0.0\n",
      "Name: submission_length, dtype: float64\n"
     ]
    }
   ],
   "source": [
    "print(f'Submission length (characters) mean by subreddit is {no_remov_del_subm.groupby([\"subreddit_name\"])[\"submission_length\"].mean()}')\n",
    "print(f'Submission length (characters median by subreddit is {no_remov_del_subm.groupby([\"subreddit_name\"])[\"submission_length\"].median()}')"
   ]
  },
  {
   "cell_type": "markdown",
   "id": "7e7a7f7a-77dd-4f26-8ba5-6d0b5cb82979",
   "metadata": {},
   "source": [
    "I referred to the [matplotplib documentation](https://matplotlib.org/devdocs/gallery/subplots_axes_and_figures/subplots_demo.html) to create the below subplot. Very helpful. [This post](https://stackoverflow.com/a/15858264) helped me see how to adjust the ylim for subplots. [This documentation](https://matplotlib.org/stable/gallery/text_labels_and_annotations/titles_demo.html) showed me how to shift the title up a little so it wouldn't be so close to the subplot labels."
   ]
  },
  {
   "cell_type": "code",
   "execution_count": 348,
   "id": "37c7902d-620f-4773-8538-4b38a6fcd56a",
   "metadata": {},
   "outputs": [
    {
     "data": {
      "image/png": "[encoded data removed]",
      "text/plain": [
       "<Figure size 432x288 with 2 Axes>"
      ]
     },
     "metadata": {
      "needs_background": "light"
     },
     "output_type": "display_data"
    }
   ],
   "source": [
    "subm_mean_len = no_remov_del_subm.groupby([\"subreddit_name\"])[\"submission_length\"].mean().tolist()\n",
    "subm_median_len = no_remov_del_subm.groupby([\"subreddit_name\"])[\"submission_length\"].median().tolist()\n",
    "\n",
    "fig, (ax1, ax2) = plt.subplots(1, 2, sharey = True)\n",
    "fig.suptitle('Post Length by subreddit, \"startrek\" and \"StarWars\"', y = 1)\n",
    "fig.supylabel('Number of Characters')\n",
    "fig.supxlabel('subreddit')\n",
    "\n",
    "ax1.bar(['/r/startrek', '/r/StarWars'], [subm_mean_len[0], subm_mean_len[1]], color = 'dodgerblue')\n",
    "ax1.set_title('Mean Post Length')\n",
    "ax1.set_ylim(0,500)\n",
    "ax1.text(0, subm_mean_len[0]+10, round(subm_mean_len[0]), ha = 'center')\n",
    "ax1.text(1, subm_mean_len[1]+10, round(subm_mean_len[1]), ha = 'center')\n",
    "\n",
    "ax2.bar(['/r/startrek', '/r/StarWars'], [subm_median_len[0], subm_median_len[1]], color = 'dodgerblue')\n",
    "ax2.set_title('Median Post Length')\n",
    "ax2.text(0, subm_median_len[0]+10, round(subm_median_len[0]), ha = 'center')\n",
    "ax2.text(1, subm_median_len[1]+10, round(subm_median_len[1]), ha = 'center')\n",
    "\n",
    "plt.tight_layout()\n",
    "plt.savefig('images/post_length.png');"
   ]
  },
  {
   "cell_type": "code",
   "execution_count": 354,
   "id": "4ba89e9d-32e6-49e0-b080-c5798d3b9520",
   "metadata": {},
   "outputs": [
    {
     "data": {
      "image/png": "[encoded data removed]",
      "text/plain": [
       "<Figure size 432x288 with 2 Axes>"
      ]
     },
     "metadata": {
      "needs_background": "light"
     },
     "output_type": "display_data"
    }
   ],
   "source": [
    "subm_word_count_mean = no_remov_del_subm.groupby([\"subreddit_name\"])[\"submission_word_count\"].mean().tolist()\n",
    "subm_word_count_median = no_remov_del_subm.groupby([\"subreddit_name\"])[\"submission_word_count\"].median().tolist()\n",
    "\n",
    "fig, (ax1, ax2) = plt.subplots(1, 2, sharey = True)\n",
    "fig.suptitle('Post Word Count by subreddit, \"startrek\" and \"StarWars\"', y = 1)\n",
    "fig.supylabel('Number of Words')\n",
    "fig.supxlabel('subreddit')\n",
    "\n",
    "ax1.bar(['/r/startrek', '/r/StarWars'], [subm_word_count_mean[0], subm_word_count_mean[1]], color = 'maroon')\n",
    "ax1.set_title('Mean Post Word Count')\n",
    "ax1.set_ylim(0,90)\n",
    "ax1.text(0, subm_word_count_mean[0]+2, round(subm_word_count_mean[0]), ha = 'center')\n",
    "ax1.text(1, subm_word_count_mean[1]+2, round(subm_word_count_mean[1]), ha = 'center')\n",
    "\n",
    "ax2.bar(['/r/startrek', '/r/StarWars'], [subm_word_count_median[0], subm_word_count_median[1]], color = 'maroon')\n",
    "ax2.set_title('Median Post Word Count')\n",
    "ax2.text(0, subm_word_count_median[0]+2, round(subm_word_count_median[0]), ha = 'center')\n",
    "ax2.text(1, subm_word_count_median[1]+2, round(subm_word_count_median[1]), ha = 'center')\n",
    "\n",
    "plt.tight_layout()\n",
    "plt.savefig('images/post_word_count.png');"
   ]
  },
  {
   "cell_type": "markdown",
   "id": "f517bbea-2457-42eb-9096-cf69095502d5",
   "metadata": {},
   "source": [
    "Determine average word length after vectorizing. Rough Average = "
   ]
  },
  {
   "cell_type": "code",
   "execution_count": 355,
   "id": "f892dd52-f98b-4bc5-bae6-d40cd3792a6c",
   "metadata": {},
   "outputs": [
    {
     "name": "stderr",
     "output_type": "stream",
     "text": [
      "/var/folders/5_/498w081d1837cc82dmb4hwmc0000gn/T/ipykernel_59426/3405056248.py:2: SettingWithCopyWarning: \n",
      "A value is trying to be set on a copy of a slice from a DataFrame.\n",
      "Try using .loc[row_indexer,col_indexer] = value instead\n",
      "\n",
      "See the caveats in the documentation: https://pandas.pydata.org/pandas-docs/stable/user_guide/indexing.html#returning-a-view-versus-a-copy\n",
      "  only_text['rough_avg_word_length'] = (only_text['submission_length']-only_text['submission_word_count'])/only_text['submission_word_count']\n"
     ]
    },
    {
     "data": {
      "text/html": [
       "<div>\n",
       "<style scoped>\n",
       "    .dataframe tbody tr th:only-of-type {\n",
       "        vertical-align: middle;\n",
       "    }\n",
       "\n",
       "    .dataframe tbody tr th {\n",
       "        vertical-align: top;\n",
       "    }\n",
       "\n",
       "    .dataframe thead th {\n",
       "        text-align: right;\n",
       "    }\n",
       "</style>\n",
       "<table border=\"1\" class=\"dataframe\">\n",
       "  <thead>\n",
       "    <tr style=\"text-align: right;\">\n",
       "      <th></th>\n",
       "      <th>created_utc</th>\n",
       "      <th>selftext</th>\n",
       "      <th>subreddit_name</th>\n",
       "      <th>title</th>\n",
       "      <th>submission_length</th>\n",
       "      <th>submission_word_count</th>\n",
       "      <th>title_length</th>\n",
       "      <th>title_word_count</th>\n",
       "      <th>rough_avg_word_length</th>\n",
       "    </tr>\n",
       "  </thead>\n",
       "  <tbody>\n",
       "    <tr>\n",
       "      <th>2026</th>\n",
       "      <td>1656257863</td>\n",
       "      <td>Now that I’ve moved to a bigger place the time has come to display the Enterprise and her crew! I’m so happy with how it looks! Engage!\\n\\n[images of bridge](https://imgur.com/a/yRZaV0f)</td>\n",
       "      <td>startrek</td>\n",
       "      <td>Had the TNG Bridge Playset packed away for too long!</td>\n",
       "      <td>184</td>\n",
       "      <td>30</td>\n",
       "      <td>52</td>\n",
       "      <td>10</td>\n",
       "      <td>5.133333</td>\n",
       "    </tr>\n",
       "    <tr>\n",
       "      <th>2027</th>\n",
       "      <td>1656255805</td>\n",
       "      <td>Is that just a fun nod for people paying attention or was Benny meant to be a real person and not just in Sisko's mind?</td>\n",
       "      <td>startrek</td>\n",
       "      <td>Benny Russell wrote M'Benga's book?</td>\n",
       "      <td>119</td>\n",
       "      <td>25</td>\n",
       "      <td>35</td>\n",
       "      <td>5</td>\n",
       "      <td>3.760000</td>\n",
       "    </tr>\n",
       "    <tr>\n",
       "      <th>2028</th>\n",
       "      <td>1656255728</td>\n",
       "      <td>Just wondering where you can stream the new Star Trek shows in Canada? I know Paramount plus has the the old ones.</td>\n",
       "      <td>startrek</td>\n",
       "      <td>Streaming the new Star term shows?</td>\n",
       "      <td>114</td>\n",
       "      <td>22</td>\n",
       "      <td>34</td>\n",
       "      <td>6</td>\n",
       "      <td>4.181818</td>\n",
       "    </tr>\n",
       "    <tr>\n",
       "      <th>2029</th>\n",
       "      <td>1656254381</td>\n",
       "      <td>Just interested in hearing some cool ideas. I’d love to see the OG crew take on the Borg but I’m curious how it could differentiate itself from the other recent takes on them that we’ve seen.\\n\\nI’m also curious as to whether or not the crew is still on their five-year mission, and what justification would be used to bring them back into space. Do we get retired Admiral Kirk? Sulu on the Excel...</td>\n",
       "      <td>startrek</td>\n",
       "      <td>What are your pitches for Star Trek Kelvin 4?</td>\n",
       "      <td>487</td>\n",
       "      <td>90</td>\n",
       "      <td>45</td>\n",
       "      <td>9</td>\n",
       "      <td>4.411111</td>\n",
       "    </tr>\n",
       "    <tr>\n",
       "      <th>2030</th>\n",
       "      <td>1656253203</td>\n",
       "      <td>I was watching the new episode of SNW and it just hit me that Ortagus wears red rather than gold. And I was wondering if anyone knew why?</td>\n",
       "      <td>startrek</td>\n",
       "      <td>Why Does Ortagus Wear Red? SNW</td>\n",
       "      <td>137</td>\n",
       "      <td>28</td>\n",
       "      <td>30</td>\n",
       "      <td>6</td>\n",
       "      <td>3.892857</td>\n",
       "    </tr>\n",
       "  </tbody>\n",
       "</table>\n",
       "</div>"
      ],
      "text/plain": [
       "      created_utc  \\\n",
       "2026   1656257863   \n",
       "2027   1656255805   \n",
       "2028   1656255728   \n",
       "2029   1656254381   \n",
       "2030   1656253203   \n",
       "\n",
       "                                                                                                                                                                                                                                                                                                                                                                                                             selftext  \\\n",
       "2026                                                                                                                                                                                                                       Now that I’ve moved to a bigger place the time has come to display the Enterprise and her crew! I’m so happy with how it looks! Engage!\\n\\n[images of bridge](https://imgur.com/a/yRZaV0f)   \n",
       "2027                                                                                                                                                                                                                                                                                          Is that just a fun nod for people paying attention or was Benny meant to be a real person and not just in Sisko's mind?   \n",
       "2028                                                                                                                                                                                                                                                                                               Just wondering where you can stream the new Star Trek shows in Canada? I know Paramount plus has the the old ones.   \n",
       "2029  Just interested in hearing some cool ideas. I’d love to see the OG crew take on the Borg but I’m curious how it could differentiate itself from the other recent takes on them that we’ve seen.\\n\\nI’m also curious as to whether or not the crew is still on their five-year mission, and what justification would be used to bring them back into space. Do we get retired Admiral Kirk? Sulu on the Excel...   \n",
       "2030                                                                                                                                                                                                                                                                        I was watching the new episode of SNW and it just hit me that Ortagus wears red rather than gold. And I was wondering if anyone knew why?   \n",
       "\n",
       "     subreddit_name                                                 title  \\\n",
       "2026       startrek  Had the TNG Bridge Playset packed away for too long!   \n",
       "2027       startrek                   Benny Russell wrote M'Benga's book?   \n",
       "2028       startrek                    Streaming the new Star term shows?   \n",
       "2029       startrek         What are your pitches for Star Trek Kelvin 4?   \n",
       "2030       startrek                        Why Does Ortagus Wear Red? SNW   \n",
       "\n",
       "      submission_length  submission_word_count  title_length  \\\n",
       "2026                184                     30            52   \n",
       "2027                119                     25            35   \n",
       "2028                114                     22            34   \n",
       "2029                487                     90            45   \n",
       "2030                137                     28            30   \n",
       "\n",
       "      title_word_count  rough_avg_word_length  \n",
       "2026                10               5.133333  \n",
       "2027                 5               3.760000  \n",
       "2028                 6               4.181818  \n",
       "2029                 9               4.411111  \n",
       "2030                 6               3.892857  "
      ]
     },
     "execution_count": 355,
     "metadata": {},
     "output_type": "execute_result"
    }
   ],
   "source": [
    "only_text = no_remov_del_subm[no_remov_del_subm['selftext'] != '']\n",
    "only_text['rough_avg_word_length'] = (only_text['submission_length']-only_text['submission_word_count'])/only_text['submission_word_count']\n",
    "only_text.head()"
   ]
  },
  {
   "cell_type": "code",
   "execution_count": 356,
   "id": "a09ce017-d8c4-484b-a316-742d80e12bfc",
   "metadata": {},
   "outputs": [
    {
     "data": {
      "text/plain": [
       "subreddit_name\n",
       "startrek    5.441365\n",
       "starwars    4.821179\n",
       "Name: rough_avg_word_length, dtype: float64"
      ]
     },
     "execution_count": 356,
     "metadata": {},
     "output_type": "execute_result"
    }
   ],
   "source": [
    "only_text.groupby('subreddit_name')['rough_avg_word_length'].mean()"
   ]
  },
  {
   "cell_type": "code",
   "execution_count": 357,
   "id": "558f5f18-bab7-4b09-ac7f-320495ed154b",
   "metadata": {},
   "outputs": [
    {
     "data": {
      "text/plain": [
       "subreddit_name\n",
       "startrek    4.563636\n",
       "starwars    4.418605\n",
       "Name: rough_avg_word_length, dtype: float64"
      ]
     },
     "execution_count": 357,
     "metadata": {},
     "output_type": "execute_result"
    }
   ],
   "source": [
    "only_text.groupby('subreddit_name')['rough_avg_word_length'].median()"
   ]
  },
  {
   "cell_type": "code",
   "execution_count": null,
   "id": "dc1954e3-8ca9-4e2b-87fc-3e2715a39044",
   "metadata": {},
   "outputs": [],
   "source": []
  },
  {
   "cell_type": "markdown",
   "id": "2812357c-aade-42be-9f6f-bdee38587fe3",
   "metadata": {},
   "source": [
    "-----"
   ]
  },
  {
   "cell_type": "markdown",
   "id": "238f03c1-bba4-4fe0-a917-56ca74fc2258",
   "metadata": {},
   "source": [
    "# Exploring Word Counts in Non-Removed Submission Posts with Proper Names Removed"
   ]
  },
  {
   "cell_type": "code",
   "execution_count": 187,
   "id": "b4c3d044-38c8-4207-80cd-9542b25b34e3",
   "metadata": {},
   "outputs": [
    {
     "name": "stdout",
     "output_type": "stream",
     "text": [
      "So I just started watching Strange New Worlds? Is it me or is the Captains Quarters HUGE on this show? When we saw Picard’s quarters in TNG it was never this large. How is it as the ships of the Federation get more advanced they seem to get more utilitarian? What are peoples thought?                                                                                                                           1\n",
      "&amp;#x200B;\\n\\n[\\\\\"You were my brother Anakin, I STILL love you.\\\\\"](https://preview.redd.it/osxeed2auh791.png?width=1517&amp;format=png&amp;auto=webp&amp;s=5ceea1e0204b7390278c22a509966b2ec8ef351f)                                                                                                                                                                                                                1\n",
      "When Darth Vader and Obi-Wan are fighting in the final episode, just right after Vader used the force to open a hole in the ground to cover Obi-Wan with stones, I was expecting him to say: “now I have the high ground”.\\n\\nWhat you guys think?                                                                                                                                                                     1\n",
      "But how does Obi-Wan learn how to become a force ghost? Because, at least according to Clone Wars, a Jedi must go to a *lot* of planets and destinations on the way. But Obi-Wan stays on Tatooine except for his little adventure in the Kenobi show. Unless there is some sort of other way to learn the gift or &gt;!Qui-Gon’s force ghost shows Obi-Wan how to become one!&lt;, this is a pretty big plot hole.    1\n",
      "But failed to. So HE is responsible for the destruction of Alderan and all of Vader’s atrocities. Discuss.                                                                                                                                                                                                                                                                                                             1\n",
      "Name: selftext, dtype: int64\n",
      "(2689, 8)\n"
     ]
    },
    {
     "data": {
      "text/html": [
       "<div>\n",
       "<style scoped>\n",
       "    .dataframe tbody tr th:only-of-type {\n",
       "        vertical-align: middle;\n",
       "    }\n",
       "\n",
       "    .dataframe tbody tr th {\n",
       "        vertical-align: top;\n",
       "    }\n",
       "\n",
       "    .dataframe thead th {\n",
       "        text-align: right;\n",
       "    }\n",
       "</style>\n",
       "<table border=\"1\" class=\"dataframe\">\n",
       "  <thead>\n",
       "    <tr style=\"text-align: right;\">\n",
       "      <th></th>\n",
       "      <th>created_utc</th>\n",
       "      <th>selftext</th>\n",
       "      <th>subreddit</th>\n",
       "      <th>title</th>\n",
       "      <th>submission_length</th>\n",
       "      <th>submission_word_count</th>\n",
       "      <th>title_length</th>\n",
       "      <th>title_word_count</th>\n",
       "    </tr>\n",
       "  </thead>\n",
       "  <tbody>\n",
       "    <tr>\n",
       "      <th>2063</th>\n",
       "      <td>1656180319</td>\n",
       "      <td>So I just started watching Strange New Worlds? Is it me or is the Captains Quarters HUGE on this show? When we saw Picard’s quarters in TNG it was never this large. How is it as the ships of the Federation get more advanced they seem to get more utilitarian? What are peoples thought?</td>\n",
       "      <td>startrek</td>\n",
       "      <td>HUGE Captains Quarters?!?</td>\n",
       "      <td>284</td>\n",
       "      <td>54</td>\n",
       "      <td>25</td>\n",
       "      <td>3</td>\n",
       "    </tr>\n",
       "    <tr>\n",
       "      <th>2064</th>\n",
       "      <td>1656175057</td>\n",
       "      <td>One of the things I always thought was nice about star trek, is how positive it was, in an era of apocalyptic and all around bad world view that was common with syfy shows/movies, we had got a world where the entire planet was at peace. cause we got over all of our problems.I've heard that some just write it off as liberal nonsense or whatever, but I just thought it was...nice.</td>\n",
       "      <td>startrek</td>\n",
       "      <td>a more positive science fiction series</td>\n",
       "      <td>380</td>\n",
       "      <td>72</td>\n",
       "      <td>38</td>\n",
       "      <td>6</td>\n",
       "    </tr>\n",
       "    <tr>\n",
       "      <th>2065</th>\n",
       "      <td>1656171780</td>\n",
       "      <td>I am trying to translate the moive of PC game Star Trek: Klingon Academy. There is a creature appear Several times. It is called something like \"corling\" or \"Korling\" by klingon. I'm not sure what it is because there are no subtitles. I didn't find any resemble noun in memory alpha or beta. Can anyone tell me anything about it? Even an exact name will do. Context is a toothless korling or a st...</td>\n",
       "      <td>startrek</td>\n",
       "      <td>Looking for a creature from star trek game, might be a klingon creature.</td>\n",
       "      <td>442</td>\n",
       "      <td>81</td>\n",
       "      <td>72</td>\n",
       "      <td>13</td>\n",
       "    </tr>\n",
       "    <tr>\n",
       "      <th>2066</th>\n",
       "      <td>1656168467</td>\n",
       "      <td>The image is at 0:58 in the video.</td>\n",
       "      <td>startrek</td>\n",
       "      <td>A shot of the Gorn in the trailer???</td>\n",
       "      <td>34</td>\n",
       "      <td>8</td>\n",
       "      <td>36</td>\n",
       "      <td>8</td>\n",
       "    </tr>\n",
       "    <tr>\n",
       "      <th>2067</th>\n",
       "      <td>1656166315</td>\n",
       "      <td>lol WTF!? This bizarre line from Kirk just came out of nowhere with no evidence or previously seen footage to back it up, at the beginning of \"Wolf in the Fold\".\\n\\nWhy?!</td>\n",
       "      <td>startrek</td>\n",
       "      <td>\"Scotty's resentment towards women\"</td>\n",
       "      <td>168</td>\n",
       "      <td>32</td>\n",
       "      <td>35</td>\n",
       "      <td>4</td>\n",
       "    </tr>\n",
       "  </tbody>\n",
       "</table>\n",
       "</div>"
      ],
      "text/plain": [
       "      created_utc  \\\n",
       "2063   1656180319   \n",
       "2064   1656175057   \n",
       "2065   1656171780   \n",
       "2066   1656168467   \n",
       "2067   1656166315   \n",
       "\n",
       "                                                                                                                                                                                                                                                                                                                                                                                                             selftext  \\\n",
       "2063                                                                                                                     So I just started watching Strange New Worlds? Is it me or is the Captains Quarters HUGE on this show? When we saw Picard’s quarters in TNG it was never this large. How is it as the ships of the Federation get more advanced they seem to get more utilitarian? What are peoples thought?   \n",
       "2064                     One of the things I always thought was nice about star trek, is how positive it was, in an era of apocalyptic and all around bad world view that was common with syfy shows/movies, we had got a world where the entire planet was at peace. cause we got over all of our problems.I've heard that some just write it off as liberal nonsense or whatever, but I just thought it was...nice.   \n",
       "2065  I am trying to translate the moive of PC game Star Trek: Klingon Academy. There is a creature appear Several times. It is called something like \"corling\" or \"Korling\" by klingon. I'm not sure what it is because there are no subtitles. I didn't find any resemble noun in memory alpha or beta. Can anyone tell me anything about it? Even an exact name will do. Context is a toothless korling or a st...   \n",
       "2066                                                                                                                                                                                                                                                                                                                                                                               The image is at 0:58 in the video.   \n",
       "2067                                                                                                                                                                                                                                       lol WTF!? This bizarre line from Kirk just came out of nowhere with no evidence or previously seen footage to back it up, at the beginning of \"Wolf in the Fold\".\\n\\nWhy?!   \n",
       "\n",
       "     subreddit  \\\n",
       "2063  startrek   \n",
       "2064  startrek   \n",
       "2065  startrek   \n",
       "2066  startrek   \n",
       "2067  startrek   \n",
       "\n",
       "                                                                         title  \\\n",
       "2063                                                 HUGE Captains Quarters?!?   \n",
       "2064                                    a more positive science fiction series   \n",
       "2065  Looking for a creature from star trek game, might be a klingon creature.   \n",
       "2066                                      A shot of the Gorn in the trailer???   \n",
       "2067                                       \"Scotty's resentment towards women\"   \n",
       "\n",
       "      submission_length  submission_word_count  title_length  title_word_count  \n",
       "2063                284                     54            25                 3  \n",
       "2064                380                     72            38                 6  \n",
       "2065                442                     81            72                13  \n",
       "2066                 34                      8            36                 8  \n",
       "2067                168                     32            35                 4  "
      ]
     },
     "execution_count": 187,
     "metadata": {},
     "output_type": "execute_result"
    }
   ],
   "source": [
    "#I have to go back and look at '[deleted]'\n",
    "only_filled_subm = df[(df['selftext'] != '[removed]') & (df['selftext'] != '') & (df['selftext'] != '[deleted]')]\n",
    "print(only_filled_subm['selftext'].value_counts()[:5])\n",
    "print(only_filled_subm.shape)\n",
    "only_filled_subm.head()"
   ]
  },
  {
   "cell_type": "code",
   "execution_count": null,
   "id": "ab6b6e42-7834-4362-ad77-8b813426bbe2",
   "metadata": {},
   "outputs": [],
   "source": []
  },
  {
   "cell_type": "markdown",
   "id": "3b1b6207-0402-4418-a1a6-5ff347642c66",
   "metadata": {},
   "source": [
    "-----"
   ]
  },
  {
   "cell_type": "markdown",
   "id": "5e37ccc5-6f81-430f-9799-f7055fb05199",
   "metadata": {},
   "source": [
    "# Exploring Word Counts in Combined Submission and Title, Non-Removed Posts"
   ]
  },
  {
   "cell_type": "code",
   "execution_count": 180,
   "id": "c4b6651f-cf9c-4e2f-b6ee-e52c88f2c819",
   "metadata": {},
   "outputs": [
    {
     "name": "stdout",
     "output_type": "stream",
     "text": [
      "                                                                                                                                                                                                                                                                                                                                                                                                                                                                                                                     2396\n",
      "[deleted]                                                                                                                                                                                                                                                                                                                                                                                                                                                                                                               6\n",
      "Hi all a question for you all I was scrolling wookiepedia and it said Rey was  jedi master...is she actually or is she just called that because she's basically the last jedi left. Because (and its been a while since I've seen the films) all it seemed she got was a bit of training from Luke\\nWho only seemed to get minimal training fro. Obi Wan and Yoda.\\n\\nAlso it listed her as Leias apprentice as well?\\n\\nSo basically is Rey an actual master and I guess was Luke even a master for that matter?       1\n",
      "Why did Obi Wan just walk off at the end and not finish off Vader? Didn’t he say he wanted to finish this off one way or the other earlier in the episode?                                                                                                                                                                                                                                                                                                                                                              1\n",
      "There. We covered everyone in the past, present and future.\\n\\nStop farming for Karma.                                                                                                                                                                                                                                                                                                                                                                                                                                  1\n",
      "Name: selftext, dtype: int64\n",
      "(5091, 8)\n"
     ]
    },
    {
     "data": {
      "text/html": [
       "<div>\n",
       "<style scoped>\n",
       "    .dataframe tbody tr th:only-of-type {\n",
       "        vertical-align: middle;\n",
       "    }\n",
       "\n",
       "    .dataframe tbody tr th {\n",
       "        vertical-align: top;\n",
       "    }\n",
       "\n",
       "    .dataframe thead th {\n",
       "        text-align: right;\n",
       "    }\n",
       "</style>\n",
       "<table border=\"1\" class=\"dataframe\">\n",
       "  <thead>\n",
       "    <tr style=\"text-align: right;\">\n",
       "      <th></th>\n",
       "      <th>created_utc</th>\n",
       "      <th>selftext</th>\n",
       "      <th>subreddit</th>\n",
       "      <th>title</th>\n",
       "      <th>submission_length</th>\n",
       "      <th>submission_word_count</th>\n",
       "      <th>title_length</th>\n",
       "      <th>title_word_count</th>\n",
       "    </tr>\n",
       "  </thead>\n",
       "  <tbody>\n",
       "    <tr>\n",
       "      <th>1408</th>\n",
       "      <td>1656165357</td>\n",
       "      <td></td>\n",
       "      <td>startrek</td>\n",
       "      <td>Does 'Star Trek: Strange New Worlds' attain warp speed? : Pop Culture Happy Hour</td>\n",
       "      <td>0</td>\n",
       "      <td>0</td>\n",
       "      <td>80</td>\n",
       "      <td>14</td>\n",
       "    </tr>\n",
       "    <tr>\n",
       "      <th>1409</th>\n",
       "      <td>1656113264</td>\n",
       "      <td></td>\n",
       "      <td>startrek</td>\n",
       "      <td>Preview: Strange New Worlds 1x09</td>\n",
       "      <td>0</td>\n",
       "      <td>0</td>\n",
       "      <td>32</td>\n",
       "      <td>5</td>\n",
       "    </tr>\n",
       "    <tr>\n",
       "      <th>1410</th>\n",
       "      <td>1656092693</td>\n",
       "      <td></td>\n",
       "      <td>startrek</td>\n",
       "      <td>John de Lancie Talks About His Experience Returning As Q In ‘Star Trek: Picard’ Season 2</td>\n",
       "      <td>0</td>\n",
       "      <td>0</td>\n",
       "      <td>88</td>\n",
       "      <td>16</td>\n",
       "    </tr>\n",
       "    <tr>\n",
       "      <th>1411</th>\n",
       "      <td>1656085029</td>\n",
       "      <td></td>\n",
       "      <td>startrek</td>\n",
       "      <td>‘KHAAAAN!’: why Wrath of Khan remains the greatest Star Trek movie, 40 years on</td>\n",
       "      <td>0</td>\n",
       "      <td>0</td>\n",
       "      <td>79</td>\n",
       "      <td>14</td>\n",
       "    </tr>\n",
       "    <tr>\n",
       "      <th>1412</th>\n",
       "      <td>1656071838</td>\n",
       "      <td></td>\n",
       "      <td>startrek</td>\n",
       "      <td>‘KHAAAAN!’: why Wrath of Khan remains the greatest Star Trek movie, 40 years on</td>\n",
       "      <td>0</td>\n",
       "      <td>0</td>\n",
       "      <td>79</td>\n",
       "      <td>14</td>\n",
       "    </tr>\n",
       "  </tbody>\n",
       "</table>\n",
       "</div>"
      ],
      "text/plain": [
       "      created_utc selftext subreddit  \\\n",
       "1408   1656165357           startrek   \n",
       "1409   1656113264           startrek   \n",
       "1410   1656092693           startrek   \n",
       "1411   1656085029           startrek   \n",
       "1412   1656071838           startrek   \n",
       "\n",
       "                                                                                         title  \\\n",
       "1408          Does 'Star Trek: Strange New Worlds' attain warp speed? : Pop Culture Happy Hour   \n",
       "1409                                                          Preview: Strange New Worlds 1x09   \n",
       "1410  John de Lancie Talks About His Experience Returning As Q In ‘Star Trek: Picard’ Season 2   \n",
       "1411           ‘KHAAAAN!’: why Wrath of Khan remains the greatest Star Trek movie, 40 years on   \n",
       "1412           ‘KHAAAAN!’: why Wrath of Khan remains the greatest Star Trek movie, 40 years on   \n",
       "\n",
       "      submission_length  submission_word_count  title_length  title_word_count  \n",
       "1408                  0                      0            80                14  \n",
       "1409                  0                      0            32                 5  \n",
       "1410                  0                      0            88                16  \n",
       "1411                  0                      0            79                14  \n",
       "1412                  0                      0            79                14  "
      ]
     },
     "execution_count": 180,
     "metadata": {},
     "output_type": "execute_result"
    }
   ],
   "source": [
    "no_removed = df[df['selftext'] != '[removed]']\n",
    "print(no_removed['selftext'].value_counts()[:5])\n",
    "print(no_removed.shape)\n",
    "no_removed.head()"
   ]
  },
  {
   "cell_type": "code",
   "execution_count": null,
   "id": "8c1007e7-5ea7-4f38-9db0-3dfb4c69a030",
   "metadata": {},
   "outputs": [],
   "source": []
  },
  {
   "cell_type": "markdown",
   "id": "b2291376-a587-4a9a-aa42-afaeceed1da3",
   "metadata": {},
   "source": [
    "-----"
   ]
  },
  {
   "cell_type": "markdown",
   "id": "35728417-f6db-4829-b0bf-9efa5eb30ec3",
   "metadata": {},
   "source": [
    "# Exploring Word Counts in Submission and Titles, Non-removed Posts, with Proper Names Removed"
   ]
  },
  {
   "cell_type": "code",
   "execution_count": null,
   "id": "93b5b8f2-c061-4369-8e8f-df1d3575b4fa",
   "metadata": {},
   "outputs": [],
   "source": []
  },
  {
   "cell_type": "markdown",
   "id": "44e415fc-4a65-4e11-ba6e-46ac168e96e8",
   "metadata": {},
   "source": [
    "**note to self: make visualizations of these word counts. See NLP lab for guidance**"
   ]
  }
 ],
 "metadata": {
  "kernelspec": {
   "display_name": "Python [conda env:dsi]",
   "language": "python",
   "name": "conda-env-dsi-py"
  },
  "language_info": {
   "codemirror_mode": {
    "name": "ipython",
    "version": 3
   },
   "file_extension": ".py",
   "mimetype": "text/x-python",
   "name": "python",
   "nbconvert_exporter": "python",
   "pygments_lexer": "ipython3",
   "version": "3.9.12"
  }
 },
 "nbformat": 4,
 "nbformat_minor": 5
}
