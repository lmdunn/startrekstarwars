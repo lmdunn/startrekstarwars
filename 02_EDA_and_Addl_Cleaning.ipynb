{
 "cells": [
  {
   "cell_type": "code",
   "execution_count": 120,
   "id": "36dc7c06-e4ec-4cd8-9437-dd6ec67e883f",
   "metadata": {},
   "outputs": [],
   "source": [
    "import matplotlib.pyplot as plt\n",
    "import pandas as pd\n",
    "import seaborn as sns\n",
    "\n",
    "from nltk.corpus import stopwords\n",
    "from sklearn.feature_extraction.text import CountVectorizer\n",
    "from sklearn.feature_extraction import text \n",
    "\n",
    "import functions as fun\n",
    "\n",
    "import os\n",
    "from datetime import date\n",
    "\n",
    "pd.options.display.max_colwidth = 400 #we used this in the NLP EDA Lab 5.02 and it I thought it makes sense to use it here, too."
   ]
  },
  {
   "cell_type": "code",
   "execution_count": 121,
   "id": "61ad5408-d996-4f7c-925d-19570985b816",
   "metadata": {},
   "outputs": [],
   "source": [
    "df = pd.read_csv('data/data2022-06-26.csv')"
   ]
  },
  {
   "cell_type": "code",
   "execution_count": 122,
   "id": "c3459b52-b567-4cba-b2d0-afd50ddc2969",
   "metadata": {},
   "outputs": [
    {
     "data": {
      "text/html": [
       "<div>\n",
       "<style scoped>\n",
       "    .dataframe tbody tr th:only-of-type {\n",
       "        vertical-align: middle;\n",
       "    }\n",
       "\n",
       "    .dataframe tbody tr th {\n",
       "        vertical-align: top;\n",
       "    }\n",
       "\n",
       "    .dataframe thead th {\n",
       "        text-align: right;\n",
       "    }\n",
       "</style>\n",
       "<table border=\"1\" class=\"dataframe\">\n",
       "  <thead>\n",
       "    <tr style=\"text-align: right;\">\n",
       "      <th></th>\n",
       "      <th>created_utc</th>\n",
       "      <th>selftext</th>\n",
       "      <th>subreddit</th>\n",
       "      <th>title</th>\n",
       "    </tr>\n",
       "  </thead>\n",
       "  <tbody>\n",
       "    <tr>\n",
       "      <th>0</th>\n",
       "      <td>1656261965</td>\n",
       "      <td>[removed]</td>\n",
       "      <td>startrek</td>\n",
       "      <td>Which version of Klingons will appear in SNW?</td>\n",
       "    </tr>\n",
       "  </tbody>\n",
       "</table>\n",
       "</div>"
      ],
      "text/plain": [
       "   created_utc   selftext subreddit  \\\n",
       "0   1656261965  [removed]  startrek   \n",
       "\n",
       "                                           title  \n",
       "0  Which version of Klingons will appear in SNW?  "
      ]
     },
     "execution_count": 122,
     "metadata": {},
     "output_type": "execute_result"
    }
   ],
   "source": [
    "df.head(1)"
   ]
  },
  {
   "cell_type": "code",
   "execution_count": 123,
   "id": "3fece033-5c06-4fde-a4f5-8dfb722f0797",
   "metadata": {},
   "outputs": [
    {
     "data": {
      "text/plain": [
       "created_utc     int64\n",
       "selftext       object\n",
       "subreddit      object\n",
       "title          object\n",
       "dtype: object"
      ]
     },
     "execution_count": 123,
     "metadata": {},
     "output_type": "execute_result"
    }
   ],
   "source": [
    "df.dtypes"
   ]
  },
  {
   "cell_type": "code",
   "execution_count": 124,
   "id": "a394bec2-b6c1-44a7-aac6-64b5c06e779e",
   "metadata": {},
   "outputs": [
    {
     "data": {
      "text/plain": [
       "created_utc       0\n",
       "selftext       2359\n",
       "subreddit         0\n",
       "title             0\n",
       "dtype: int64"
      ]
     },
     "execution_count": 124,
     "metadata": {},
     "output_type": "execute_result"
    }
   ],
   "source": [
    "df.isnull().sum()"
   ]
  },
  {
   "cell_type": "code",
   "execution_count": 125,
   "id": "ff0e4d2d-5065-4421-9165-b821a3397865",
   "metadata": {},
   "outputs": [
    {
     "data": {
      "text/plain": [
       "(6946, 4)"
      ]
     },
     "execution_count": 125,
     "metadata": {},
     "output_type": "execute_result"
    }
   ],
   "source": [
    "df.shape"
   ]
  },
  {
   "cell_type": "markdown",
   "id": "8a643cc1-611f-4d94-b84d-0ac35632eb7f",
   "metadata": {
    "tags": []
   },
   "source": [
    "# Building New DataFrame\n",
    "I opted to fill the nulls with '' in order to explore posts that just consist of the title, which seems to be a fairly common way to use these subreddits.\n",
    "\n",
    "Otherwise, to streamline this notebook, I came back to this point after EDA/modeling and made all changes I want so I could work from the one dataframe. I think almost all the changes are pretty self-explanatory. Two I'd like to note: \n",
    "* I turned the column name 'subreddit' into 'subreddit_name' because I found after vectorizing that, unsurprisingly, the word 'subreddit' appeared in the words that were vectorized, leading to the need for a name change in the column when I concatenated the vectorization with the 'subreddit'(name) column. \n",
    "* I created the 'all_words' column, combining the 'title' and the 'selftext' because I found a high percentage of the /r/StarWars posts (just over half of them), had no 'selftext'. In other words, a high percentage of the written communication happening in that subreddit, in particular, is happening in the titles. For that reason, I wanted to include both the titles and the 'selftext' (text from the post body) in my analysis.\n",
    "\n",
    "NOTE 1: I could also do the same with 'title' (to 'title_text') and 'selftext' (to 'self_text') to protect against the chance that either of these appear in the vectorization ('title' presumably does, somewhere), but given that I didn't use either of those columns in a concatenation, I'm not doing so now since it would require rewriting a *lot* of code to account for the title change.\n",
    "\n",
    "NOTE 2: I referenced the NLP EDA Lab 5.02 when writing the code to add column and word counts.\n",
    "\n",
    "NOTE 3: I call mean_word_length from my functions file. For this function, this [stackoverflow answer](https://stackoverflow.com/a/59911989) helped with finding mean and [this one](https://stackoverflow.com/a/29350747) helped with eliminating the characters that weren't letters."
   ]
  },
  {
   "cell_type": "code",
   "execution_count": 126,
   "id": "536b6a72-57ea-427c-948f-8d6fcabf7b77",
   "metadata": {},
   "outputs": [
    {
     "name": "stdout",
     "output_type": "stream",
     "text": [
      "created_utc    0\n",
      "selftext       0\n",
      "subreddit      0\n",
      "title          0\n",
      "dtype: int64\n"
     ]
    },
    {
     "data": {
      "text/html": [
       "<div>\n",
       "<style scoped>\n",
       "    .dataframe tbody tr th:only-of-type {\n",
       "        vertical-align: middle;\n",
       "    }\n",
       "\n",
       "    .dataframe tbody tr th {\n",
       "        vertical-align: top;\n",
       "    }\n",
       "\n",
       "    .dataframe thead th {\n",
       "        text-align: right;\n",
       "    }\n",
       "</style>\n",
       "<table border=\"1\" class=\"dataframe\">\n",
       "  <thead>\n",
       "    <tr style=\"text-align: right;\">\n",
       "      <th></th>\n",
       "      <th>created_utc</th>\n",
       "      <th>selftext</th>\n",
       "      <th>subreddit_name</th>\n",
       "      <th>title</th>\n",
       "      <th>all_words</th>\n",
       "      <th>submission_length</th>\n",
       "      <th>title_length</th>\n",
       "      <th>submission_word_count</th>\n",
       "      <th>title_word_count</th>\n",
       "      <th>no_selftext</th>\n",
       "      <th>avg_word_length</th>\n",
       "    </tr>\n",
       "  </thead>\n",
       "  <tbody>\n",
       "    <tr>\n",
       "      <th>0</th>\n",
       "      <td>1656261965</td>\n",
       "      <td>[removed]</td>\n",
       "      <td>startrek</td>\n",
       "      <td>Which version of Klingons will appear in SNW?</td>\n",
       "      <td>Which version of Klingons will appear in SNW?</td>\n",
       "      <td>9.0</td>\n",
       "      <td>45.0</td>\n",
       "      <td>1.0</td>\n",
       "      <td>8.0</td>\n",
       "      <td>0.0</td>\n",
       "      <td>4.625000</td>\n",
       "    </tr>\n",
       "    <tr>\n",
       "      <th>1</th>\n",
       "      <td>1656254308</td>\n",
       "      <td>[removed]</td>\n",
       "      <td>startrek</td>\n",
       "      <td>On the Gorn and language</td>\n",
       "      <td>On the Gorn and language</td>\n",
       "      <td>9.0</td>\n",
       "      <td>24.0</td>\n",
       "      <td>1.0</td>\n",
       "      <td>5.0</td>\n",
       "      <td>0.0</td>\n",
       "      <td>4.000000</td>\n",
       "    </tr>\n",
       "    <tr>\n",
       "      <th>2</th>\n",
       "      <td>1656248567</td>\n",
       "      <td>[removed]</td>\n",
       "      <td>startrek</td>\n",
       "      <td>What are some good things that can be said about Star Trek V?</td>\n",
       "      <td>What are some good things that can be said about Star Trek V?</td>\n",
       "      <td>9.0</td>\n",
       "      <td>61.0</td>\n",
       "      <td>1.0</td>\n",
       "      <td>13.0</td>\n",
       "      <td>0.0</td>\n",
       "      <td>3.692308</td>\n",
       "    </tr>\n",
       "    <tr>\n",
       "      <th>3</th>\n",
       "      <td>1656238740</td>\n",
       "      <td>[removed]</td>\n",
       "      <td>startrek</td>\n",
       "      <td>A Lord of the Rings reference in SNW 1x08</td>\n",
       "      <td>A Lord of the Rings reference in SNW 1x08</td>\n",
       "      <td>9.0</td>\n",
       "      <td>41.0</td>\n",
       "      <td>1.0</td>\n",
       "      <td>9.0</td>\n",
       "      <td>0.0</td>\n",
       "      <td>3.333333</td>\n",
       "    </tr>\n",
       "    <tr>\n",
       "      <th>4</th>\n",
       "      <td>1656238132</td>\n",
       "      <td>[removed]</td>\n",
       "      <td>startrek</td>\n",
       "      <td>The sword props used in SNW 1x08 are replicas of Aragorn's sword from 'The Fellowship of the Ring' and 'The Two Towers'</td>\n",
       "      <td>The sword props used in SNW 1x08 are replicas of Aragorn's sword from 'The Fellowship of the Ring' and 'The Two Towers'</td>\n",
       "      <td>9.0</td>\n",
       "      <td>119.0</td>\n",
       "      <td>1.0</td>\n",
       "      <td>22.0</td>\n",
       "      <td>0.0</td>\n",
       "      <td>4.090909</td>\n",
       "    </tr>\n",
       "  </tbody>\n",
       "</table>\n",
       "</div>"
      ],
      "text/plain": [
       "   created_utc   selftext subreddit_name  \\\n",
       "0   1656261965  [removed]       startrek   \n",
       "1   1656254308  [removed]       startrek   \n",
       "2   1656248567  [removed]       startrek   \n",
       "3   1656238740  [removed]       startrek   \n",
       "4   1656238132  [removed]       startrek   \n",
       "\n",
       "                                                                                                                     title  \\\n",
       "0                                                                            Which version of Klingons will appear in SNW?   \n",
       "1                                                                                                 On the Gorn and language   \n",
       "2                                                            What are some good things that can be said about Star Trek V?   \n",
       "3                                                                                A Lord of the Rings reference in SNW 1x08   \n",
       "4  The sword props used in SNW 1x08 are replicas of Aragorn's sword from 'The Fellowship of the Ring' and 'The Two Towers'   \n",
       "\n",
       "                                                                                                                 all_words  \\\n",
       "0                                                                            Which version of Klingons will appear in SNW?   \n",
       "1                                                                                                 On the Gorn and language   \n",
       "2                                                            What are some good things that can be said about Star Trek V?   \n",
       "3                                                                                A Lord of the Rings reference in SNW 1x08   \n",
       "4  The sword props used in SNW 1x08 are replicas of Aragorn's sword from 'The Fellowship of the Ring' and 'The Two Towers'   \n",
       "\n",
       "   submission_length  title_length  submission_word_count  title_word_count  \\\n",
       "0                9.0          45.0                    1.0               8.0   \n",
       "1                9.0          24.0                    1.0               5.0   \n",
       "2                9.0          61.0                    1.0              13.0   \n",
       "3                9.0          41.0                    1.0               9.0   \n",
       "4                9.0         119.0                    1.0              22.0   \n",
       "\n",
       "   no_selftext  avg_word_length  \n",
       "0          0.0         4.625000  \n",
       "1          0.0         4.000000  \n",
       "2          0.0         3.692308  \n",
       "3          0.0         3.333333  \n",
       "4          0.0         4.090909  "
      ]
     },
     "execution_count": 126,
     "metadata": {},
     "output_type": "execute_result"
    }
   ],
   "source": [
    "df['selftext'] = df['selftext'].fillna('')\n",
    "print(df.isnull().sum())\n",
    "df['subreddit'] = df['subreddit'].str.lower()\n",
    "for i in range(len(df)):\n",
    "    if df.loc[i, 'selftext'] == '[removed]' or df.loc[i,'selftext'] == '[deleted]':\n",
    "        df.loc[i, 'all_words'] = df.loc[i, 'title']\n",
    "    else:\n",
    "        df.loc[i, 'all_words'] = df.loc[i, 'title']+df.loc[i, 'selftext']\n",
    "    df.loc[i, 'submission_length'] = len(df.loc[i, 'selftext'])\n",
    "    df.loc[i, 'title_length'] = len(df.loc[i, 'title'])\n",
    "    df.loc[i, 'submission_word_count'] = len(df.loc[i,'selftext'].split())\n",
    "    df.loc[i, 'title_word_count'] = len(df.loc[i,'title'].split())\n",
    "    if df.loc[i, 'selftext'] == '':\n",
    "        df.loc[i, 'no_selftext'] = 1\n",
    "    else:\n",
    "        df.loc[i, 'no_selftext'] = 0\n",
    "\n",
    "df['avg_word_length'] = df['all_words'].map(fun.mean_word_length)\n",
    "df = df.rename(columns = {'subreddit': 'subreddit_name'})\n",
    "\n",
    "df.head()"
   ]
  },
  {
   "cell_type": "code",
   "execution_count": 127,
   "id": "0a504070-bb09-4569-9f1f-49dea03aad80",
   "metadata": {},
   "outputs": [
    {
     "data": {
      "text/html": [
       "<div>\n",
       "<style scoped>\n",
       "    .dataframe tbody tr th:only-of-type {\n",
       "        vertical-align: middle;\n",
       "    }\n",
       "\n",
       "    .dataframe tbody tr th {\n",
       "        vertical-align: top;\n",
       "    }\n",
       "\n",
       "    .dataframe thead th {\n",
       "        text-align: right;\n",
       "    }\n",
       "</style>\n",
       "<table border=\"1\" class=\"dataframe\">\n",
       "  <thead>\n",
       "    <tr style=\"text-align: right;\">\n",
       "      <th></th>\n",
       "      <th>created_utc</th>\n",
       "      <th>selftext</th>\n",
       "      <th>subreddit_name</th>\n",
       "      <th>title</th>\n",
       "      <th>all_words</th>\n",
       "      <th>submission_length</th>\n",
       "      <th>title_length</th>\n",
       "      <th>submission_word_count</th>\n",
       "      <th>title_word_count</th>\n",
       "      <th>no_selftext</th>\n",
       "      <th>avg_word_length</th>\n",
       "    </tr>\n",
       "  </thead>\n",
       "  <tbody>\n",
       "    <tr>\n",
       "      <th>3537</th>\n",
       "      <td>1656263202</td>\n",
       "      <td>[removed]</td>\n",
       "      <td>starwars</td>\n",
       "      <td>I know (almost) nothing about Star Wars, ask me anything</td>\n",
       "      <td>I know (almost) nothing about Star Wars, ask me anything</td>\n",
       "      <td>9.0</td>\n",
       "      <td>56.0</td>\n",
       "      <td>1.0</td>\n",
       "      <td>10.0</td>\n",
       "      <td>0.0</td>\n",
       "      <td>4.4</td>\n",
       "    </tr>\n",
       "    <tr>\n",
       "      <th>3538</th>\n",
       "      <td>1656263028</td>\n",
       "      <td>[removed]</td>\n",
       "      <td>starwars</td>\n",
       "      <td>My Star Wars writing debut</td>\n",
       "      <td>My Star Wars writing debut</td>\n",
       "      <td>9.0</td>\n",
       "      <td>26.0</td>\n",
       "      <td>1.0</td>\n",
       "      <td>5.0</td>\n",
       "      <td>0.0</td>\n",
       "      <td>4.4</td>\n",
       "    </tr>\n",
       "    <tr>\n",
       "      <th>3539</th>\n",
       "      <td>1656258044</td>\n",
       "      <td>[removed]</td>\n",
       "      <td>starwars</td>\n",
       "      <td>I wrote a story!</td>\n",
       "      <td>I wrote a story!</td>\n",
       "      <td>9.0</td>\n",
       "      <td>16.0</td>\n",
       "      <td>1.0</td>\n",
       "      <td>4.0</td>\n",
       "      <td>0.0</td>\n",
       "      <td>3.0</td>\n",
       "    </tr>\n",
       "  </tbody>\n",
       "</table>\n",
       "</div>"
      ],
      "text/plain": [
       "      created_utc   selftext subreddit_name  \\\n",
       "3537   1656263202  [removed]       starwars   \n",
       "3538   1656263028  [removed]       starwars   \n",
       "3539   1656258044  [removed]       starwars   \n",
       "\n",
       "                                                         title  \\\n",
       "3537  I know (almost) nothing about Star Wars, ask me anything   \n",
       "3538                                My Star Wars writing debut   \n",
       "3539                                          I wrote a story!   \n",
       "\n",
       "                                                     all_words  \\\n",
       "3537  I know (almost) nothing about Star Wars, ask me anything   \n",
       "3538                                My Star Wars writing debut   \n",
       "3539                                          I wrote a story!   \n",
       "\n",
       "      submission_length  title_length  submission_word_count  \\\n",
       "3537                9.0          56.0                    1.0   \n",
       "3538                9.0          26.0                    1.0   \n",
       "3539                9.0          16.0                    1.0   \n",
       "\n",
       "      title_word_count  no_selftext  avg_word_length  \n",
       "3537              10.0          0.0              4.4  \n",
       "3538               5.0          0.0              4.4  \n",
       "3539               4.0          0.0              3.0  "
      ]
     },
     "execution_count": 127,
     "metadata": {},
     "output_type": "execute_result"
    }
   ],
   "source": [
    "df[df['subreddit_name'] != 'startrek'].head(3)"
   ]
  },
  {
   "cell_type": "code",
   "execution_count": 128,
   "id": "353e279c-3332-4bc6-ac8d-d04824ed6d28",
   "metadata": {},
   "outputs": [
    {
     "data": {
      "text/plain": [
       "created_utc                int64\n",
       "selftext                  object\n",
       "subreddit_name            object\n",
       "title                     object\n",
       "all_words                 object\n",
       "submission_length        float64\n",
       "title_length             float64\n",
       "submission_word_count    float64\n",
       "title_word_count         float64\n",
       "no_selftext              float64\n",
       "avg_word_length          float64\n",
       "dtype: object"
      ]
     },
     "execution_count": 128,
     "metadata": {},
     "output_type": "execute_result"
    }
   ],
   "source": [
    "df.dtypes"
   ]
  },
  {
   "cell_type": "markdown",
   "id": "ccef3495-cc88-427d-a8a7-aadd6dc969f9",
   "metadata": {},
   "source": [
    "# Comparing Blank 'selftext' (Post Body) Across the Subreddits\n",
    "\n",
    "Does either subreddit have a higher rate of blank 'selftext', or post bodies? For the purposes of this I'm removing the 'removed' and 'deleted' posts."
   ]
  },
  {
   "cell_type": "code",
   "execution_count": 129,
   "id": "aaaf2e28-fa64-493d-9ab0-ee04323cbb91",
   "metadata": {
    "tags": []
   },
   "outputs": [
    {
     "name": "stdout",
     "output_type": "stream",
     "text": [
      "Value counts by subreddit:\n",
      " startrek    3537\n",
      "starwars    3409\n",
      "Name: subreddit_name, dtype: int64\n",
      "\n",
      "Value counts of blank posts by subreddit:\n",
      " starwars    1729\n",
      "startrek     630\n",
      "Name: subreddit_name, dtype: int64\n",
      "\n",
      "Blank Keys: ['starwars', 'startrek']\n",
      " \n",
      "*************************\n",
      "Star Wars percent blank submissions: 50.71868583162218\n",
      "====================\n",
      "Star Trek percent blank submissions: 17.8117048346056\n"
     ]
    }
   ],
   "source": [
    "print('Value counts by subreddit:\\n',df['subreddit_name'].value_counts())\n",
    "print('')\n",
    "print('Value counts of blank posts by subreddit:\\n',df[df['selftext'] == '']['subreddit_name'].value_counts())\n",
    "\n",
    "blank_values = df[df['selftext'] == '']['subreddit_name'].value_counts().tolist()\n",
    "blank_keys = df[df['selftext'] == '']['subreddit_name'].value_counts().keys().tolist()\n",
    "print('')\n",
    "print('Blank Keys:', blank_keys)\n",
    "\n",
    "sw_percent_blank = blank_values[0]/len(df[df['subreddit_name'] == 'starwars'])*100\n",
    "st_percent_blank = blank_values[1]/len(df[df['subreddit_name'] == 'startrek'])*100\n",
    "print(' ')\n",
    "print('*'*25)\n",
    "print('Star Wars percent blank submissions:', sw_percent_blank)\n",
    "print('='*20)\n",
    "print('Star Trek percent blank submissions:', st_percent_blank)"
   ]
  },
  {
   "cell_type": "code",
   "execution_count": 130,
   "id": "2a5ba85e-42eb-4907-8c90-72f612552f89",
   "metadata": {
    "tags": []
   },
   "outputs": [
    {
     "data": {
      "image/png": "[encoded data removed]",
      "text/plain": [
       "<Figure size 432x288 with 1 Axes>"
      ]
     },
     "metadata": {
      "needs_background": "light"
     },
     "output_type": "display_data"
    }
   ],
   "source": [
    "plt.title('Percent of Blank Submissions by subreddit,\\n \"startrek\" and \"StarWars\"')\n",
    "plt.xlabel('Subreddit')\n",
    "plt.ylabel('Percent Blank Submissions')\n",
    "plt.ylim(0,55)\n",
    "plt.bar(['/r/startrek', '/r/StarWars'], [st_percent_blank, sw_percent_blank], color = 'dodgerblue')\n",
    "\n",
    "plt.text(1, sw_percent_blank+1, str(round(sw_percent_blank, 2))+'%', ha = 'center')\n",
    "plt.text(0, st_percent_blank+1, str(round(st_percent_blank, 2))+'%', ha = 'center')\n",
    "\n",
    "plt.tight_layout()\n",
    "plt.savefig('images/percent_blank_posts.png');\n"
   ]
  },
  {
   "cell_type": "markdown",
   "id": "b93296bd-921c-457c-b749-12681b50719e",
   "metadata": {},
   "source": [
    "Because of the high percentage of blank posts, consisting just of a title, in the StarWars subreddit, I'm going to include the titles in my model building. It seems to be an important part of how StarWars subredditors communicate with each other."
   ]
  },
  {
   "cell_type": "markdown",
   "id": "b181fa1d-4346-4b6a-b0d8-2cc756bd7f5d",
   "metadata": {
    "tags": []
   },
   "source": [
    "# `'[removed]'`\n",
    "\n",
    "Posts are removed from subreddits because they violate subreddit policies. Did either subreddit have a higher rate of removal? Were there any patterns in what words appeared in removed posts across both subreddits? Within each?\n",
    "\n",
    "IMPORTANT NOTE ON METHODOLOGY: It's possible that some portion of the removed posts were removed because they were duplicates of other posts. [The rules for the StarWars subreddit](https://www.reddit.com/r/StarWars/wiki/rules) are explicit that you cannot repost material. However, as I'm exploring the language used in these posts, I opted to remove the repeat titles. Admittedly, that means that some of the titles that are analyzed may point towards posts that were removed for repetition, *not* for the content itself, but that's a possibility I decided is preferable to overcounting the words in the repeated titles. On the day that I drew my data, there were 53 repeated Star Trek titles and 83 repeated Star Wars titles. These represent a relatively small number of data points.\n",
    "\n",
    "## Rates of Removal\n",
    "\n",
    "Observations:\n",
    "\n",
    "There are 3584 Star Trek posts in the data set, of which 39.29% are \"[removed]\"\n",
    "There are 3490 Star Wars posts in the data set, of which 16.48% are \"[removed]\"\n",
    "Star Trek posts are removed at a higher rate.\n",
    "\n",
    "![Removal Rates Bar Chart](images/removal_rates.png \"removal rates for 'startrek' and 'StarWars' subreddits\")\n",
    "\n",
    "NOTE: I referenced [this site](https://www.digitalocean.com/community/tutorials/markdown-markdown-images) and [this site](https://marinegeo.github.io/2018-08-10-adding-images-markdown/) to learn how to add images to markdown files.\n",
    "\n",
    "**I believe, instead, that the discrepancy in rates of removal results from differences in the two subreddits rules.**\n",
    "\n",
    "I checked [the rules for the startrek subreddit](https://www.reddit.com/r/startrek/wiki/guidelines) and [the rules for the StarWars subreddit](https://www.reddit.com/r/StarWars/wiki/rules). Interestingly, the Star Wars rules were harder to find while the Star Trek ones were posted at the top of the page.\n",
    "\n",
    "Subjectively, the Star Trek rules seem more attuned to interpersonal relationships (the first four are 'Be constructive', 'Be welcoming', 'Be honest', and 'Be nice'). None of the overall Star Wars rules speak about interpersonal behavior, though within the rules about 'comments' there is a rule about respecting fellow redditors, which links to [this page](https://www.reddit.com/r/StarWars/comments/cq4yv9/respecting_fellow_redditors_civility_bans_and_you/). This suggests that whether or not Star Trek fans are more likely to go after a show they don't like or break rules than Star Wars fans are, the moderation rules/moderators of the 'startrek' subreddit go further in enforcing some norms than those of the 'StarWars' subreddit.\n",
    "\n",
    "## Word Usage in Removed Post Titles Compared with Word Usage in Non-Removed Post Titles\n",
    "\n",
    "To examine the most frequently appearing words in the titles of these posts, I vectorized them. I tried to remove only value neutral words. For example, the English stopwords list includes 'not', and it seemed plausible that negative posts may be more likely to be removed, so I wanted to be able to examine those words.\n",
    "\n",
    "I then compared the most frequently appearing words that appeared in the removed posts to those in all of the posts to see if there were any words that appeared in the former, but not in the latter:\n",
    "\n",
    "-----\n",
    "\n",
    "|List|Words That Appear In All 'Removed' List But Not In 'Not Removed' List, Neutral Stopwords|\n",
    "|---|---|\n",
    "|Top 10| `'picard'`|\n",
    "|Top 25| `'snw', 'so', 'spoilers'`|\n",
    "|Top 50| `'question', 'watch', 'tng', 'time', 'enterprise', 'should', 'some', 'want', 'discovery'`|\n",
    "\n",
    "-----\n",
    "\n",
    "|List|Words That Appear In Star Trek 'Removed' List But Not In 'Not Removed' List, Neutral Stopwords|\n",
    "|---|---|\n",
    "|Top 10| `<NO WORDs>`|\n",
    "|Top 25| `'has', 'time', 'can'`|\n",
    "|Top 50| `'anyone', 'some', 'love', 'had', 'ever'`|\n",
    "\n",
    "-----\n",
    "\n",
    "|List|Words That Appear In Star Wars 'Removed' List But Not In All Posts List, Neutral Stopwords|\n",
    "|---|---|\n",
    "|Top 10| `'series', 'spoilers'`|\n",
    "|Top 25| `'spoilers', 'should', 'show', 'finale', 'watch', 'but'`|\n",
    "|Top 50| `'should', 'watch', 'order', 'question', 'reva', 'ep', 'want', 'best', 'season', 'sith', 'never', 'no'`|\n",
    "\n",
    "-----\n",
    "\n",
    "The only 'negative' word that appeared is 'no', the last word in the Star Wars 'Removed' versus 'Not Removed' top 50 list.\n",
    "\n",
    "I found the appearance of Star Trek titles (\"Picard\", \"Enterprise\", and \"Discovery\"), potentially interesting. Were Star Trek fans flaming these shows and getting removed for doing so in a way that was in violation of the subreddit's moderator policies? Instead, it appears that this was simply a product of the higher rate at which Star Trek shows are removed. No titles appear in the Star Trek exclusive comparisons.\n",
    "\n",
    "The Star Wars discrepancies were a little more interesting:\n",
    "\n",
    "Firstly, the appearance of 'spoilers' among the words appearing more frequently in removed posts than all posts at both the Top 10 and Top 25 level suggests that posting about \"spoilers\" leads to more frequent removal. It's also interesting that [Reva](https://starwars.fandom.com/wiki/Reva), a specific character appears in these lists,  as does ['Sith'](https://starwars.fandom.com/wiki/Sith?so=search), a group of characters, whereas there are no characters in the Star Trek list. This *might* suggest that Star Wars fans are more likely to discuss specific characters in a way that gets them removed. That said, these are both references that are relevant to a new show (['Obi-Wan Kenobi'](https://en.wikipedia.org/wiki/Obi-Wan_Kenobi_(TV_series), with Reva being a character on the show, it seems plausible that they're simply being discussed more frequently in posts that include spoilers and are being removed for their spoilers, not because of inflammatory discussion of characters.\n",
    "\n",
    "I wanted to see what happened when I used the 'english' stopwords list. The results here provided more interesting details.\n",
    "\n",
    "-----\n",
    "\n",
    "|List|Words That Appear In All 'Removed' List But Not In 'Not Removed' List, 'english' Stopwords|\n",
    "|---|---|\n",
    "|Top 10| `'strange', 'worlds'`|\n",
    "|Top 25| `'question', 'watch', 'tng', 'time', 'enterprise'`|\n",
    "|Top 50| `'want', 'character', 'ds9', 'voyager', 'tos', 'order', 'st', 'borg', 'thoughts', 'help', 'episodes', 'make'`|\n",
    "\n",
    "-----\n",
    "\n",
    "|List|Words That Appear In Star Trek 'Removed' List But Not In 'Not Removed' List, 'english' Stopwords|\n",
    "|---|---|\n",
    "|Top 10| `<NO WORDs>`|\n",
    "|Top 25| `'question', 'voyager', 'watch'`|\n",
    "|Top 50| `'character', 'want', 'good', 'characters', 'favorite', 'people', 'crew', 'help', 'timeline', 'make', 'better', 'future', 'canon'`|\n",
    "\n",
    "-----\n",
    "\n",
    "|List|Words That Appear In Star Wars 'Removed' List But Not In 'Not Removed' Posts List, 'english' Stopwords|\n",
    "|---|---|\n",
    "|Top 10| `'series', 'spoilers'`|\n",
    "|Top 25| `'watch', 'order', 'question', 'reva', 'ep', 'want'`|\n",
    "|Top 50| `'ep', 'want', 'sith', 'hate', 'starwars', 'thoughts', 'didn', 'start', 'fan', 'seen', 'discussion'`|\n",
    "\n",
    "-----\n",
    "\n",
    "There seem to be similar patterns in the appearance of Star Trek proper names in the 'All Removed Posts' lists, appearing to correlate to the higher rate of removal on /r/startrek. \n",
    "\n",
    "As a Star Trek fan, it's interesting to see the appearance of 'canon' in the removed posts within the Star Trek analysis. Recent shows have, in the minds of many fans, deviated from 'canon', and some fans have been quite upset by it. It seems plausible that posts about 'canon' may be complaints about violations of 'canon' that have crossed a line into violations of the moderation policies. I find the top 50 word list as awhole very interesting: this is admittedly subjective, but the words seem to reflect poster's desires and a lot of discussion of characters/people. The order of the list in two cases, 'want' 'good' 'characters' and 'make' 'better' is perhaps ironic. Could it be that people are reflecting these desires in ways that are violating the rules for the subreddit?\n",
    "\n",
    "The Star Wars words are also similar, though it's interesting to see the word 'hate' in particular showing up. Otherwise, similar patterns of words that seem plausibly related to spoilers appear.\n",
    "\n",
    "The most notable two words in the set are 'ep' and 'want'. They are the only words that appear in successive lists across the whole analysis of these words: in other words, every other word that's in, for example, the top 25 list in any other set must appear in the top 50 of the non-removed posts, thus pushing it out of the discrepancy list when looking at all 50 words in both lists. For example, because 'order' is in the top 25 for removed Star Wars posts but not for the non-removed Star wars posts, it appears in our Top 25 list. It does not appear in the Top 50 list, however, which means that it must appear in the Top 50 list for the non-removed Star Wars posts, and thus doesn't show up as a discrepancy when looking at all 50 words from both lists.\n",
    "\n",
    "Particularly because 'ep' is so specific, an abbreviation for 'episode', presumably, I wonder if it's possible that there's a single user or group of users who are inclined to use that abbreviation that also post things that get removed at a higher rate.\n",
    "\n",
    "There's only one word that appears across all posts that's in both Star Trek and Star Wars: 'want'. This suggests that posts that reflect what a subredditor 'wants' is more likely to violate a subreddit policy regardless of whether it's the Star Trek or Star Wars subreddit. Is it possible that this could be true on subreddits for other entertainment properties? A potential avenue for future exploration.\n",
    "\n",
    "I started to break the lists down to top 10, 11-25, and 26-50, but realized that would not likely be revelatory: 'discovery' ('Star Trek: Discovery') appears in the 26-50 most used words for removed posts, but not for all posts. However, it doesn't appear when comparing the top 50, which suggests that 'discovery' actually appears higher in the non-removed posts than in the removed posts.\n",
    "\n",
    "An examination of the top 10, 25, and 50 words in all posts verifies this. These lists don't reveal any surprises, though they do provide a list to work from for removing potential 'proper name' stop words if we want to examine the language that's not proper names from either show to see what non-show-specific words appear most frequently\n",
    "\n",
    "A possible avenue for modeling is to see it it's possible to predict which posts were removed based on the title. I don't think I'll undertake that on this project, but wanted to flag it."
   ]
  },
  {
   "cell_type": "markdown",
   "id": "9d4a2282-6e68-40c5-805f-e7a729af8568",
   "metadata": {
    "tags": []
   },
   "source": [
    "[This stackoverflow answer](https://stackoverflow.com/a/48115401), which I've referenced before, helped me to understand how to pull out the keys and values from the value counts for the following work."
   ]
  },
  {
   "cell_type": "code",
   "execution_count": 131,
   "id": "215b190e-eca2-4c2c-87ee-7ab206e87315",
   "metadata": {
    "tags": []
   },
   "outputs": [
    {
     "name": "stdout",
     "output_type": "stream",
     "text": [
      "1936\n",
      "\n",
      "startrek    1394\n",
      "starwars     542\n",
      "Name: subreddit_name, dtype: int64\n",
      "\n",
      "Check that count totals are equal to thet total number of \"[removed]\" posts, 1936: 1394 + 542 = 1936\n",
      "\n",
      "There are 3537 Star Trek posts in the data set, of which 39.41% are \"[removed]\"\n",
      "There are 3409 Star Wars posts in the data set, of which 15.9% are \"[removed]\"\n"
     ]
    }
   ],
   "source": [
    "print(len(df[df['selftext'] == '[removed]']))\n",
    "print('')\n",
    "print(df[df['selftext'] == '[removed]']['subreddit_name'].value_counts())\n",
    "print('')\n",
    "values = df[df['selftext'] == '[removed]']['subreddit_name'].value_counts().keys().tolist()\n",
    "counts = df[df['selftext'] == '[removed]']['subreddit_name'].value_counts().tolist()\n",
    "\n",
    "print(f'Check that count totals are equal to thet total number of \"[removed]\" posts, {len(df[df[\"selftext\"] == \"[removed]\"])}: {counts[0]} + {counts[1]} = {counts[0]+counts[1]}')\n",
    "print('')\n",
    "print(f'There are {len(df[df[\"subreddit_name\"] == \"startrek\"])} Star Trek posts in the data set, of which {round((counts[0]/len(df[df[\"subreddit_name\"] == \"startrek\"]))*100, 2)}% are \"[removed]\"')\n",
    "print(f'There are {len(df[df[\"subreddit_name\"] == \"starwars\"])} Star Wars posts in the data set, of which {round((counts[1]/len(df[df[\"subreddit_name\"] == \"starwars\"]))*100, 2)}% are \"[removed]\"')\n"
   ]
  },
  {
   "cell_type": "markdown",
   "id": "084085c8-7041-4e1e-b0fd-d7a800bb826c",
   "metadata": {
    "tags": []
   },
   "source": [
    "To help me add labels to the visualization below, I found [this site](https://www.geeksforgeeks.org/adding-value-labels-on-a-matplotlib-bar-chart/), which led me to the `plt.text()` function. I then looked up the documentation to better understand how to use it to get the labels I wanted."
   ]
  },
  {
   "cell_type": "code",
   "execution_count": 132,
   "id": "420ed104-8253-4dd4-a3ed-1949d9846de1",
   "metadata": {
    "tags": []
   },
   "outputs": [
    {
     "data": {
      "image/png": "[encoded data removed]",
      "text/plain": [
       "<Figure size 432x288 with 1 Axes>"
      ]
     },
     "metadata": {
      "needs_background": "light"
     },
     "output_type": "display_data"
    }
   ],
   "source": [
    "removal_rates = {\n",
    "    'Star Trek': round((counts[0]/len(df[df[\"subreddit_name\"] == \"startrek\"]))*100, 2),\n",
    "    'Star Wars': round((counts[1]/len(df[df[\"subreddit_name\"] == \"starwars\"]))*100, 2)\n",
    "}\n",
    "plt.title('Rates Posts are Removed,\\nStar Trek and Star Wars Subreddits')\n",
    "plt.xlabel('Subreddits')\n",
    "plt.ylabel('Removal Rate, % of total posts')\n",
    "\n",
    "plt.ylim(0, 45)\n",
    "plt.bar(['/r/startrek', '/r/StarWars'], removal_rates.values(), color = 'dodgerblue')\n",
    "\n",
    "plt.text(0, removal_rates['Star Trek']+1, str(removal_rates['Star Trek'])+'%', ha = 'center')\n",
    "plt.text(1, removal_rates['Star Wars']+1, str(removal_rates['Star Wars'])+'%', ha = 'center')\n",
    "\n",
    "plt.tight_layout()\n",
    "plt.savefig('images/removal_rates.png');"
   ]
  },
  {
   "cell_type": "markdown",
   "id": "4c708aaf-aeed-428e-896c-92493a8000f6",
   "metadata": {},
   "source": [
    "## \"Neutral\" Stop Words\n",
    "\n",
    "I referenced NLP 1, Lesson 5.01 to find the list of English stopwords, taken from nltk.corpus, although further work led me to believe this is not the same list as the 'english' stopwords in sklearn.\n",
    "\n",
    "From the nltk.corpus list, I eliminated verbs (because I wanted \"isn't\" it didn't seem appropriate to eliminate \"is\"), clearly negative or positive words (e.g. 'no'), and gendered pronouns to see what, if any patterns emerged among those words in the text. I've saved more details in another notebook if you'd like to see it, but as it consisted of copying and pasting, then parsing through the nltk.corpus list (pulled up with `print(sorted((stopwords).words('english')))`), it didn't seem a good use of space here."
   ]
  },
  {
   "cell_type": "code",
   "execution_count": 133,
   "id": "8b4a6cf7-8059-4ce6-9954-f78cd8f728db",
   "metadata": {
    "tags": []
   },
   "outputs": [],
   "source": [
    "neutral_stopwords = ['a', 'about', 'above', 'after', 'again', 'all', 'an', 'any', 'as', 'at', 'because', 'before', 'below',\n",
    "                     'between', 'both', 'by', 'd', 'during', 'each', 'for', 'from',  'here',  'how', 'i', 'if', 'in', 'into', 'it', \"it's\", 'its', 'itself',\n",
    "                     'll', 'm', 'ma', 'me','my', 'myself', 'now', 'o', 'of', 'once', 'other', 'our', 'ours', 'ourselves', \n",
    "                     'own', 're', 's',   'such', 't', 'than', 'that', \"that'll\", 'the', 'their',\n",
    "                     'theirs', 'them', 'themselves', 'then', 'there', 'these', 'they', 'this', 'those', 'through', 'to', \n",
    "                      've', 'we', 'what', 'when', 'where', 'which', 'while', 'who', 'whom', 'why', 'with', \n",
    "                     'y', 'you', \"you'd\", \"you'll\", \"you're\", \"you've\", 'your', 'yours', 'yourself', 'yourselves']"
   ]
  },
  {
   "cell_type": "markdown",
   "id": "dee257a6-89bc-48f5-91f7-136d26d18daa",
   "metadata": {
    "tags": []
   },
   "source": [
    "I referenced the NLP Lab 5.02 on EDA for help with getting the following code right."
   ]
  },
  {
   "cell_type": "markdown",
   "id": "5fbc8151-bc3e-4f13-9960-6068058bd36a",
   "metadata": {},
   "source": [
    "## Removed Posts Versus Not Removed Post Titles - \"Neutral\" Stop Words"
   ]
  },
  {
   "cell_type": "code",
   "execution_count": 134,
   "id": "695f818f-3247-49c8-a37f-d0c85d2b8d08",
   "metadata": {
    "tags": []
   },
   "outputs": [
    {
     "name": "stdout",
     "output_type": "stream",
     "text": [
      "Vectorized shape: (6946, 7908)\n",
      "Vectorized type: <class 'scipy.sparse.csr.csr_matrix'>\n",
      "=========================\n",
      "Vectorized dataframe shape: (6946, 7908)\n",
      "Vectorized dataframe type: <class 'pandas.core.frame.DataFrame'>\n",
      "=========================\n",
      "Vectorized dataframe with text and subreddit labels, shape: (6946, 7910)\n",
      "    selftext subreddit_name  00  000  01  010  01x06  02  02png  03  ...  \\\n",
      "0  [removed]       startrek   0    0   0    0      0   0      0   0  ...   \n",
      "\n",
      "   ليلة  مهذبة  نسخ  وليلة  एक  लचस  षक  ดท  ทางเข  าส  \n",
      "0     0      0    0      0   0    0   0   0      0   0  \n",
      "\n",
      "[1 rows x 7910 columns]\n",
      "=========================\n",
      "Number of removed posts in new dataframe: 1936\n",
      "Sanity check. Number of removed posts from original dataframe: 1936\n",
      "\n",
      "\n",
      "*************************\n",
      "\n",
      "\n",
      "EXAMINING ALL POSTS\n",
      "\n",
      "The following words appear in the top 10 most used words in removed posts but not in the top 10 words for not-removed posts ['picard']\n",
      "=========================\n",
      "The following words appear in the top 25 most used words in removed posts but not in the top 25 words for not-removed posts ['snw', 'so', 'spoilers']\n",
      "=========================\n",
      "The following words appear in the top 50 most used words in removed posts but not in the top 50 words for not-removed posts ['question', 'watch', 'tng', 'time', 'enterprise', 'should', 'some', 'want', 'discovery']\n",
      "\n",
      "\n",
      "*************************\n",
      "\n",
      "\n",
      "EXAMINING STARTREK POSTS\n",
      "\n",
      "The following words appear in the top 10 most used words in removed \"startrek\"\n",
      " posts but not in the top 10 words for not-removed \"startrek\" posts []\n",
      "=========================\n",
      "The following words appear in the top 25 most used words in removed \"startrek\"\n",
      " posts but not in the top 25 words for not-removed \"startrek\" posts ['has', 'time', 'can']\n",
      "=========================\n",
      "The following words appear in the top 50 most used words in removed \"startrek\" posts but not in the top 50 words for not-removed \"startrek\" posts ['anyone', 'some', 'love', 'had', 'ever']\n",
      "\n",
      "\n",
      "*************************\n",
      "\n",
      "\n",
      "EXAMINING STARWARS POSTS\n",
      "\n",
      "The following words appear in the top 10 most used words in removed \"StarWars\"\n",
      " posts but not in the top 10 words for not-removed \"StarWars\" posts ['series', 'spoilers']\n",
      "====================\n",
      "The following words appear in the top 25 most used words in removed \"StarWars\"\n",
      " posts but not in the top 25 words for not-removed \"StarWars\" posts ['spoilers', 'should', 'show', 'finale', 'watch', 'but']\n",
      "====================\n",
      "The following words appear in the top 50 most used words in removed \"StarWars\" posts but not in the top 50 words for not-removed \"StarWars\" posts ['should', 'watch', 'order', 'question', 'reva', 'ep', 'want', 'best', 'season', 'sith', 'never', 'no']\n"
     ]
    }
   ],
   "source": [
    "cvec = CountVectorizer(stop_words = neutral_stopwords)\n",
    "cvec.fit(df['title'])\n",
    "vectorized = cvec.transform(df['title'])\n",
    "print('Vectorized shape:', vectorized.shape)\n",
    "print('Vectorized type:', type(vectorized))\n",
    "print('='*25)\n",
    "\n",
    "vectorized = pd.DataFrame(vectorized.todense(), columns = cvec.get_feature_names_out())\n",
    "print('Vectorized dataframe shape:', vectorized.shape)\n",
    "print('Vectorized dataframe type:', type(vectorized))\n",
    "print('='*25)\n",
    "\n",
    "with_removed_vectorized = pd.concat([df['selftext'], df['subreddit_name'], vectorized], axis = 1)\n",
    "print('Vectorized dataframe with text and subreddit labels, shape:', with_removed_vectorized.shape)\n",
    "print(with_removed_vectorized.head(1))\n",
    "print(\"=\"*25)\n",
    "\n",
    "print('Number of removed posts in new dataframe:', len(with_removed_vectorized[with_removed_vectorized[\"selftext\"] == \"[removed]\"]))\n",
    "print('Sanity check. Number of removed posts from original dataframe:', len(df[df[\"selftext\"] == \"[removed]\"]))\n",
    "\n",
    "print('')\n",
    "print('')\n",
    "print('*'*25)\n",
    "print('')\n",
    "print('')\n",
    "print('EXAMINING ALL POSTS')\n",
    "print('')\n",
    "\n",
    "top_10_removed = list(pd.Series(with_removed_vectorized[with_removed_vectorized['selftext'] =='[removed]'].drop(columns = ['selftext', 'subreddit_name'])\\\n",
    "                           .sum().sort_values(ascending = False)).reset_index()[:10]['index'])\n",
    "top_10_not_removed = list(pd.Series(with_removed_vectorized[with_removed_vectorized['selftext'] !='[removed]'].drop(columns = ['selftext', 'subreddit_name'])\\\n",
    "                           .sum().sort_values(ascending = False)).reset_index()[:10]['index'])\n",
    "\n",
    "print(f'The following words appear in the top 10 most used words in removed posts but not in the top 10 words for not-removed posts {[word for word in top_10_removed if word not in top_10_not_removed]}')\n",
    "print('='*25)\n",
    "\n",
    "top_25_removed = list(pd.Series(with_removed_vectorized[with_removed_vectorized['selftext'] =='[removed]'].drop(columns = ['selftext', 'subreddit_name'])\\\n",
    "                           .sum().sort_values(ascending = False)).reset_index()[:25]['index'])\n",
    "top_25_not_removed = list(pd.Series(with_removed_vectorized[with_removed_vectorized['selftext'] !='[removed]'].drop(columns = ['selftext', 'subreddit_name'])\\\n",
    "                           .sum().sort_values(ascending = False)).reset_index()[:25]['index'])\n",
    "\n",
    "print(f'The following words appear in the top 25 most used words in removed posts but not in the top 25 words for not-removed posts {[word for word in top_25_removed if word not in top_25_not_removed]}')\n",
    "print('='*25)\n",
    "\n",
    "top_50_removed = list(pd.Series(with_removed_vectorized[with_removed_vectorized['selftext'] =='[removed]'].drop(columns = ['selftext', 'subreddit_name'])\\\n",
    "                           .sum().sort_values(ascending = False)).reset_index()[:50]['index'])\n",
    "top_50_not_removed = list(pd.Series(with_removed_vectorized[with_removed_vectorized['selftext'] !='[removed]'].drop(columns = ['selftext', 'subreddit_name'])\\\n",
    "                           .sum().sort_values(ascending = False)).reset_index()[:50]['index'])\n",
    "\n",
    "print(f'The following words appear in the top 50 most used words in removed posts but not in the top 50 words for not-removed posts {[word for word in top_50_removed if word not in top_50_not_removed]}')\n",
    "\n",
    "print('')\n",
    "print('')\n",
    "print('*'*25)\n",
    "print('')\n",
    "print('')\n",
    "print('EXAMINING STARTREK POSTS')\n",
    "print('')\n",
    "\n",
    "top_10_removed_st = list(pd.Series(with_removed_vectorized[(with_removed_vectorized['selftext'] =='[removed]') & (with_removed_vectorized['subreddit_name'] == 'startrek')]\\\n",
    "                                   .drop(columns = ['selftext', 'subreddit_name']).sum().sort_values(ascending = False)).reset_index()[:10]['index'])\n",
    "top_10_not_removed_st = list(pd.Series(with_removed_vectorized[(with_removed_vectorized['selftext'] !='[removed]') & (with_removed_vectorized['subreddit_name'] == 'startrek')]\\\n",
    "                                   .drop(columns = ['selftext', 'subreddit_name']).sum().sort_values(ascending = False)).reset_index()[:10]['index'])\n",
    "\n",
    "print(f'The following words appear in the top 10 most used words in removed \"startrek\"\\n posts but not in the top 10 words for not-removed \"startrek\" posts {[word for word in top_10_removed_st if word not in top_10_not_removed_st]}')\n",
    "print('='*25)\n",
    "\n",
    "top_25_removed_st = list(pd.Series(with_removed_vectorized[(with_removed_vectorized['selftext'] =='[removed]') & (with_removed_vectorized['subreddit_name'] == 'startrek')]\\\n",
    "                         .drop(columns = ['selftext', 'subreddit_name']).sum().sort_values(ascending = False)).reset_index()[:25]['index'])\n",
    "top_25_not_removed_st = list(pd.Series(with_removed_vectorized[(with_removed_vectorized['selftext'] !='[removed]') & (with_removed_vectorized['subreddit_name'] == 'startrek')]\\\n",
    "                         .drop(columns = ['selftext', 'subreddit_name']).sum().sort_values(ascending = False)).reset_index()[:25]['index'])\n",
    "\n",
    "print(f'The following words appear in the top 25 most used words in removed \"startrek\"\\n posts but not in the top 25 words for not-removed \"startrek\" posts {[word for word in top_25_removed_st if word not in top_25_not_removed_st]}')\n",
    "print('='*25)\n",
    "\n",
    "top_50_removed_st = list(pd.Series(with_removed_vectorized[(with_removed_vectorized['selftext'] =='[removed]') & (with_removed_vectorized['subreddit_name'] == 'startrek')]\\\n",
    "                                   .drop(columns = ['selftext', 'subreddit_name']).sum().sort_values(ascending = False)).reset_index()[:50]['index'])\n",
    "top_50_not_removed_st = list(pd.Series(with_removed_vectorized[(with_removed_vectorized['selftext'] !='[removed]') & (with_removed_vectorized['subreddit_name'] == 'startrek')]\\\n",
    "                                   .drop(columns = ['selftext', 'subreddit_name']).sum().sort_values(ascending = False)).reset_index()[:50]['index'])\n",
    "\n",
    "print(f'The following words appear in the top 50 most used words in removed \"startrek\" posts but not in the top 50 words for not-removed \"startrek\" posts {[word for word in top_50_removed_st if word not in top_50_not_removed_st]}')\n",
    "\n",
    "print('')\n",
    "print('')\n",
    "print('*'*25)\n",
    "print('')\n",
    "print('')\n",
    "print('EXAMINING STARWARS POSTS')\n",
    "print('')\n",
    "\n",
    "top_10_removed_sw = list(pd.Series(with_removed_vectorized[(with_removed_vectorized['selftext'] =='[removed]') & (with_removed_vectorized['subreddit_name'] == 'starwars')]\\\n",
    "                                   .drop(columns = ['selftext', 'subreddit_name']).sum().sort_values(ascending = False)).reset_index()[:10]['index'])\n",
    "top_10_not_removed_sw = list(pd.Series(with_removed_vectorized[(with_removed_vectorized['selftext'] !='[removed]') & (with_removed_vectorized['subreddit_name'] == 'starwars')]\\\n",
    "                                   .drop(columns = ['selftext', 'subreddit_name']).sum().sort_values(ascending = False)).reset_index()[:10]['index'])\n",
    "\n",
    "print(f'The following words appear in the top 10 most used words in removed \"StarWars\"\\n posts but not in the top 10 words for not-removed \"StarWars\" posts {[word for word in top_10_removed_sw if word not in top_10_not_removed_sw]}')\n",
    "print('='*20)\n",
    "\n",
    "top_25_removed_sw = list(pd.Series(with_removed_vectorized[(with_removed_vectorized['selftext'] =='[removed]') & (with_removed_vectorized['subreddit_name'] == 'starwars')]\\\n",
    "                         .drop(columns = ['selftext', 'subreddit_name']).sum().sort_values(ascending = False)).reset_index()[:25]['index'])\n",
    "top_25_not_removed_sw = list(pd.Series(with_removed_vectorized[(with_removed_vectorized['selftext'] !='[removed]') & (with_removed_vectorized['subreddit_name'] == 'starwars')]\\\n",
    "                         .drop(columns = ['selftext', 'subreddit_name']).sum().sort_values(ascending = False)).reset_index()[:25]['index'])\n",
    "\n",
    "print(f'The following words appear in the top 25 most used words in removed \"StarWars\"\\n posts but not in the top 25 words for not-removed \"StarWars\" posts {[word for word in top_25_removed_sw if word not in top_25_not_removed_sw]}')\n",
    "print('='*20)\n",
    "\n",
    "top_50_removed_sw = list(pd.Series(with_removed_vectorized[(with_removed_vectorized['selftext'] =='[removed]') & (with_removed_vectorized['subreddit_name'] == 'starwars')]\\\n",
    "                                   .drop(columns = ['selftext', 'subreddit_name']).sum().sort_values(ascending = False)).reset_index()[:50]['index'])\n",
    "top_50_not_removed_sw = list(pd.Series(with_removed_vectorized[(with_removed_vectorized['selftext'] !='[removed]') & (with_removed_vectorized['subreddit_name'] == 'starwars')]\\\n",
    "                                   .drop(columns = ['selftext', 'subreddit_name']).sum().sort_values(ascending = False)).reset_index()[:50]['index'])\n",
    "\n",
    "print(f'The following words appear in the top 50 most used words in removed \"StarWars\" posts but not in the top 50 words for not-removed \"StarWars\" posts {[word for word in top_50_removed_sw if word not in top_50_not_removed_sw]}')\n"
   ]
  },
  {
   "cell_type": "markdown",
   "id": "319237a2-8340-4035-a546-cac731fb6a20",
   "metadata": {},
   "source": [
    "### NOTE: Examining Word Counts Across Posts with 'Neutral' Stopwords\n",
    "\n",
    "I examined Top 10, 25, and 50 words across all posts, 'startrek'-specific posts, and 'starwars'-specific posts, regardless of whether or not they were 'removed', but found the lists not insightful when compared with the lists below, with 'english' stopwords removed. I've saved the work if you'd like to see it, but for the sake of space decided not to include it here."
   ]
  },
  {
   "cell_type": "markdown",
   "id": "5cf86acc-5038-48c2-acd9-6c20964bb023",
   "metadata": {},
   "source": [
    "-----"
   ]
  },
  {
   "cell_type": "markdown",
   "id": "6fc7e0d9-4af0-4cab-9a7f-76d6b27b5089",
   "metadata": {},
   "source": [
    "## Removed Posts Versus Not Removed Post Titles - \"english\" Stopwords\n",
    "Here I repeated the exploration of the differences between removed and not-removec posts, this time with the sklearn 'english' stopwords removed."
   ]
  },
  {
   "cell_type": "code",
   "execution_count": 135,
   "id": "3fe1cba9-c06b-4c63-a2ec-74dccf6925f7",
   "metadata": {
    "tags": []
   },
   "outputs": [
    {
     "name": "stdout",
     "output_type": "stream",
     "text": [
      "Vectorized shape: (6946, 7719)\n",
      "Vectorized type: <class 'scipy.sparse.csr.csr_matrix'>\n",
      "=========================\n",
      "Vectorized dataframe shape: (6946, 7719)\n",
      "Vectorized dataframe type: <class 'pandas.core.frame.DataFrame'>\n",
      "=========================\n",
      "Vectorized dataframe with text and subreddit labels, shape: (6946, 7721)\n",
      "    selftext subreddit_name  00  000  01  010  01x06  02  02png  03  ...  \\\n",
      "0  [removed]       startrek   0    0   0    0      0   0      0   0  ...   \n",
      "\n",
      "   ليلة  مهذبة  نسخ  وليلة  एक  लचस  षक  ดท  ทางเข  าส  \n",
      "0     0      0    0      0   0    0   0   0      0   0  \n",
      "\n",
      "[1 rows x 7721 columns]\n",
      "=========================\n",
      "Number of removed posts in new dataframe: 1936\n",
      "Sanity check. Number of removed posts from original dataframe: 1936\n",
      "\n",
      "\n",
      "*************************\n",
      "\n",
      "\n",
      "EXAMINING ALL POSTS\n",
      "\n",
      "The following words appear in the top 10 most used words in removed posts but not in the top 10 words for not-removed posts ['strange', 'worlds']\n",
      "=========================\n",
      "The following words appear in the top 25 most used words in removed posts but not in the top 25 words for not-removed posts ['question', 'watch', 'tng', 'time', 'enterprise']\n",
      "=========================\n",
      "The following words appear in the top 50 most used words in removed posts but not in the top 50 words for not-removed posts ['want', 'character', 'ds9', 'voyager', 'tos', 'order', 'st', 'borg', 'thoughts', 'help', 'episodes', 'make']\n",
      "\n",
      "\n",
      "*************************\n",
      "\n",
      "\n",
      "EXAMINING STARTREK POSTS\n",
      "\n",
      "The following words appear in the top 10 most used words in removed \"startrek\"\n",
      " posts but not in the top 10 words for not-removed \"startrek\" posts []\n",
      "=========================\n",
      "The following words appear in the top 25 most used words in removed \"startrek\"\n",
      " posts but not in the top 25 words for not-removed \"startrek\" posts ['question', 'voyager', 'watch']\n",
      "=========================\n",
      "The following words appear in the top 50 most used words in removed \"startrek\" posts but not in the top 50 words for not-removed \"startrek\" posts ['character', 'want', 'good', 'characters', 'favorite', 'people', 'crew', 'help', 'timeline', 'make', 'better', 'future', 'canon']\n",
      "\n",
      "\n",
      "*************************\n",
      "\n",
      "\n",
      "EXAMINING STARWARS POSTS\n",
      "\n",
      "The following words appear in the top 10 most used words in removed \"StarWars\"\n",
      " posts but not in the top 10 words for not-removed \"StarWars\" posts ['series', 'spoilers']\n",
      "====================\n",
      "The following words appear in the top 25 most used words in removed \"StarWars\"\n",
      " posts but not in the top 25 words for not-removed \"StarWars\" posts ['watch', 'order', 'question', 'reva', 'ep', 'want']\n",
      "====================\n",
      "The following words appear in the top 50 most used words in removed \"StarWars\" posts but not in the top 50 words for not-removed \"StarWars\" posts ['ep', 'want', 'sith', 'hate', 'starwars', 'thoughts', 'didn', 'start', 'fan', 'seen', 'discussion']\n"
     ]
    }
   ],
   "source": [
    "cvec = CountVectorizer(stop_words = 'english')\n",
    "cvec.fit(df['title'])\n",
    "vectorized = cvec.transform(df['title'])\n",
    "print('Vectorized shape:', vectorized.shape)\n",
    "print('Vectorized type:', type(vectorized))\n",
    "print('='*25)\n",
    "\n",
    "vectorized = pd.DataFrame(vectorized.todense(), columns = cvec.get_feature_names_out())\n",
    "print('Vectorized dataframe shape:', vectorized.shape)\n",
    "print('Vectorized dataframe type:', type(vectorized))\n",
    "print('='*25)\n",
    "\n",
    "with_removed_vectorized = pd.concat([df['selftext'], df['subreddit_name'], vectorized], axis = 1)\n",
    "print('Vectorized dataframe with text and subreddit labels, shape:', with_removed_vectorized.shape)\n",
    "print(with_removed_vectorized.head(1))\n",
    "print(\"=\"*25)\n",
    "\n",
    "print('Number of removed posts in new dataframe:', len(with_removed_vectorized[with_removed_vectorized[\"selftext\"] == \"[removed]\"]))\n",
    "print('Sanity check. Number of removed posts from original dataframe:', len(df[df[\"selftext\"] == \"[removed]\"]))\n",
    "\n",
    "print('')\n",
    "print('')\n",
    "print('*'*25)\n",
    "print('')\n",
    "print('')\n",
    "print('EXAMINING ALL POSTS')\n",
    "print('')\n",
    "\n",
    "top_10_removed = list(pd.Series(with_removed_vectorized[with_removed_vectorized['selftext'] =='[removed]'].drop(columns = ['selftext', 'subreddit_name'])\\\n",
    "                           .sum().sort_values(ascending = False)).reset_index()[:10]['index'])\n",
    "top_10_not_removed = list(pd.Series(with_removed_vectorized[with_removed_vectorized['selftext'] !='[removed]'].drop(columns = ['selftext', 'subreddit_name'])\\\n",
    "                           .sum().sort_values(ascending = False)).reset_index()[:10]['index'])\n",
    "\n",
    "print(f'The following words appear in the top 10 most used words in removed posts but not in the top 10 words for not-removed posts {[word for word in top_10_removed if word not in top_10_not_removed]}')\n",
    "print('='*25)\n",
    "\n",
    "top_25_removed = list(pd.Series(with_removed_vectorized[with_removed_vectorized['selftext'] =='[removed]'].drop(columns = ['selftext', 'subreddit_name'])\\\n",
    "                           .sum().sort_values(ascending = False)).reset_index()[:25]['index'])\n",
    "top_25_not_removed = list(pd.Series(with_removed_vectorized[with_removed_vectorized['selftext'] !='[removed]'].drop(columns = ['selftext', 'subreddit_name'])\\\n",
    "                           .sum().sort_values(ascending = False)).reset_index()[:25]['index'])\n",
    "\n",
    "print(f'The following words appear in the top 25 most used words in removed posts but not in the top 25 words for not-removed posts {[word for word in top_25_removed if word not in top_25_not_removed]}')\n",
    "print('='*25)\n",
    "\n",
    "top_50_removed = list(pd.Series(with_removed_vectorized[with_removed_vectorized['selftext'] =='[removed]'].drop(columns = ['selftext', 'subreddit_name'])\\\n",
    "                           .sum().sort_values(ascending = False)).reset_index()[:50]['index'])\n",
    "top_50_not_removed = list(pd.Series(with_removed_vectorized[with_removed_vectorized['selftext'] !='[removed]'].drop(columns = ['selftext', 'subreddit_name'])\\\n",
    "                           .sum().sort_values(ascending = False)).reset_index()[:50]['index'])\n",
    "\n",
    "print(f'The following words appear in the top 50 most used words in removed posts but not in the top 50 words for not-removed posts {[word for word in top_50_removed if word not in top_50_not_removed]}')\n",
    "\n",
    "print('')\n",
    "print('')\n",
    "print('*'*25)\n",
    "print('')\n",
    "print('')\n",
    "print('EXAMINING STARTREK POSTS')\n",
    "print('')\n",
    "\n",
    "top_10_removed_st = list(pd.Series(with_removed_vectorized[(with_removed_vectorized['selftext'] =='[removed]') & (with_removed_vectorized['subreddit_name'] == 'startrek')]\\\n",
    "                                   .drop(columns = ['selftext', 'subreddit_name']).sum().sort_values(ascending = False)).reset_index()[:10]['index'])\n",
    "top_10_not_removed_st = list(pd.Series(with_removed_vectorized[(with_removed_vectorized['selftext'] !='[removed]') & (with_removed_vectorized['subreddit_name'] == 'startrek')]\\\n",
    "                                   .drop(columns = ['selftext', 'subreddit_name']).sum().sort_values(ascending = False)).reset_index()[:10]['index'])\n",
    "\n",
    "print(f'The following words appear in the top 10 most used words in removed \"startrek\"\\n posts but not in the top 10 words for not-removed \"startrek\" posts {[word for word in top_10_removed_st if word not in top_10_not_removed_st]}')\n",
    "print('='*25)\n",
    "\n",
    "top_25_removed_st = list(pd.Series(with_removed_vectorized[(with_removed_vectorized['selftext'] =='[removed]') & (with_removed_vectorized['subreddit_name'] == 'startrek')]\\\n",
    "                         .drop(columns = ['selftext', 'subreddit_name']).sum().sort_values(ascending = False)).reset_index()[:25]['index'])\n",
    "top_25_not_removed_st = list(pd.Series(with_removed_vectorized[(with_removed_vectorized['selftext'] !='[removed]') & (with_removed_vectorized['subreddit_name'] == 'startrek')]\\\n",
    "                         .drop(columns = ['selftext', 'subreddit_name']).sum().sort_values(ascending = False)).reset_index()[:25]['index'])\n",
    "\n",
    "print(f'The following words appear in the top 25 most used words in removed \"startrek\"\\n posts but not in the top 25 words for not-removed \"startrek\" posts {[word for word in top_25_removed_st if word not in top_25_not_removed_st]}')\n",
    "print('='*25)\n",
    "\n",
    "top_50_removed_st = list(pd.Series(with_removed_vectorized[(with_removed_vectorized['selftext'] =='[removed]') & (with_removed_vectorized['subreddit_name'] == 'startrek')]\\\n",
    "                                   .drop(columns = ['selftext', 'subreddit_name']).sum().sort_values(ascending = False)).reset_index()[:50]['index'])\n",
    "top_50_not_removed_st = list(pd.Series(with_removed_vectorized[(with_removed_vectorized['selftext'] !='[removed]') & (with_removed_vectorized['subreddit_name'] == 'startrek')]\\\n",
    "                                   .drop(columns = ['selftext', 'subreddit_name']).sum().sort_values(ascending = False)).reset_index()[:50]['index'])\n",
    "\n",
    "print(f'The following words appear in the top 50 most used words in removed \"startrek\" posts but not in the top 50 words for not-removed \"startrek\" posts {[word for word in top_50_removed_st if word not in top_50_not_removed_st]}')\n",
    "\n",
    "print('')\n",
    "print('')\n",
    "print('*'*25)\n",
    "print('')\n",
    "print('')\n",
    "print('EXAMINING STARWARS POSTS')\n",
    "print('')\n",
    "\n",
    "top_10_removed_sw = list(pd.Series(with_removed_vectorized[(with_removed_vectorized['selftext'] =='[removed]') & (with_removed_vectorized['subreddit_name'] == 'starwars')]\\\n",
    "                                   .drop(columns = ['selftext', 'subreddit_name']).sum().sort_values(ascending = False)).reset_index()[:10]['index'])\n",
    "top_10_not_removed_sw = list(pd.Series(with_removed_vectorized[(with_removed_vectorized['selftext'] !='[removed]') & (with_removed_vectorized['subreddit_name'] == 'starwars')]\\\n",
    "                                   .drop(columns = ['selftext', 'subreddit_name']).sum().sort_values(ascending = False)).reset_index()[:10]['index'])\n",
    "\n",
    "print(f'The following words appear in the top 10 most used words in removed \"StarWars\"\\n posts but not in the top 10 words for not-removed \"StarWars\" posts {[word for word in top_10_removed_sw if word not in top_10_not_removed_sw]}')\n",
    "print('='*20)\n",
    "\n",
    "top_25_removed_sw = list(pd.Series(with_removed_vectorized[(with_removed_vectorized['selftext'] =='[removed]') & (with_removed_vectorized['subreddit_name'] == 'starwars')]\\\n",
    "                         .drop(columns = ['selftext', 'subreddit_name']).sum().sort_values(ascending = False)).reset_index()[:25]['index'])\n",
    "top_25_not_removed_sw = list(pd.Series(with_removed_vectorized[(with_removed_vectorized['selftext'] !='[removed]') & (with_removed_vectorized['subreddit_name'] == 'starwars')]\\\n",
    "                         .drop(columns = ['selftext', 'subreddit_name']).sum().sort_values(ascending = False)).reset_index()[:25]['index'])\n",
    "\n",
    "print(f'The following words appear in the top 25 most used words in removed \"StarWars\"\\n posts but not in the top 25 words for not-removed \"StarWars\" posts {[word for word in top_25_removed_sw if word not in top_25_not_removed_sw]}')\n",
    "print('='*20)\n",
    "\n",
    "top_50_removed_sw = list(pd.Series(with_removed_vectorized[(with_removed_vectorized['selftext'] =='[removed]') & (with_removed_vectorized['subreddit_name'] == 'starwars')]\\\n",
    "                                   .drop(columns = ['selftext', 'subreddit_name']).sum().sort_values(ascending = False)).reset_index()[:50]['index'])\n",
    "top_50_not_removed_sw = list(pd.Series(with_removed_vectorized[(with_removed_vectorized['selftext'] !='[removed]') & (with_removed_vectorized['subreddit_name'] == 'starwars')]\\\n",
    "                                   .drop(columns = ['selftext', 'subreddit_name']).sum().sort_values(ascending = False)).reset_index()[:50]['index'])\n",
    "\n",
    "print(f'The following words appear in the top 50 most used words in removed \"StarWars\" posts but not in the top 50 words for not-removed \"StarWars\" posts {[word for word in top_50_removed_sw if word not in top_50_not_removed_sw]}')\n"
   ]
  },
  {
   "cell_type": "markdown",
   "id": "204bdfb4-6ad5-4ebe-8929-65f793501bea",
   "metadata": {},
   "source": [
    "# Top Words Across Title and Self-Text -- 'english' Stopwords Removed\n",
    "\n",
    "At this point, I looked at the top words for all the words in the post, both title and 'selftext' (the post body). Again, I did this because I found a large percentage of Star Wars posts actually had no text in the body, so I'm considering the titles an important part of the communication in /r/StarWars, in particular, and so am including all titles, for parity.\n",
    "\n",
    "While it was interesting to look at these lists, in particular to see which characters and properties are being discussed most frequently, I had no concrete takeaways.\n",
    "\n",
    "Instead, I tried using a set of the 3 top 50 word lists combined to make my modeling harder by pulling out the most frequently used proper names and specific show references. However, that didn't seem hard enough, so I created a similar set from the top 150 words (all posts, Star Trek, Star Wars) and used that, combined with scikit-learn's 'english' stopwords to make the modeling harder (in notebook 3)"
   ]
  },
  {
   "cell_type": "code",
   "execution_count": 136,
   "id": "de6248bd-64cd-451e-af65-c9c3b3c90a8c",
   "metadata": {
    "tags": []
   },
   "outputs": [
    {
     "name": "stdout",
     "output_type": "stream",
     "text": [
      "Vectorized shape: (6946, 19106)\n",
      "Vectorized type: <class 'scipy.sparse.csr.csr_matrix'>\n",
      "=========================\n",
      "Vectorized dataframe shape: (6946, 19106)\n",
      "Vectorized dataframe type: <class 'pandas.core.frame.DataFrame'>\n",
      "=========================\n",
      "Vectorized dataframe with text and subreddit labels, shape: (6946, 19108)\n",
      "=========================\n",
      "Number of removed posts in new dataframe: 1936\n",
      "Sanity check. Number of removed posts from original dataframe: 1936\n",
      "\n",
      "\n",
      "*************************\n",
      "\n",
      "\n",
      "TOP WORDS\n",
      "\n",
      "\n",
      "=========================\n",
      "\n",
      "\n",
      "Top 10, all posts: ['star', 'trek', 'like', 'episode', 'just', 'obi', 'wan', 'new', 'wars', 'season']\n",
      "====================\n",
      "Top 25, all posts: ['star', 'trek', 'like', 'episode', 'just', 'obi', 'wan', 'new', 'wars', 'season', 'vader', 'picard', 'kenobi', 'think', 'time', 'know', 'series', 'did', 'really', 've', 'don', 'anakin', 'people', 'does', 'jedi']\n",
      "====================\n",
      "Top 50, all posts: ['star', 'trek', 'like', 'episode', 'just', 'obi', 'wan', 'new', 'wars', 'season', 'vader', 'picard', 'kenobi', 'think', 'time', 'know', 'series', 'did', 'really', 've', 'don', 'anakin', 'people', 'does', 'jedi', 'good', 'worlds', 'strange', 'watch', 'way', 'tng', 'character', 'amp', 'love', 'force', 'make', 'enterprise', 'watching', 'episodes', 'luke', 'want', 'snw', 'feel', 'best', 'borg', 'order', 'story', 'ship', 'didn', 'years']\n",
      "=========================\n",
      "\n",
      "Top 10, all Star Trek posts: ['trek', 'star', 'picard', 'new', 'like', 'just', 'episode', 'season', 'time', 'worlds']\n",
      "====================\n",
      "Top 25, all Star Trek posts: ['trek', 'star', 'picard', 'new', 'like', 'just', 'episode', 'season', 'time', 'worlds', 'strange', 'tng', 'know', 'enterprise', 'series', 'think', 'snw', 'borg', 've', 'really', 'don', 'did', 'ship', 'episodes', 'people']\n",
      "====================\n",
      "Top 50, all Star Trek posts: ['trek', 'star', 'picard', 'new', 'like', 'just', 'episode', 'season', 'time', 'worlds', 'strange', 'tng', 'know', 'enterprise', 'series', 'think', 'snw', 'borg', 've', 'really', 'don', 'did', 'ship', 'episodes', 'people', 'discovery', 'does', 'good', 'watch', 'tos', 'love', 'ds9', 'captain', 'crew', 'watching', 'spock', 'voyager', 'way', 'https', 'years', 'best', 'amp', 'com', 'make', 'character', 'characters', 'federation', 'starfleet', 'timeline', 'pike']\n",
      "=========================\n",
      "\n",
      "Top 10, all Star Wars posts: ['obi', 'wan', 'vader', 'wars', 'star', 'kenobi', 'episode', 'like', 'just', 'anakin']\n",
      "====================\n",
      "Top 25, all Star Wars posts: ['obi', 'wan', 'vader', 'wars', 'star', 'kenobi', 'episode', 'like', 'just', 'anakin', 'season', 'jedi', 'think', 'know', 'luke', 'force', 'series', 'did', 'really', 'darth', 'time', 'new', 've', 'order', 'don']\n",
      "====================\n",
      "Top 50, all Star Wars posts: ['obi', 'wan', 'vader', 'wars', 'star', 'kenobi', 'episode', 'like', 'just', 'anakin', 'season', 'jedi', 'think', 'know', 'luke', 'force', 'series', 'did', 'really', 'darth', 'time', 'new', 've', 'order', 'don', 'people', 'clone', 'does', 'leia', 'way', 'character', 'reva', 'good', 'watch', 'amp', 'disney', 'make', 'feel', 'want', 'didn', 'story', 'scene', 'movie', 'love', 'watching', 'movies', 'sith', 'skywalker', 'lightsaber', 'fight']\n"
     ]
    },
    {
     "data": {
      "text/html": [
       "<div>\n",
       "<style scoped>\n",
       "    .dataframe tbody tr th:only-of-type {\n",
       "        vertical-align: middle;\n",
       "    }\n",
       "\n",
       "    .dataframe tbody tr th {\n",
       "        vertical-align: top;\n",
       "    }\n",
       "\n",
       "    .dataframe thead th {\n",
       "        text-align: right;\n",
       "    }\n",
       "</style>\n",
       "<table border=\"1\" class=\"dataframe\">\n",
       "  <thead>\n",
       "    <tr style=\"text-align: right;\">\n",
       "      <th></th>\n",
       "      <th>subreddit_name</th>\n",
       "      <th>00</th>\n",
       "      <th>000</th>\n",
       "      <th>001</th>\n",
       "      <th>006225_8c6a1dd3</th>\n",
       "      <th>01</th>\n",
       "      <th>010</th>\n",
       "      <th>01414tqwn0t0</th>\n",
       "      <th>01x06</th>\n",
       "      <th>02</th>\n",
       "      <th>...</th>\n",
       "      <th>ليلة</th>\n",
       "      <th>مهذبة</th>\n",
       "      <th>نسخ</th>\n",
       "      <th>وليلة</th>\n",
       "      <th>एक</th>\n",
       "      <th>लचस</th>\n",
       "      <th>षक</th>\n",
       "      <th>ดท</th>\n",
       "      <th>ทางเข</th>\n",
       "      <th>าส</th>\n",
       "    </tr>\n",
       "  </thead>\n",
       "  <tbody>\n",
       "    <tr>\n",
       "      <th>0</th>\n",
       "      <td>startrek</td>\n",
       "      <td>0</td>\n",
       "      <td>0</td>\n",
       "      <td>0</td>\n",
       "      <td>0</td>\n",
       "      <td>0</td>\n",
       "      <td>0</td>\n",
       "      <td>0</td>\n",
       "      <td>0</td>\n",
       "      <td>0</td>\n",
       "      <td>...</td>\n",
       "      <td>0</td>\n",
       "      <td>0</td>\n",
       "      <td>0</td>\n",
       "      <td>0</td>\n",
       "      <td>0</td>\n",
       "      <td>0</td>\n",
       "      <td>0</td>\n",
       "      <td>0</td>\n",
       "      <td>0</td>\n",
       "      <td>0</td>\n",
       "    </tr>\n",
       "    <tr>\n",
       "      <th>1</th>\n",
       "      <td>startrek</td>\n",
       "      <td>0</td>\n",
       "      <td>0</td>\n",
       "      <td>0</td>\n",
       "      <td>0</td>\n",
       "      <td>0</td>\n",
       "      <td>0</td>\n",
       "      <td>0</td>\n",
       "      <td>0</td>\n",
       "      <td>0</td>\n",
       "      <td>...</td>\n",
       "      <td>0</td>\n",
       "      <td>0</td>\n",
       "      <td>0</td>\n",
       "      <td>0</td>\n",
       "      <td>0</td>\n",
       "      <td>0</td>\n",
       "      <td>0</td>\n",
       "      <td>0</td>\n",
       "      <td>0</td>\n",
       "      <td>0</td>\n",
       "    </tr>\n",
       "    <tr>\n",
       "      <th>2</th>\n",
       "      <td>startrek</td>\n",
       "      <td>0</td>\n",
       "      <td>0</td>\n",
       "      <td>0</td>\n",
       "      <td>0</td>\n",
       "      <td>0</td>\n",
       "      <td>0</td>\n",
       "      <td>0</td>\n",
       "      <td>0</td>\n",
       "      <td>0</td>\n",
       "      <td>...</td>\n",
       "      <td>0</td>\n",
       "      <td>0</td>\n",
       "      <td>0</td>\n",
       "      <td>0</td>\n",
       "      <td>0</td>\n",
       "      <td>0</td>\n",
       "      <td>0</td>\n",
       "      <td>0</td>\n",
       "      <td>0</td>\n",
       "      <td>0</td>\n",
       "    </tr>\n",
       "    <tr>\n",
       "      <th>3</th>\n",
       "      <td>startrek</td>\n",
       "      <td>0</td>\n",
       "      <td>0</td>\n",
       "      <td>0</td>\n",
       "      <td>0</td>\n",
       "      <td>0</td>\n",
       "      <td>0</td>\n",
       "      <td>0</td>\n",
       "      <td>0</td>\n",
       "      <td>0</td>\n",
       "      <td>...</td>\n",
       "      <td>0</td>\n",
       "      <td>0</td>\n",
       "      <td>0</td>\n",
       "      <td>0</td>\n",
       "      <td>0</td>\n",
       "      <td>0</td>\n",
       "      <td>0</td>\n",
       "      <td>0</td>\n",
       "      <td>0</td>\n",
       "      <td>0</td>\n",
       "    </tr>\n",
       "    <tr>\n",
       "      <th>4</th>\n",
       "      <td>startrek</td>\n",
       "      <td>0</td>\n",
       "      <td>0</td>\n",
       "      <td>0</td>\n",
       "      <td>0</td>\n",
       "      <td>0</td>\n",
       "      <td>0</td>\n",
       "      <td>0</td>\n",
       "      <td>0</td>\n",
       "      <td>0</td>\n",
       "      <td>...</td>\n",
       "      <td>0</td>\n",
       "      <td>0</td>\n",
       "      <td>0</td>\n",
       "      <td>0</td>\n",
       "      <td>0</td>\n",
       "      <td>0</td>\n",
       "      <td>0</td>\n",
       "      <td>0</td>\n",
       "      <td>0</td>\n",
       "      <td>0</td>\n",
       "    </tr>\n",
       "  </tbody>\n",
       "</table>\n",
       "<p>5 rows × 19107 columns</p>\n",
       "</div>"
      ],
      "text/plain": [
       "  subreddit_name  00  000  001  006225_8c6a1dd3  01  010  01414tqwn0t0  01x06  \\\n",
       "0       startrek   0    0    0                0   0    0             0      0   \n",
       "1       startrek   0    0    0                0   0    0             0      0   \n",
       "2       startrek   0    0    0                0   0    0             0      0   \n",
       "3       startrek   0    0    0                0   0    0             0      0   \n",
       "4       startrek   0    0    0                0   0    0             0      0   \n",
       "\n",
       "   02  ...  ليلة  مهذبة  نسخ  وليلة  एक  लचस  षक  ดท  ทางเข  าส  \n",
       "0   0  ...     0      0    0      0   0    0   0   0      0   0  \n",
       "1   0  ...     0      0    0      0   0    0   0   0      0   0  \n",
       "2   0  ...     0      0    0      0   0    0   0   0      0   0  \n",
       "3   0  ...     0      0    0      0   0    0   0   0      0   0  \n",
       "4   0  ...     0      0    0      0   0    0   0   0      0   0  \n",
       "\n",
       "[5 rows x 19107 columns]"
      ]
     },
     "execution_count": 136,
     "metadata": {},
     "output_type": "execute_result"
    }
   ],
   "source": [
    "cvec = CountVectorizer(stop_words = 'english')\n",
    "cvec.fit(df['all_words'])\n",
    "vectorized = cvec.transform(df['all_words'])\n",
    "print('Vectorized shape:', vectorized.shape)\n",
    "print('Vectorized type:', type(vectorized))\n",
    "print('='*25)\n",
    "\n",
    "vectorized = pd.DataFrame(vectorized.todense(), columns = cvec.get_feature_names_out())\n",
    "print('Vectorized dataframe shape:', vectorized.shape)\n",
    "print('Vectorized dataframe type:', type(vectorized))\n",
    "print('='*25)\n",
    "\n",
    "vectorized = pd.concat([df['selftext'], df['subreddit_name'], vectorized], axis = 1)\n",
    "print('Vectorized dataframe with text and subreddit labels, shape:', vectorized.shape)\n",
    "print(\"=\"*25)\n",
    "\n",
    "print('Number of removed posts in new dataframe:', len(vectorized[vectorized[\"selftext\"] == \"[removed]\"]))\n",
    "print('Sanity check. Number of removed posts from original dataframe:', len(df[df[\"selftext\"] == \"[removed]\"]))\n",
    "\n",
    "print('')\n",
    "print('')\n",
    "print('*'*25)\n",
    "print('')\n",
    "print('')\n",
    "print('TOP WORDS')\n",
    "print('')\n",
    "print('')\n",
    "print('='*25)\n",
    "print('')\n",
    "print('')\n",
    "\n",
    "top_10_all = list(pd.Series(vectorized.drop(columns = ['selftext', 'subreddit_name'])\\\n",
    "                       .sum().sort_values(ascending = False)).reset_index()[:10]['index'])\n",
    "\n",
    "top_25_all = list(pd.Series(vectorized.drop(columns = ['selftext', 'subreddit_name'])\\\n",
    "                       .sum().sort_values(ascending = False)).reset_index()[:25]['index'])\n",
    "\n",
    "top_50_all = list(pd.Series(vectorized.drop(columns = ['selftext', 'subreddit_name'])\\\n",
    "                       .sum().sort_values(ascending = False)).reset_index()[:50]['index'])\n",
    "\n",
    "top_10_all_st = list(pd.Series(vectorized[vectorized['subreddit_name'] == 'startrek'].drop(columns = ['selftext', 'subreddit_name'])\\\n",
    "                       .sum().sort_values(ascending = False)).reset_index()[:10]['index'])\n",
    "\n",
    "top_25_all_st = list(pd.Series(vectorized[vectorized['subreddit_name'] == 'startrek'].drop(columns = ['selftext', 'subreddit_name'])\\\n",
    "                       .sum().sort_values(ascending = False)).reset_index()[:25]['index'])\n",
    "\n",
    "top_50_all_st = list(pd.Series(vectorized[vectorized['subreddit_name'] == 'startrek'].drop(columns = ['selftext', 'subreddit_name'])\\\n",
    "                       .sum().sort_values(ascending = False)).reset_index()[:50]['index'])\n",
    "\n",
    "top_10_all_sw = list(pd.Series(vectorized[vectorized['subreddit_name'] == 'starwars'].drop(columns = ['selftext', 'subreddit_name'])\\\n",
    "                       .sum().sort_values(ascending = False)).reset_index()[:10]['index'])\n",
    "\n",
    "top_25_all_sw = list(pd.Series(vectorized[vectorized['subreddit_name'] == 'starwars'].drop(columns = ['selftext', 'subreddit_name'])\\\n",
    "                       .sum().sort_values(ascending = False)).reset_index()[:25]['index'])\n",
    "\n",
    "top_50_all_sw = list(pd.Series(vectorized[with_removed_vectorized['subreddit_name'] == 'starwars'].drop(columns = ['selftext', 'subreddit_name'])\\\n",
    "                       .sum().sort_values(ascending = False)).reset_index()[:50]['index'])\n",
    "\n",
    "\n",
    "print('Top 10, all posts:', top_10_all)\n",
    "print('='*20)\n",
    "print('Top 25, all posts:', top_25_all)\n",
    "print('='*20)\n",
    "print('Top 50, all posts:', top_50_all)\n",
    "print('='*25)\n",
    "print('')\n",
    "\n",
    "print('Top 10, all Star Trek posts:', top_10_all_st)\n",
    "print('='*20)\n",
    "print('Top 25, all Star Trek posts:', top_25_all_st)\n",
    "print('='*20)\n",
    "print('Top 50, all Star Trek posts:', top_50_all_st)\n",
    "print('='*25)\n",
    "print('')\n",
    "\n",
    "print('Top 10, all Star Wars posts:', top_10_all_sw)\n",
    "print('='*20)\n",
    "print('Top 25, all Star Wars posts:', top_25_all_sw)\n",
    "print('='*20)\n",
    "print('Top 50, all Star Wars posts:', top_50_all_sw)\n",
    "\n",
    "#to have a dataframe to work from for below\n",
    "all_words = vectorized.drop(columns = 'selftext')\n",
    "all_words.head()"
   ]
  },
  {
   "cell_type": "markdown",
   "id": "5b34c6c2-2ffc-48cb-afea-eca98e403ee9",
   "metadata": {},
   "source": [
    "[This stackoverflow answer](https://stackoverflow.com/a/52461208) showed me how to set the xtick label rotation in a subplot."
   ]
  },
  {
   "cell_type": "code",
   "execution_count": 137,
   "id": "3828a9ca-2db5-4c4a-bee7-47b3242f95a7",
   "metadata": {},
   "outputs": [
    {
     "data": {
      "image/png": "[encoded data removed]",
      "text/plain": [
       "<Figure size 1080x504 with 3 Axes>"
      ]
     },
     "metadata": {
      "needs_background": "light"
     },
     "output_type": "display_data"
    }
   ],
   "source": [
    "allkeys = all_words.drop(columns = \"subreddit_name\").sum().sort_values(ascending = False).head(15).keys().tolist()\n",
    "allvalues = all_words.drop(columns = \"subreddit_name\").sum().sort_values(ascending = False).head(15).tolist()\n",
    "\n",
    "stkeys = all_words[all_words[\"subreddit_name\"]==\"startrek\"].drop(columns = \"subreddit_name\").sum().sort_values(ascending = False).head(15).keys().tolist()\n",
    "stvalues = all_words[all_words[\"subreddit_name\"]==\"startrek\"].drop(columns = \"subreddit_name\").sum().sort_values(ascending = False).head(15).tolist()\n",
    "\n",
    "swkeys = all_words[all_words[\"subreddit_name\"]==\"starwars\"].drop(columns = \"subreddit_name\").sum().sort_values(ascending = False).head(15).keys().tolist()\n",
    "swvalues = all_words[all_words[\"subreddit_name\"]==\"starwars\"].drop(columns = \"subreddit_name\").sum().sort_values(ascending = False).head(15).tolist()\n",
    "\n",
    "fig, (ax1, ax2, ax3) = plt.subplots(1, 3, figsize = (15,7)) #not setting sharey the same because the number of each is a different scale\n",
    "\n",
    "fig.suptitle('Most Common Words')\n",
    "\n",
    "ax1.bar(allkeys, allvalues)\n",
    "ax1.tick_params(rotation = 45)\n",
    "ax1.set_title('All Posts', pad = 10)\n",
    "ax1.set_ylabel('Number of Appearances', labelpad = 25)\n",
    "\n",
    "ax2.bar(stkeys, stvalues)\n",
    "ax2.tick_params(rotation = 45)\n",
    "ax2.set_title('/r/startrek', pad = 10)\n",
    "\n",
    "ax3.bar(swkeys, swvalues)\n",
    "ax3.tick_params(rotation = 45)\n",
    "ax3.set_title('/r/StarWars', pad = 10)\n",
    "\n",
    "plt.tight_layout()\n",
    "plt.savefig('images/commonwords1.png');"
   ]
  },
  {
   "cell_type": "markdown",
   "id": "33513eb2-8bf6-4063-afb8-7caf3f296c87",
   "metadata": {},
   "source": [
    "### Developing Additional Stopwords to Make Modeling More Challenging"
   ]
  },
  {
   "cell_type": "code",
   "execution_count": 138,
   "id": "1ae16964-dcee-48df-a121-86847443e85b",
   "metadata": {},
   "outputs": [
    {
     "name": "stdout",
     "output_type": "stream",
     "text": [
      "Top 150 words, all posts ['star', 'trek', 'like', 'episode', 'just', 'obi', 'wan', 'new', 'wars', 'season', 'vader', 'picard', 'kenobi', 'think', 'time', 'know', 'series', 'did', 'really', 've', 'don', 'anakin', 'people', 'does', 'jedi', 'good', 'worlds', 'strange', 'watch', 'way', 'tng', 'character', 'amp', 'love', 'force', 'make', 'enterprise', 'watching', 'episodes', 'luke', 'want', 'snw', 'feel', 'best', 'borg', 'order', 'story', 'ship', 'didn', 'years', 'got', 'darth', 'https', 'characters', 'shows', 'seen', 'great', 'going', 'discovery', 'lot', 'say', 'end', 'movies', 'com', 'movie', 'things', 'scene', 'clone', 'thought', 'better', 'old', 'question', 'tos', 'crew', 'captain', 'ds9', 'thing', 'life', 'universe', 'actually', 'fan', 'spoilers', 'canon', 'leia', 'hope', 'timeline', 'watched', 'doesn', 'point', 'spock', 'maybe', 'right', 'voyager', 'reva', 'space', 'original', 'use', 'future', 'disney', 'look', 'little', 'bad', 'tv', 'long', 'finale', 'let', 'federation', 'different', 'starfleet', 'makes', 'plot', 'help', 'pike', 'far', 'sense', 'said', 'sure', 'need', 'dark', 'wanted', 'kirk', 'come', 'fight', 'galaxy', 'used', 'away', 'favorite', 'bit', 'empire', 'data', 'having', 'idea', 'sith', '10', 'war', 'pretty', 'death', 'skywalker', 'lightsaber', 'post', 'start', 'kill', 'thoughts', 'work', 'able', 'looking', 'st', 'x200b', 'finally', 'probably']\n",
      " \n",
      "Top 150 words, Star Trek subreddit ['trek', 'star', 'picard', 'new', 'like', 'just', 'episode', 'season', 'time', 'worlds', 'strange', 'tng', 'know', 'enterprise', 'series', 'think', 'snw', 'borg', 've', 'really', 'don', 'did', 'ship', 'episodes', 'people', 'discovery', 'does', 'good', 'watch', 'tos', 'love', 'ds9', 'captain', 'crew', 'watching', 'spock', 'voyager', 'way', 'https', 'years', 'best', 'amp', 'com', 'make', 'character', 'characters', 'federation', 'starfleet', 'timeline', 'pike', 'seen', 'want', 'space', 'kirk', 'got', 'going', 'future', 'shows', 'data', 'feel', 'story', 'universe', 'great', 'life', 'didn', 'things', 'end', 'different', 'better', 'seven', 'long', 'st', 'actually', 'question', 'watched', 'lot', 'paramount', 'klingon', 'fan', 'old', 'point', 'right', 'war', 'maybe', 'say', 'queen', 'thought', 'klingons', 'far', 'original', 'doesn', 'look', 'thing', 'spoilers', 'use', 'sure', 'come', 'riker', 'earth', 'canon', 'movies', 'world', 'ships', 'help', 'little', 'cast', 'need', 'plot', 'having', 'bit', 'able', 'worf', 'start', 'favorite', 'post', 'away', 'makes', 'work', 'idea', 'man', 'later', 'let', 'll', 'set', 'place', 'isn', 'real', 'tv', 'wanted', 'thoughts', 'entire', 'warp', 'writers', 'seasons', 'order', 'planet', 'human', 'looking', 'interesting', 'century', 'big', 'sense', 'movie', 'bad', 'remember', 'finally', 'said', 'species', 'contact', 'scene']\n",
      " \n",
      "Top 150 words, Star Wars subreddit ['obi', 'wan', 'vader', 'wars', 'star', 'kenobi', 'episode', 'like', 'just', 'anakin', 'season', 'jedi', 'think', 'know', 'luke', 'force', 'series', 'did', 'really', 'darth', 'time', 'new', 've', 'order', 'don', 'people', 'clone', 'does', 'leia', 'way', 'character', 'reva', 'good', 'watch', 'amp', 'disney', 'make', 'feel', 'want', 'didn', 'story', 'scene', 'movie', 'love', 'watching', 'movies', 'sith', 'skywalker', 'lightsaber', 'fight', 'got', 'say', 'hope', 'finale', 'best', 'dark', 'lot', 'trilogy', 'shows', 'great', 'palpatine', 'thought', 'empire', 'kill', 'canon', 'thing', 'bad', 'end', 'spoilers', 'seen', 'tv', 'old', 'years', 'going', 'characters', 'let', 'doesn', 'episodes', 'question', '10', 'yoda', 'galaxy', 'better', 'things', 'little', 'light', 'fan', 'prequels', 'said', 'use', 'sense', 'makes', 'maybe', 'original', 'qui', 'right', 'https', 'death', 'used', 'point', 'actually', 'look', 'rebels', 'watched', 'wanted', 'maul', 'gon', 'vs', 'plot', 'live', 'film', 'pretty', 'x200b', 'boba', 'master', 'opinion', 'cool', 'action', 'help', 'final', 'probably', 'duel', 'need', 'revenge', 'away', 'guys', 'mandalorian', 'life', 'favorite', 'reason', 'idea', 'book', 'fett', 'says', 'father', 'content', 'bit', 'sure', 'seeing', 'universe', 'fans', 'looking', 'moment', 'finally', 'saw', 'spoiler', 'thoughts', 'republic', 'scenes', 'padme']\n",
      "\n",
      "Set of words that appear in these three top 150s, alphabetical order ['10', 'able', 'action', 'actually', 'amp', 'anakin', 'away', 'bad', 'best', 'better', 'big', 'bit', 'boba', 'book', 'borg', 'canon', 'captain', 'cast', 'century', 'character', 'characters', 'clone', 'com', 'come', 'contact', 'content', 'cool', 'crew', 'dark', 'darth', 'data', 'death', 'did', 'didn', 'different', 'discovery', 'disney', 'does', 'doesn', 'don', 'ds9', 'duel', 'earth', 'empire', 'end', 'enterprise', 'entire', 'episode', 'episodes', 'fan', 'fans', 'far', 'father', 'favorite', 'federation', 'feel', 'fett', 'fight', 'film', 'final', 'finale', 'finally', 'force', 'future', 'galaxy', 'going', 'gon', 'good', 'got', 'great', 'guys', 'having', 'help', 'hope', 'https', 'human', 'idea', 'interesting', 'isn', 'jedi', 'just', 'kenobi', 'kill', 'kirk', 'klingon', 'klingons', 'know', 'later', 'leia', 'let', 'life', 'light', 'lightsaber', 'like', 'little', 'live', 'll', 'long', 'look', 'looking', 'lot', 'love', 'luke', 'make', 'makes', 'man', 'mandalorian', 'master', 'maul', 'maybe', 'moment', 'movie', 'movies', 'need', 'new', 'obi', 'old', 'opinion', 'order', 'original', 'padme', 'palpatine', 'paramount', 'people', 'picard', 'pike', 'place', 'planet', 'plot', 'point', 'post', 'prequels', 'pretty', 'probably', 'queen', 'question', 'qui', 'real', 'really', 'reason', 'rebels', 'remember', 'republic', 'reva', 'revenge', 'right', 'riker', 'said', 'saw', 'say', 'says', 'scene', 'scenes', 'season', 'seasons', 'seeing', 'seen', 'sense', 'series', 'set', 'seven', 'ship', 'ships', 'shows', 'sith', 'skywalker', 'snw', 'space', 'species', 'spock', 'spoiler', 'spoilers', 'st', 'star', 'starfleet', 'start', 'story', 'strange', 'sure', 'thing', 'things', 'think', 'thought', 'thoughts', 'time', 'timeline', 'tng', 'tos', 'trek', 'trilogy', 'tv', 'universe', 'use', 'used', 'vader', 've', 'voyager', 'vs', 'wan', 'want', 'wanted', 'war', 'warp', 'wars', 'watch', 'watched', 'watching', 'way', 'worf', 'work', 'world', 'worlds', 'writers', 'x200b', 'years', 'yoda']\n"
     ]
    }
   ],
   "source": [
    "top_150 = all_words.drop(columns = \"subreddit_name\").sum().sort_values(ascending = False).head(150).keys().tolist()\n",
    "print('Top 150 words, all posts', top_150)\n",
    "print(' ')\n",
    "top_150_st = all_words[all_words[\"subreddit_name\"]==\"startrek\"].drop(columns = \"subreddit_name\").sum().sort_values(ascending = False).head(150).keys().tolist()\n",
    "print('Top 150 words, Star Trek subreddit', top_150_st)\n",
    "print(' ')\n",
    "top_150_sw = all_words[all_words[\"subreddit_name\"]==\"starwars\"].drop(columns = \"subreddit_name\").sum().sort_values(ascending = False).head(150).keys().tolist()\n",
    "print('Top 150 words, Star Wars subreddit', top_150_sw)\n",
    "print('')\n",
    "\n",
    "combined_top_set_150 = set(top_150+top_150_st+top_150_sw)\n",
    "print('Set of words that appear in these three top 150s, alphabetical order', sorted(combined_top_set_150))"
   ]
  },
  {
   "cell_type": "code",
   "execution_count": 139,
   "id": "288fb260-f575-44b8-ae5a-658217229aab",
   "metadata": {},
   "outputs": [
    {
     "name": "stdout",
     "output_type": "stream",
     "text": [
      "['anakin', 'boba', 'borg', 'captain', 'clone', 'contact', 'darth', 'data', 'discovery', 'disney', 'ds9', 'empire', 'enterprise', 'federation', 'fett', 'force', 'inquisitor', 'jedi', 'jurati', 'kenobi', 'kirk', 'klingon', 'klingons', 'leia', 'lightsaber', 'luke', 'mandalorian', 'maul', 'obi', 'order', 'padme', 'palpatine', 'paramount', 'picard', 'pike', 'rebels', 'republic', 'reva', 'riker', 'seven', 'sith', 'skywalker', 'snw', 'spock', 'st', 'star', 'starfleet', 'strange', 'tng', 'tos', 'trek', 'trilogy', 'vader', 'voyager', 'wan', 'warp', 'wars', 'worf', 'yoda']\n"
     ]
    }
   ],
   "source": [
    "expanded_proper_names = sorted(['seven', 'clone', 'warp', 'borg', 'trilogy', 'contact', 'anakin', 'paramount', 'leia',\\\n",
    "                         'kirk', 'wan', 'jedi', 'kenobi', 'snw', 'wars', 'vader', 'order', 'skywalker', 'klingon', 'starfleet',\\\n",
    "                         'ds9', 'captain', 'maul', 'luke', 'obi', 'rebels', 'data', 'voyager', 'st', 'discovery', 'federation',\\\n",
    "                         'pike', 'picard', 'mandalorian', 'klingons', 'star', 'tng', 'reva', 'strange', 'disney', 'worf',\\\n",
    "                         'riker', 'empire', 'jurati', 'palpatine', 'yoda', 'force', 'darth', 'republic', 'lightsaber', 'sith',\\\n",
    "                         'spock', 'boba', 'fett', 'inquisitor', 'trek', 'enterprise', 'tos', 'padme'])\n",
    "\n",
    "print(expanded_proper_names)\n",
    "\n",
    "expanded_stopwords = text.ENGLISH_STOP_WORDS.union(expanded_proper_names)"
   ]
  },
  {
   "cell_type": "markdown",
   "id": "25ca2257-4491-4ed4-922c-dcc425bef9eb",
   "metadata": {},
   "source": [
    "### Note:\n",
    "I've put this list into my lists.py file and pull it from there in notebook 03."
   ]
  },
  {
   "cell_type": "markdown",
   "id": "650c32df-790f-455f-847a-dc380b5ba6e6",
   "metadata": {
    "tags": []
   },
   "source": [
    "# Exploring Post Length and Number of Words In Non-Removed or Deleted 'selftext' Posts\n",
    "In this case, I looked at the bodies of posts ('selftext'), with the blank ones removed. The lengths of titles aren't as variable. The downside to this is we don't have as many Star Wars posts with text in the bodies, but I decided it was worth the tradeoff.\n",
    "\n",
    "There are a lot of blank submissions. There are 6 '[deleted]' submissions, as well. '[deleted]' means that [the user deleted the post](https://www.reddit.com/r/help/comments/h92oqg/what_does_deleted_mean/).\n",
    "\n",
    "For the purposes of examining word counts in these submissions, I've removed the empty and '[deleted]' submissions.\n",
    "\n",
    "## Conclusions (based on the work below)\n",
    "### /r/startrek Posts with Bodies Are Longer Than /r/StarWars Posts With Bodies.\n",
    "The bodies of Star Trek posts with bodies are longer than those of Star Wars posts with bodies as measured by both mean and median, with or without outliers removed. In fact, with outliers removed, the difference is more pronounced. Without removing outliers, Star Trek posts are an average of 188.44% as long as Star Wars posts. With outliers removed, that number climbs to 199.68 %.\n",
    "### /r/startrek Posts with Bodies Have A Higher Word Count Than /r/Starwars Posts With Bodies.\n",
    "Again, as measured by both median and mean, Star Trek posts with bodies have a higher word count than Star Wars posts with bodies and, again, the discrepancy climbs when outlier Star Wars posts are removed. Without outliers removed, mean /r/startrek post word counts are 180.63 % times as great as /r/StarWars posts. With outliers removed, mean /r/startrek post word counts are 189.97 % times as great as /r/StarWars posts.\n",
    "### /r/startrek Posts Use Slightly Longer Words, On Average, Than /r/StarWars Posts (Titles and Bodies Both Included)\n",
    "The difference was almost identical whether considering mean or median, with or without outliers:\n",
    "\n",
    "* With outliers included, mean /r/startrek post word counts are 104.68 % times as great as /r/StarWars posts.\n",
    "* With outliers included, median /r/startrek post word counts are 103.97 % times as great as /r/StarWars posts.\n",
    "\n",
    "* Without outliers included, mean /r/startrek post word counts are 104.65 % times as great as /r/StarWars posts.\n",
    "* Without outliers included, median /r/startrek post word counts are 104.01 % times as great as /r/StarWars posts.\n"
   ]
  },
  {
   "cell_type": "code",
   "execution_count": 140,
   "id": "ade6b7fa-8a36-495c-9e9e-e73e47606366",
   "metadata": {
    "tags": []
   },
   "outputs": [
    {
     "name": "stdout",
     "output_type": "stream",
     "text": [
      "                                                                                                                                                                                                                                                                                                                                                                                                                                                                                                                                                                                                                                                                         2359\n",
      "Anyone know where to get cool star wars phone wallpapers?                                                                                                                                                                                                                                                                                                                                                                                                                                                                                                                                                                                                                   1\n",
      "Just finished watching the show. I'm not dissapointed, this is more or less what I expected it to be like. \\n\\n\\nThere was alot of poor writing involved, plot-holes and illogical scenes that I'm sure have been thoroughly discussed. \\n\\n\\nAll I want to say is what a performance by Ewan Mcgregor. Goddamn, when he looked at Split-helm-Vader and his whole expression changed, from focused and determined to bewilderment as if he looked upon the young padawan that he trained, and said ; \"Anakin\" ... I'm not ashamed to say that I choked up, that was an amazing bit of acting and brought up alot of nostalgia. Ewan McGregor as always gives his all.       1\n",
      "Name: selftext, dtype: int64\n",
      "(5005, 11)\n"
     ]
    },
    {
     "data": {
      "text/html": [
       "<div>\n",
       "<style scoped>\n",
       "    .dataframe tbody tr th:only-of-type {\n",
       "        vertical-align: middle;\n",
       "    }\n",
       "\n",
       "    .dataframe tbody tr th {\n",
       "        vertical-align: top;\n",
       "    }\n",
       "\n",
       "    .dataframe thead th {\n",
       "        text-align: right;\n",
       "    }\n",
       "</style>\n",
       "<table border=\"1\" class=\"dataframe\">\n",
       "  <thead>\n",
       "    <tr style=\"text-align: right;\">\n",
       "      <th></th>\n",
       "      <th>created_utc</th>\n",
       "      <th>selftext</th>\n",
       "      <th>subreddit_name</th>\n",
       "      <th>title</th>\n",
       "      <th>all_words</th>\n",
       "      <th>submission_length</th>\n",
       "      <th>title_length</th>\n",
       "      <th>submission_word_count</th>\n",
       "      <th>title_word_count</th>\n",
       "      <th>no_selftext</th>\n",
       "      <th>avg_word_length</th>\n",
       "    </tr>\n",
       "  </thead>\n",
       "  <tbody>\n",
       "    <tr>\n",
       "      <th>1394</th>\n",
       "      <td>1656243979</td>\n",
       "      <td></td>\n",
       "      <td>startrek</td>\n",
       "      <td>I’m beaming and I had to share - Sir Patrick Stewart answered my fan question on stage! An unforgettable moment for me.</td>\n",
       "      <td>I’m beaming and I had to share - Sir Patrick Stewart answered my fan question on stage! An unforgettable moment for me.</td>\n",
       "      <td>0.0</td>\n",
       "      <td>119.0</td>\n",
       "      <td>0.0</td>\n",
       "      <td>22.0</td>\n",
       "      <td>1.0</td>\n",
       "      <td>4.272727</td>\n",
       "    </tr>\n",
       "    <tr>\n",
       "      <th>1395</th>\n",
       "      <td>1656242414</td>\n",
       "      <td></td>\n",
       "      <td>startrek</td>\n",
       "      <td>America and the Star Trek Universe. Roe Vs Wade, LGBTQIA Rights, Racism.</td>\n",
       "      <td>America and the Star Trek Universe. Roe Vs Wade, LGBTQIA Rights, Racism.</td>\n",
       "      <td>0.0</td>\n",
       "      <td>72.0</td>\n",
       "      <td>0.0</td>\n",
       "      <td>12.0</td>\n",
       "      <td>1.0</td>\n",
       "      <td>4.750000</td>\n",
       "    </tr>\n",
       "  </tbody>\n",
       "</table>\n",
       "</div>"
      ],
      "text/plain": [
       "      created_utc selftext subreddit_name  \\\n",
       "1394   1656243979                startrek   \n",
       "1395   1656242414                startrek   \n",
       "\n",
       "                                                                                                                        title  \\\n",
       "1394  I’m beaming and I had to share - Sir Patrick Stewart answered my fan question on stage! An unforgettable moment for me.   \n",
       "1395                                                 America and the Star Trek Universe. Roe Vs Wade, LGBTQIA Rights, Racism.   \n",
       "\n",
       "                                                                                                                    all_words  \\\n",
       "1394  I’m beaming and I had to share - Sir Patrick Stewart answered my fan question on stage! An unforgettable moment for me.   \n",
       "1395                                                 America and the Star Trek Universe. Roe Vs Wade, LGBTQIA Rights, Racism.   \n",
       "\n",
       "      submission_length  title_length  submission_word_count  \\\n",
       "1394                0.0         119.0                    0.0   \n",
       "1395                0.0          72.0                    0.0   \n",
       "\n",
       "      title_word_count  no_selftext  avg_word_length  \n",
       "1394              22.0          1.0         4.272727  \n",
       "1395              12.0          1.0         4.750000  "
      ]
     },
     "execution_count": 140,
     "metadata": {},
     "output_type": "execute_result"
    }
   ],
   "source": [
    "no_removed_or_deleted = df[(df['selftext'] != '[removed]') & (df['selftext'] != '[deleted]')]\n",
    "print(no_removed_or_deleted['selftext'].value_counts()[:3])\n",
    "print(no_removed_or_deleted.shape)\n",
    "no_removed_or_deleted.head(2)"
   ]
  },
  {
   "cell_type": "markdown",
   "id": "0392d8c8-9347-49b0-810d-f9119ca4c609",
   "metadata": {
    "tags": []
   },
   "source": [
    "## Post Body Length, No Outliers Removed"
   ]
  },
  {
   "cell_type": "code",
   "execution_count": 141,
   "id": "3b69c84c-0e0f-488c-8a1b-18e912d8bcaa",
   "metadata": {},
   "outputs": [
    {
     "name": "stdout",
     "output_type": "stream",
     "text": [
      "Submission length (characters) mean by subreddit is subreddit_name\n",
      "startrek    459.099486\n",
      "starwars    243.629190\n",
      "Name: submission_length, dtype: float64\n",
      "Submission length (characters median by subreddit is subreddit_name\n",
      "startrek    185.0\n",
      "starwars      0.0\n",
      "Name: submission_length, dtype: float64\n"
     ]
    }
   ],
   "source": [
    "print(f'Submission length (characters) mean by subreddit is {no_removed_or_deleted.groupby([\"subreddit_name\"])[\"submission_length\"].mean()}')\n",
    "print(f'Submission length (characters median by subreddit is {no_removed_or_deleted.groupby([\"subreddit_name\"])[\"submission_length\"].median()}')"
   ]
  },
  {
   "cell_type": "markdown",
   "id": "7e7a7f7a-77dd-4f26-8ba5-6d0b5cb82979",
   "metadata": {},
   "source": [
    "I referred to the [matplotplib documentation](https://matplotlib.org/devdocs/gallery/subplots_axes_and_figures/subplots_demo.html) to create the below subplot. Very helpful. [This post](https://stackoverflow.com/a/15858264) helped me see how to adjust the ylim for subplots. [This documentation](https://matplotlib.org/stable/gallery/text_labels_and_annotations/titles_demo.html) showed me how to shift the title up a little so it wouldn't be so close to the subplot labels."
   ]
  },
  {
   "cell_type": "code",
   "execution_count": 198,
   "id": "37c7902d-620f-4773-8538-4b38a6fcd56a",
   "metadata": {},
   "outputs": [
    {
     "data": {
      "image/png": "[encoded data removed]",
      "text/plain": [
       "<Figure size 432x288 with 2 Axes>"
      ]
     },
     "metadata": {
      "needs_background": "light"
     },
     "output_type": "display_data"
    }
   ],
   "source": [
    "subm_mean_len = no_removed_or_deleted.groupby([\"subreddit_name\"])[\"submission_length\"].mean().tolist()\n",
    "subm_median_len = no_removed_or_deleted.groupby([\"subreddit_name\"])[\"submission_length\"].median().tolist()\n",
    "\n",
    "fig, (ax1, ax2) = plt.subplots(1, 2, sharey = True)\n",
    "fig.suptitle('Post Length by subreddit, \"startrek\" and \"StarWars\"', y = 1)\n",
    "fig.supylabel('Number of Characters')\n",
    "fig.supxlabel('subreddit')\n",
    "\n",
    "ax1.bar(['/r/startrek', '/r/StarWars'], [subm_mean_len[0], subm_mean_len[1]], color = 'dodgerblue')\n",
    "ax1.set_title('Mean Post Length')\n",
    "ax1.set_ylim(0,500)\n",
    "ax1.text(0, subm_mean_len[0]+10, round(subm_mean_len[0]), ha = 'center')\n",
    "ax1.text(1, subm_mean_len[1]+10, round(subm_mean_len[1]), ha = 'center')\n",
    "\n",
    "ax2.bar(['/r/startrek', '/r/StarWars'], [subm_median_len[0], subm_median_len[1]], color = 'dodgerblue')\n",
    "ax2.set_title('Median Post Length')\n",
    "ax2.text(0, subm_median_len[0]+10, round(subm_median_len[0]), ha = 'center')\n",
    "ax2.text(1, subm_median_len[1]+10, round(subm_median_len[1]), ha = 'center')\n",
    "\n",
    "plt.tight_layout()\n",
    "plt.savefig('images/post_length.png');"
   ]
  },
  {
   "cell_type": "code",
   "execution_count": 180,
   "id": "6290d4d8-bc64-40ea-9547-262e6b5535e0",
   "metadata": {},
   "outputs": [
    {
     "name": "stdout",
     "output_type": "stream",
     "text": [
      "Without outliers removed, mean /r/startrek posts are 188.44 % times as long as /r/StarWars posts\n"
     ]
    }
   ],
   "source": [
    "print(\"Without outliers removed, mean /r/startrek posts are\", round((subm_mean_len[0]/subm_mean_len[1])*100, 2),'% times as long as /r/StarWars posts')"
   ]
  },
  {
   "cell_type": "markdown",
   "id": "5186a4ef-2550-4d10-bdce-bdd979b95d21",
   "metadata": {
    "tags": []
   },
   "source": [
    "## Exploring Outliers in Post Length"
   ]
  },
  {
   "cell_type": "code",
   "execution_count": 181,
   "id": "e2ddf853-623b-4722-aa7f-7b4c0d7b2788",
   "metadata": {},
   "outputs": [
    {
     "data": {
      "image/png": "[encoded data removed]",
      "text/plain": [
       "<Figure size 864x432 with 1 Axes>"
      ]
     },
     "metadata": {
      "needs_background": "light"
     },
     "output_type": "display_data"
    }
   ],
   "source": [
    "plt.figure(figsize = (12, 6))\n",
    "plt.title('Distribution of Star Trek Post Body Length (Number of Characters)')\n",
    "sns.boxplot(x = no_removed_or_deleted[no_removed_or_deleted['subreddit_name'] == 'startrek']['submission_length'], color = 'dodgerblue')\n",
    "plt.tight_layout()\n",
    "plt.savefig('images/st_post_length_boxplot_w_outliers.png');"
   ]
  },
  {
   "cell_type": "code",
   "execution_count": 182,
   "id": "3262707d-e484-45db-aaed-2c0e4b2e3735",
   "metadata": {},
   "outputs": [
    {
     "data": {
      "image/png": "[encoded data removed]",
      "text/plain": [
       "<Figure size 864x432 with 1 Axes>"
      ]
     },
     "metadata": {
      "needs_background": "light"
     },
     "output_type": "display_data"
    }
   ],
   "source": [
    "plt.figure(figsize = (12, 6))\n",
    "plt.title('Distribution of Star Wars Post Body Length (Number of Characters)')\n",
    "plt.xlim(-1000,40_000)\n",
    "sns.boxplot(x = no_removed_or_deleted[no_removed_or_deleted['subreddit_name'] == 'starwars']['submission_length'], color = 'dodgerblue')\n",
    "plt.tight_layout()\n",
    "plt.savefig('images/sw_post_length_boxplot_w_outliers.png');"
   ]
  },
  {
   "cell_type": "markdown",
   "id": "37c61de9-f3c1-41d4-9292-06546fdab1f2",
   "metadata": {},
   "source": [
    "### Note:\n",
    "I used code from this [stackoverflow answer](https://stackoverflow.com/a/59865265), adapted to my names and updated because of a deprecation, to get rid of outliers."
   ]
  },
  {
   "cell_type": "code",
   "execution_count": 183,
   "id": "50b3fe02-1f21-491f-9be0-4b69948b4bd4",
   "metadata": {},
   "outputs": [
    {
     "data": {
      "text/html": [
       "<div>\n",
       "<style scoped>\n",
       "    .dataframe tbody tr th:only-of-type {\n",
       "        vertical-align: middle;\n",
       "    }\n",
       "\n",
       "    .dataframe tbody tr th {\n",
       "        vertical-align: top;\n",
       "    }\n",
       "\n",
       "    .dataframe thead th {\n",
       "        text-align: right;\n",
       "    }\n",
       "</style>\n",
       "<table border=\"1\" class=\"dataframe\">\n",
       "  <thead>\n",
       "    <tr style=\"text-align: right;\">\n",
       "      <th></th>\n",
       "      <th>created_utc</th>\n",
       "      <th>selftext</th>\n",
       "      <th>subreddit_name</th>\n",
       "      <th>title</th>\n",
       "      <th>all_words</th>\n",
       "      <th>submission_length</th>\n",
       "      <th>title_length</th>\n",
       "      <th>submission_word_count</th>\n",
       "      <th>title_word_count</th>\n",
       "      <th>no_selftext</th>\n",
       "      <th>avg_word_length</th>\n",
       "    </tr>\n",
       "  </thead>\n",
       "  <tbody>\n",
       "    <tr>\n",
       "      <th>1394</th>\n",
       "      <td>1656243979</td>\n",
       "      <td></td>\n",
       "      <td>startrek</td>\n",
       "      <td>I’m beaming and I had to share - Sir Patrick Stewart answered my fan question on stage! An unforgettable moment for me.</td>\n",
       "      <td>I’m beaming and I had to share - Sir Patrick Stewart answered my fan question on stage! An unforgettable moment for me.</td>\n",
       "      <td>0.0</td>\n",
       "      <td>119.0</td>\n",
       "      <td>0.0</td>\n",
       "      <td>22.0</td>\n",
       "      <td>1.0</td>\n",
       "      <td>4.272727</td>\n",
       "    </tr>\n",
       "    <tr>\n",
       "      <th>1395</th>\n",
       "      <td>1656242414</td>\n",
       "      <td></td>\n",
       "      <td>startrek</td>\n",
       "      <td>America and the Star Trek Universe. Roe Vs Wade, LGBTQIA Rights, Racism.</td>\n",
       "      <td>America and the Star Trek Universe. Roe Vs Wade, LGBTQIA Rights, Racism.</td>\n",
       "      <td>0.0</td>\n",
       "      <td>72.0</td>\n",
       "      <td>0.0</td>\n",
       "      <td>12.0</td>\n",
       "      <td>1.0</td>\n",
       "      <td>4.750000</td>\n",
       "    </tr>\n",
       "    <tr>\n",
       "      <th>1396</th>\n",
       "      <td>1656224204</td>\n",
       "      <td></td>\n",
       "      <td>startrek</td>\n",
       "      <td>Analysis: Star Trek: The Next Generation’ Guest Stars Most Likely To Appear In ‘Picard’ Season 3</td>\n",
       "      <td>Analysis: Star Trek: The Next Generation’ Guest Stars Most Likely To Appear In ‘Picard’ Season 3</td>\n",
       "      <td>0.0</td>\n",
       "      <td>96.0</td>\n",
       "      <td>0.0</td>\n",
       "      <td>16.0</td>\n",
       "      <td>1.0</td>\n",
       "      <td>4.687500</td>\n",
       "    </tr>\n",
       "    <tr>\n",
       "      <th>1397</th>\n",
       "      <td>1656207850</td>\n",
       "      <td></td>\n",
       "      <td>startrek</td>\n",
       "      <td>One of the first occasions in which the word \"hell\" was used as profanity on television.</td>\n",
       "      <td>One of the first occasions in which the word \"hell\" was used as profanity on television.</td>\n",
       "      <td>0.0</td>\n",
       "      <td>88.0</td>\n",
       "      <td>0.0</td>\n",
       "      <td>16.0</td>\n",
       "      <td>1.0</td>\n",
       "      <td>4.375000</td>\n",
       "    </tr>\n",
       "    <tr>\n",
       "      <th>1398</th>\n",
       "      <td>1656195635</td>\n",
       "      <td></td>\n",
       "      <td>startrek</td>\n",
       "      <td>Is A TOS Reboot Coming Soon?</td>\n",
       "      <td>Is A TOS Reboot Coming Soon?</td>\n",
       "      <td>0.0</td>\n",
       "      <td>28.0</td>\n",
       "      <td>0.0</td>\n",
       "      <td>6.0</td>\n",
       "      <td>1.0</td>\n",
       "      <td>3.666667</td>\n",
       "    </tr>\n",
       "  </tbody>\n",
       "</table>\n",
       "</div>"
      ],
      "text/plain": [
       "      created_utc selftext subreddit_name  \\\n",
       "1394   1656243979                startrek   \n",
       "1395   1656242414                startrek   \n",
       "1396   1656224204                startrek   \n",
       "1397   1656207850                startrek   \n",
       "1398   1656195635                startrek   \n",
       "\n",
       "                                                                                                                        title  \\\n",
       "1394  I’m beaming and I had to share - Sir Patrick Stewart answered my fan question on stage! An unforgettable moment for me.   \n",
       "1395                                                 America and the Star Trek Universe. Roe Vs Wade, LGBTQIA Rights, Racism.   \n",
       "1396                         Analysis: Star Trek: The Next Generation’ Guest Stars Most Likely To Appear In ‘Picard’ Season 3   \n",
       "1397                                 One of the first occasions in which the word \"hell\" was used as profanity on television.   \n",
       "1398                                                                                             Is A TOS Reboot Coming Soon?   \n",
       "\n",
       "                                                                                                                    all_words  \\\n",
       "1394  I’m beaming and I had to share - Sir Patrick Stewart answered my fan question on stage! An unforgettable moment for me.   \n",
       "1395                                                 America and the Star Trek Universe. Roe Vs Wade, LGBTQIA Rights, Racism.   \n",
       "1396                         Analysis: Star Trek: The Next Generation’ Guest Stars Most Likely To Appear In ‘Picard’ Season 3   \n",
       "1397                                 One of the first occasions in which the word \"hell\" was used as profanity on television.   \n",
       "1398                                                                                             Is A TOS Reboot Coming Soon?   \n",
       "\n",
       "      submission_length  title_length  submission_word_count  \\\n",
       "1394                0.0         119.0                    0.0   \n",
       "1395                0.0          72.0                    0.0   \n",
       "1396                0.0          96.0                    0.0   \n",
       "1397                0.0          88.0                    0.0   \n",
       "1398                0.0          28.0                    0.0   \n",
       "\n",
       "      title_word_count  no_selftext  avg_word_length  \n",
       "1394              22.0          1.0         4.272727  \n",
       "1395              12.0          1.0         4.750000  \n",
       "1396              16.0          1.0         4.687500  \n",
       "1397              16.0          1.0         4.375000  \n",
       "1398               6.0          1.0         3.666667  "
      ]
     },
     "execution_count": 183,
     "metadata": {},
     "output_type": "execute_result"
    }
   ],
   "source": [
    "groups = no_removed_or_deleted.groupby('subreddit_name')['submission_length']\n",
    "groups_mean = groups.transform('mean')\n",
    "groups_std = groups.transform('std')\n",
    "m = no_removed_or_deleted['submission_length'].between(groups_mean.sub(groups_std.mul(3)),\n",
    "                      groups_mean.add(groups_std.mul(3)),\n",
    "                      inclusive='neither')\n",
    "outliers_removed = no_removed_or_deleted.loc[m]\n",
    "\n",
    "outliers_removed.head()"
   ]
  },
  {
   "cell_type": "code",
   "execution_count": 184,
   "id": "5849399a-2b54-493b-b926-16963e2674c5",
   "metadata": {},
   "outputs": [
    {
     "data": {
      "image/png": "[encoded data removed]",
      "text/plain": [
       "<Figure size 864x432 with 1 Axes>"
      ]
     },
     "metadata": {
      "needs_background": "light"
     },
     "output_type": "display_data"
    }
   ],
   "source": [
    "plt.figure(figsize = (12, 6))\n",
    "plt.title('Distribution of Star Trek Post Body Length (Number of Characters), Outliers Removed')\n",
    "sns.boxplot(x = outliers_removed[outliers_removed['subreddit_name'] == 'startrek']['submission_length'], color = 'dodgerblue')\n",
    "plt.tight_layout()\n",
    "plt.savefig('images/st_post_length_boxplot_outliers_removed.png');"
   ]
  },
  {
   "cell_type": "code",
   "execution_count": 185,
   "id": "aa605ebb-feef-410c-9937-14abb440fa7b",
   "metadata": {},
   "outputs": [
    {
     "data": {
      "image/png": "[encoded data removed]",
      "text/plain": [
       "<Figure size 864x432 with 1 Axes>"
      ]
     },
     "metadata": {
      "needs_background": "light"
     },
     "output_type": "display_data"
    }
   ],
   "source": [
    "plt.figure(figsize = (12, 6))\n",
    "plt.title('Distribution of Star Wars Post Body Length (Number of Characters), Outliers Removed')\n",
    "plt.xlim(-200,4_300)\n",
    "sns.boxplot(x = outliers_removed[outliers_removed['subreddit_name'] == 'starwars']['submission_length'], color = 'dodgerblue')\n",
    "plt.tight_layout()\n",
    "plt.savefig('images/sw_post_length_boxplot_outliers_removed.png');"
   ]
  },
  {
   "cell_type": "markdown",
   "id": "210d8431-49d4-4024-b308-38c61375c8e6",
   "metadata": {
    "tags": []
   },
   "source": [
    "## Post Body Length, Outliers Removed"
   ]
  },
  {
   "cell_type": "code",
   "execution_count": 149,
   "id": "06c057a9-0fed-4382-bf21-3062b5d7ab68",
   "metadata": {},
   "outputs": [
    {
     "name": "stdout",
     "output_type": "stream",
     "text": [
      "Submission length (characters) mean by subreddit is subreddit_name\n",
      "startrek    360.460047\n",
      "starwars    180.519604\n",
      "Name: submission_length, dtype: float64\n",
      "Submission length (characters median by subreddit is subreddit_name\n",
      "startrek    181.0\n",
      "starwars      0.0\n",
      "Name: submission_length, dtype: float64\n"
     ]
    }
   ],
   "source": [
    "print(f'Submission length (characters) mean by subreddit is {outliers_removed.groupby([\"subreddit_name\"])[\"submission_length\"].mean()}')\n",
    "print(f'Submission length (characters median by subreddit is {outliers_removed.groupby([\"subreddit_name\"])[\"submission_length\"].median()}')"
   ]
  },
  {
   "cell_type": "code",
   "execution_count": 186,
   "id": "fe50501b-ae21-4f80-ac70-d1ff64c69648",
   "metadata": {},
   "outputs": [
    {
     "data": {
      "image/png": "[encoded data removed]",
      "text/plain": [
       "<Figure size 432x288 with 2 Axes>"
      ]
     },
     "metadata": {
      "needs_background": "light"
     },
     "output_type": "display_data"
    }
   ],
   "source": [
    "subm_mean_len = outliers_removed.groupby([\"subreddit_name\"])[\"submission_length\"].mean().tolist()\n",
    "subm_median_len = outliers_removed.groupby([\"subreddit_name\"])[\"submission_length\"].median().tolist()\n",
    "\n",
    "fig, (ax1, ax2) = plt.subplots(1, 2, sharey = True)\n",
    "fig.suptitle('Post Length (Outliers Removed) by subreddit, \"startrek\" and \"StarWars\"', y = 1)\n",
    "fig.supylabel('Number of Characters')\n",
    "fig.supxlabel('subreddit')\n",
    "\n",
    "ax1.bar(['/r/startrek', '/r/StarWars'], [subm_mean_len[0], subm_mean_len[1]], color = 'dodgerblue')\n",
    "ax1.set_title('Mean Post Length')\n",
    "ax1.set_ylim(0,425)\n",
    "ax1.text(0, subm_mean_len[0]+10, round(subm_mean_len[0]), ha = 'center')\n",
    "ax1.text(1, subm_mean_len[1]+10, round(subm_mean_len[1]), ha = 'center')\n",
    "\n",
    "ax2.bar(['/r/startrek', '/r/StarWars'], [subm_median_len[0], subm_median_len[1]], color = 'dodgerblue')\n",
    "ax2.set_title('Median Post Length')\n",
    "ax2.text(0, subm_median_len[0]+10, round(subm_median_len[0]), ha = 'center')\n",
    "ax2.text(1, subm_median_len[1]+10, round(subm_median_len[1]), ha = 'center')\n",
    "\n",
    "plt.tight_layout()\n",
    "plt.savefig('images/post_length_outliers_removed.png');"
   ]
  },
  {
   "cell_type": "code",
   "execution_count": 151,
   "id": "2ad48c51-f503-43c8-85f2-b5f90ea9f9e0",
   "metadata": {},
   "outputs": [
    {
     "name": "stdout",
     "output_type": "stream",
     "text": [
      "With outliers removed, mean /r/startrek posts are 199.68 % as long as /r/StarWars posts\n"
     ]
    }
   ],
   "source": [
    "print(\"With outliers removed, mean /r/startrek posts are\", round((subm_mean_len[0]/subm_mean_len[1])*100, 2),'% as long as /r/StarWars posts')"
   ]
  },
  {
   "cell_type": "markdown",
   "id": "7afeb62b-342d-4a94-9f65-817c156a490f",
   "metadata": {
    "tags": []
   },
   "source": [
    "## Post Body Word Count, No Outliers Removed"
   ]
  },
  {
   "cell_type": "code",
   "execution_count": 152,
   "id": "4ba89e9d-32e6-49e0-b080-c5798d3b9520",
   "metadata": {},
   "outputs": [
    {
     "data": {
      "image/png": "[encoded data removed]",
      "text/plain": [
       "<Figure size 432x288 with 2 Axes>"
      ]
     },
     "metadata": {
      "needs_background": "light"
     },
     "output_type": "display_data"
    }
   ],
   "source": [
    "subm_word_count_mean = no_removed_or_deleted.groupby([\"subreddit_name\"])[\"submission_word_count\"].mean().tolist()\n",
    "subm_word_count_median = no_removed_or_deleted.groupby([\"subreddit_name\"])[\"submission_word_count\"].median().tolist()\n",
    "\n",
    "fig, (ax1, ax2) = plt.subplots(1, 2, sharey = True)\n",
    "fig.suptitle('Post Word Count by subreddit, Outliers Included, \"startrek\" and \"StarWars\"', y = 1)\n",
    "fig.supylabel('Number of Words')\n",
    "fig.supxlabel('subreddit')\n",
    "\n",
    "ax1.bar(['/r/startrek', '/r/StarWars'], [subm_word_count_mean[0], subm_word_count_mean[1]], color = 'dodgerblue')\n",
    "ax1.set_title('Mean Post Word Count')\n",
    "ax1.set_ylim(0,90)\n",
    "ax1.text(0, subm_word_count_mean[0]+2, round(subm_word_count_mean[0]), ha = 'center')\n",
    "ax1.text(1, subm_word_count_mean[1]+2, round(subm_word_count_mean[1]), ha = 'center')\n",
    "\n",
    "ax2.bar(['/r/startrek', '/r/StarWars'], [subm_word_count_median[0], subm_word_count_median[1]], color = 'dodgerblue')\n",
    "ax2.set_title('Median Post Word Count')\n",
    "ax2.text(0, subm_word_count_median[0]+2, round(subm_word_count_median[0]), ha = 'center')\n",
    "ax2.text(1, subm_word_count_median[1]+2, round(subm_word_count_median[1]), ha = 'center')\n",
    "\n",
    "plt.tight_layout()\n",
    "plt.savefig('images/post_word_count_w_outliers.png');"
   ]
  },
  {
   "cell_type": "code",
   "execution_count": 153,
   "id": "2a0c64d3-4a9e-4a40-b375-e735cb0261ef",
   "metadata": {},
   "outputs": [
    {
     "name": "stdout",
     "output_type": "stream",
     "text": [
      "Without outliers removed, mean /r/startrek post word counts are 180.63 % times as great as /r/StarWars posts\n"
     ]
    }
   ],
   "source": [
    "print(\"Without outliers removed, mean /r/startrek post word counts are\", round((subm_word_count_mean[0]/subm_word_count_mean[1])*100, 2),'% times as great as /r/StarWars posts')"
   ]
  },
  {
   "cell_type": "markdown",
   "id": "5be21c17-0004-42f4-83bb-e4d04edb11db",
   "metadata": {
    "tags": []
   },
   "source": [
    "## Exploring Outliers in Word Count"
   ]
  },
  {
   "cell_type": "code",
   "execution_count": 154,
   "id": "89c2b634-37df-400a-aede-e31e47375ad3",
   "metadata": {},
   "outputs": [
    {
     "data": {
      "text/html": [
       "<div>\n",
       "<style scoped>\n",
       "    .dataframe tbody tr th:only-of-type {\n",
       "        vertical-align: middle;\n",
       "    }\n",
       "\n",
       "    .dataframe tbody tr th {\n",
       "        vertical-align: top;\n",
       "    }\n",
       "\n",
       "    .dataframe thead th {\n",
       "        text-align: right;\n",
       "    }\n",
       "</style>\n",
       "<table border=\"1\" class=\"dataframe\">\n",
       "  <thead>\n",
       "    <tr style=\"text-align: right;\">\n",
       "      <th></th>\n",
       "      <th>created_utc</th>\n",
       "      <th>selftext</th>\n",
       "      <th>subreddit_name</th>\n",
       "      <th>title</th>\n",
       "      <th>all_words</th>\n",
       "      <th>submission_length</th>\n",
       "      <th>title_length</th>\n",
       "      <th>submission_word_count</th>\n",
       "      <th>title_word_count</th>\n",
       "      <th>no_selftext</th>\n",
       "      <th>avg_word_length</th>\n",
       "    </tr>\n",
       "  </thead>\n",
       "  <tbody>\n",
       "    <tr>\n",
       "      <th>0</th>\n",
       "      <td>1656261965</td>\n",
       "      <td>[removed]</td>\n",
       "      <td>startrek</td>\n",
       "      <td>Which version of Klingons will appear in SNW?</td>\n",
       "      <td>Which version of Klingons will appear in SNW?</td>\n",
       "      <td>9.0</td>\n",
       "      <td>45.0</td>\n",
       "      <td>1.0</td>\n",
       "      <td>8.0</td>\n",
       "      <td>0.0</td>\n",
       "      <td>4.625000</td>\n",
       "    </tr>\n",
       "    <tr>\n",
       "      <th>1</th>\n",
       "      <td>1656254308</td>\n",
       "      <td>[removed]</td>\n",
       "      <td>startrek</td>\n",
       "      <td>On the Gorn and language</td>\n",
       "      <td>On the Gorn and language</td>\n",
       "      <td>9.0</td>\n",
       "      <td>24.0</td>\n",
       "      <td>1.0</td>\n",
       "      <td>5.0</td>\n",
       "      <td>0.0</td>\n",
       "      <td>4.000000</td>\n",
       "    </tr>\n",
       "    <tr>\n",
       "      <th>2</th>\n",
       "      <td>1656248567</td>\n",
       "      <td>[removed]</td>\n",
       "      <td>startrek</td>\n",
       "      <td>What are some good things that can be said about Star Trek V?</td>\n",
       "      <td>What are some good things that can be said about Star Trek V?</td>\n",
       "      <td>9.0</td>\n",
       "      <td>61.0</td>\n",
       "      <td>1.0</td>\n",
       "      <td>13.0</td>\n",
       "      <td>0.0</td>\n",
       "      <td>3.692308</td>\n",
       "    </tr>\n",
       "    <tr>\n",
       "      <th>3</th>\n",
       "      <td>1656238740</td>\n",
       "      <td>[removed]</td>\n",
       "      <td>startrek</td>\n",
       "      <td>A Lord of the Rings reference in SNW 1x08</td>\n",
       "      <td>A Lord of the Rings reference in SNW 1x08</td>\n",
       "      <td>9.0</td>\n",
       "      <td>41.0</td>\n",
       "      <td>1.0</td>\n",
       "      <td>9.0</td>\n",
       "      <td>0.0</td>\n",
       "      <td>3.333333</td>\n",
       "    </tr>\n",
       "    <tr>\n",
       "      <th>4</th>\n",
       "      <td>1656238132</td>\n",
       "      <td>[removed]</td>\n",
       "      <td>startrek</td>\n",
       "      <td>The sword props used in SNW 1x08 are replicas of Aragorn's sword from 'The Fellowship of the Ring' and 'The Two Towers'</td>\n",
       "      <td>The sword props used in SNW 1x08 are replicas of Aragorn's sword from 'The Fellowship of the Ring' and 'The Two Towers'</td>\n",
       "      <td>9.0</td>\n",
       "      <td>119.0</td>\n",
       "      <td>1.0</td>\n",
       "      <td>22.0</td>\n",
       "      <td>0.0</td>\n",
       "      <td>4.090909</td>\n",
       "    </tr>\n",
       "  </tbody>\n",
       "</table>\n",
       "</div>"
      ],
      "text/plain": [
       "   created_utc   selftext subreddit_name  \\\n",
       "0   1656261965  [removed]       startrek   \n",
       "1   1656254308  [removed]       startrek   \n",
       "2   1656248567  [removed]       startrek   \n",
       "3   1656238740  [removed]       startrek   \n",
       "4   1656238132  [removed]       startrek   \n",
       "\n",
       "                                                                                                                     title  \\\n",
       "0                                                                            Which version of Klingons will appear in SNW?   \n",
       "1                                                                                                 On the Gorn and language   \n",
       "2                                                            What are some good things that can be said about Star Trek V?   \n",
       "3                                                                                A Lord of the Rings reference in SNW 1x08   \n",
       "4  The sword props used in SNW 1x08 are replicas of Aragorn's sword from 'The Fellowship of the Ring' and 'The Two Towers'   \n",
       "\n",
       "                                                                                                                 all_words  \\\n",
       "0                                                                            Which version of Klingons will appear in SNW?   \n",
       "1                                                                                                 On the Gorn and language   \n",
       "2                                                            What are some good things that can be said about Star Trek V?   \n",
       "3                                                                                A Lord of the Rings reference in SNW 1x08   \n",
       "4  The sword props used in SNW 1x08 are replicas of Aragorn's sword from 'The Fellowship of the Ring' and 'The Two Towers'   \n",
       "\n",
       "   submission_length  title_length  submission_word_count  title_word_count  \\\n",
       "0                9.0          45.0                    1.0               8.0   \n",
       "1                9.0          24.0                    1.0               5.0   \n",
       "2                9.0          61.0                    1.0              13.0   \n",
       "3                9.0          41.0                    1.0               9.0   \n",
       "4                9.0         119.0                    1.0              22.0   \n",
       "\n",
       "   no_selftext  avg_word_length  \n",
       "0          0.0         4.625000  \n",
       "1          0.0         4.000000  \n",
       "2          0.0         3.692308  \n",
       "3          0.0         3.333333  \n",
       "4          0.0         4.090909  "
      ]
     },
     "execution_count": 154,
     "metadata": {},
     "output_type": "execute_result"
    }
   ],
   "source": [
    "df.head()"
   ]
  },
  {
   "cell_type": "code",
   "execution_count": 155,
   "id": "f22ad67d-43be-4b8f-890c-5d911cb6a2aa",
   "metadata": {},
   "outputs": [
    {
     "data": {
      "image/png": "[encoded data removed]",
      "text/plain": [
       "<Figure size 864x432 with 1 Axes>"
      ]
     },
     "metadata": {
      "needs_background": "light"
     },
     "output_type": "display_data"
    }
   ],
   "source": [
    "plt.figure(figsize = (12, 6))\n",
    "plt.title('Distribution of Star Trek Post Body Word Count, Outliers Included')\n",
    "sns.boxplot(x = no_removed_or_deleted[no_removed_or_deleted['subreddit_name'] == 'startrek']['submission_word_count'], color = 'dodgerblue')\n",
    "plt.tight_layout()\n",
    "plt.savefig('images/st_post_word_count_boxplot_w_outliers.png');"
   ]
  },
  {
   "cell_type": "code",
   "execution_count": 156,
   "id": "850e1317-1b66-4931-bdd9-bb485357dcaa",
   "metadata": {},
   "outputs": [
    {
     "data": {
      "image/png": "[encoded data removed]",
      "text/plain": [
       "<Figure size 864x432 with 1 Axes>"
      ]
     },
     "metadata": {
      "needs_background": "light"
     },
     "output_type": "display_data"
    }
   ],
   "source": [
    "plt.figure(figsize = (12, 6))\n",
    "plt.xlim(-100,5250)\n",
    "plt.title('Distribution of Star Trek Post Body Word Count, Outliers Included')\n",
    "sns.boxplot(x = no_removed_or_deleted[no_removed_or_deleted['subreddit_name'] == 'starwars']['submission_word_count'], color = 'dodgerblue')\n",
    "plt.tight_layout()\n",
    "plt.savefig('images/sw_post_word_count_boxplot_w_outliers.png');"
   ]
  },
  {
   "cell_type": "code",
   "execution_count": 157,
   "id": "ab5f5c0c-2918-4fb6-85b1-e8714602c47d",
   "metadata": {},
   "outputs": [
    {
     "data": {
      "text/html": [
       "<div>\n",
       "<style scoped>\n",
       "    .dataframe tbody tr th:only-of-type {\n",
       "        vertical-align: middle;\n",
       "    }\n",
       "\n",
       "    .dataframe tbody tr th {\n",
       "        vertical-align: top;\n",
       "    }\n",
       "\n",
       "    .dataframe thead th {\n",
       "        text-align: right;\n",
       "    }\n",
       "</style>\n",
       "<table border=\"1\" class=\"dataframe\">\n",
       "  <thead>\n",
       "    <tr style=\"text-align: right;\">\n",
       "      <th></th>\n",
       "      <th>created_utc</th>\n",
       "      <th>selftext</th>\n",
       "      <th>subreddit_name</th>\n",
       "      <th>title</th>\n",
       "      <th>all_words</th>\n",
       "      <th>submission_length</th>\n",
       "      <th>title_length</th>\n",
       "      <th>submission_word_count</th>\n",
       "      <th>title_word_count</th>\n",
       "      <th>no_selftext</th>\n",
       "      <th>avg_word_length</th>\n",
       "    </tr>\n",
       "  </thead>\n",
       "  <tbody>\n",
       "    <tr>\n",
       "      <th>1394</th>\n",
       "      <td>1656243979</td>\n",
       "      <td></td>\n",
       "      <td>startrek</td>\n",
       "      <td>I’m beaming and I had to share - Sir Patrick Stewart answered my fan question on stage! An unforgettable moment for me.</td>\n",
       "      <td>I’m beaming and I had to share - Sir Patrick Stewart answered my fan question on stage! An unforgettable moment for me.</td>\n",
       "      <td>0.0</td>\n",
       "      <td>119.0</td>\n",
       "      <td>0.0</td>\n",
       "      <td>22.0</td>\n",
       "      <td>1.0</td>\n",
       "      <td>4.272727</td>\n",
       "    </tr>\n",
       "    <tr>\n",
       "      <th>1395</th>\n",
       "      <td>1656242414</td>\n",
       "      <td></td>\n",
       "      <td>startrek</td>\n",
       "      <td>America and the Star Trek Universe. Roe Vs Wade, LGBTQIA Rights, Racism.</td>\n",
       "      <td>America and the Star Trek Universe. Roe Vs Wade, LGBTQIA Rights, Racism.</td>\n",
       "      <td>0.0</td>\n",
       "      <td>72.0</td>\n",
       "      <td>0.0</td>\n",
       "      <td>12.0</td>\n",
       "      <td>1.0</td>\n",
       "      <td>4.750000</td>\n",
       "    </tr>\n",
       "    <tr>\n",
       "      <th>1396</th>\n",
       "      <td>1656224204</td>\n",
       "      <td></td>\n",
       "      <td>startrek</td>\n",
       "      <td>Analysis: Star Trek: The Next Generation’ Guest Stars Most Likely To Appear In ‘Picard’ Season 3</td>\n",
       "      <td>Analysis: Star Trek: The Next Generation’ Guest Stars Most Likely To Appear In ‘Picard’ Season 3</td>\n",
       "      <td>0.0</td>\n",
       "      <td>96.0</td>\n",
       "      <td>0.0</td>\n",
       "      <td>16.0</td>\n",
       "      <td>1.0</td>\n",
       "      <td>4.687500</td>\n",
       "    </tr>\n",
       "    <tr>\n",
       "      <th>1397</th>\n",
       "      <td>1656207850</td>\n",
       "      <td></td>\n",
       "      <td>startrek</td>\n",
       "      <td>One of the first occasions in which the word \"hell\" was used as profanity on television.</td>\n",
       "      <td>One of the first occasions in which the word \"hell\" was used as profanity on television.</td>\n",
       "      <td>0.0</td>\n",
       "      <td>88.0</td>\n",
       "      <td>0.0</td>\n",
       "      <td>16.0</td>\n",
       "      <td>1.0</td>\n",
       "      <td>4.375000</td>\n",
       "    </tr>\n",
       "    <tr>\n",
       "      <th>1398</th>\n",
       "      <td>1656195635</td>\n",
       "      <td></td>\n",
       "      <td>startrek</td>\n",
       "      <td>Is A TOS Reboot Coming Soon?</td>\n",
       "      <td>Is A TOS Reboot Coming Soon?</td>\n",
       "      <td>0.0</td>\n",
       "      <td>28.0</td>\n",
       "      <td>0.0</td>\n",
       "      <td>6.0</td>\n",
       "      <td>1.0</td>\n",
       "      <td>3.666667</td>\n",
       "    </tr>\n",
       "  </tbody>\n",
       "</table>\n",
       "</div>"
      ],
      "text/plain": [
       "      created_utc selftext subreddit_name  \\\n",
       "1394   1656243979                startrek   \n",
       "1395   1656242414                startrek   \n",
       "1396   1656224204                startrek   \n",
       "1397   1656207850                startrek   \n",
       "1398   1656195635                startrek   \n",
       "\n",
       "                                                                                                                        title  \\\n",
       "1394  I’m beaming and I had to share - Sir Patrick Stewart answered my fan question on stage! An unforgettable moment for me.   \n",
       "1395                                                 America and the Star Trek Universe. Roe Vs Wade, LGBTQIA Rights, Racism.   \n",
       "1396                         Analysis: Star Trek: The Next Generation’ Guest Stars Most Likely To Appear In ‘Picard’ Season 3   \n",
       "1397                                 One of the first occasions in which the word \"hell\" was used as profanity on television.   \n",
       "1398                                                                                             Is A TOS Reboot Coming Soon?   \n",
       "\n",
       "                                                                                                                    all_words  \\\n",
       "1394  I’m beaming and I had to share - Sir Patrick Stewart answered my fan question on stage! An unforgettable moment for me.   \n",
       "1395                                                 America and the Star Trek Universe. Roe Vs Wade, LGBTQIA Rights, Racism.   \n",
       "1396                         Analysis: Star Trek: The Next Generation’ Guest Stars Most Likely To Appear In ‘Picard’ Season 3   \n",
       "1397                                 One of the first occasions in which the word \"hell\" was used as profanity on television.   \n",
       "1398                                                                                             Is A TOS Reboot Coming Soon?   \n",
       "\n",
       "      submission_length  title_length  submission_word_count  \\\n",
       "1394                0.0         119.0                    0.0   \n",
       "1395                0.0          72.0                    0.0   \n",
       "1396                0.0          96.0                    0.0   \n",
       "1397                0.0          88.0                    0.0   \n",
       "1398                0.0          28.0                    0.0   \n",
       "\n",
       "      title_word_count  no_selftext  avg_word_length  \n",
       "1394              22.0          1.0         4.272727  \n",
       "1395              12.0          1.0         4.750000  \n",
       "1396              16.0          1.0         4.687500  \n",
       "1397              16.0          1.0         4.375000  \n",
       "1398               6.0          1.0         3.666667  "
      ]
     },
     "execution_count": 157,
     "metadata": {},
     "output_type": "execute_result"
    }
   ],
   "source": [
    "groups = no_removed_or_deleted.groupby('subreddit_name')['submission_word_count']\n",
    "groups_mean = groups.transform('mean')\n",
    "groups_std = groups.transform('std')\n",
    "m = no_removed_or_deleted['submission_word_count'].between(groups_mean.sub(groups_std.mul(3)),\n",
    "                      groups_mean.add(groups_std.mul(3)),\n",
    "                      inclusive='neither')\n",
    "outliers_removed = no_removed_or_deleted.loc[m]\n",
    "\n",
    "outliers_removed.head()"
   ]
  },
  {
   "cell_type": "code",
   "execution_count": 158,
   "id": "3f1c0c26-612e-433d-9e97-da7ad4c36dcd",
   "metadata": {},
   "outputs": [
    {
     "data": {
      "image/png": "[encoded data removed]",
      "text/plain": [
       "<Figure size 864x432 with 1 Axes>"
      ]
     },
     "metadata": {
      "needs_background": "light"
     },
     "output_type": "display_data"
    }
   ],
   "source": [
    "plt.figure(figsize = (12, 6))\n",
    "plt.title('Distribution of Star Trek Post Body Word Count, Outliers Removed')\n",
    "sns.boxplot(x = outliers_removed[outliers_removed['subreddit_name'] == 'startrek']['submission_word_count'], color = 'dodgerblue')\n",
    "plt.tight_layout()\n",
    "plt.savefig('images/st_post_word_count_boxplot_outliers_removed.png');"
   ]
  },
  {
   "cell_type": "code",
   "execution_count": 159,
   "id": "b8d6b71f-8881-47b6-b3e9-201ee5a47035",
   "metadata": {},
   "outputs": [
    {
     "data": {
      "image/png": "[encoded data removed]",
      "text/plain": [
       "<Figure size 864x432 with 1 Axes>"
      ]
     },
     "metadata": {
      "needs_background": "light"
     },
     "output_type": "display_data"
    }
   ],
   "source": [
    "plt.figure(figsize = (12, 6))\n",
    "plt.xlim(-25, 710)\n",
    "plt.title('Distribution of Star Wars Post Body Word Count, Outliers Removed')\n",
    "sns.boxplot(x = outliers_removed[outliers_removed['subreddit_name'] == 'starwars']['submission_word_count'], color = 'dodgerblue')\n",
    "plt.tight_layout()\n",
    "plt.savefig('images/sw_post_word_count_boxplot_outliers_removed.png');"
   ]
  },
  {
   "cell_type": "markdown",
   "id": "f67e5158-a674-41a7-8d56-6062856c14f3",
   "metadata": {
    "tags": []
   },
   "source": [
    "## Post Body Word Count, Outliers Removed"
   ]
  },
  {
   "cell_type": "code",
   "execution_count": 160,
   "id": "50ec4752-2a90-4151-8b47-69a62507c40a",
   "metadata": {},
   "outputs": [
    {
     "data": {
      "image/png": "[encoded data removed]",
      "text/plain": [
       "<Figure size 432x288 with 2 Axes>"
      ]
     },
     "metadata": {
      "needs_background": "light"
     },
     "output_type": "display_data"
    }
   ],
   "source": [
    "subm_word_count_mean = outliers_removed.groupby([\"subreddit_name\"])[\"submission_word_count\"].mean().tolist()\n",
    "subm_word_count_median = outliers_removed.groupby([\"subreddit_name\"])[\"submission_word_count\"].median().tolist()\n",
    "\n",
    "fig, (ax1, ax2) = plt.subplots(1, 2, sharey = True)\n",
    "fig.suptitle('Post Word Count by subreddit, Outliers Removed, \"startrek\" and \"StarWars\"', y = 1)\n",
    "fig.supylabel('Number of Words')\n",
    "fig.supxlabel('subreddit')\n",
    "\n",
    "ax1.bar(['/r/startrek', '/r/StarWars'], [subm_word_count_mean[0], subm_word_count_mean[1]], color = 'dodgerblue')\n",
    "ax1.set_title('Mean Post Word Count')\n",
    "ax1.set_ylim(0,75)\n",
    "ax1.text(0, subm_word_count_mean[0]+2, round(subm_word_count_mean[0]), ha = 'center')\n",
    "ax1.text(1, subm_word_count_mean[1]+2, round(subm_word_count_mean[1]), ha = 'center')\n",
    "\n",
    "ax2.bar(['/r/startrek', '/r/StarWars'], [subm_word_count_median[0], subm_word_count_median[1]], color = 'dodgerblue')\n",
    "ax2.set_title('Median Post Word Count')\n",
    "ax2.text(0, subm_word_count_median[0]+2, round(subm_word_count_median[0]), ha = 'center')\n",
    "ax2.text(1, subm_word_count_median[1]+2, round(subm_word_count_median[1]), ha = 'center')\n",
    "\n",
    "plt.tight_layout()\n",
    "plt.savefig('images/post_word_count_outliers_removed.png');"
   ]
  },
  {
   "cell_type": "code",
   "execution_count": 161,
   "id": "98fde4e6-647d-40c6-b422-686c6e7a7280",
   "metadata": {},
   "outputs": [
    {
     "name": "stdout",
     "output_type": "stream",
     "text": [
      "With outliers removed, mean /r/startrek post word counts are 189.97 % times as great as /r/StarWars posts\n"
     ]
    }
   ],
   "source": [
    "print(\"With outliers removed, mean /r/startrek post word counts are\", round((subm_word_count_mean[0]/subm_word_count_mean[1])*100, 2),'% times as great as /r/StarWars posts')"
   ]
  },
  {
   "cell_type": "markdown",
   "id": "c40e7905-b5a8-4dd8-ae3d-a9148a1d9f5b",
   "metadata": {},
   "source": [
    "-----"
   ]
  },
  {
   "cell_type": "markdown",
   "id": "94b86bbd-d2d7-438b-b6d7-0267a1403db2",
   "metadata": {
    "tags": []
   },
   "source": [
    "# Exploring Word Length in Posts, Both Titles and Bodies ('selftext'), With and Without Outliers"
   ]
  },
  {
   "cell_type": "markdown",
   "id": "f517bbea-2457-42eb-9096-cf69095502d5",
   "metadata": {},
   "source": [
    "I wanted to see if there was a difference in the length of the words used in each subreddit. I returned to using all the text available, both bodies ('selftext') and titles because of the prevalance of body free /r/StarWars posts. As it turns out, /r/startrek has both longer mean and median word lengths. \n",
    "\n",
    "A point for further future exploration would be to look at only bodies of posts: do people use longer words in bodies regardless of subreddit, thus skewing the Star Trek posts because they have more posts with bodies in them?"
   ]
  },
  {
   "cell_type": "code",
   "execution_count": 188,
   "id": "e5d88a2e-06c6-4b9e-9e82-1756dd68bb0e",
   "metadata": {},
   "outputs": [
    {
     "data": {
      "image/png": "[encoded data removed]",
      "text/plain": [
       "<Figure size 432x288 with 2 Axes>"
      ]
     },
     "metadata": {
      "needs_background": "light"
     },
     "output_type": "display_data"
    }
   ],
   "source": [
    "mean_word_length = df.groupby('subreddit_name')['avg_word_length'].mean().tolist()\n",
    "median_word_length = df.groupby('subreddit_name')['avg_word_length'].median().tolist()\n",
    "\n",
    "fig, (ax1, ax2) = plt.subplots(1, 2, sharey = True)\n",
    "fig.suptitle('Apx. Word Length by subreddit, \"startrek\" and \"StarWars\"')\n",
    "fig.supylabel('Number of Characters')\n",
    "fig.supxlabel('subreddit')\n",
    "\n",
    "ax1.bar(['/r/startrek', '/r/StarWars'], [mean_word_length[0], mean_word_length[1]], color = 'dodgerblue')\n",
    "ax1.set_title('Mean Apx. Word Length')\n",
    "ax1.set_ylim(0,5.5)\n",
    "ax1.text(0, mean_word_length[0]+.1, round(mean_word_length[0], 2), ha = 'center')\n",
    "ax1.text(1, mean_word_length[1]+.1, round(mean_word_length[1], 2), ha = 'center')\n",
    "\n",
    "ax2.bar(['/r/startrek', '/r/StarWars'], [median_word_length[0], median_word_length[1]], color = 'dodgerblue')\n",
    "ax2.set_title('Median Apx. Word Length')\n",
    "ax2.text(0, median_word_length[0]+.1, round(median_word_length[0], 2), ha = 'center')\n",
    "ax2.text(1, median_word_length[1]+.1, round(median_word_length[1], 2), ha = 'center')\n",
    "\n",
    "plt.tight_layout()\n",
    "plt.savefig('images/word_lengths.png');"
   ]
  },
  {
   "cell_type": "code",
   "execution_count": 189,
   "id": "aa3e6f48-437e-4d6b-8270-efafbfe61170",
   "metadata": {},
   "outputs": [
    {
     "name": "stdout",
     "output_type": "stream",
     "text": [
      "With outliers included, mean /r/startrek post word counts are 104.68 % times as great as /r/StarWars posts\n",
      "With outliers included, median /r/startrek post word counts are 103.97 % times as great as /r/StarWars posts\n"
     ]
    }
   ],
   "source": [
    "print(\"With outliers included, mean /r/startrek post word counts are\", round((mean_word_length[0]/mean_word_length[1])*100, 2),'% times as great as /r/StarWars posts')\n",
    "print(\"With outliers included, median /r/startrek post word counts are\", round((median_word_length[0]/median_word_length[1])*100, 2),'% times as great as /r/StarWars posts')\n"
   ]
  },
  {
   "cell_type": "code",
   "execution_count": 190,
   "id": "1110e02e-682f-4ba1-aa16-86f431f217f3",
   "metadata": {},
   "outputs": [
    {
     "data": {
      "image/png": "[encoded data removed]",
      "text/plain": [
       "<Figure size 864x432 with 1 Axes>"
      ]
     },
     "metadata": {
      "needs_background": "light"
     },
     "output_type": "display_data"
    }
   ],
   "source": [
    "plt.figure(figsize = (12, 6))\n",
    "plt.xlim(-2, 32)\n",
    "plt.title('Distribution of Star Trek Average Word Length, Outliers Included')\n",
    "sns.boxplot(x = df[df['subreddit_name'] == 'startrek']['avg_word_length'], color = 'dodgerblue')\n",
    "plt.tight_layout()\n",
    "plt.savefig('images/st_avg_word_length_boxplot_w_outliers.png');"
   ]
  },
  {
   "cell_type": "code",
   "execution_count": 191,
   "id": "47a8907f-57dd-4d3f-ad61-ebb70b708780",
   "metadata": {},
   "outputs": [
    {
     "data": {
      "image/png": "[encoded data removed]",
      "text/plain": [
       "<Figure size 864x432 with 1 Axes>"
      ]
     },
     "metadata": {
      "needs_background": "light"
     },
     "output_type": "display_data"
    }
   ],
   "source": [
    "plt.figure(figsize = (12, 6))\n",
    "plt.title('Distribution of Star Wars Average Word Length, Outliers Included')\n",
    "sns.boxplot(x = df[df['subreddit_name'] == 'starwars']['avg_word_length'], color = 'dodgerblue')\n",
    "plt.tight_layout()\n",
    "plt.savefig('images/sw_avg_word_length_boxplot_w_outliers.png');"
   ]
  },
  {
   "cell_type": "code",
   "execution_count": 192,
   "id": "98a42592-ea80-488c-9f30-9b43a163abf9",
   "metadata": {},
   "outputs": [
    {
     "data": {
      "text/html": [
       "<div>\n",
       "<style scoped>\n",
       "    .dataframe tbody tr th:only-of-type {\n",
       "        vertical-align: middle;\n",
       "    }\n",
       "\n",
       "    .dataframe tbody tr th {\n",
       "        vertical-align: top;\n",
       "    }\n",
       "\n",
       "    .dataframe thead th {\n",
       "        text-align: right;\n",
       "    }\n",
       "</style>\n",
       "<table border=\"1\" class=\"dataframe\">\n",
       "  <thead>\n",
       "    <tr style=\"text-align: right;\">\n",
       "      <th></th>\n",
       "      <th>created_utc</th>\n",
       "      <th>selftext</th>\n",
       "      <th>subreddit_name</th>\n",
       "      <th>title</th>\n",
       "      <th>all_words</th>\n",
       "      <th>submission_length</th>\n",
       "      <th>title_length</th>\n",
       "      <th>submission_word_count</th>\n",
       "      <th>title_word_count</th>\n",
       "      <th>no_selftext</th>\n",
       "      <th>avg_word_length</th>\n",
       "    </tr>\n",
       "  </thead>\n",
       "  <tbody>\n",
       "    <tr>\n",
       "      <th>1394</th>\n",
       "      <td>1656243979</td>\n",
       "      <td></td>\n",
       "      <td>startrek</td>\n",
       "      <td>I’m beaming and I had to share - Sir Patrick Stewart answered my fan question on stage! An unforgettable moment for me.</td>\n",
       "      <td>I’m beaming and I had to share - Sir Patrick Stewart answered my fan question on stage! An unforgettable moment for me.</td>\n",
       "      <td>0.0</td>\n",
       "      <td>119.0</td>\n",
       "      <td>0.0</td>\n",
       "      <td>22.0</td>\n",
       "      <td>1.0</td>\n",
       "      <td>4.272727</td>\n",
       "    </tr>\n",
       "    <tr>\n",
       "      <th>1395</th>\n",
       "      <td>1656242414</td>\n",
       "      <td></td>\n",
       "      <td>startrek</td>\n",
       "      <td>America and the Star Trek Universe. Roe Vs Wade, LGBTQIA Rights, Racism.</td>\n",
       "      <td>America and the Star Trek Universe. Roe Vs Wade, LGBTQIA Rights, Racism.</td>\n",
       "      <td>0.0</td>\n",
       "      <td>72.0</td>\n",
       "      <td>0.0</td>\n",
       "      <td>12.0</td>\n",
       "      <td>1.0</td>\n",
       "      <td>4.750000</td>\n",
       "    </tr>\n",
       "    <tr>\n",
       "      <th>1396</th>\n",
       "      <td>1656224204</td>\n",
       "      <td></td>\n",
       "      <td>startrek</td>\n",
       "      <td>Analysis: Star Trek: The Next Generation’ Guest Stars Most Likely To Appear In ‘Picard’ Season 3</td>\n",
       "      <td>Analysis: Star Trek: The Next Generation’ Guest Stars Most Likely To Appear In ‘Picard’ Season 3</td>\n",
       "      <td>0.0</td>\n",
       "      <td>96.0</td>\n",
       "      <td>0.0</td>\n",
       "      <td>16.0</td>\n",
       "      <td>1.0</td>\n",
       "      <td>4.687500</td>\n",
       "    </tr>\n",
       "    <tr>\n",
       "      <th>1397</th>\n",
       "      <td>1656207850</td>\n",
       "      <td></td>\n",
       "      <td>startrek</td>\n",
       "      <td>One of the first occasions in which the word \"hell\" was used as profanity on television.</td>\n",
       "      <td>One of the first occasions in which the word \"hell\" was used as profanity on television.</td>\n",
       "      <td>0.0</td>\n",
       "      <td>88.0</td>\n",
       "      <td>0.0</td>\n",
       "      <td>16.0</td>\n",
       "      <td>1.0</td>\n",
       "      <td>4.375000</td>\n",
       "    </tr>\n",
       "    <tr>\n",
       "      <th>1398</th>\n",
       "      <td>1656195635</td>\n",
       "      <td></td>\n",
       "      <td>startrek</td>\n",
       "      <td>Is A TOS Reboot Coming Soon?</td>\n",
       "      <td>Is A TOS Reboot Coming Soon?</td>\n",
       "      <td>0.0</td>\n",
       "      <td>28.0</td>\n",
       "      <td>0.0</td>\n",
       "      <td>6.0</td>\n",
       "      <td>1.0</td>\n",
       "      <td>3.666667</td>\n",
       "    </tr>\n",
       "  </tbody>\n",
       "</table>\n",
       "</div>"
      ],
      "text/plain": [
       "      created_utc selftext subreddit_name  \\\n",
       "1394   1656243979                startrek   \n",
       "1395   1656242414                startrek   \n",
       "1396   1656224204                startrek   \n",
       "1397   1656207850                startrek   \n",
       "1398   1656195635                startrek   \n",
       "\n",
       "                                                                                                                        title  \\\n",
       "1394  I’m beaming and I had to share - Sir Patrick Stewart answered my fan question on stage! An unforgettable moment for me.   \n",
       "1395                                                 America and the Star Trek Universe. Roe Vs Wade, LGBTQIA Rights, Racism.   \n",
       "1396                         Analysis: Star Trek: The Next Generation’ Guest Stars Most Likely To Appear In ‘Picard’ Season 3   \n",
       "1397                                 One of the first occasions in which the word \"hell\" was used as profanity on television.   \n",
       "1398                                                                                             Is A TOS Reboot Coming Soon?   \n",
       "\n",
       "                                                                                                                    all_words  \\\n",
       "1394  I’m beaming and I had to share - Sir Patrick Stewart answered my fan question on stage! An unforgettable moment for me.   \n",
       "1395                                                 America and the Star Trek Universe. Roe Vs Wade, LGBTQIA Rights, Racism.   \n",
       "1396                         Analysis: Star Trek: The Next Generation’ Guest Stars Most Likely To Appear In ‘Picard’ Season 3   \n",
       "1397                                 One of the first occasions in which the word \"hell\" was used as profanity on television.   \n",
       "1398                                                                                             Is A TOS Reboot Coming Soon?   \n",
       "\n",
       "      submission_length  title_length  submission_word_count  \\\n",
       "1394                0.0         119.0                    0.0   \n",
       "1395                0.0          72.0                    0.0   \n",
       "1396                0.0          96.0                    0.0   \n",
       "1397                0.0          88.0                    0.0   \n",
       "1398                0.0          28.0                    0.0   \n",
       "\n",
       "      title_word_count  no_selftext  avg_word_length  \n",
       "1394              22.0          1.0         4.272727  \n",
       "1395              12.0          1.0         4.750000  \n",
       "1396              16.0          1.0         4.687500  \n",
       "1397              16.0          1.0         4.375000  \n",
       "1398               6.0          1.0         3.666667  "
      ]
     },
     "execution_count": 192,
     "metadata": {},
     "output_type": "execute_result"
    }
   ],
   "source": [
    "groups = df.groupby('subreddit_name')['avg_word_length']\n",
    "groups_mean = groups.transform('mean')\n",
    "groups_std = groups.transform('std')\n",
    "m = df['avg_word_length'].between(groups_mean.sub(groups_std.mul(3)),\n",
    "                      groups_mean.add(groups_std.mul(3)),\n",
    "                      inclusive='neither')\n",
    "outliers_removed = no_removed_or_deleted.loc[m]\n",
    "\n",
    "outliers_removed.head()"
   ]
  },
  {
   "cell_type": "code",
   "execution_count": 193,
   "id": "d597e953-5674-443f-b692-878c12c6225f",
   "metadata": {},
   "outputs": [
    {
     "data": {
      "image/png": "[encoded data removed]",
      "text/plain": [
       "<Figure size 864x432 with 1 Axes>"
      ]
     },
     "metadata": {
      "needs_background": "light"
     },
     "output_type": "display_data"
    }
   ],
   "source": [
    "plt.figure(figsize = (12, 6))\n",
    "#plt.xlim(-2, 32)\n",
    "plt.title('Distribution of Star Trek Average Word Length, Outliers Removed')\n",
    "sns.boxplot(x = outliers_removed[outliers_removed['subreddit_name'] == 'startrek']['avg_word_length'], color = 'dodgerblue')\n",
    "plt.tight_layout()\n",
    "plt.savefig('images/st_avg_word_length_boxplot_outliers_removed.png');"
   ]
  },
  {
   "cell_type": "code",
   "execution_count": 194,
   "id": "49b9c671-1755-4300-af2f-56eb7b296fc0",
   "metadata": {},
   "outputs": [
    {
     "data": {
      "image/png": "[encoded data removed]",
      "text/plain": [
       "<Figure size 864x432 with 1 Axes>"
      ]
     },
     "metadata": {
      "needs_background": "light"
     },
     "output_type": "display_data"
    }
   ],
   "source": [
    "plt.figure(figsize = (12, 6))\n",
    "#plt.xlim(-2, 32)\n",
    "plt.title('Distribution of Star Wars Average Word Length, Outliers Removed')\n",
    "sns.boxplot(x = outliers_removed[outliers_removed['subreddit_name'] == 'starwars']['avg_word_length'], color = 'dodgerblue')\n",
    "plt.tight_layout()\n",
    "plt.savefig('images/sw_avg_word_length_boxplot_outliers_removed.png');"
   ]
  },
  {
   "cell_type": "code",
   "execution_count": 196,
   "id": "a7bee554-e1ec-4cbe-b9d9-87e1dc4365bf",
   "metadata": {},
   "outputs": [
    {
     "data": {
      "image/png": "[encoded data removed]",
      "text/plain": [
       "<Figure size 432x288 with 2 Axes>"
      ]
     },
     "metadata": {
      "needs_background": "light"
     },
     "output_type": "display_data"
    }
   ],
   "source": [
    "mean_word_length = outliers_removed.groupby('subreddit_name')['avg_word_length'].mean().tolist()\n",
    "median_word_length = outliers_removed.groupby('subreddit_name')['avg_word_length'].median().tolist()\n",
    "\n",
    "fig, (ax1, ax2) = plt.subplots(1, 2, sharey = True)\n",
    "fig.suptitle('Apx. Word Length by subreddit, \"startrek\" and \"StarWars\"')\n",
    "fig.supylabel('Number of Characters')\n",
    "fig.supxlabel('subreddit')\n",
    "\n",
    "ax1.bar(['/r/startrek', '/r/StarWars'], [mean_word_length[0], mean_word_length[1]], color = 'dodgerblue')\n",
    "ax1.set_title('Mean Apx. Word Length')\n",
    "ax1.set_ylim(0,5.5)\n",
    "ax1.text(0, mean_word_length[0]+.1, round(mean_word_length[0], 2), ha = 'center')\n",
    "ax1.text(1, mean_word_length[1]+.1, round(mean_word_length[1], 2), ha = 'center')\n",
    "\n",
    "ax2.bar(['/r/startrek', '/r/StarWars'], [median_word_length[0], median_word_length[1]], color = 'dodgerblue')\n",
    "ax2.set_title('Median Apx. Word Length')\n",
    "ax2.text(0, median_word_length[0]+.1, round(median_word_length[0], 2), ha = 'center')\n",
    "ax2.text(1, median_word_length[1]+.1, round(median_word_length[1], 2), ha = 'center')\n",
    "\n",
    "plt.tight_layout()\n",
    "plt.savefig('images/word_lengths_outliers_removed.png');"
   ]
  },
  {
   "cell_type": "code",
   "execution_count": 170,
   "id": "a4b85308-6fae-4d55-aadd-f072d96e9d0f",
   "metadata": {},
   "outputs": [
    {
     "name": "stdout",
     "output_type": "stream",
     "text": [
      "Without outliers included, mean /r/startrek post word counts are 104.65 % times as great as /r/StarWars posts\n",
      "Without outliers included, median /r/startrek post word counts are 104.01 % times as great as /r/StarWars posts\n"
     ]
    }
   ],
   "source": [
    "print(\"Without outliers included, mean /r/startrek post word counts are\", round((mean_word_length[0]/mean_word_length[1])*100, 2),'% times as great as /r/StarWars posts')\n",
    "print(\"Without outliers included, median /r/startrek post word counts are\", round((median_word_length[0]/median_word_length[1])*100, 2),'% times as great as /r/StarWars posts')\n"
   ]
  },
  {
   "cell_type": "markdown",
   "id": "eb27b1c4-45c1-4868-a592-d74113edaea5",
   "metadata": {},
   "source": [
    "-----"
   ]
  },
  {
   "cell_type": "code",
   "execution_count": 171,
   "id": "825760c5-2b23-499f-8333-9f840caca9bd",
   "metadata": {},
   "outputs": [
    {
     "ename": "NameError",
     "evalue": "name 'no_remov_del_subm' is not defined",
     "output_type": "error",
     "traceback": [
      "\u001b[0;31m---------------------------------------------------------------------------\u001b[0m",
      "\u001b[0;31mNameError\u001b[0m                                 Traceback (most recent call last)",
      "Input \u001b[0;32mIn [171]\u001b[0m, in \u001b[0;36m<cell line: 1>\u001b[0;34m()\u001b[0m\n\u001b[0;32m----> 1\u001b[0m \u001b[43mno_remov_del_subm\u001b[49m\u001b[38;5;241m.\u001b[39mhead()\n",
      "\u001b[0;31mNameError\u001b[0m: name 'no_remov_del_subm' is not defined"
     ]
    }
   ],
   "source": [
    "no_remov_del_subm.head()"
   ]
  },
  {
   "cell_type": "code",
   "execution_count": 172,
   "id": "6568cd35-c788-4673-98f8-62f0c8cb6303",
   "metadata": {},
   "outputs": [
    {
     "ename": "NameError",
     "evalue": "name 'no_remov_del_subm' is not defined",
     "output_type": "error",
     "traceback": [
      "\u001b[0;31m---------------------------------------------------------------------------\u001b[0m",
      "\u001b[0;31mNameError\u001b[0m                                 Traceback (most recent call last)",
      "Input \u001b[0;32mIn [172]\u001b[0m, in \u001b[0;36m<cell line: 1>\u001b[0;34m()\u001b[0m\n\u001b[0;32m----> 1\u001b[0m all_blanks_and_text \u001b[38;5;241m=\u001b[39m \u001b[43mno_remov_del_subm\u001b[49m\u001b[38;5;241m.\u001b[39mcopy()\n\u001b[1;32m      2\u001b[0m all_blanks_and_text[\u001b[38;5;124m'\u001b[39m\u001b[38;5;124mall_words\u001b[39m\u001b[38;5;124m'\u001b[39m]\u001b[38;5;241m=\u001b[39m no_remov_del_subm[\u001b[38;5;124m'\u001b[39m\u001b[38;5;124mselftext\u001b[39m\u001b[38;5;124m'\u001b[39m]\u001b[38;5;241m+\u001b[39m\u001b[38;5;124m'\u001b[39m\u001b[38;5;124m \u001b[39m\u001b[38;5;124m'\u001b[39m\u001b[38;5;241m+\u001b[39m no_remov_del_subm[\u001b[38;5;124m'\u001b[39m\u001b[38;5;124mtitle\u001b[39m\u001b[38;5;124m'\u001b[39m]\n\u001b[1;32m      3\u001b[0m all_blanks_and_text \u001b[38;5;241m=\u001b[39m all_blanks_and_text[[\u001b[38;5;124m'\u001b[39m\u001b[38;5;124msubreddit_name\u001b[39m\u001b[38;5;124m'\u001b[39m, \u001b[38;5;124m'\u001b[39m\u001b[38;5;124mall_words\u001b[39m\u001b[38;5;124m'\u001b[39m]]\n",
      "\u001b[0;31mNameError\u001b[0m: name 'no_remov_del_subm' is not defined"
     ]
    }
   ],
   "source": [
    "all_blanks_and_text = no_remov_del_subm.copy()\n",
    "all_blanks_and_text['all_words']= no_remov_del_subm['selftext']+' '+ no_remov_del_subm['title']\n",
    "all_blanks_and_text = all_blanks_and_text[['subreddit_name', 'all_words']]\n",
    "print('Head for new dataframe:\\n', all_blanks_and_text.head(1))\n",
    "print('')\n",
    "print('Shape for new dataframe', all_blanks_and_text.shape)\n",
    "print(' ')\n",
    "\n",
    "cvec = CountVectorizer(stop_words = 'english')\n",
    "cvec.fit(all_blanks_and_text['all_words'])\n",
    "vectorized = cvec.transform(all_blanks_and_text['all_words'])\n",
    "print('Shape for vectorized',vectorized.shape)\n",
    "print(' ')\n",
    "\n",
    "\n",
    "vectorized = pd.DataFrame(vectorized.todense(), columns = cvec.get_feature_names_out())\n",
    "print('Shape for vectorized dataframe:', vectorized.shape)\n",
    "print('Confirming the type is dataframe', type(vectorized))\n",
    "print('')\n",
    "print('Checking the new dataframe head\\n',vectorized.head())"
   ]
  },
  {
   "cell_type": "markdown",
   "id": "f09cb841-76f9-4611-bc63-c5eeb63ef7b7",
   "metadata": {},
   "source": [
    "Initially, I was getting too many rows. Reading [this](https://stackoverflow.com/a/55726005) made it clear it was because of residual indexes, so I reset the indexes. Initially, I got some weird additional columns, so I played with it\n"
   ]
  },
  {
   "cell_type": "code",
   "execution_count": 173,
   "id": "aa175188-1b6b-4913-8f72-b6d542d883f1",
   "metadata": {},
   "outputs": [
    {
     "ename": "NameError",
     "evalue": "name 'all_blanks_and_text' is not defined",
     "output_type": "error",
     "traceback": [
      "\u001b[0;31m---------------------------------------------------------------------------\u001b[0m",
      "\u001b[0;31mNameError\u001b[0m                                 Traceback (most recent call last)",
      "Input \u001b[0;32mIn [173]\u001b[0m, in \u001b[0;36m<cell line: 2>\u001b[0;34m()\u001b[0m\n\u001b[1;32m      1\u001b[0m subreddit_names \u001b[38;5;241m=\u001b[39m pd\u001b[38;5;241m.\u001b[39mDataFrame()\n\u001b[0;32m----> 2\u001b[0m subreddit_names[\u001b[38;5;124m'\u001b[39m\u001b[38;5;124msubreddit_name\u001b[39m\u001b[38;5;124m'\u001b[39m] \u001b[38;5;241m=\u001b[39m \u001b[43mall_blanks_and_text\u001b[49m[\u001b[38;5;124m'\u001b[39m\u001b[38;5;124msubreddit_name\u001b[39m\u001b[38;5;124m'\u001b[39m]\n\u001b[1;32m      3\u001b[0m subreddit_names \u001b[38;5;241m=\u001b[39m subreddit_names\u001b[38;5;241m.\u001b[39mreset_index()\n\u001b[1;32m      5\u001b[0m all_words_df \u001b[38;5;241m=\u001b[39m pd\u001b[38;5;241m.\u001b[39mconcat([subreddit_names, vectorized], axis \u001b[38;5;241m=\u001b[39m \u001b[38;5;241m1\u001b[39m)\n",
      "\u001b[0;31mNameError\u001b[0m: name 'all_blanks_and_text' is not defined"
     ]
    }
   ],
   "source": [
    "subreddit_names = pd.DataFrame()\n",
    "subreddit_names['subreddit_name'] = all_blanks_and_text['subreddit_name']\n",
    "subreddit_names = subreddit_names.reset_index()\n",
    "\n",
    "all_words_df = pd.concat([subreddit_names, vectorized], axis = 1)\n",
    "all_words_df = all_words_df.drop(columns = 'index')\n",
    "print('Shape for dataframe after adding in \"subreddit name\":', all_words_df.shape)\n",
    "print('Checking head of new dataframe:\\n',all_words_df.head())\n",
    "print(' ')\n",
    "print('*'*25)\n",
    "print('')\n",
    "\n",
    "print(f'The top 10 words in all these posts are:\\n{all_words_df.drop(columns = \"subreddit_name\").sum().sort_values(ascending = False)[:10]}')\n",
    "print(f'The top 10 words in all Star Trek posts are:\\n{all_words_df[all_words_df[\"subreddit_name\"]==\"startrek\"].drop(columns = \"subreddit_name\").sum().sort_values(ascending = False)[:10]}')\n",
    "print(f'The top 10 words in all Star Wars posts are:\\n{all_words_df[all_words_df[\"subreddit_name\"]==\"starwars\"].drop(columns = \"subreddit_name\").sum().sort_values(ascending = False)[:10]}')\n"
   ]
  },
  {
   "cell_type": "markdown",
   "id": "238f03c1-bba4-4fe0-a917-56ca74fc2258",
   "metadata": {
    "tags": []
   },
   "source": [
    "# Exploring Word Counts in Non-Removed Submission Posts with Proper Names Removed\n",
    "\n",
    "I used the dataframe that I developed that combines titles and text into a single column for analysis. Now, though, I'm going to remove proper names I found were used frequently by adding to the stopwords. I opted to look at the top 50 words from the dataframe as a whole, among /r/startrek elements, and among /r/StarWars elements. I created a set with these words and selected the proper names by hand. \n",
    "\n",
    "There are a few choices that were subjective:\n",
    "\n",
    "This includes removing \"star\" (most frequent word), \"trek\", and \"wars\" because they appear so frequently and are from the titles of these franchises. Also: 'force' (The Force). I also removed 'strange' because it's in the title of 'strange new worlds', though I've left in 'new' and 'worlds', which is a debatable decision. I've left 'order' in (i.e. not included it in my new stop words), though that may be a reference to the 'Sith Order' in Star Wars. 'captain' is another word I've left, though it's worth noting that is a very 'Star Trek' word, as almost every episode/show/movie has a captain, which is not true of Star Wars.\n",
    "\n",
    "This [stackoverflow answer](https://stackoverflow.com/a/24386751) showed me how to combine the 'english' stopwords with my proper name stopwords.\n",
    "\n",
    "Ultimately, I'm glad to have done this analysis, but I don't find what's left particularly revelatory. In terms of learning about the subreddits from the perspective of the most commonly used words, it seems to me that there's more to be gleaned (and more fun to be had) by seeing which characters, shows, etc., that show up versus the fairly banal list of words (and even abbreviations) that appear in the words that appear at the top of the lists when the proper names are removed."
   ]
  },
  {
   "cell_type": "code",
   "execution_count": 174,
   "id": "fa17e945-9d15-4d32-84a6-3c2e191770c3",
   "metadata": {},
   "outputs": [
    {
     "name": "stdout",
     "output_type": "stream",
     "text": [
      "Vectorized shape: (6946, 19047)\n",
      "\n",
      "Vectorized dataframe shape (6946, 19047)\n",
      "Confirming its type is dataframe: <class 'pandas.core.frame.DataFrame'>\n",
      "Head of vectorized dataframe:\n",
      "    00  000  001  006225_8c6a1dd3  01  010  01414tqwn0t0  01x06  02  021  ...  \\\n",
      "0   0    0    0                0   0    0             0      0   0    0  ...   \n",
      "\n",
      "   ليلة  مهذبة  نسخ  وليلة  एक  लचस  षक  ดท  ทางเข  าส  \n",
      "0     0      0    0      0   0    0   0   0      0   0  \n",
      "\n",
      "[1 rows x 19047 columns]\n",
      "\n",
      "Shape of dataframe with subbreddit names restored: (6946, 19047)\n",
      "Head of dataframe with subbreddit names restored:\n",
      "   subreddit_name  00  000  001  006225_8c6a1dd3  01  010  01414tqwn0t0  01x06  \\\n",
      "0       startrek   0    0    0                0   0    0             0      0   \n",
      "\n",
      "   02  ...  ليلة  مهذبة  نسخ  وليلة  एक  लचस  षक  ดท  ทางเข  าส  \n",
      "0   0  ...     0      0    0      0   0    0   0   0      0   0  \n",
      "\n",
      "[1 rows x 19047 columns]\n",
      "\n",
      "*************************\n",
      "The top 10 words in all these posts are:\n",
      "like       1738\n",
      "episode    1691\n",
      "just       1649\n",
      "new        1265\n",
      "season     1192\n",
      "think       923\n",
      "time        899\n",
      "know        860\n",
      "series      835\n",
      "did         731\n",
      "dtype: int64\n",
      "The top 10 words in all Star Trek posts are:\n",
      "new        946\n",
      "like       908\n",
      "just       891\n",
      "episode    813\n",
      "season     631\n",
      "time       576\n",
      "worlds     494\n",
      "know       444\n",
      "series     427\n",
      "think      413\n",
      "dtype: int64\n",
      "The top 10 words in all Star Wars posts are:\n",
      "episode    878\n",
      "like       830\n",
      "just       758\n",
      "season     561\n",
      "think      510\n",
      "know       416\n",
      "series     408\n",
      "did        400\n",
      "really     363\n",
      "time       323\n",
      "dtype: int64\n"
     ]
    }
   ],
   "source": [
    "cvec = CountVectorizer(stop_words = expanded_stopwords)\n",
    "cvec.fit(df['all_words'])\n",
    "vectorized = cvec.transform(df['all_words'])\n",
    "print('Vectorized shape:', vectorized.shape)\n",
    "print('')\n",
    "\n",
    "vectorized = pd.DataFrame(vectorized.todense(), columns = cvec.get_feature_names_out())\n",
    "print('Vectorized dataframe shape',vectorized.shape)\n",
    "print(\"Confirming its type is dataframe:\", type(vectorized))\n",
    "print(\"Head of vectorized dataframe:\\n\",vectorized.head(1))\n",
    "print('')\n",
    "\n",
    "subreddit_names = pd.DataFrame()\n",
    "subreddit_names['subreddit_name'] = df['subreddit_name']\n",
    "subreddit_names = subreddit_names.reset_index()\n",
    "\n",
    "temp_df = pd.concat([subreddit_names, vectorized], axis = 1)\n",
    "temp_df = temp_df.drop(columns = 'index')\n",
    "print(\"Shape of dataframe with subbreddit names restored:\", temp_df.shape)\n",
    "print(\"Head of dataframe with subbreddit names restored:\\n\", temp_df.head(1))\n",
    "\n",
    "print('')\n",
    "print('*'*25)\n",
    "\n",
    "print(f'The top 10 words in all these posts are:\\n{temp_df.drop(columns = \"subreddit_name\").sum().sort_values(ascending = False)[:10]}')\n",
    "print(f'The top 10 words in all Star Trek posts are:\\n{temp_df[temp_df[\"subreddit_name\"]==\"startrek\"].drop(columns = \"subreddit_name\").sum().sort_values(ascending = False)[:10]}')\n",
    "print(f'The top 10 words in all Star Wars posts are:\\n{temp_df[temp_df[\"subreddit_name\"]==\"starwars\"].drop(columns = \"subreddit_name\").sum().sort_values(ascending = False)[:10]}')\n"
   ]
  },
  {
   "cell_type": "code",
   "execution_count": 175,
   "id": "797cadf1-e589-4f1d-88ff-ad4cab68928c",
   "metadata": {},
   "outputs": [
    {
     "name": "stdout",
     "output_type": "stream",
     "text": [
      "Top 50 words, all posts ['like', 'episode', 'just', 'new', 'season', 'think', 'time', 'know', 'series', 'did', 'really', 've', 'don', 'people', 'does', 'good', 'worlds', 'watch', 'way', 'character', 'love', 'amp', 'make', 'watching', 'episodes', 'want', 'feel', 'best', 'ship', 'story', 'didn', 'years', 'got', 'https', 'characters', 'shows', 'seen', 'great', 'going', 'lot', 'say', 'end', 'movies', 'com', 'movie', 'things', 'scene', 'thought', 'better', 'old']\n",
      " \n",
      "Top 50 words, Star Trek subreddit ['new', 'like', 'just', 'episode', 'season', 'time', 'worlds', 'know', 'series', 'think', 've', 'really', 'don', 'did', 'ship', 'episodes', 'people', 'does', 'good', 'watch', 'love', 'crew', 'watching', 'way', 'https', 'years', 'best', 'amp', 'com', 'make', 'character', 'characters', 'timeline', 'seen', 'want', 'space', 'got', 'going', 'future', 'shows', 'feel', 'story', 'universe', 'great', 'didn', 'life', 'things', 'end', 'different', 'better']\n",
      " \n",
      "Top 50 words, Star Wars subreddit ['episode', 'like', 'just', 'season', 'think', 'know', 'series', 'did', 'really', 'time', 'new', 've', 'don', 'people', 'does', 'way', 'character', 'good', 'watch', 'amp', 'make', 'feel', 'want', 'didn', 'story', 'scene', 'movie', 'love', 'watching', 'movies', 'got', 'fight', 'finale', 'hope', 'say', 'best', 'dark', 'lot', 'shows', 'great', 'thought', 'kill', 'canon', 'thing', 'end', 'bad', 'spoilers', 'tv', 'seen', 'old']\n",
      "\n",
      "Set of words that appear in these three top 50s, in alphabetical order ['amp', 'bad', 'best', 'better', 'canon', 'character', 'characters', 'com', 'crew', 'dark', 'did', 'didn', 'different', 'does', 'don', 'end', 'episode', 'episodes', 'feel', 'fight', 'finale', 'future', 'going', 'good', 'got', 'great', 'hope', 'https', 'just', 'kill', 'know', 'life', 'like', 'lot', 'love', 'make', 'movie', 'movies', 'new', 'old', 'people', 'really', 'say', 'scene', 'season', 'seen', 'series', 'ship', 'shows', 'space', 'spoilers', 'story', 'thing', 'things', 'think', 'thought', 'time', 'timeline', 'tv', 'universe', 've', 'want', 'watch', 'watching', 'way', 'worlds', 'years']\n"
     ]
    }
   ],
   "source": [
    "top_50 = temp_df.drop(columns = \"subreddit_name\").sum().sort_values(ascending = False).head(50).keys().tolist()\n",
    "print('Top 50 words, all posts', top_50)\n",
    "print(' ')\n",
    "top_50_st = temp_df[temp_df[\"subreddit_name\"]==\"startrek\"].drop(columns = \"subreddit_name\").sum().sort_values(ascending = False).head(50).keys().tolist()\n",
    "print('Top 50 words, Star Trek subreddit', top_50_st)\n",
    "print(' ')\n",
    "top_50_sw = temp_df[temp_df[\"subreddit_name\"]==\"starwars\"].drop(columns = \"subreddit_name\").sum().sort_values(ascending = False).head(50).keys().tolist()\n",
    "print('Top 50 words, Star Wars subreddit', top_50_sw)\n",
    "print('')\n",
    "\n",
    "combined_top_set = set(top_50+top_50_st+top_50_sw)\n",
    "print('Set of words that appear in these three top 50s, in alphabetical order', sorted(combined_top_set))"
   ]
  },
  {
   "cell_type": "code",
   "execution_count": 176,
   "id": "1eb9e7c3-8298-4375-a590-f33323384831",
   "metadata": {},
   "outputs": [
    {
     "data": {
      "image/png": "[encoded data removed]",
      "text/plain": [
       "<Figure size 1080x504 with 3 Axes>"
      ]
     },
     "metadata": {
      "needs_background": "light"
     },
     "output_type": "display_data"
    }
   ],
   "source": [
    "allkeys = temp_df.drop(columns = \"subreddit_name\").sum().sort_values(ascending = False).head(15).keys().tolist()\n",
    "allvalues = temp_df.drop(columns = \"subreddit_name\").sum().sort_values(ascending = False).head(15).tolist()\n",
    "\n",
    "stkeys = temp_df[temp_df[\"subreddit_name\"]==\"startrek\"].drop(columns = \"subreddit_name\").sum().sort_values(ascending = False).head(15).keys().tolist()\n",
    "stvalues = temp_df[temp_df[\"subreddit_name\"]==\"startrek\"].drop(columns = \"subreddit_name\").sum().sort_values(ascending = False).head(15).tolist()\n",
    "\n",
    "swkeys = temp_df[temp_df[\"subreddit_name\"]==\"starwars\"].drop(columns = \"subreddit_name\").sum().sort_values(ascending = False).head(15).keys().tolist()\n",
    "swvalues = temp_df[temp_df[\"subreddit_name\"]==\"starwars\"].drop(columns = \"subreddit_name\").sum().sort_values(ascending = False).head(15).tolist()\n",
    "\n",
    "fig, (ax1, ax2, ax3) = plt.subplots(1, 3, figsize = (15,7)) #not setting sharey the same because the number of each is a different scale\n",
    "\n",
    "fig.suptitle('Most Common Words,\\n Expanded Stopwords List Removed')\n",
    "\n",
    "ax1.bar(allkeys, allvalues)\n",
    "ax1.tick_params(rotation = 45)\n",
    "ax1.set_title('All Posts', pad = 10)\n",
    "ax1.set_ylabel('Number of Appearances', labelpad = 25)\n",
    "\n",
    "ax2.bar(stkeys, stvalues)\n",
    "ax2.tick_params(rotation = 45)\n",
    "ax2.set_title('/r/startrek', pad = 10)\n",
    "\n",
    "ax3.bar(swkeys, swvalues)\n",
    "ax3.tick_params(rotation = 45)\n",
    "ax3.set_title('/r/StarWars', pad = 10)\n",
    "\n",
    "plt.tight_layout()\n",
    "plt.savefig('images/commonwords2.png');"
   ]
  },
  {
   "cell_type": "markdown",
   "id": "b4434ffa-9771-43f5-89f5-7e6c24ad075b",
   "metadata": {},
   "source": [
    "-----"
   ]
  },
  {
   "cell_type": "markdown",
   "id": "441ce747-e73c-4146-920b-a1a1d0e9eb13",
   "metadata": {},
   "source": [
    "# Exporting the dataframe I want to work from for modeling"
   ]
  },
  {
   "cell_type": "code",
   "execution_count": 177,
   "id": "54dcc1b4-b5f6-4b11-bf1f-64e95304bfbd",
   "metadata": {},
   "outputs": [
    {
     "data": {
      "text/plain": [
       "(6946, 11)"
      ]
     },
     "execution_count": 177,
     "metadata": {},
     "output_type": "execute_result"
    }
   ],
   "source": [
    "df.shape"
   ]
  },
  {
   "cell_type": "code",
   "execution_count": 178,
   "id": "a56f23c7-fbe5-4f36-bef7-01c8fca679b3",
   "metadata": {},
   "outputs": [],
   "source": [
    "if os.path.exists(f'data/cleaned_all_text{date.today()}.csv') == True:\n",
    "    print('ERROR: This filename exists. Please choose a different filename. FILE WAS NOT SAVED.')\n",
    "else:\n",
    "    df.to_csv(f'data/cleaned_all_text{date.today()}.csv', index = False)"
   ]
  },
  {
   "cell_type": "code",
   "execution_count": null,
   "id": "967f1dd5-5de8-447b-ad28-717f216e0614",
   "metadata": {},
   "outputs": [],
   "source": [
    "# below is a line that can be uncommented and used to create a new dataframe on the same date.\n",
    "# It's set to create cleaned_all_text{TODAY'SDATE}-1.\n",
    "\n",
    "# all_blanks_and_text.to_csv(f'data/cleaned_all_text{date.today()}-1.csv', index = False)"
   ]
  }
 ],
 "metadata": {
  "kernelspec": {
   "display_name": "Python [conda env:dsi]",
   "language": "python",
   "name": "conda-env-dsi-py"
  },
  "language_info": {
   "codemirror_mode": {
    "name": "ipython",
    "version": 3
   },
   "file_extension": ".py",
   "mimetype": "text/x-python",
   "name": "python",
   "nbconvert_exporter": "python",
   "pygments_lexer": "ipython3",
   "version": "3.9.12"
  }
 },
 "nbformat": 4,
 "nbformat_minor": 5
}
