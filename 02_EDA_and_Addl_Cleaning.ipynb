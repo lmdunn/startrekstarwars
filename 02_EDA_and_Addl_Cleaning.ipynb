{
 "cells": [
  {
   "cell_type": "code",
   "execution_count": 60,
   "id": "36dc7c06-e4ec-4cd8-9437-dd6ec67e883f",
   "metadata": {},
   "outputs": [],
   "source": [
    "import matplotlib.pyplot as plt\n",
    "import pandas as pd\n",
    "import seaborn as sns\n",
    "\n",
    "from nltk.corpus import stopwords\n",
    "from sklearn.feature_extraction.text import CountVectorizer\n",
    "\n",
    "pd.options.display.max_colwidth = 400 #we used this in the NLP EDA Lab 5.02 and it I thought it makes sense to use it here, too."
   ]
  },
  {
   "cell_type": "code",
   "execution_count": 25,
   "id": "61ad5408-d996-4f7c-925d-19570985b816",
   "metadata": {},
   "outputs": [],
   "source": [
    "df = pd.read_csv('data/data2022-06-25.csv')"
   ]
  },
  {
   "cell_type": "code",
   "execution_count": 26,
   "id": "af8edd15-9263-42d7-9da6-ff18ac40ecbe",
   "metadata": {},
   "outputs": [],
   "source": [
    "back_up = df.copy()"
   ]
  },
  {
   "cell_type": "code",
   "execution_count": 27,
   "id": "c3459b52-b567-4cba-b2d0-afd50ddc2969",
   "metadata": {},
   "outputs": [
    {
     "data": {
      "text/html": [
       "<div>\n",
       "<style scoped>\n",
       "    .dataframe tbody tr th:only-of-type {\n",
       "        vertical-align: middle;\n",
       "    }\n",
       "\n",
       "    .dataframe tbody tr th {\n",
       "        vertical-align: top;\n",
       "    }\n",
       "\n",
       "    .dataframe thead th {\n",
       "        text-align: right;\n",
       "    }\n",
       "</style>\n",
       "<table border=\"1\" class=\"dataframe\">\n",
       "  <thead>\n",
       "    <tr style=\"text-align: right;\">\n",
       "      <th></th>\n",
       "      <th>created_utc</th>\n",
       "      <th>selftext</th>\n",
       "      <th>subreddit</th>\n",
       "      <th>title</th>\n",
       "    </tr>\n",
       "  </thead>\n",
       "  <tbody>\n",
       "    <tr>\n",
       "      <th>0</th>\n",
       "      <td>1656160828</td>\n",
       "      <td>[removed]</td>\n",
       "      <td>startrek</td>\n",
       "      <td>I hope Strange New Worlds encourages a new generation to watch TOS, rekindling a love similar to the one us “old timers” have.</td>\n",
       "    </tr>\n",
       "  </tbody>\n",
       "</table>\n",
       "</div>"
      ],
      "text/plain": [
       "   created_utc   selftext subreddit  \\\n",
       "0   1656160828  [removed]  startrek   \n",
       "\n",
       "                                                                                                                            title  \n",
       "0  I hope Strange New Worlds encourages a new generation to watch TOS, rekindling a love similar to the one us “old timers” have.  "
      ]
     },
     "execution_count": 27,
     "metadata": {},
     "output_type": "execute_result"
    }
   ],
   "source": [
    "df.head(1)"
   ]
  },
  {
   "cell_type": "code",
   "execution_count": 28,
   "id": "3fece033-5c06-4fde-a4f5-8dfb722f0797",
   "metadata": {},
   "outputs": [
    {
     "data": {
      "text/plain": [
       "created_utc     int64\n",
       "selftext       object\n",
       "subreddit      object\n",
       "title          object\n",
       "dtype: object"
      ]
     },
     "execution_count": 28,
     "metadata": {},
     "output_type": "execute_result"
    }
   ],
   "source": [
    "df.dtypes"
   ]
  },
  {
   "cell_type": "code",
   "execution_count": 29,
   "id": "a394bec2-b6c1-44a7-aac6-64b5c06e779e",
   "metadata": {},
   "outputs": [
    {
     "data": {
      "text/plain": [
       "created_utc       0\n",
       "selftext       2396\n",
       "subreddit         0\n",
       "title             0\n",
       "dtype: int64"
      ]
     },
     "execution_count": 29,
     "metadata": {},
     "output_type": "execute_result"
    }
   ],
   "source": [
    "df.isnull().sum()"
   ]
  },
  {
   "cell_type": "code",
   "execution_count": 30,
   "id": "a69fb60b-b840-4ca8-a56f-6a0ae5c61856",
   "metadata": {},
   "outputs": [
    {
     "data": {
      "text/plain": [
       "created_utc    0\n",
       "selftext       0\n",
       "subreddit      0\n",
       "title          0\n",
       "dtype: int64"
      ]
     },
     "execution_count": 30,
     "metadata": {},
     "output_type": "execute_result"
    }
   ],
   "source": [
    "df['selftext'] = df['selftext'].fillna('')\n",
    "df.isnull().sum()"
   ]
  },
  {
   "cell_type": "markdown",
   "id": "fcf4e3ae-8211-44da-a182-295ac77ecf45",
   "metadata": {},
   "source": [
    "I referenced the NLP EDA Lab 5.02 for this code to add column and word counts"
   ]
  },
  {
   "cell_type": "code",
   "execution_count": 31,
   "id": "536b6a72-57ea-427c-948f-8d6fcabf7b77",
   "metadata": {},
   "outputs": [
    {
     "data": {
      "text/html": [
       "<div>\n",
       "<style scoped>\n",
       "    .dataframe tbody tr th:only-of-type {\n",
       "        vertical-align: middle;\n",
       "    }\n",
       "\n",
       "    .dataframe tbody tr th {\n",
       "        vertical-align: top;\n",
       "    }\n",
       "\n",
       "    .dataframe thead th {\n",
       "        text-align: right;\n",
       "    }\n",
       "</style>\n",
       "<table border=\"1\" class=\"dataframe\">\n",
       "  <thead>\n",
       "    <tr style=\"text-align: right;\">\n",
       "      <th></th>\n",
       "      <th>created_utc</th>\n",
       "      <th>selftext</th>\n",
       "      <th>subreddit</th>\n",
       "      <th>title</th>\n",
       "      <th>submission_length</th>\n",
       "      <th>submission_word_count</th>\n",
       "      <th>title_length</th>\n",
       "      <th>title_word_count</th>\n",
       "    </tr>\n",
       "  </thead>\n",
       "  <tbody>\n",
       "    <tr>\n",
       "      <th>0</th>\n",
       "      <td>1656160828</td>\n",
       "      <td>[removed]</td>\n",
       "      <td>startrek</td>\n",
       "      <td>I hope Strange New Worlds encourages a new generation to watch TOS, rekindling a love similar to the one us “old timers” have.</td>\n",
       "      <td>9</td>\n",
       "      <td>1</td>\n",
       "      <td>126</td>\n",
       "      <td>23</td>\n",
       "    </tr>\n",
       "    <tr>\n",
       "      <th>1</th>\n",
       "      <td>1656148312</td>\n",
       "      <td>[removed]</td>\n",
       "      <td>startrek</td>\n",
       "      <td>Dr. M'Benga issues</td>\n",
       "      <td>9</td>\n",
       "      <td>1</td>\n",
       "      <td>18</td>\n",
       "      <td>3</td>\n",
       "    </tr>\n",
       "    <tr>\n",
       "      <th>2</th>\n",
       "      <td>1656143958</td>\n",
       "      <td>[removed]</td>\n",
       "      <td>startrek</td>\n",
       "      <td>The Star Trek: Enterprise theme song is the worst</td>\n",
       "      <td>9</td>\n",
       "      <td>1</td>\n",
       "      <td>49</td>\n",
       "      <td>9</td>\n",
       "    </tr>\n",
       "    <tr>\n",
       "      <th>3</th>\n",
       "      <td>1656137319</td>\n",
       "      <td>[removed]</td>\n",
       "      <td>startrek</td>\n",
       "      <td>I think I have found evidence of time travel</td>\n",
       "      <td>9</td>\n",
       "      <td>1</td>\n",
       "      <td>44</td>\n",
       "      <td>9</td>\n",
       "    </tr>\n",
       "    <tr>\n",
       "      <th>4</th>\n",
       "      <td>1656135541</td>\n",
       "      <td>[removed]</td>\n",
       "      <td>startrek</td>\n",
       "      <td>Old Trek and new Trek, a question</td>\n",
       "      <td>9</td>\n",
       "      <td>1</td>\n",
       "      <td>33</td>\n",
       "      <td>7</td>\n",
       "    </tr>\n",
       "  </tbody>\n",
       "</table>\n",
       "</div>"
      ],
      "text/plain": [
       "   created_utc   selftext subreddit  \\\n",
       "0   1656160828  [removed]  startrek   \n",
       "1   1656148312  [removed]  startrek   \n",
       "2   1656143958  [removed]  startrek   \n",
       "3   1656137319  [removed]  startrek   \n",
       "4   1656135541  [removed]  startrek   \n",
       "\n",
       "                                                                                                                            title  \\\n",
       "0  I hope Strange New Worlds encourages a new generation to watch TOS, rekindling a love similar to the one us “old timers” have.   \n",
       "1                                                                                                              Dr. M'Benga issues   \n",
       "2                                                                               The Star Trek: Enterprise theme song is the worst   \n",
       "3                                                                                    I think I have found evidence of time travel   \n",
       "4                                                                                               Old Trek and new Trek, a question   \n",
       "\n",
       "   submission_length  submission_word_count  title_length  title_word_count  \n",
       "0                  9                      1           126                23  \n",
       "1                  9                      1            18                 3  \n",
       "2                  9                      1            49                 9  \n",
       "3                  9                      1            44                 9  \n",
       "4                  9                      1            33                 7  "
      ]
     },
     "execution_count": 31,
     "metadata": {},
     "output_type": "execute_result"
    }
   ],
   "source": [
    "df['submission_length'] = 0\n",
    "df['submission_word_count'] = 0\n",
    "df['title_length'] = 0\n",
    "df['title_word_count'] = 0\n",
    "for i in range(len(df)):\n",
    "    df.loc[i, 'submission_length'] = len(df.loc[i, 'selftext'])\n",
    "for i in range(len(df)):\n",
    "    df.loc[i, 'title_length'] = len(df.loc[i, 'title'])\n",
    "for i in range(len(df)):\n",
    "    df.loc[i, 'submission_word_count'] = len(df.loc[i,'selftext'].split())\n",
    "for i in range(len(df)):\n",
    "    df.loc[i, 'title_word_count'] = len(df.loc[i,'title'].split())\n",
    "    \n",
    "df.head()"
   ]
  },
  {
   "cell_type": "code",
   "execution_count": 39,
   "id": "0a504070-bb09-4569-9f1f-49dea03aad80",
   "metadata": {},
   "outputs": [
    {
     "data": {
      "text/html": [
       "<div>\n",
       "<style scoped>\n",
       "    .dataframe tbody tr th:only-of-type {\n",
       "        vertical-align: middle;\n",
       "    }\n",
       "\n",
       "    .dataframe tbody tr th {\n",
       "        vertical-align: top;\n",
       "    }\n",
       "\n",
       "    .dataframe thead th {\n",
       "        text-align: right;\n",
       "    }\n",
       "</style>\n",
       "<table border=\"1\" class=\"dataframe\">\n",
       "  <thead>\n",
       "    <tr style=\"text-align: right;\">\n",
       "      <th></th>\n",
       "      <th>created_utc</th>\n",
       "      <th>selftext</th>\n",
       "      <th>subreddit</th>\n",
       "      <th>title</th>\n",
       "      <th>submission_length</th>\n",
       "      <th>submission_word_count</th>\n",
       "      <th>title_length</th>\n",
       "      <th>title_word_count</th>\n",
       "    </tr>\n",
       "  </thead>\n",
       "  <tbody>\n",
       "    <tr>\n",
       "      <th>3584</th>\n",
       "      <td>1656181956</td>\n",
       "      <td>[removed]</td>\n",
       "      <td>starwars</td>\n",
       "      <td>Am I really the only Star Wars fan that thinks Revenge Of The Sith is by far the weakest and most soulless movie of the Prequels?</td>\n",
       "      <td>9</td>\n",
       "      <td>1</td>\n",
       "      <td>129</td>\n",
       "      <td>26</td>\n",
       "    </tr>\n",
       "    <tr>\n",
       "      <th>3585</th>\n",
       "      <td>1656180963</td>\n",
       "      <td>[removed]</td>\n",
       "      <td>starwars</td>\n",
       "      <td>Anyone who likes the last Jedi should not be allowed an opinion on this page</td>\n",
       "      <td>9</td>\n",
       "      <td>1</td>\n",
       "      <td>76</td>\n",
       "      <td>15</td>\n",
       "    </tr>\n",
       "    <tr>\n",
       "      <th>3586</th>\n",
       "      <td>1656177173</td>\n",
       "      <td>[removed]</td>\n",
       "      <td>starwars</td>\n",
       "      <td>If you're a new Starwars fan welcome! This post isn't for you.</td>\n",
       "      <td>9</td>\n",
       "      <td>1</td>\n",
       "      <td>62</td>\n",
       "      <td>12</td>\n",
       "    </tr>\n",
       "  </tbody>\n",
       "</table>\n",
       "</div>"
      ],
      "text/plain": [
       "      created_utc   selftext subreddit  \\\n",
       "3584   1656181956  [removed]  starwars   \n",
       "3585   1656180963  [removed]  starwars   \n",
       "3586   1656177173  [removed]  starwars   \n",
       "\n",
       "                                                                                                                                  title  \\\n",
       "3584  Am I really the only Star Wars fan that thinks Revenge Of The Sith is by far the weakest and most soulless movie of the Prequels?   \n",
       "3585                                                       Anyone who likes the last Jedi should not be allowed an opinion on this page   \n",
       "3586                                                                     If you're a new Starwars fan welcome! This post isn't for you.   \n",
       "\n",
       "      submission_length  submission_word_count  title_length  title_word_count  \n",
       "3584                  9                      1           129                26  \n",
       "3585                  9                      1            76                15  \n",
       "3586                  9                      1            62                12  "
      ]
     },
     "execution_count": 39,
     "metadata": {},
     "output_type": "execute_result"
    }
   ],
   "source": [
    "df['subreddit'] = df['subreddit'].str.lower()\n",
    "df[df['subreddit'] != 'startrek'].head(3)"
   ]
  },
  {
   "cell_type": "code",
   "execution_count": 66,
   "id": "9dbeac2c-9dca-41cb-88cc-8057b2a5a54a",
   "metadata": {},
   "outputs": [],
   "source": [
    "df.to_csv('data/cleaned_with_removed_posts.csv')"
   ]
  },
  {
   "cell_type": "markdown",
   "id": "b181fa1d-4346-4b6a-b0d8-2cc756bd7f5d",
   "metadata": {
    "tags": []
   },
   "source": [
    "# Removed\n",
    "\n",
    "'[removed]' interferes with my \"submission_length\" and \"submission_word_count\" analyses, so I explore that here before removing those rows.\n",
    "\n",
    "\n",
    "\n",
    "Observations:\n",
    "\n",
    "There are 3584 Star Trek posts in the data set, of which 39.29% are \"[removed]\"\n",
    "There are 3490 Star Wars posts in the data set, of which 16.48% are \"[removed]\"\n",
    "Star Trek posts are removed at a higher rate.\n",
    "\n",
    "![Removal Rates Bar Chart](images/removal_rates.png \"removal rates for 'startrek' and 'StarWars' subreddits\")\n",
    "\n",
    "NOTE: I referenced [this site](https://www.digitalocean.com/community/tutorials/markdown-markdown-images) and [this site](https://marinegeo.github.io/2018-08-10-adding-images-markdown/) to learn how to add images to markdown files.\n",
    "\n",
    "I was curious to see if what words were appearing most frequently in the titles of these posts, so I vectorized them. I tried to remove only value neutral words. For example, the English stopwords list includes 'not', but it seems plausible that negative posts may be more likely to be removed, so I don't want to take 'not' out.\n",
    "\n",
    "There was one word in the top 10 list for removed posts that was not in the top 10 list for all posts: `'picard'`. Picard is a new show that's aroused passionat feelings among both detractors and fans. It's logical that detractors might have flamed the show in a way that violated subreddit policies.\n",
    "\n",
    "There were three words that appeared in the top 25 words for posts that were removed that were not in the top 25 for all words: `'snw', 'or', 'spoilers'`. 'Or' is arguably a word that should have come out for stop words. Otherwise, 'snw' is an abbreviation for the new Star Trek Show 'Strange New Worlds'. It's curious that these posts appear to be removed at a higher rate. It also seems logical that if a subreddit has a policy against spoilers or spoilers that aren't tagged properly, they're getting removed. If so, that would explain the word \"spoilers\" appearing there.\n",
    "\n",
    "Looking at the top 50 words from both groups, these are the ones that appear on the removed but not on the general list: `'enterprise', 'watch', 'should', 'some', 'character', 'want', 'discovery'`. Enterprise and Discovery are both shows that arose passionate feelings among both fans and detractors: it seems logical that detractors might have flamed the shows in violation of subreddit policies and gotten removed. Looking at this list made me realize that `'snw', 'or', 'spoilers'`, which appear in the top 25 most used words in removed posts must appear in 26-50 of all posts, hence they don't appear here. That caused me to go back and look at the top 10 from each list.\n",
    "\n",
    "**Overall, the rate at which specific Star Trek shows appear more frequently among removed posts than among posts in general, especially considering that the list includes Star Wars posts and especially considering that Star Trek posts are being removed more frequently than Star Wars posts suggests the possibility that either the rules for the two forums are quite different or that Star Trek subreddit posters are more likely to attack a show within the Star Trek universe than Star Wars subreddit posters are to attack a show within the Star Wars universe.**\n",
    "\n",
    "I checked [the rules for the startrek subreddit](https://www.reddit.com/r/startrek/wiki/guidelines) and [the rules for the StarWars subreddit](https://www.reddit.com/r/StarWars/wiki/rules). Interestingly, the Star Wars rules were harder to find while the Star Trek ones were posted at the top of the page.\n",
    "\n",
    "Subjectively, the Star Trek rules seem more attuned to interpersonal relationships (the first four are 'Be constructive', 'Be welcoming', 'Be honest', and 'Be nice')\n",
    "\n",
    "I'm also curious to see if I can predict which posts were removed based on the title and what I learn from that, so I'm going to export a file with the removals to look at that in modeling. My plan is to do vectorization in the model building, so I've just exported the dataframe without vectorization.\n"
   ]
  },
  {
   "cell_type": "markdown",
   "id": "9d4a2282-6e68-40c5-805f-e7a729af8568",
   "metadata": {},
   "source": [
    "[This stackoverflow answer](https://stackoverflow.com/a/48115401), which I've referenced before, helped me to understand how to pull out the keys and values from the value counts for the following work."
   ]
  },
  {
   "cell_type": "code",
   "execution_count": 43,
   "id": "215b190e-eca2-4c2c-87ee-7ab206e87315",
   "metadata": {},
   "outputs": [
    {
     "name": "stdout",
     "output_type": "stream",
     "text": [
      "1983\n",
      "\n",
      "startrek    1408\n",
      "starwars     575\n",
      "Name: subreddit, dtype: int64\n",
      "\n",
      "Check that count totals are equal to thet total number of \"[removed]\" posts, 1983: 1408 + 575 = 1983\n",
      "\n",
      "There are 3584 Star Trek posts in the data set, of which 39.29% are \"[removed]\"\n",
      "There are 3490 Star Wars posts in the data set, of which 16.48% are \"[removed]\"\n"
     ]
    }
   ],
   "source": [
    "print(len(df[df['selftext'] == '[removed]']))\n",
    "print('')\n",
    "print(df[df['selftext'] == '[removed]']['subreddit'].value_counts())\n",
    "print('')\n",
    "values = df[df['selftext'] == '[removed]']['subreddit'].value_counts().keys().tolist()\n",
    "counts = df[df['selftext'] == '[removed]']['subreddit'].value_counts().tolist()\n",
    "\n",
    "print(f'Check that count totals are equal to thet total number of \"[removed]\" posts, {len(df[df[\"selftext\"] == \"[removed]\"])}: {counts[0]} + {counts[1]} = {counts[0]+counts[1]}')\n",
    "print('')\n",
    "print(f'There are {len(df[df[\"subreddit\"] == \"startrek\"])} Star Trek posts in the data set, of which {round((counts[0]/len(df[df[\"subreddit\"] == \"startrek\"]))*100, 2)}% are \"[removed]\"')\n",
    "print(f'There are {len(df[df[\"subreddit\"] == \"starwars\"])} Star Wars posts in the data set, of which {round((counts[1]/len(df[df[\"subreddit\"] == \"starwars\"]))*100, 2)}% are \"[removed]\"')\n"
   ]
  },
  {
   "cell_type": "markdown",
   "id": "084085c8-7041-4e1e-b0fd-d7a800bb826c",
   "metadata": {},
   "source": [
    "To help me add labels to the visualization below, I found [this site](https://www.geeksforgeeks.org/adding-value-labels-on-a-matplotlib-bar-chart/), which led me to the `plt.text()` function. I then looked up the documentation to better understand how to use it to get the labels I wanted."
   ]
  },
  {
   "cell_type": "code",
   "execution_count": 56,
   "id": "420ed104-8253-4dd4-a3ed-1949d9846de1",
   "metadata": {},
   "outputs": [
    {
     "data": {
      "text/plain": [
       "''"
      ]
     },
     "execution_count": 56,
     "metadata": {},
     "output_type": "execute_result"
    },
    {
     "data": {
      "image/png": "[encoded data removed]",
      "text/plain": [
       "<Figure size 432x288 with 1 Axes>"
      ]
     },
     "metadata": {
      "needs_background": "light"
     },
     "output_type": "display_data"
    }
   ],
   "source": [
    "removal_rates = {\n",
    "    'Star Trek': round((counts[0]/len(df[df[\"subreddit\"] == \"startrek\"]))*100, 2),\n",
    "    'Star Wars': round((counts[1]/len(df[df[\"subreddit\"] == \"starwars\"]))*100, 2)\n",
    "}\n",
    "plt.title('Rates Posts are Removed,\\nStar Trek and Star Wars Subreddits')\n",
    "plt.xlabel('Subreddits')\n",
    "plt.ylabel('Removal Rate, % of total posts')\n",
    "\n",
    "plt.ylim(0, 45)\n",
    "plt.bar(removal_rates.keys(), removal_rates.values(), color = 'dodgerblue')\n",
    "\n",
    "plt.text(0, removal_rates['Star Trek']+1, str(removal_rates['Star Trek'])+'%', ha = 'center')\n",
    "plt.text(1, removal_rates['Star Wars']+1, str(removal_rates['Star Wars'])+'%', ha = 'center')\n",
    "\n",
    "plt.tight_layout()\n",
    "plt.savefig('images/removal_rates.png')\n",
    ";"
   ]
  },
  {
   "cell_type": "code",
   "execution_count": 63,
   "id": "ae069e40-6b45-419f-a1c8-4ccc8452ed1b",
   "metadata": {},
   "outputs": [
    {
     "name": "stdout",
     "output_type": "stream",
     "text": [
      "['a', 'about', 'above', 'after', 'again', 'against', 'ain', 'all', 'am', 'an', 'and', 'any', 'are', 'aren', \"aren't\", 'as', 'at', 'be', 'because', 'been', 'before', 'being', 'below', 'between', 'both', 'but', 'by', 'can', 'couldn', \"couldn't\", 'd', 'did', 'didn', \"didn't\", 'do', 'does', 'doesn', \"doesn't\", 'doing', 'don', \"don't\", 'down', 'during', 'each', 'few', 'for', 'from', 'further', 'had', 'hadn', \"hadn't\", 'has', 'hasn', \"hasn't\", 'have', 'haven', \"haven't\", 'having', 'he', 'her', 'here', 'hers', 'herself', 'him', 'himself', 'his', 'how', 'i', 'if', 'in', 'into', 'is', 'isn', \"isn't\", 'it', \"it's\", 'its', 'itself', 'just', 'll', 'm', 'ma', 'me', 'mightn', \"mightn't\", 'more', 'most', 'mustn', \"mustn't\", 'my', 'myself', 'needn', \"needn't\", 'no', 'nor', 'not', 'now', 'o', 'of', 'off', 'on', 'once', 'only', 'or', 'other', 'our', 'ours', 'ourselves', 'out', 'over', 'own', 're', 's', 'same', 'shan', \"shan't\", 'she', \"she's\", 'should', \"should've\", 'shouldn', \"shouldn't\", 'so', 'some', 'such', 't', 'than', 'that', \"that'll\", 'the', 'their', 'theirs', 'them', 'themselves', 'then', 'there', 'these', 'they', 'this', 'those', 'through', 'to', 'too', 'under', 'until', 'up', 've', 'very', 'was', 'wasn', \"wasn't\", 'we', 'were', 'weren', \"weren't\", 'what', 'when', 'where', 'which', 'while', 'who', 'whom', 'why', 'will', 'with', 'won', \"won't\", 'wouldn', \"wouldn't\", 'y', 'you', \"you'd\", \"you'll\", \"you're\", \"you've\", 'your', 'yours', 'yourself', 'yourselves']\n"
     ]
    }
   ],
   "source": [
    "#I referenced NLP 1 Lesson 5.01 to find the list of English stopwords\n",
    "print(sorted((stopwords).words('english')))"
   ]
  },
  {
   "cell_type": "markdown",
   "id": "5a35e3b8-d86e-40bc-99f4-015ee80025f9",
   "metadata": {},
   "source": [
    "These are the words I'm removing from the stopwords list so I can see if they appear in the titles of removed posts: 'against', 'ain', 'am', 'and', 'are', 'aren', \"aren't\", 'be', 'been', 'being', 'but', 'can', 'couldn', 'did', 'didn', \"didn't\", 'do', 'does', 'doesn',\"couldn't\", \"doesn't\", 'doing', 'don', \"don't\", 'down', 'few', 'further', 'had', 'hadn', \"hadn't\", 'has', 'hasn', \"hasn't\", 'have', 'haven', \"haven't\", 'having','he', 'her', 'hers', 'herself', 'him', 'himself', 'his','is', 'isn', \"isn't\", 'just',  'mightn', \"mightn't\", 'more', 'most', 'mustn', \"mustn't\", 'needn', \"needn't\", 'no', 'nor', 'not', 'off', 'on', 'only', 'or', 'out', 'over', 'same', 'shan', \"shan't\", 'she', \"she's\", \"should've\", 'shouldn', \"shouldn't\", 'should',  'so', 'some', 'too', 'under', 'until', 'up', 'very', 'was', 'wasn', \"wasn't\", 'were', 'weren', \"weren't\", 'will', 'won', \"won't\", 'wouldn', \"wouldn't\",\n",
    "\n",
    "I've kept all verbs in the titles (i.e. taken them out of the stopwords list). For example, I kept 'is' because I want to keep contractions like \"isn't\", which is not value neutral. While it seems more likely 'is' will appear in a value neutral statement, that seems to be tilting the playing field if I remove it.\n",
    "\n",
    "I also opted to remove gendered pronouns from the stopwords list. I'm curious to see if there are any patterns to the use of gendered pronouns."
   ]
  },
  {
   "cell_type": "code",
   "execution_count": 70,
   "id": "8b4a6cf7-8059-4ce6-9954-f78cd8f728db",
   "metadata": {},
   "outputs": [],
   "source": [
    "neutral_stopwords = ['a', 'about', 'above', 'after', 'again', 'all', 'an', 'any', 'as', 'at', 'because', 'before', 'below',\n",
    "                     'between', 'both', 'by', 'd', 'during', 'each', 'for', 'from',  'here',  'how', 'i', 'if', 'in', 'into', 'it', \"it's\", 'its', 'itself',\n",
    "                     'll', 'm', 'ma', 'me','my', 'myself', 'now', 'o', 'of', 'once', 'other', 'our', 'ours', 'ourselves', \n",
    "                     'own', 're', 's',   'such', 't', 'than', 'that', \"that'll\", 'the', 'their',\n",
    "                     'theirs', 'them', 'themselves', 'then', 'there', 'these', 'they', 'this', 'those', 'through', 'to', \n",
    "                      've', 'we', 'what', 'when', 'where', 'which', 'while', 'who', 'whom', 'why', 'with', \n",
    "                     'y', 'you', \"you'd\", \"you'll\", \"you're\", \"you've\", 'your', 'yours', 'yourself', 'yourselves']"
   ]
  },
  {
   "cell_type": "markdown",
   "id": "dee257a6-89bc-48f5-91f7-136d26d18daa",
   "metadata": {},
   "source": [
    "I referenced the NLP Lab 5.02 on EDA for help with getting the following code right."
   ]
  },
  {
   "cell_type": "code",
   "execution_count": 75,
   "id": "8cf63073-55d7-4dec-9239-0db8c9f4b483",
   "metadata": {},
   "outputs": [
    {
     "data": {
      "text/plain": [
       "(7074, 7920)"
      ]
     },
     "execution_count": 75,
     "metadata": {},
     "output_type": "execute_result"
    }
   ],
   "source": [
    "cvec = CountVectorizer(stop_words = neutral_stopwords)\n",
    "cvec.fit(df['title'])\n",
    "vectorized = cvec.transform(df['title'])\n",
    "vectorized.shape"
   ]
  },
  {
   "cell_type": "code",
   "execution_count": 76,
   "id": "f4c79637-004d-4f64-ab71-f3904b1d0db8",
   "metadata": {},
   "outputs": [
    {
     "name": "stdout",
     "output_type": "stream",
     "text": [
      "(7074, 7920)\n"
     ]
    },
    {
     "data": {
      "text/plain": [
       "pandas.core.frame.DataFrame"
      ]
     },
     "execution_count": 76,
     "metadata": {},
     "output_type": "execute_result"
    }
   ],
   "source": [
    "vectorized = pd.DataFrame(vectorized.todense(), columns = cvec.get_feature_names_out())\n",
    "print(vectorized.shape)\n",
    "type(vectorized)"
   ]
  },
  {
   "cell_type": "code",
   "execution_count": 84,
   "id": "29338789-5aec-423a-aaa3-5fa99186b2a3",
   "metadata": {},
   "outputs": [
    {
     "name": "stdout",
     "output_type": "stream",
     "text": [
      "(7074, 7921)\n"
     ]
    },
    {
     "data": {
      "text/html": [
       "<div>\n",
       "<style scoped>\n",
       "    .dataframe tbody tr th:only-of-type {\n",
       "        vertical-align: middle;\n",
       "    }\n",
       "\n",
       "    .dataframe tbody tr th {\n",
       "        vertical-align: top;\n",
       "    }\n",
       "\n",
       "    .dataframe thead th {\n",
       "        text-align: right;\n",
       "    }\n",
       "</style>\n",
       "<table border=\"1\" class=\"dataframe\">\n",
       "  <thead>\n",
       "    <tr style=\"text-align: right;\">\n",
       "      <th></th>\n",
       "      <th>selftext</th>\n",
       "      <th>00</th>\n",
       "      <th>000</th>\n",
       "      <th>01</th>\n",
       "      <th>010</th>\n",
       "      <th>01x06</th>\n",
       "      <th>02</th>\n",
       "      <th>02png</th>\n",
       "      <th>03</th>\n",
       "      <th>04</th>\n",
       "      <th>...</th>\n",
       "      <th>ليلة</th>\n",
       "      <th>مهذبة</th>\n",
       "      <th>نسخ</th>\n",
       "      <th>وليلة</th>\n",
       "      <th>एक</th>\n",
       "      <th>लचस</th>\n",
       "      <th>षक</th>\n",
       "      <th>ดท</th>\n",
       "      <th>ทางเข</th>\n",
       "      <th>าส</th>\n",
       "    </tr>\n",
       "  </thead>\n",
       "  <tbody>\n",
       "    <tr>\n",
       "      <th>0</th>\n",
       "      <td>[removed]</td>\n",
       "      <td>0</td>\n",
       "      <td>0</td>\n",
       "      <td>0</td>\n",
       "      <td>0</td>\n",
       "      <td>0</td>\n",
       "      <td>0</td>\n",
       "      <td>0</td>\n",
       "      <td>0</td>\n",
       "      <td>0</td>\n",
       "      <td>...</td>\n",
       "      <td>0</td>\n",
       "      <td>0</td>\n",
       "      <td>0</td>\n",
       "      <td>0</td>\n",
       "      <td>0</td>\n",
       "      <td>0</td>\n",
       "      <td>0</td>\n",
       "      <td>0</td>\n",
       "      <td>0</td>\n",
       "      <td>0</td>\n",
       "    </tr>\n",
       "    <tr>\n",
       "      <th>1</th>\n",
       "      <td>[removed]</td>\n",
       "      <td>0</td>\n",
       "      <td>0</td>\n",
       "      <td>0</td>\n",
       "      <td>0</td>\n",
       "      <td>0</td>\n",
       "      <td>0</td>\n",
       "      <td>0</td>\n",
       "      <td>0</td>\n",
       "      <td>0</td>\n",
       "      <td>...</td>\n",
       "      <td>0</td>\n",
       "      <td>0</td>\n",
       "      <td>0</td>\n",
       "      <td>0</td>\n",
       "      <td>0</td>\n",
       "      <td>0</td>\n",
       "      <td>0</td>\n",
       "      <td>0</td>\n",
       "      <td>0</td>\n",
       "      <td>0</td>\n",
       "    </tr>\n",
       "    <tr>\n",
       "      <th>2</th>\n",
       "      <td>[removed]</td>\n",
       "      <td>0</td>\n",
       "      <td>0</td>\n",
       "      <td>0</td>\n",
       "      <td>0</td>\n",
       "      <td>0</td>\n",
       "      <td>0</td>\n",
       "      <td>0</td>\n",
       "      <td>0</td>\n",
       "      <td>0</td>\n",
       "      <td>...</td>\n",
       "      <td>0</td>\n",
       "      <td>0</td>\n",
       "      <td>0</td>\n",
       "      <td>0</td>\n",
       "      <td>0</td>\n",
       "      <td>0</td>\n",
       "      <td>0</td>\n",
       "      <td>0</td>\n",
       "      <td>0</td>\n",
       "      <td>0</td>\n",
       "    </tr>\n",
       "    <tr>\n",
       "      <th>3</th>\n",
       "      <td>[removed]</td>\n",
       "      <td>0</td>\n",
       "      <td>0</td>\n",
       "      <td>0</td>\n",
       "      <td>0</td>\n",
       "      <td>0</td>\n",
       "      <td>0</td>\n",
       "      <td>0</td>\n",
       "      <td>0</td>\n",
       "      <td>0</td>\n",
       "      <td>...</td>\n",
       "      <td>0</td>\n",
       "      <td>0</td>\n",
       "      <td>0</td>\n",
       "      <td>0</td>\n",
       "      <td>0</td>\n",
       "      <td>0</td>\n",
       "      <td>0</td>\n",
       "      <td>0</td>\n",
       "      <td>0</td>\n",
       "      <td>0</td>\n",
       "    </tr>\n",
       "    <tr>\n",
       "      <th>4</th>\n",
       "      <td>[removed]</td>\n",
       "      <td>0</td>\n",
       "      <td>0</td>\n",
       "      <td>0</td>\n",
       "      <td>0</td>\n",
       "      <td>0</td>\n",
       "      <td>0</td>\n",
       "      <td>0</td>\n",
       "      <td>0</td>\n",
       "      <td>0</td>\n",
       "      <td>...</td>\n",
       "      <td>0</td>\n",
       "      <td>0</td>\n",
       "      <td>0</td>\n",
       "      <td>0</td>\n",
       "      <td>0</td>\n",
       "      <td>0</td>\n",
       "      <td>0</td>\n",
       "      <td>0</td>\n",
       "      <td>0</td>\n",
       "      <td>0</td>\n",
       "    </tr>\n",
       "  </tbody>\n",
       "</table>\n",
       "<p>5 rows × 7921 columns</p>\n",
       "</div>"
      ],
      "text/plain": [
       "    selftext  00  000  01  010  01x06  02  02png  03  04  ...  ليلة  مهذبة  \\\n",
       "0  [removed]   0    0   0    0      0   0      0   0   0  ...     0      0   \n",
       "1  [removed]   0    0   0    0      0   0      0   0   0  ...     0      0   \n",
       "2  [removed]   0    0   0    0      0   0      0   0   0  ...     0      0   \n",
       "3  [removed]   0    0   0    0      0   0      0   0   0  ...     0      0   \n",
       "4  [removed]   0    0   0    0      0   0      0   0   0  ...     0      0   \n",
       "\n",
       "   نسخ  وليلة  एक  लचस  षक  ดท  ทางเข  าส  \n",
       "0    0      0   0    0   0   0      0   0  \n",
       "1    0      0   0    0   0   0      0   0  \n",
       "2    0      0   0    0   0   0      0   0  \n",
       "3    0      0   0    0   0   0      0   0  \n",
       "4    0      0   0    0   0   0      0   0  \n",
       "\n",
       "[5 rows x 7921 columns]"
      ]
     },
     "execution_count": 84,
     "metadata": {},
     "output_type": "execute_result"
    }
   ],
   "source": [
    "with_removed_vectorized = pd.concat([df['selftext'], vectorized], axis = 1)\n",
    "print(with_removed_vectorized.shape)\n",
    "with_removed_vectorized.head()"
   ]
  },
  {
   "cell_type": "code",
   "execution_count": 138,
   "id": "483a8e73-5ba6-49e1-bde5-31d4986a19a5",
   "metadata": {},
   "outputs": [
    {
     "name": "stdout",
     "output_type": "stream",
     "text": [
      "Number of removed posts in new dataframe: 1983\n",
      "Sanity check. Number of removed posts from original dataframe: 1983\n",
      "====================\n",
      "The following words appear in the top 10 most used words in removed posts but not in the top 10 words for all posts ['picard']\n",
      "====================\n",
      "The following words appear in the top 25 most used words in removed posts but not in the top 25 words for all posts ['snw', 'or', 'spoilers']\n",
      "====================\n",
      "The following words appear in the top 50 most used words in removed posts but not in the top 50 words for all posts ['enterprise', 'watch', 'should', 'some', 'character', 'want', 'discovery']\n"
     ]
    }
   ],
   "source": [
    "print('Number of removed posts in new dataframe:', len(with_removed_vectorized[with_removed_vectorized[\"selftext\"] == \"[removed]\"]))\n",
    "print('Sanity check. Number of removed posts from original dataframe:', len(df[df[\"selftext\"] == \"[removed]\"]))\n",
    "print('='*20)\n",
    "\n",
    "top_10_removed = list(pd.Series(with_removed_vectorized[with_removed_vectorized['selftext'] =='[removed]'].drop(columns = ['selftext'])\\\n",
    "                           .sum().sort_values(ascending = False)).reset_index()[:11]['index'])\n",
    "top_10_all = list(pd.Series(with_removed_vectorized.drop(columns = ['selftext'])\\\n",
    "                       .sum().sort_values(ascending = False)).reset_index()[:11]['index'])\n",
    "\n",
    "print(f'The following words appear in the top 10 most used words in removed posts but not in the top 10 words for all posts {[word for word in top_10_removed if word not in top_10_all]}')\n",
    "print('='*20)\n",
    "\n",
    "top_25_removed = list(pd.Series(with_removed_vectorized[with_removed_vectorized['selftext'] =='[removed]'].drop(columns = ['selftext'])\\\n",
    "                           .sum().sort_values(ascending = False)).reset_index()[:26]['index'])\n",
    "top_25_all = list(pd.Series(with_removed_vectorized.drop(columns = ['selftext'])\\\n",
    "                       .sum().sort_values(ascending = False)).reset_index()[:26]['index'])\n",
    "\n",
    "print(f'The following words appear in the top 25 most used words in removed posts but not in the top 25 words for all posts {[word for word in top_25_removed if word not in top_25_all]}')\n",
    "print('='*20)\n",
    "\n",
    "top_50_removed = list(pd.Series(with_removed_vectorized[with_removed_vectorized['selftext'] =='[removed]'].drop(columns = ['selftext'])\\\n",
    "                           .sum().sort_values(ascending = False)).reset_index()[:51]['index'])\n",
    "top_50_all = list(pd.Series(with_removed_vectorized.drop(columns = ['selftext'])\\\n",
    "                       .sum().sort_values(ascending = False)).reset_index()[:51]['index'])\n",
    "\n",
    "print(f'The following words appear in the top 50 most used words in removed posts but not in the top 50 words for all posts {[word for word in top_50_removed if word not in top_50_all]}')\n"
   ]
  },
  {
   "cell_type": "code",
   "execution_count": null,
   "id": "6563c6e6-e6c6-4cdb-a758-6dd48d680378",
   "metadata": {},
   "outputs": [],
   "source": []
  }
 ],
 "metadata": {
  "kernelspec": {
   "display_name": "Python [conda env:dsi]",
   "language": "python",
   "name": "conda-env-dsi-py"
  },
  "language_info": {
   "codemirror_mode": {
    "name": "ipython",
    "version": 3
   },
   "file_extension": ".py",
   "mimetype": "text/x-python",
   "name": "python",
   "nbconvert_exporter": "python",
   "pygments_lexer": "ipython3",
   "version": "3.9.12"
  }
 },
 "nbformat": 4,
 "nbformat_minor": 5
}
