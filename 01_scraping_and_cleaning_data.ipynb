{
 "cells": [
  {
   "cell_type": "code",
   "execution_count": 47,
   "id": "4690a53c-c990-43d7-b5d4-7bdb57e29ec7",
   "metadata": {},
   "outputs": [],
   "source": [
    "import pandas as pd\n",
    "import requests\n",
    "import time\n",
    "from datetime import date\n",
    "import os"
   ]
  },
  {
   "cell_type": "markdown",
   "id": "a2017aa3-502c-4674-92ee-df8a2ef6e19f",
   "metadata": {},
   "source": [
    "I developed the function below in a separate notebook. Please let me know if you'd like to see it. A note on it: it appears that there are posts that don't actually translate to rows in the dataframe. In other words, they wind up counting toward the 'limit' (in this case 100), but don't actually save into the dataframe. After talking to Alanna about it, it seemed clear the problem was with the data and not the function and that it wasn't worth the time it would take to dig down and figure out which posts that was and why, but rather to work with the data that I got. "
   ]
  },
  {
   "cell_type": "code",
   "execution_count": 36,
   "id": "ab85d5b4-2ef3-408b-8925-0d6c66cf8b84",
   "metadata": {},
   "outputs": [],
   "source": [
    "def build_reddit_df(subreddit, desired_size, endpoint = '/reddit/search/submission', limit = 100):\n",
    "    \n",
    "    '''\n",
    "    NOTE: you must set your desired dataframe equal to this function to save the dataframe outside the function.\n",
    "    \n",
    "    This function is designed to use pushshift API to build a dataframe of specified size \n",
    "    filled with data from the specified subreddit. It starts with the most recent post and works backwards.\n",
    "\n",
    "    subreddit = the subreddit you'd like to scrape\n",
    "    \n",
    "    desired_size = the total number of posts you'd like to have in the dataframe. The function will hit the minimum size \n",
    "        above that value that the 'limit' value allows. In other words, it may go over this value up to the amount of the limit.\n",
    "    \n",
    "    endpoint = your desired endpoint. Defaults to '/reddit/search/submission' for submissions (main post) and\n",
    "       '/reddit/search/comment' for comments at the time of the writing of this function (6/22/2022)     \n",
    "\n",
    "    limit = the limit for number of posts that can be pulled at once. The default is 100, the maximum\n",
    "        allowed at the time of the writing of this function (6/22/2022)\n",
    "    '''\n",
    "    \n",
    "    url = 'https://api.pushshift.io'+endpoint\n",
    "    \n",
    "    counter = 0\n",
    "    \n",
    "    fncdf = pd.DataFrame() #establish with certainty that the new dataframe name is empty.\n",
    "    \n",
    "    for i in range(2):\n",
    "   \n",
    "        if len(fncdf) == 0:\n",
    "            params = {\n",
    "                'subreddit': subreddit,\n",
    "                'size': limit,\n",
    "                'filter': ['title', 'selftext', 'subreddit', 'created_utc'] #katie pointed out this parameter to me to save cleaning later.\n",
    "            }\n",
    "            res = requests.get(url, params)\n",
    "            if res.status_code == 200:\n",
    "                data = res.json()\n",
    "                posts = data['data']\n",
    "                fncdf = pd.DataFrame(posts)\n",
    "                counter += 1\n",
    "            else:\n",
    "                print(f'ERROR: status code not 200. Failure occured on loop number {counter+1}')\n",
    "\n",
    "        else: # after the df has been established.\n",
    "            while len(fncdf) < desired_size:\n",
    "                params = {\n",
    "                    'subreddit': subreddit,\n",
    "                    'size': limit,\n",
    "                    'before': fncdf.iloc[-1]['created_utc'],\n",
    "                    'filter': ['title', 'selftext', 'subreddit', 'created_utc']\n",
    "                }\n",
    "                res = requests.get(url, params)\n",
    "\n",
    "                if res.status_code == 200:\n",
    "                    data = res.json()\n",
    "                    posts = data['data']\n",
    "                    newdf = pd.DataFrame(posts)\n",
    "                    fncdf = pd.concat([fncdf, newdf], ignore_index = True)\n",
    "                    counter +=1\n",
    "                    time.sleep(3) #alanna suggested adding this\n",
    "\n",
    "                else:\n",
    "                    print('ERROR: status code not 200. Failure occured on loop number {counter+1}')\n",
    "    \n",
    "    return fncdf"
   ]
  },
  {
   "cell_type": "code",
   "execution_count": 37,
   "id": "acb4fbc6-ee43-4613-8f59-ecacea1b8678",
   "metadata": {
    "tags": []
   },
   "outputs": [],
   "source": [
    "startrek = build_reddit_df('startrek', 3500)"
   ]
  },
  {
   "cell_type": "markdown",
   "id": "515c6945-13b0-4ee3-b46e-65dd4c923e32",
   "metadata": {},
   "source": [
    "I used [this stackoverflow answer](https://stackoverflow.com/a/50885228) to guide my work on eliminating duplicates. My rationale is that any duplicate submissions will only overfit the model. This site showed me [a way to use .drop_duplicates](https://stackoverflow.com/a/58311003) that preserves specific values that are duplicated. See why, below.\n",
    "\n",
    "While my initial instinct was to delete \"[removed]\" and blank posts, I was curious to see that the 'starwars' subreddit seems to have far more [removed] posts. I found [this post](https://www.reddit.com/r/NoStupidQuestions/comments/b3czg1/what_does_removed_mean/) that indicated that \"[removed]\" means that a moderator has taken down the post. It appears that the level of '[removed]' may help indicate if a post is a Star Wars or Star Trek post simply because a higher percentage of them are removed. While I ultimately intend to use 'removed' as a stop word and/or remove those lines from the dataframe, I'm opting to leave those posts in for now so I can explore them further. I'd also like to be able to leave the data of the residual titles in the dataframe for now and intend to examine those, too.\n",
    "\n",
    "I also became curious to see if the blank 'selftext' rows reflected what appeared to be posts that consisted more-or-less solely of the title. That appears to be the case, so I'm going to keep those in the dataframe, as well. In addition to being able to use the titles, I'll be curious to see if there are discrepancies in how many posts of that type the two subredditors create.\n",
    "\n",
    "I'm going to pull 3500 of both Star Trek and Star Wars posts to ensure that I have at least 1000 of each that have text in their 'selftext', in case I decide to remove the blank and '[removed]' posts in analysis."
   ]
  },
  {
   "cell_type": "code",
   "execution_count": 38,
   "id": "65ae124a-eeab-4776-85dd-e1419351c7cd",
   "metadata": {},
   "outputs": [
    {
     "name": "stdout",
     "output_type": "stream",
     "text": [
      "Initial Shape: (3595, 4)\n",
      "====================\n",
      "Initial Top 10 Value Counts: [removed]                                                                                                                                                                                                                                                                                                                                                                                                                                                                                                                                                               1408\n",
      "                                                                                                                                                                                                                                                                                                                                                                                                                                                                                                                                                                         653\n",
      "This movie just didn't do it for me.  No wonder it killed the Kelvin timeline.                                                                                                                                                                                                                                                                                                                                                                                                                                                                                             4\n",
      "[deleted]                                                                                                                                                                                                                                                                                                                                                                                                                                                                                                                                                                  2\n",
      "The borg may be akin to the cybermen, but they are Trek' Daleks, the coldest enemy, iconic since the 80's ... until now, sorry but to have them JOIN THE FEDERATION makes no sense, come on, what is happening here, are the producers intent on having no race of beings be evil ??? how can current Trek be one sense so morbid and not trek in it's grit and random dark events, then the next minute, be offended that some species are evil, at least from our perspective, to do this to the borg should be drawing more ire than then kelvin timeline change.       2\n",
      "Name: selftext, dtype: int64\n",
      "\n",
      "====================\n",
      "\n",
      "Final Shape: (3584, 4)\n",
      "====================\n",
      "Final Top 10 Value Counts: [removed]                                 1408\n",
      "                                           653\n",
      "[deleted]                                    2\n",
      "Enterprise with spore drive?? wicked..       1\n",
      "The new show is off to a great start.        1\n",
      "Name: selftext, dtype: int64\n"
     ]
    }
   ],
   "source": [
    "print(f'Initial Shape: {startrek.shape}')\n",
    "print('='*20)\n",
    "print(f'Initial Top 5 Value Counts: {startrek[\"selftext\"].value_counts().head()}')\n",
    "startrek = pd.concat([startrek[startrek['selftext']=='[removed]'],\n",
    "                     startrek[startrek['selftext']==''],\n",
    "                     startrek[startrek['selftext']=='[deleted]'],\n",
    "                     startrek[(startrek['selftext'] != '[removed]') & (startrek['selftext'] != '') & (startrek['selftext'] != '[deleted]')]\\\n",
    "                      .drop_duplicates([\"selftext\"], keep = 'first')])\n",
    "print('')\n",
    "print('='*20)\n",
    "print('')\n",
    "print(f'Final Shape: {startrek.shape}')\n",
    "print('='*20)\n",
    "print(f'Final Top 5 Value Counts: {startrek[\"selftext\"].value_counts().head()}')"
   ]
  },
  {
   "cell_type": "code",
   "execution_count": 58,
   "id": "828e0bd6-cfb5-4bb6-b7dc-cdb777b23665",
   "metadata": {},
   "outputs": [
    {
     "data": {
      "text/html": [
       "<div>\n",
       "<style scoped>\n",
       "    .dataframe tbody tr th:only-of-type {\n",
       "        vertical-align: middle;\n",
       "    }\n",
       "\n",
       "    .dataframe tbody tr th {\n",
       "        vertical-align: top;\n",
       "    }\n",
       "\n",
       "    .dataframe thead th {\n",
       "        text-align: right;\n",
       "    }\n",
       "</style>\n",
       "<table border=\"1\" class=\"dataframe\">\n",
       "  <thead>\n",
       "    <tr style=\"text-align: right;\">\n",
       "      <th></th>\n",
       "      <th>created_utc</th>\n",
       "      <th>selftext</th>\n",
       "      <th>subreddit</th>\n",
       "      <th>title</th>\n",
       "    </tr>\n",
       "  </thead>\n",
       "  <tbody>\n",
       "    <tr>\n",
       "      <th>0</th>\n",
       "      <td>1656186864</td>\n",
       "      <td></td>\n",
       "      <td>StarWars</td>\n",
       "      <td>My dad found these when he was selling our old...</td>\n",
       "    </tr>\n",
       "    <tr>\n",
       "      <th>1</th>\n",
       "      <td>1656186607</td>\n",
       "      <td>[removed]</td>\n",
       "      <td>StarWars</td>\n",
       "      <td>Am I the only one who is more worried about th...</td>\n",
       "    </tr>\n",
       "    <tr>\n",
       "      <th>2</th>\n",
       "      <td>1656186464</td>\n",
       "      <td>Regardless of your opinions on the shows in ge...</td>\n",
       "      <td>StarWars</td>\n",
       "      <td>What are your top 5 scenes from the Disney + s...</td>\n",
       "    </tr>\n",
       "    <tr>\n",
       "      <th>3</th>\n",
       "      <td>1656186181</td>\n",
       "      <td>[removed]</td>\n",
       "      <td>StarWars</td>\n",
       "      <td>Should I watch the full show of The Clone Wars...</td>\n",
       "    </tr>\n",
       "    <tr>\n",
       "      <th>4</th>\n",
       "      <td>1656186169</td>\n",
       "      <td></td>\n",
       "      <td>StarWars</td>\n",
       "      <td>Digital art I did of my favorite shot from epi...</td>\n",
       "    </tr>\n",
       "  </tbody>\n",
       "</table>\n",
       "</div>"
      ],
      "text/plain": [
       "   created_utc                                           selftext subreddit  \\\n",
       "0   1656186864                                                     StarWars   \n",
       "1   1656186607                                          [removed]  StarWars   \n",
       "2   1656186464  Regardless of your opinions on the shows in ge...  StarWars   \n",
       "3   1656186181                                          [removed]  StarWars   \n",
       "4   1656186169                                                     StarWars   \n",
       "\n",
       "                                               title  \n",
       "0  My dad found these when he was selling our old...  \n",
       "1  Am I the only one who is more worried about th...  \n",
       "2  What are your top 5 scenes from the Disney + s...  \n",
       "3  Should I watch the full show of The Clone Wars...  \n",
       "4  Digital art I did of my favorite shot from epi...  "
      ]
     },
     "execution_count": 58,
     "metadata": {},
     "output_type": "execute_result"
    }
   ],
   "source": [
    "starwars = build_reddit_df('starwars', 3500)\n",
    "starwars.head()"
   ]
  },
  {
   "cell_type": "code",
   "execution_count": 59,
   "id": "67f0d778-7df1-4e9c-99d5-962f78c65c56",
   "metadata": {},
   "outputs": [
    {
     "name": "stdout",
     "output_type": "stream",
     "text": [
      "Initial Shape: (3500, 4)\n",
      "====================\n",
      "Initial Top 5 Value Counts:                                                                                                                                                                                                                   1739\n",
      "[removed]                                                                                                                                                                                                          575\n",
      "[deleted]                                                                                                                                                                                                            4\n",
      "I’m up and down on Holt, but I can hear what she’s referring to with the seeds. I just wish those seeds grew more.\\n\\nhttps://youtu.be/P0u6EIBeqEc                                                                   2\n",
      "In my opinion, Her acting wasn't hitting at all. I get that her character is supposed to be over the top, but her execution sucks. Cringe and awkward at times. Basically a girl version of Michale B Jordan..       2\n",
      "Name: selftext, dtype: int64\n",
      "\n",
      "====================\n",
      "\n",
      "Final Shape: (3489, 4)\n",
      "====================\n",
      "Final Top 5 Value Counts:                                                                                                                                                                                                                                                                                                                                                                                                                                                                                                                                                                                                                                                                                                                                                                                                                                                                                                                                                                                                                                                                                                                                                                                                                                                                                                                                                                                                                                                                                                                                                                                                                                                                                                                                                                                                                                                                                                                                                                                                                                                                                                                                                                                                                                                                                                                                                                                                                                                                                                                                                                                                                                                                                                                                                                                                                                                                                                                                                                                                                                                                                                                                                                                                                                                                                                                                                                                                                                                                                                                                                                                                                                                                                                                                                                                                                                                                                                                                                                                                                                                                                                                                                                                                                                                                                                                                                                                                                                                                                                                                                                                                                                                                                                                                                                                                                                                                                                                                                                                                                                                                                                                                                                                                                                                                                                                                                                                                                                                                                                                                                                                                                                                                                                                                                                                                                                                                                                                                                                                                                                                                                                                                                                                                                                                                                                                                                                                                                                                                                                                                                                                                                                                                                                                                                                                                                                                                                                                                                                                                                                                                                                                                                                                                                                                                                                                                                                                                                                                                                                                                                                                                                                                                                                                                                                                                                                                                                                                                                                                                                                                                                                                                                                                                                                                                                                                                                                                                                                                                                                                                                                                                                                                                                                                                                                                                                                                                                                                                                                                                                                                                                                                                                                                                                                                                                                                                                                                                                                                                                                                                                                                                                                                                                                                                                                                                                                                                                                                                                                                                                                                                                                                                                                                                                                                                                                                                                                                                                                                                                                                                                                                                                                                                                                                                                                                                                                                                                                                                                                                                                                                                                                                                                                                                                                                                                                                                                                                                                                                                                                                                                                               1739\n",
      "[removed]                                                                                                                                                                                                                                                                                                                                                                                                                                                                                                                                                                                                                                                                                                                                                                                                                                                                                                                                                                                                                                                                                                                                                                                                                                                                                                                                                                                                                                                                                                                                                                                                                                                                                                                                                                                                                                                                                                                                                                                                                                                                                                                                                                                                                                                                                                                                                                                                                                                                                                                                                                                                                                                                                                                                                                                                                                                                                                                                                                                                                                                                                                                                                                                                                                                                                                                                                                                                                                                                                                                                                                                                                                                                                                                                                                                                                                                                                                                                                                                                                                                                                                                                                                                                                                                                                                                                                                                                                                                                                                                                                                                                                                                                                                                                                                                                                                                                                                                                                                                                                                                                                                                                                                                                                                                                                                                                                                                                                                                                                                                                                                                                                                                                                                                                                                                                                                                                                                                                                                                                                                                                                                                                                                                                                                                                                                                                                                                                                                                                                                                                                                                                                                                                                                                                                                                                                                                                                                                                                                                                                                                                                                                                                                                                                                                                                                                                                                                                                                                                                                                                                                                                                                                                                                                                                                                                                                                                                                                                                                                                                                                                                                                                                                                                                                                                                                                                                                                                                                                                                                                                                                                                                                                                                                                                                                                                                                                                                                                                                                                                                                                                                                                                                                                                                                                                                                                                                                                                                                                                                                                                                                                                                                                                                                                                                                                                                                                                                                                                                                                                                                                                                                                                                                                                                                                                                                                                                                                                                                                                                                                                                                                                                                                                                                                                                                                                                                                                                                                                                                                                                                                                                                                                                                                                                                                                                                                                                                                                                                                                                                                                                                      575\n",
      "[deleted]                                                                                                                                                                                                                                                                                                                                                                                                                                                                                                                                                                                                                                                                                                                                                                                                                                                                                                                                                                                                                                                                                                                                                                                                                                                                                                                                                                                                                                                                                                                                                                                                                                                                                                                                                                                                                                                                                                                                                                                                                                                                                                                                                                                                                                                                                                                                                                                                                                                                                                                                                                                                                                                                                                                                                                                                                                                                                                                                                                                                                                                                                                                                                                                                                                                                                                                                                                                                                                                                                                                                                                                                                                                                                                                                                                                                                                                                                                                                                                                                                                                                                                                                                                                                                                                                                                                                                                                                                                                                                                                                                                                                                                                                                                                                                                                                                                                                                                                                                                                                                                                                                                                                                                                                                                                                                                                                                                                                                                                                                                                                                                                                                                                                                                                                                                                                                                                                                                                                                                                                                                                                                                                                                                                                                                                                                                                                                                                                                                                                                                                                                                                                                                                                                                                                                                                                                                                                                                                                                                                                                                                                                                                                                                                                                                                                                                                                                                                                                                                                                                                                                                                                                                                                                                                                                                                                                                                                                                                                                                                                                                                                                                                                                                                                                                                                                                                                                                                                                                                                                                                                                                                                                                                                                                                                                                                                                                                                                                                                                                                                                                                                                                                                                                                                                                                                                                                                                                                                                                                                                                                                                                                                                                                                                                                                                                                                                                                                                                                                                                                                                                                                                                                                                                                                                                                                                                                                                                                                                                                                                                                                                                                                                                                                                                                                                                                                                                                                                                                                                                                                                                                                                                                                                                                                                                                                                                                                                                                                                                                                                                                                                                        4\n",
      "It blows my mind how badly TLJ completely derailed what TFA was building. I loved tfa, I think it’s a great movie and was a great reboot back into the saga. Rey was being teased as a kenobi which would’ve been awesome and made sense. I don’t see her as a Mary sue. Never have. It actually makes complete sense a orphan female would know how to fight and fend for herself. Kylo is a g. Best part of the sequels. I think if JJ directed all 3 we would’ve had such a different movie. I still think kylo would’ve turned good. Kinda his arch I feel. But yeah. Tell me how y’all felt about it                                                                                                                                                                                                                                                                                                                                                                                                                                                                                                                                                                                                                                                                                                                                                                                                                                                                                                                                                                                                                                                                                                                                                                                                                                                                                                                                                                                                                                                                                                                                                                                                                                                                                                                                                                                                                                                                                                                                                                                                                                                                                                                                                                                                                                                                                                                                                                                                                                                                                                                                                                                                                                                                                                                                                                                                                                                                                                                                                                                                                                                                                                                                                                                                                                                                                                                                                                                                                                                                                                                                                                                                                                                                                                                                                                                                                                                                                                                                                                                                                                                                                                                                                                                                                                                                                                                                                                                                                                                                                                                                                                                                                                                                                                                                                                                                                                                                                                                                                                                                                                                                                                                                                                                                                                                                                                                                                                                                                                                                                                                                                                                                                                                                                                                                                                                                                                                                                                                                                                                                                                                                                                                                                                                                                                                                                                                                                                                                                                                                                                                                                                                                                                                                                                                                                                                                                                                                                                                                                                                                                                                                                                                                                                                                                                                                                                                                                                                                                                                                                                                                                                                                                                                                                                                                                                                                                                                                                                                                                                                                                                                                                                                                                                                                                                                                                                                                                                                                                                                                                                                                                                                                                                                                                                                                                                                                                                                                                                                                                                                                                                                                                                                                                                                                                                                                                                                                                                                                                                                                                                                                                                                                                                                                                                                                                                                                                                                                                                                                                                                                                                                                                                                                                                                                                                                                                                                                                                                                                                                                                                                                                                                                                                                                                                                                                                                                                                                                                                                                                                        1\n",
      "There is so much I love about this series. \\n\\nMostly, I think, it’s spending more time with a character I absolutely idolized in those prime, middle-school years. But, and maybe this is because (like Ben in the first episodes) I’ve aged into a stony adult, I expect more from stories than nostalgia and spectacle. They need stakes, characters need clear motivation, and plotlines shouldn’t feel convoluted. But, again, there are so many pieces I love.  \\n\\nThat’s why I can’t help but imagine it differently (which, basically turned into fan fiction). \\n\\nCHAPTER ONE\\n\\nThe flashback to Order 66 in the Jedi Temple is the same. \\n\\nOn TATOOINE, OBI-WAN wakes from a terrible dream. He has closed himself off from the force, a shadow of his former self. He does check in on young LUKE, but he is not concerned about his training. His survivor’s guilt has caused him to truly turn his back on the Jedi and their ways. \\n\\nREVA and THE INQUISITORS arrive in Mos Eisley to hunt down a FUGITIVE JEDI. Her tactics are brutal, as are the other inquisitors. The THIRD BROTHER only asks them to tread carefully. They need him alive to gather crucial intelligence, a direct order from DARTH VADER at the behest of THE EMPEROR.\\n\\nOn ALDERAAN, we’re still introduced to young LEIA. The beats from her role in the first episode remain largely the same, except we see some more overt hints that she’s strong with the force. We still see that BAIL ORGANA is attempting to play both sides and remains a man of influence. However, the kidnapping plot is not connected to Reva in any way. The perpetrators are discharged CLONE TROOPERS, and they’re capturing Leia—the daughter of a senator—for ransom and leverage against the Empire. They seek reparations for the discarded clone army. \\n\\nBack on Tatooine, Obi-Wan has visited the town for supplies and witnesses the Inquisitors smoke out the fugitive Jedi. Reva engages him in the town square and quickly bests him in battle, severing his hand. Obi-Wan, for the first time in years, is moved to act. But he knows he cannot. \\n\\nReva, with her fellow Inquisitors behind her, interrogates the Jedi in front of the crowded square, “WE KNOW ABOUT THE PATH!” The intelligence the Inquisitors seek is about an underground network that helps force-sensitive beings escape the empire. The Jedi is silent—he won’t break. It’s no matter to Reva, who can pry information from people’s minds using the force. But, as she raises her hand, the Jedi—using the last of his energy—uses the force to pull his fallen light saber, ignite it, and impale himself through the back of the chest. A sacrifice.\\n\\nThe three Inquisitors, furious, leave. Obi-Wan heads back into the desert. That night, he has nightmares—flashes of Reva severing the Jedi's hand remind him of his violent final moments with Anakin. The light saber piercing the Jedi's chest conjures images of how he helplessly watched QUI-GON JINN die. He wakes, screaming, “QUI-GON?!” \\n\\nA hooded figure stands in his dwelling. Removing his hood, it’s revealed to be Bail Organa—he is desperate and Obi-Wan is his only…option. The Empire is already closely watching him, and he cannot risk involving them in the ransom plot. They’ve become too adept at sensing potential force users and Leia is showing. \\n\\nObi-Wan is terrified. But he knows Bail is right—this is his duty. And, with the sacrifice of the fugitive Jedi freshly seared into his mind, he agrees to help. He recovers his light saber from the sands of Tatooine and heads towards the transport station at Mos Eisley. END. \\n\\nCHAPTER TWO\\n\\nThe four CLONE TROOPERS arrive with the kidnapped LEIA on DAIYU—a planet bustling with crime. They’re rough with Leia, but the leader of the outfit doesn’t want her hurt. This was a desperate move, but he’s conflicted. It’s clear he’s keeping the others in check.  \\n\\nOBI-WAN arrives, and begins his search for Leia, following the same beats of episode two. He’s led to HAJA, still a fake Jedi, and asks him if he’s heard anything about clone troopers and a kidnapping. Haja hasn’t but he knows a former imperial officer who’s now very well connected in the crime world. For a few credits, he’ll bring Obi-Wan to her. \\n\\nElsewhere, at FORTRESS INQUISITORIOUS, REVA and the THIRD BROTHER are arguing over who to blame for their failure on Tatooine. “You both are,” sneers the GRAND INQUISITOR, gliding into the room. Reva and the others kneel. The Grand Inquisitor goes on to inform them that DARTH VADER will be most disappointed that they failed to turn up anything useful. As Reva attempts to make excuses, the Grand Inquisitor stops her, “You may tell him yourself. He’s on his way.”\\n\\nLEIA, tied up, is helped to a drink of water by the clone trooper leader, who doesn’t have a name, but she can call him “CT.” She’s still the plucky kid we see in the current series, and we can see that CT is taking a liking to her. We get some exposition about the plight of the clone troopers. His fellow troops interrupt. They’re anxious, antsy, and desperate to know what the next move is. Without CT there, Leia can feel that her life is in real danger. \\n\\nHaja takes Obi-Wan deeper into the underworld, where they meet TALA, a former officer turned crime lord. Tala is flanked by ROKEN, her right-hand man. “Why do you look familiar,” he says. Obi-Wan shares vague details of the kidnapping plot, but he won’t reveal his identity or who he’s searching for. This only frustrates Tala, making her suspicious of Obi-Wan’s motivations. As she angrily confronts Haja about wasting her time, Roken interrupts, “I KNEW…YOU’RE…YOU’RE GENERAL KENOBI!” \\n\\nTala has heard the name—the legend—before, but she remains deeply suspicious. Roken disappears. The crashing of boxes and canisters can be heard. He quickly returns with something. Giving it to Tala, she outstretches her hand. It’s a communicator, and Obi-Wan’s distorted, crackling image appears warning Jedi to stay away from the Jedi Temple on Coruscant. Taken aback, Obi-Wan asks, “Ho..how do you have that?”\\n\\nThe argument between CT and the other clone troopers is at a boiling point. They accuse CT of not having a plan beyond the kidnapping. “What if that elitist senator won’t pay the ransom?! Then what?!” Leia’s heart races—fear. CT tries to bring down the tension by asking for more time. “I bet if we send Organa her little finger, he’ll speed things up!” He lunges toward Leia, and before CT can react to defend, Leia screams, “DON’T TOUCH ME!”\\n\\nThe clone trooper stops, frozen, before muttering, “I won’t touch her.”  Mere blocks away, Obi-Wan clutches his chest. \\n\\nBack in the clone trooper hideout, the stunned trooper grabs his head and slumps into a nearby chair. CT and the other troopers stand in stunned silence. “SH…SHE HAS POWERS,” stammers one of the troopers. CT looks deeply into Leia’s eyes. The other trooper chimes in, almost laughing, “DO YOU KNOW WHAT THE EMPIRE PAYS FOR INFORMATION ON THESE PEOPLE, LET ALONE THE PEOPLE!” CT, still looking at Leia, puts his hand on his holstered blaster. “Do you know what they do to these people,” CT says coldly. \\n\\nThe force-stunned trooper finally rises from his chair, and together, the three troopers aim their weapons at CT. “The plan was never to hurt the child,” says CT. “We wouldn’t be hurting her,” one retorts. CT gives one last plea to reason, “There’s still a chance we walk away from this rich.”  \\n\\n“Sorry, chief, I’d much rather go with the guarantee.” A barrage of blaster fire unleashes on CT. Without thinking, he flips a metal table, separating him and Leia from the others. “WHAT GOOD WILL A DEAD GIRL DO YOU,” shouts CT. The blaster fire stops. Again, CT’s eyes meet Leia’s, as if to say he’s sorry for what’s next. He begins to undo her restraints. “I TELL YOU WHAT—FREE PASS. LEAVE THE GIRL AND WALK AWAY. NOTHIN’ ON YOUR CONSCIENCE,” yells a trooper. \\n\\nCT pops up from behind the table, shocking the troopers who stand opposite. “Like I said, what good will a dead girl do you?” He slowly backs out of the room, holding Leia like a human shield with a blaster to her head. In the hallway, CT shoots the keypad, slamming the door. With Leia, in his arms, he begins to sprint. “I wasn’t going to hurt you,” he wheezes. “I know,” says Leia. “They’ll get through that door…” CT says breathlessly. There’s a large blast. CT continues, “…fast.”\\n\\nObi-Wan is still clutching his chest. Tala and Roken are saying something, but he’s not listening. She used the force. She’s in danger. A large blast rings in the near distance. “She’s there,” and Obi-Wan sprints from the chamber. Tala and Roken exchange looks before following in pursuit. Haja—being Haja—does not. \\n\\nCT, with Leia under his arms like a loose sack of potatoes, shoots wildly behind him. His former squad mates are catching up. CT can’t outrun them. Ducking down another alley, he spots a fire escape. Shooting the ladder sends it crashing to the ground. “I can’t outrun them,” he says to Leia. “You go up there and you hide.” He sets Leia on the ground, and they share a knowing look. “Go,” he says. A blaster bolt whizzes by his head, “GO NOW!” Leia goes up the ladder. \\n\\nSprinting his way through crowded streets, Obi-Wan hears blaster fire in the distance. Red flashes fill a not-too-distant cross street. Obi-Wan needs to move.  \\n\\nOne of the attacking clone troopers shouts, “SHE’S HEADING FOR THE ROO…” CTs blaster bolt connects with his shoulder, sending him spiraling backward. CT and the remaining two clones exchange gunfire. Another of his shots makes contact—this time fatal—which causes him to feel a moment of anguish. The moment was all the other trooper needed. CT is hit in the chest, sending him to the ground, dead. “NO,” rings from the roof. Leia—honorably, naively—waited to see if CT would be ok.\\n\\nObi-Wan hears it as he turns the corner. A clone trooper lays still in the alleyway, while another has almost ascended a ladder to the roof. \\n\\nLeia runs, but the trooper is closing in. She hops from rooftop to rooftop until she slides to a halt—the gap to the next roof is too wide. “THAT’S ENOUGH,” he yells, out of breath. “You … are … coming … with me.” Leia, facing the lone trooper, steps backward towards the roof’s edge. “THAT FALL WILL KILL YOU!” Leia, defiantly, shouts, “YOU WILL KILL ME!” She takes another step back. “DON’T BE STUPID,” yells the trooper. “THE FORCE WILL PROTECT ME!” She takes another step back, onto the air, and begins to fall. \\n\\nA blaster bolt hits the trooper from behind. As he falls to his knees, Obi-Wan sprints past, throwing the blaster away. His eyes meet Leia’s as her face dips beneath the roofline. He slides, his hand outstretched. He’s far too late to catch her. He keeps his hand outstretched and, for a moment, abandons fear. Because, at this moment, the only thing that matters is the safety of the child he swore to protect. Leia’s body magically slows to a halt in midair, protected by the force, as she believed.\\n\\nIn SPACE, behind glass, a pair of yellow eyes open suddenly. DARTH VADER feels a presence he has not felt in a long, long time.       1\n",
      "Name: selftext, dtype: int64\n"
     ]
    }
   ],
   "source": [
    "print(f'Initial Shape: {starwars.shape}')\n",
    "print('='*20)\n",
    "print(f'Initial Top 5 Value Counts: {starwars[\"selftext\"].value_counts().head()}')\n",
    "starwars = pd.concat([starwars[starwars['selftext']=='[removed]'],\n",
    "                     starwars[starwars['selftext']==''],\n",
    "                     starwars[starwars['selftext']=='[deleted]'],\n",
    "                     starwars[(starwars['selftext'] != '[removed]') & (starwars['selftext'] != '') & (starwars['selftext'] != '[deleted]')]\\\n",
    "                      .drop_duplicates([\"selftext\"], keep = 'first')])\n",
    "print('')\n",
    "print('='*20)\n",
    "print('')\n",
    "print(f'Final Shape: {starwars.shape}')\n",
    "print('='*20)\n",
    "print(f'Final Top 5 Value Counts: {starwars[\"selftext\"].value_counts().head()}')"
   ]
  },
  {
   "cell_type": "code",
   "execution_count": 60,
   "id": "ab444513-ba7b-42d2-a41a-1502d1082db3",
   "metadata": {},
   "outputs": [
    {
     "name": "stdout",
     "output_type": "stream",
     "text": [
      "Star Trek Shape: (3584, 4)\n",
      "Star Wars Shape: (3489, 4)\n",
      "Combined Shape: (7073, 4)\n"
     ]
    }
   ],
   "source": [
    "df = pd.concat([startrek, starwars])\n",
    "print(f'Star Trek Shape: {startrek.shape}')\n",
    "print(f'Star Wars Shape: {starwars.shape}')\n",
    "print(f'Combined Shape: {df.shape}')"
   ]
  },
  {
   "cell_type": "code",
   "execution_count": 61,
   "id": "40eecf13-cc33-42e1-be84-5325d88b6b26",
   "metadata": {},
   "outputs": [
    {
     "data": {
      "text/plain": [
       "7074"
      ]
     },
     "execution_count": 61,
     "metadata": {},
     "output_type": "execute_result"
    }
   ],
   "source": [
    "3584+3490"
   ]
  },
  {
   "cell_type": "markdown",
   "id": "ace40879-a013-46d5-890f-1c2414f6d50a",
   "metadata": {},
   "source": [
    "Because the function always pullest the newest posts to the given subreddits, I've written the following to write the data to a csv marked with the date and to prevent the file from being overwritten if this cell is run more than once in a day. This seems particularly important to preserving the actual data that was used for my analysis.\n",
    "\n",
    "[This site](https://www.geeksforgeeks.org/python-datetime-module/) showed me how to call the date. I remembered we checked if a directory existed with `os` during the Excel Lab (2.01), but I needed [this site](https://www.pythontutorial.net/python-basics/python-check-if-file-exists/) to understand what to call to check if the file existed."
   ]
  },
  {
   "cell_type": "code",
   "execution_count": 62,
   "id": "15e232ce-9915-471a-8eaf-6add6473aeb2",
   "metadata": {},
   "outputs": [
    {
     "data": {
      "text/plain": [
       "created_utc     int64\n",
       "selftext       object\n",
       "subreddit      object\n",
       "title          object\n",
       "dtype: object"
      ]
     },
     "execution_count": 62,
     "metadata": {},
     "output_type": "execute_result"
    }
   ],
   "source": [
    "df.dtypes"
   ]
  },
  {
   "cell_type": "code",
   "execution_count": 53,
   "id": "bd80e69d-cf56-4175-8811-5e9e5fce3e20",
   "metadata": {},
   "outputs": [
    {
     "name": "stdout",
     "output_type": "stream",
     "text": [
      "ERROR: This filename exists. Please choose a different filename. FILE WAS NOT SAVED.\n"
     ]
    }
   ],
   "source": [
    "if os.path.exists(f'data/data{date.today()}.csv') == True:\n",
    "    print('ERROR: This filename exists. Please choose a different filename. FILE WAS NOT SAVED.')\n",
    "else:\n",
    "    df.to_csv(f'data/data{date.today()}.csv', index = False)"
   ]
  },
  {
   "cell_type": "code",
   "execution_count": 54,
   "id": "3ce8d0ae-412f-48a1-ac49-033e8597c598",
   "metadata": {},
   "outputs": [],
   "source": [
    "# below is a line that can be uncommented and used to create a new dataframe on the same date.\n",
    "# It's set to create data{TODAY'SDATE}-1.\n",
    "\n",
    "# df.to_csv(f'data/data{date.today()}-1.csv', index = False)"
   ]
  }
 ],
 "metadata": {
  "kernelspec": {
   "display_name": "Python [conda env:dsi]",
   "language": "python",
   "name": "conda-env-dsi-py"
  },
  "language_info": {
   "codemirror_mode": {
    "name": "ipython",
    "version": 3
   },
   "file_extension": ".py",
   "mimetype": "text/x-python",
   "name": "python",
   "nbconvert_exporter": "python",
   "pygments_lexer": "ipython3",
   "version": "3.9.12"
  }
 },
 "nbformat": 4,
 "nbformat_minor": 5
}
