{
 "cells": [
  {
   "cell_type": "code",
   "execution_count": 18,
   "id": "4690a53c-c990-43d7-b5d4-7bdb57e29ec7",
   "metadata": {},
   "outputs": [],
   "source": [
    "import pandas as pd\n",
    "import functions as fun\n",
    "from datetime import date\n",
    "import os"
   ]
  },
  {
   "cell_type": "code",
   "execution_count": 19,
   "id": "acb4fbc6-ee43-4613-8f59-ecacea1b8678",
   "metadata": {
    "tags": []
   },
   "outputs": [],
   "source": [
    "startrek = fun.build_reddit_df('startrek', 3500)"
   ]
  },
  {
   "cell_type": "markdown",
   "id": "d06cb006-2662-4b8f-9db8-268013d172d0",
   "metadata": {},
   "source": [
    "I'm backing this dataset up because otherwise I can't go back and explore the separate sets of posts without cleaning again because of the time-related nature of what's puled into the initial dataframe."
   ]
  },
  {
   "cell_type": "code",
   "execution_count": 20,
   "id": "3551315d-2517-476f-9495-4882a816ade7",
   "metadata": {},
   "outputs": [],
   "source": [
    "startrekbackup = startrek.copy()"
   ]
  },
  {
   "cell_type": "code",
   "execution_count": 21,
   "id": "3f9e8a32-f4e3-49cb-a452-71895b40a42b",
   "metadata": {},
   "outputs": [],
   "source": [
    "startrek = startrekbackup.copy()"
   ]
  },
  {
   "cell_type": "markdown",
   "id": "515c6945-13b0-4ee3-b46e-65dd4c923e32",
   "metadata": {},
   "source": [
    "# Initial Cleaning\n",
    "I used [this stackoverflow answer](https://stackoverflow.com/a/50885228) to guide my work on eliminating duplicates. My rationale is that any duplicate submissions will only overfit the model. This site showed me [a way to use .drop_duplicates](https://stackoverflow.com/a/58311003) that preserves specific values that are duplicated. See why, below.\n",
    "\n",
    "While my initial instinct was to delete \"[removed]\" and blank posts, I was curious to see that the 'starwars' subreddit seems to have far more [removed] posts. I found [this post](https://www.reddit.com/r/NoStupidQuestions/comments/b3czg1/what_does_removed_mean/) that indicated that \"[removed]\" means that a moderator has taken down the post. It appears that the level of '[removed]' may help indicate if a post is a Star Wars or Star Trek post simply because a higher percentage of them are removed. While I ultimately intend to use 'removed' as a stop word and/or remove those lines from the dataframe, I'm opting to leave those posts in for now so I can explore them further. I'd also like to be able to leave the data of the residual titles in the dataframe for now and intend to examine those, too.\n",
    "\n",
    "I considered carefully whether or not to remove duplicate titles. The argument for keeping is that at least on the StarWars subreddit, [reposting is explicitly forbidden](https://www.reddit.com/r/StarWars/wiki/rules#wiki_read_and_follow_reddiquette), so there's potentially a relationship between repetition and removal. However, as I'm interested in exploring the languaged used in the title's of removed posts and particularly word-counts, I'd rather lose the potential to explore patterns of repetition in favor of not overweighting the words appearing in the titles. On the day that I drew my data, there were 53 repeated Star Trek titles and 83 repeated Star Wars titles. These represent a relatively small number of data points.\n",
    "\n",
    "I also became curious to see if the blank 'selftext' rows reflected what appeared to be posts that consisted more-or-less solely of the title. That appears to be the case, so I'm going to keep those in the dataframe, as well. In addition to being able to use the titles, I'll be curious to see if there are discrepancies in how many posts of that type the two subredditors create.\n",
    "\n",
    "I'm going to pull 3500 of both Star Trek and Star Wars posts to ensure that I have at least 1000 of each that have text in their 'selftext', in case I decide to remove the blank and '[removed]' posts in analysis."
   ]
  },
  {
   "cell_type": "code",
   "execution_count": 22,
   "id": "2f449a46-9892-41f1-bbb9-e152a9642099",
   "metadata": {},
   "outputs": [
    {
     "name": "stdout",
     "output_type": "stream",
     "text": [
      "Initial number of duplicate titles: 5\n",
      "*************************\n",
      "Initial Shape: (500, 4)\n",
      "====================\n",
      "Initial Top 5 Value Counts: [removed]                                                                                                                                                                237\n",
      "                                                                                                                                                                          86\n",
      "https://imgur.com/a/M4OrgDc                                                                                                                                                2\n",
      "Do they have a ship name yet? What should it be? I like Spel.\\n\\nAlso, their kiss scene in ep 7 was fire, absolutely loved it!                                             1\n",
      "I’m watching some of the old episodes of everything here and there and I’ll be damned if I don’t love both their characters and the insight or the badasses they are.      1\n",
      "Name: selftext, dtype: int64\n",
      "\n",
      "====================\n",
      "\n",
      "Final Shape: (494, 4)\n",
      "====================\n",
      "Final Top 5 Value Counts: [removed]                                                                                                                                                                                                                                                                                             236\n",
      "                                                                                                                                                                                                                                                                                                       84\n",
      "The phasers make two sounds for stun and kill, but both are based on the sounds the phaser made in the Original Series at different points in time.                                                                                                                                                     1\n",
      "If the CO and XO/1SG went on all the away mission and got in trouble or stranded? \\n\\nThis happens all the time in Voyager (and probably the rest of them). \\n\\nNow I have to admit that wouldn’t have necessarily been a bad thing with some of the command teams I had while in the military. 😂😂      1\n",
      "Imagine that somehow wizards had remained hidden all the way into the 24th century and starfleet captains like Picard trying to figure all the crazy shit that was happening. Like they'd probably think it was Q messing with them.                                                                    1\n",
      "Name: selftext, dtype: int64\n",
      "*************************\n",
      "Final number of duplicate titles: 0\n"
     ]
    }
   ],
   "source": [
    "startrek = fun.clean_subreddit_df(startrek)"
   ]
  },
  {
   "cell_type": "markdown",
   "id": "5eb42bb7-290b-4f18-a56f-65836d61182a",
   "metadata": {},
   "source": [
    "## Verifying What's Still Duplicated - Star Trek Data\n",
    "The below is to confirm that the 'selftext' isn't repeated other than '[removed]', '[deleted]', '['']', and nulls, which I'll deal with later. Just checking for duplicates is not enough because of the repetition of those four things."
   ]
  },
  {
   "cell_type": "code",
   "execution_count": 23,
   "id": "7a09c206-14aa-41a2-a5cd-5ce12dc4a62a",
   "metadata": {},
   "outputs": [],
   "source": [
    "stonlytext = startrek[(startrek['selftext'] != '[removed]') & (startrek['selftext'].notnull()) & (startrek['selftext'] != '') & (startrek['selftext'] != '[deleted]')]"
   ]
  },
  {
   "cell_type": "code",
   "execution_count": 24,
   "id": "b0481499-360f-4fb8-8d44-a013dd2b6de5",
   "metadata": {},
   "outputs": [
    {
     "data": {
      "text/html": [
       "<div>\n",
       "<style scoped>\n",
       "    .dataframe tbody tr th:only-of-type {\n",
       "        vertical-align: middle;\n",
       "    }\n",
       "\n",
       "    .dataframe tbody tr th {\n",
       "        vertical-align: top;\n",
       "    }\n",
       "\n",
       "    .dataframe thead th {\n",
       "        text-align: right;\n",
       "    }\n",
       "</style>\n",
       "<table border=\"1\" class=\"dataframe\">\n",
       "  <thead>\n",
       "    <tr style=\"text-align: right;\">\n",
       "      <th></th>\n",
       "      <th>created_utc</th>\n",
       "      <th>selftext</th>\n",
       "      <th>subreddit</th>\n",
       "      <th>title</th>\n",
       "    </tr>\n",
       "  </thead>\n",
       "  <tbody>\n",
       "  </tbody>\n",
       "</table>\n",
       "</div>"
      ],
      "text/plain": [
       "Empty DataFrame\n",
       "Columns: [created_utc, selftext, subreddit, title]\n",
       "Index: []"
      ]
     },
     "execution_count": 24,
     "metadata": {},
     "output_type": "execute_result"
    }
   ],
   "source": [
    "stonlytext[stonlytext.duplicated(['selftext'])]"
   ]
  },
  {
   "cell_type": "code",
   "execution_count": 25,
   "id": "828e0bd6-cfb5-4bb6-b7dc-cdb777b23665",
   "metadata": {},
   "outputs": [
    {
     "data": {
      "text/html": [
       "<div>\n",
       "<style scoped>\n",
       "    .dataframe tbody tr th:only-of-type {\n",
       "        vertical-align: middle;\n",
       "    }\n",
       "\n",
       "    .dataframe tbody tr th {\n",
       "        vertical-align: top;\n",
       "    }\n",
       "\n",
       "    .dataframe thead th {\n",
       "        text-align: right;\n",
       "    }\n",
       "</style>\n",
       "<table border=\"1\" class=\"dataframe\">\n",
       "  <thead>\n",
       "    <tr style=\"text-align: right;\">\n",
       "      <th></th>\n",
       "      <th>created_utc</th>\n",
       "      <th>selftext</th>\n",
       "      <th>subreddit</th>\n",
       "      <th>title</th>\n",
       "    </tr>\n",
       "  </thead>\n",
       "  <tbody>\n",
       "    <tr>\n",
       "      <th>0</th>\n",
       "      <td>1656610303</td>\n",
       "      <td></td>\n",
       "      <td>StarWars</td>\n",
       "      <td>DALLE: Luke and Vader sitting together</td>\n",
       "    </tr>\n",
       "    <tr>\n",
       "      <th>1</th>\n",
       "      <td>1656610127</td>\n",
       "      <td>In Palpatine's speech to the Senate where he d...</td>\n",
       "      <td>StarWars</td>\n",
       "      <td>\"The attempt on my life\"</td>\n",
       "    </tr>\n",
       "    <tr>\n",
       "      <th>2</th>\n",
       "      <td>1656610059</td>\n",
       "      <td></td>\n",
       "      <td>StarWars</td>\n",
       "      <td>Book of Boba VHS</td>\n",
       "    </tr>\n",
       "    <tr>\n",
       "      <th>3</th>\n",
       "      <td>1656609635</td>\n",
       "      <td>Personally for me it’s Crimson Dawn, I just fi...</td>\n",
       "      <td>StarWars</td>\n",
       "      <td>What’s your favorite part of Star Wars?</td>\n",
       "    </tr>\n",
       "    <tr>\n",
       "      <th>4</th>\n",
       "      <td>1656609630</td>\n",
       "      <td>(This is just a thought I had, genuinely sorry...</td>\n",
       "      <td>StarWars</td>\n",
       "      <td>Anyone else think the Jedi order might just be...</td>\n",
       "    </tr>\n",
       "  </tbody>\n",
       "</table>\n",
       "</div>"
      ],
      "text/plain": [
       "   created_utc                                           selftext subreddit  \\\n",
       "0   1656610303                                                     StarWars   \n",
       "1   1656610127  In Palpatine's speech to the Senate where he d...  StarWars   \n",
       "2   1656610059                                                     StarWars   \n",
       "3   1656609635  Personally for me it’s Crimson Dawn, I just fi...  StarWars   \n",
       "4   1656609630  (This is just a thought I had, genuinely sorry...  StarWars   \n",
       "\n",
       "                                               title  \n",
       "0             DALLE: Luke and Vader sitting together  \n",
       "1                           \"The attempt on my life\"  \n",
       "2                                   Book of Boba VHS  \n",
       "3            What’s your favorite part of Star Wars?  \n",
       "4  Anyone else think the Jedi order might just be...  "
      ]
     },
     "execution_count": 25,
     "metadata": {},
     "output_type": "execute_result"
    }
   ],
   "source": [
    "starwars = fun.build_reddit_df('starwars', 3500)\n",
    "starwars.head()"
   ]
  },
  {
   "cell_type": "markdown",
   "id": "6da2e5dd-269b-47e6-87cc-fc497ee6dc4c",
   "metadata": {},
   "source": [
    "I'm backing this dataset up because otherwise I can't go back and explore the separate sets of posts without cleaning again because of the time-related nature of what's puled into the initial dataframe."
   ]
  },
  {
   "cell_type": "code",
   "execution_count": 26,
   "id": "f53258da-45fc-4c22-b7dd-069b5d10690e",
   "metadata": {},
   "outputs": [],
   "source": [
    "starwarsbackup = starwars.copy()"
   ]
  },
  {
   "cell_type": "code",
   "execution_count": 27,
   "id": "6afd518e-ddf7-4fe9-93b9-53c490eeaa2d",
   "metadata": {},
   "outputs": [
    {
     "name": "stdout",
     "output_type": "stream",
     "text": [
      "Initial number of duplicate titles: 10\n",
      "*************************\n",
      "Initial Shape: (500, 4)\n",
      "====================\n",
      "Initial Top 5 Value Counts:                                                                                                                                                                                                                                                                                                                                                                                                                                                                                                                                                                                                                                                                                                                                                                     293\n",
      "[removed]                                                                                                                                                                                                                                                                                                                                                                                                                                                                                                                                                                                                                                                                                                                                                            60\n",
      "Personally, I would want to be like Mace Windu. A Jedi that uses the Dark Side. But what about you?                                                                                                                                                                                                                                                                                                                                                                                                                                                                                                                                                                                                                                                                   1\n",
      "Is there any feasible way you guys think they could bring Luke back in the flesh? \\n\\nWhere do you guys think they should do with Rey after all that's happened? \\n\\nHow should they explore Finn's force sensitivity and Stormtropper arc that was there in TFA but sidelined until the end of TROS? \\n\\nWhat can they do with people like Poe and Rose? \\n\\nWhat should Lando's role be for the future of Star Wars now that pretty much all his friends are gone rn? \\n\\nHow would the political sphere of Star Wars would be post the destruction of the New Republic and First Order? \\n\\nWho/what should the new threat of this chapter in Star Wars? \\n\\nHow should they incorporate characters that are currently unaccounted for like Grogu and Ahsoka?      1\n",
      "Light or Dark?                                                                                                                                                                                                                                                                                                                                                                                                                                                                                                                                                                                                                                                                                                                                                        1\n",
      "Name: selftext, dtype: int64\n",
      "\n",
      "====================\n",
      "\n",
      "Final Shape: (490, 4)\n",
      "====================\n",
      "Final Top 5 Value Counts:                                                                                                                                                                                                                                                                                                                                                                                                                                                                                                                                                                                                                                                                                                                                                                                                                                                                                                                                                                                                                                                                                                                                                                                                                                                                                                                               289\n",
      "[removed]                                                                                                                                                                                                                                                                                                                                                                                                                                                                                                                                                                                                                                                                                                                                                                                                                                                                                                                                                                                                                                                                                                                                                                                                                                                                                                                      56\n",
      "My family has been out of town for the week so I’ve had far too much time to think about meaningless fictional subjects. I was thinking about how Jedi younglings come to be. there are a few things I know for sure about the Star Wars universe:\\n\\n1. Force sensitivity is inheritable\\n2. In keeping with this, everybody is always concerned about patronage (ex: \"who is the boy's father?\") in anybody that is strong in the force. This implies that inheritance is the main source force sensitivity.\\n3. Jedi do not form family attachments, and aside from a few of the exceptional people seen on screen are not shown to have children.\\n4. Force sensitive children or taken away from their families at a young age, and nobody seems to mind this.\\n5. Since force sensitive people do not seem to frequently reproduce, eventually you should run out of force sensitive people.\\n\\nSo my thought is this: perhaps there are some well-paid highly force sensitive gigolos that go round from planet to planet knocking up women so that the Jedi council can harvest these force sensitive children with no fuss nor muss. No attachment, a good supply to replenish their own numbers, and no angry family resisting the children being taken away from them.\\n\\nIt’s the only thing that makes sense.      1\n",
      "So I haven't played much of any Star Wars video games. A few old PS1/PS2 movie adaptations, a bit of the original Battlefronts... and otherwise not much of any of the games until I just played through Lego Skywalker Saga and Squadrons.\\n\\nLike I've heard about KOTOR, I've heard about Cal Kestis, but I don't know which game he's from, and which are canon/non-canon. I'm not against playing non canon games (especially if they're fun!)\\n\\nSo... which ones should I get and play?                                                                                                                                                                                                                                                                                                                                                                                                                                                                                                                                                                                                                                                                                                                                                                                                                                  1\n",
      "Could someone tell me if the plot involves a lot of screentime with the kids? I cant watch this at all if it keeps doing that, its honestly the most generic predictable plot I have seen so far from the star wars universe and the characters feel like they are acting out a role and not like actual people with emotions.\\nI would appreciate it if someone could tell me if this changes or not. Would save a whole lot of time.                                                                                                                                                                                                                                                                                                                                                                                                                                                                                                                                                                                                                                                                                                                                                                                                                                                                                          1\n",
      "Name: selftext, dtype: int64\n",
      "*************************\n",
      "Final number of duplicate titles: 0\n"
     ]
    }
   ],
   "source": [
    "starwars = fun.clean_subreddit_df(starwars)"
   ]
  },
  {
   "cell_type": "markdown",
   "id": "61abe574-f70b-49a0-affe-1bc3dc830c11",
   "metadata": {},
   "source": [
    "## Verifying What's Still Duplicated - Star Wars Data\n",
    "The below is to confirm that the 'selftext' isn't repeated other than '[removed]', '[deleted]', '['']', and nulls, which I'll deal with later. Just checking for duplicates is not enough because of the repetition of those four things."
   ]
  },
  {
   "cell_type": "code",
   "execution_count": 28,
   "id": "ff0c0602-2d26-4bd0-8131-a9d3e1f77532",
   "metadata": {},
   "outputs": [],
   "source": [
    "swonlytext = starwars[(starwars['selftext'] != '[removed]') & (starwars['selftext'].notnull()) & (starwars['selftext'] != '') & (starwars['selftext'] != '[deleted]')]"
   ]
  },
  {
   "cell_type": "code",
   "execution_count": 29,
   "id": "d2476259-ee77-44cf-84e0-292f5049b7bf",
   "metadata": {},
   "outputs": [
    {
     "data": {
      "text/html": [
       "<div>\n",
       "<style scoped>\n",
       "    .dataframe tbody tr th:only-of-type {\n",
       "        vertical-align: middle;\n",
       "    }\n",
       "\n",
       "    .dataframe tbody tr th {\n",
       "        vertical-align: top;\n",
       "    }\n",
       "\n",
       "    .dataframe thead th {\n",
       "        text-align: right;\n",
       "    }\n",
       "</style>\n",
       "<table border=\"1\" class=\"dataframe\">\n",
       "  <thead>\n",
       "    <tr style=\"text-align: right;\">\n",
       "      <th></th>\n",
       "      <th>created_utc</th>\n",
       "      <th>selftext</th>\n",
       "      <th>subreddit</th>\n",
       "      <th>title</th>\n",
       "    </tr>\n",
       "  </thead>\n",
       "  <tbody>\n",
       "  </tbody>\n",
       "</table>\n",
       "</div>"
      ],
      "text/plain": [
       "Empty DataFrame\n",
       "Columns: [created_utc, selftext, subreddit, title]\n",
       "Index: []"
      ]
     },
     "execution_count": 29,
     "metadata": {},
     "output_type": "execute_result"
    }
   ],
   "source": [
    "swonlytext[swonlytext.duplicated(['selftext'])]"
   ]
  },
  {
   "cell_type": "code",
   "execution_count": 30,
   "id": "ab444513-ba7b-42d2-a41a-1502d1082db3",
   "metadata": {},
   "outputs": [
    {
     "name": "stdout",
     "output_type": "stream",
     "text": [
      "Star Trek Shape: (494, 4)\n",
      "Star Wars Shape: (490, 4)\n",
      "Combined Shape: (984, 4)\n"
     ]
    }
   ],
   "source": [
    "df = pd.concat([startrek, starwars])\n",
    "print(f'Star Trek Shape: {startrek.shape}')\n",
    "print(f'Star Wars Shape: {starwars.shape}')\n",
    "print(f'Combined Shape: {df.shape}')"
   ]
  },
  {
   "cell_type": "code",
   "execution_count": 31,
   "id": "40eecf13-cc33-42e1-be84-5325d88b6b26",
   "metadata": {},
   "outputs": [
    {
     "data": {
      "text/plain": [
       "True"
      ]
     },
     "execution_count": 31,
     "metadata": {},
     "output_type": "execute_result"
    }
   ],
   "source": [
    "# verifiyng the concatenation adds up correctly, as determined by shape\n",
    "\n",
    "startrek.shape[0]+starwars.shape[0]==df.shape[0]"
   ]
  },
  {
   "cell_type": "code",
   "execution_count": 32,
   "id": "15e232ce-9915-471a-8eaf-6add6473aeb2",
   "metadata": {},
   "outputs": [
    {
     "data": {
      "text/plain": [
       "created_utc     int64\n",
       "selftext       object\n",
       "subreddit      object\n",
       "title          object\n",
       "dtype: object"
      ]
     },
     "execution_count": 32,
     "metadata": {},
     "output_type": "execute_result"
    }
   ],
   "source": [
    "# confirming datatypes are as expected\n",
    "\n",
    "df.dtypes"
   ]
  },
  {
   "cell_type": "markdown",
   "id": "ace40879-a013-46d5-890f-1c2414f6d50a",
   "metadata": {},
   "source": [
    "# Exporting Data to CSV\n",
    "Because the function always pullest the newest posts to the given subreddits, I've written the following to write the data to a csv marked with the date and to prevent the file from being overwritten if this cell is run more than once in a day. This seems particularly important to preserving the actual data that was used for my analysis.\n",
    "\n",
    "[This site](https://www.geeksforgeeks.org/python-datetime-module/) showed me how to call the date. I remembered we checked if a directory existed with `os` during the Excel Lab (2.01), but I needed [this site](https://www.pythontutorial.net/python-basics/python-check-if-file-exists/) to understand what to call to check if the file existed."
   ]
  },
  {
   "cell_type": "code",
   "execution_count": 33,
   "id": "bd80e69d-cf56-4175-8811-5e9e5fce3e20",
   "metadata": {},
   "outputs": [],
   "source": [
    "if os.path.exists(f'data/data{date.today()}.csv') == True:\n",
    "    print('ERROR: This filename exists. Please choose a different filename. FILE WAS NOT SAVED.')\n",
    "else:\n",
    "    df.to_csv(f'data/data{date.today()}.csv', index = False)"
   ]
  },
  {
   "cell_type": "code",
   "execution_count": 143,
   "id": "3ce8d0ae-412f-48a1-ac49-033e8597c598",
   "metadata": {},
   "outputs": [],
   "source": [
    "# below is a line that can be uncommented and used to create a new dataframe on the same date.\n",
    "# It's set to create data{TODAY'SDATE}-1.\n",
    "\n",
    "# df.to_csv(f'data/data{date.today()}-1.csv', index = False)"
   ]
  }
 ],
 "metadata": {
  "kernelspec": {
   "display_name": "Python [conda env:dsi]",
   "language": "python",
   "name": "conda-env-dsi-py"
  },
  "language_info": {
   "codemirror_mode": {
    "name": "ipython",
    "version": 3
   },
   "file_extension": ".py",
   "mimetype": "text/x-python",
   "name": "python",
   "nbconvert_exporter": "python",
   "pygments_lexer": "ipython3",
   "version": "3.9.12"
  }
 },
 "nbformat": 4,
 "nbformat_minor": 5
}
