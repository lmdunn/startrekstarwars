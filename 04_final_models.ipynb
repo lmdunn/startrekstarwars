{
 "cells": [
  {
   "cell_type": "code",
   "execution_count": 12,
   "id": "4c8c977a-00b8-40ab-895d-50246745fb81",
   "metadata": {},
   "outputs": [],
   "source": [
    "import pandas as pd\n",
    "import numpy as np\n",
    "import matplotlib.pyplot as plt\n",
    "\n",
    "from sklearn.linear_model import LogisticRegression\n",
    "from sklearn.naive_bayes import MultinomialNB\n",
    "from sklearn.model_selection import train_test_split, GridSearchCV\n",
    "from sklearn.feature_extraction.text import CountVectorizer, TfidfVectorizer\n",
    "from sklearn.pipeline import Pipeline\n",
    "from sklearn.metrics import confusion_matrix, plot_confusion_matrix\n",
    "from sklearn.feature_extraction import text\n",
    "\n",
    "from nltk.corpus import stopwords\n",
    "\n",
    "import time"
   ]
  },
  {
   "cell_type": "code",
   "execution_count": 2,
   "id": "d99f60c2-f77d-4b5e-bd17-1fc1c9e893dc",
   "metadata": {},
   "outputs": [
    {
     "data": {
      "text/html": [
       "<div>\n",
       "<style scoped>\n",
       "    .dataframe tbody tr th:only-of-type {\n",
       "        vertical-align: middle;\n",
       "    }\n",
       "\n",
       "    .dataframe tbody tr th {\n",
       "        vertical-align: top;\n",
       "    }\n",
       "\n",
       "    .dataframe thead th {\n",
       "        text-align: right;\n",
       "    }\n",
       "</style>\n",
       "<table border=\"1\" class=\"dataframe\">\n",
       "  <thead>\n",
       "    <tr style=\"text-align: right;\">\n",
       "      <th></th>\n",
       "      <th>subreddit_name</th>\n",
       "      <th>all_words</th>\n",
       "    </tr>\n",
       "  </thead>\n",
       "  <tbody>\n",
       "    <tr>\n",
       "      <th>0</th>\n",
       "      <td>startrek</td>\n",
       "      <td>I’m beaming and I had to share - Sir Patrick ...</td>\n",
       "    </tr>\n",
       "    <tr>\n",
       "      <th>1</th>\n",
       "      <td>startrek</td>\n",
       "      <td>America and the Star Trek Universe. Roe Vs Wa...</td>\n",
       "    </tr>\n",
       "    <tr>\n",
       "      <th>2</th>\n",
       "      <td>startrek</td>\n",
       "      <td>Analysis: Star Trek: The Next Generation’ Gue...</td>\n",
       "    </tr>\n",
       "    <tr>\n",
       "      <th>3</th>\n",
       "      <td>startrek</td>\n",
       "      <td>One of the first occasions in which the word ...</td>\n",
       "    </tr>\n",
       "    <tr>\n",
       "      <th>4</th>\n",
       "      <td>startrek</td>\n",
       "      <td>Is A TOS Reboot Coming Soon?</td>\n",
       "    </tr>\n",
       "  </tbody>\n",
       "</table>\n",
       "</div>"
      ],
      "text/plain": [
       "  subreddit_name                                          all_words\n",
       "0       startrek   I’m beaming and I had to share - Sir Patrick ...\n",
       "1       startrek   America and the Star Trek Universe. Roe Vs Wa...\n",
       "2       startrek   Analysis: Star Trek: The Next Generation’ Gue...\n",
       "3       startrek   One of the first occasions in which the word ...\n",
       "4       startrek                       Is A TOS Reboot Coming Soon?"
      ]
     },
     "execution_count": 2,
     "metadata": {},
     "output_type": "execute_result"
    }
   ],
   "source": [
    "df = pd.read_csv('data/cleaned_all_text2022-06-27.csv')\n",
    "\n",
    "df.head()"
   ]
  },
  {
   "cell_type": "markdown",
   "id": "230042c0-208c-45fa-ac0f-ef9128f9d1a6",
   "metadata": {
    "tags": []
   },
   "source": [
    "# Baseline Accuracy\n",
    "\n",
    "Our baseline accuracy is 57.2%"
   ]
  },
  {
   "cell_type": "code",
   "execution_count": 3,
   "id": "dd0e81bc-5030-475a-9b86-0af02464d874",
   "metadata": {},
   "outputs": [
    {
     "data": {
      "text/plain": [
       "starwars    0.572228\n",
       "startrek    0.427772\n",
       "Name: subreddit_name, dtype: float64"
      ]
     },
     "execution_count": 3,
     "metadata": {},
     "output_type": "execute_result"
    }
   ],
   "source": [
    "df.subreddit_name.value_counts(normalize = True)"
   ]
  },
  {
   "cell_type": "markdown",
   "id": "bacbfb27-8600-4a9d-84ca-1d3d44cd8848",
   "metadata": {},
   "source": [
    "# Prepping Data for Modeling\n",
    "\n",
    "Getting training and test data set up."
   ]
  },
  {
   "cell_type": "code",
   "execution_count": 5,
   "id": "05e9cab8-55cd-40e9-8666-62a2c06d8d2e",
   "metadata": {},
   "outputs": [
    {
     "name": "stdout",
     "output_type": "stream",
     "text": [
      "X_train shape: (3753,)\n",
      "y_train shape: (3753,)\n",
      "X_test shape: (1252,)\n",
      "y_test shape: (1252,)\n",
      "\n",
      "Dataframe shape: (5005, 2)\n",
      "\n",
      "y_train value counts: starwars    0.572342\n",
      "startrek    0.427658\n",
      "Name: subreddit_name, dtype: float64\n",
      "y_test value counts: starwars    0.571885\n",
      "startrek    0.428115\n",
      "Name: subreddit_name, dtype: float64\n"
     ]
    }
   ],
   "source": [
    "X = df['all_words']\n",
    "y = df['subreddit_name']\n",
    "\n",
    "X_train, X_test, y_train, y_test = train_test_split(X, y, random_state=42, stratify=y)\n",
    "\n",
    "print('X_train shape:', X_train.shape)\n",
    "print('y_train shape:', y_train.shape)\n",
    "print('X_test shape:', X_test.shape)\n",
    "print('y_test shape:', y_test.shape)\n",
    "print('')\n",
    "print('Dataframe shape:', df.shape)\n",
    "print('')\n",
    "print('y_train value counts:', y_train.value_counts(normalize = True))\n",
    "print('y_test value counts:', y_test.value_counts(normalize = True))"
   ]
  },
  {
   "cell_type": "code",
   "execution_count": 6,
   "id": "b6d1c7bb-3059-4083-a1ec-727f8dd778c3",
   "metadata": {
    "tags": []
   },
   "outputs": [],
   "source": [
    "def pipe_grid(pipe_params, grid_params):\n",
    "    '''\n",
    "    This function is designed to streamline gridsearching.\n",
    "    It returns a gridsearch named 'gs'\n",
    "    'pipe_params' should be a list of tuples consisting of a series of name/transform pairs followed by a name/model, \n",
    "            e.g. [('cvec', CountVectorizer()), ('log', LogisticRegression())]\n",
    "    'grid_params' should be a series of parameters for those transforms and the model in the form of a dictionary,\n",
    "            e.g. {'cvec__ngram_range': [(1,1), (1,2)]}\n",
    "    Be sure the names for the 'pipe_params' and in the 'grid_params match'\n",
    "    '''\n",
    "    global gs\n",
    "    \n",
    "    pipe = Pipeline(pipe_params)\n",
    "    \n",
    "    gs = GridSearchCV(pipe, grid_params)\n",
    "    \n",
    "    t0 = time.time()\n",
    "    return gs, print(f'Time to run function: {time.time() - t0}')"
   ]
  },
  {
   "cell_type": "markdown",
   "id": "c436c04a-8185-465f-a069-aa9a4c53e8cf",
   "metadata": {},
   "source": [
    "-----"
   ]
  },
  {
   "cell_type": "markdown",
   "id": "e9cb6d6c-0190-4026-a963-d365689c2bf4",
   "metadata": {},
   "source": [
    "I've decided to only work with the expanded stop words list. Without, it's too easy. I'm working w"
   ]
  },
  {
   "cell_type": "code",
   "execution_count": 13,
   "id": "a571705e-dc8e-4fdf-b31a-ca05c562a5e4",
   "metadata": {},
   "outputs": [],
   "source": [
    "expanded_proper_names = ['seven', 'clone', 'warp', 'borg', 'trilogy', 'contact', 'prequels', 'anakin', 'paramount', 'leia',\\\n",
    "                         'kirk', 'wan', 'jedi', 'kenobi', 'snw', 'wars', 'vader', 'order', 'skywalker', 'klingon', 'starfleet',\\\n",
    "                         'ds9', 'captain', 'maul', 'luke', 'obi', 'rebels', 'data', 'voyager', 'st', 'discovery', 'federation',\\\n",
    "                         'pike', 'picard', 'mandalorian', 'klingons', 'star', 'tng', 'reva', 'strange', 'disney', 'worf',\\\n",
    "                         'riker', 'empire', 'jurati', 'palpatine', 'yoda', 'force', 'darth', 'republic', 'lightsaber', 'sith',\\\n",
    "                         'spock', 'boba', 'fett', 'thought', 'inquisitor', 'trek', 'enterprise', 'tos']\n",
    "\n",
    "\n",
    "expanded_stop_words = text.ENGLISH_STOP_WORDS.union(expanded_proper_names)"
   ]
  },
  {
   "cell_type": "code",
   "execution_count": 16,
   "id": "79063945-fd16-4562-9d83-2a0432884f93",
   "metadata": {},
   "outputs": [
    {
     "name": "stdout",
     "output_type": "stream",
     "text": [
      "Time to run function: 2.1457672119140625e-06\n",
      "2.170448064804077\n",
      "Best parameters: {'nb__alpha': 0.5, 'tvec__max_df': 0.09, 'tvec__max_features': 4900, 'tvec__ngram_range': (1, 1), 'tvec__stop_words': frozenset({'several', 'such', 'while', 'tng', 'serious', 'via', 'throughout', 'find', 'not', 'anyone', 'above', 'get', 'its', 'at', 'clone', 'up', 'amoungst', 'your', 'now', 'when', 'picard', 'thereby', 'keep', 'see', 'four', 'almost', 'ourselves', 'herein', 'further', 'forty', 'are', 'have', 'maul', 'mill', 'again', 'hereupon', 'onto', 'anyhow', 'show', 'will', 'during', 'you', 'per', 'give', 'be', 'sixty', 'everything', 'whoever', 'mandalorian', 'part', 'cry', 'must', 'meanwhile', 'amount', 'reva', 'klingons', 'many', 'him', 'though', 'own', 'republic', 'each', 'always', 'trek', 'yourself', 'towards', 'it', 'name', 'then', 'someone', 'eg', 'often', 'that', 'am', 'i', 'yet', 'besides', 'move', 'might', 'go', 'system', 'within', 'latterly', 'under', 'is', 'ours', 'nobody', 'themselves', 'whereby', 'a', 'what', 'nor', 'only', 'kirk', 'paramount', 'across', 'here', 'herself', 'too', 'whatever', 'would', 'than', 'enough', 'same', 'every', 'everywhere', 'side', 'perhaps', 'how', 'two', 'down', 'whither', 'due', 'becoming', 'sincere', 'pike', 'nevertheless', 'with', 'without', 'hundred', 'borg', 'twelve', 'his', 'detail', 'back', 'voyager', 'being', 'become', 'them', 'me', 'their', 'third', 'thereupon', 'eleven', 'prequels', 'seems', 'jedi', 'call', 'luke', 'if', 'over', 'palpatine', 'around', 'sith', 'fifteen', 'of', 'warp', 'darth', 'had', 'as', 'federation', 'whence', 'ie', 'one', 'discovery', 'could', 'de', 'moreover', 'hasnt', 'ever', 'empty', 'although', 'never', 'once', 'bottom', 'top', 'still', 'elsewhere', 'please', 'but', 'latter', 'put', 'done', 'through', 'cant', 'few', 'however', 'con', 'may', 'boba', 'they', 'behind', 'also', 'bill', 'thence', 'everyone', 'thus', 'seven', 'either', 'etc', 'our', 'indeed', 'who', 'full', 'he', 'co', 'first', 'afterwards', 're', 'along', 'nine', 'she', 'whereafter', 'fire', 'nothing', 'by', 'us', 'since', 'those', 'none', 'very', 'fifty', 'thought', 'off', 'against', 'obi', 'otherwise', 'so', 'made', 'to', 'enterprise', 'these', 'vader', 'inc', 'hereafter', 'hereby', 'becomes', 'order', 'seemed', 'interest', 'empire', 'all', 'couldnt', 'before', 'rather', 'into', 'cannot', 'captain', 'why', 'yourselves', 'tos', 'itself', 'nowhere', 'between', 'already', 'do', 'six', 'therein', 'whole', 'from', 'noone', 'well', 'spock', 'take', 'anything', 'anywhere', 'there', 'was', 'an', 'next', 'lightsaber', 'ds9', 'has', 'wherever', 'even', 'thin', 'thereafter', 'upon', 'ltd', 'formerly', 'klingon', 'riker', 'front', 'were', 'yours', 'toward', 'myself', 'beside', 'until', 'ten', 'been', 'trilogy', 'alone', 'somehow', 'rebels', 'something', 'below', 'out', 'after', 'fill', 'among', 'sometimes', 'can', 'thru', 'yoda', 'or', 'force', 'seem', 'skywalker', 'some', 'more', 'which', 'about', 'became', 'last', 'where', 'we', 'strange', 'because', 'her', 'therefore', 'mine', 'star', 'st', 'data', 'snw', 'another', 'worf', 'hence', 'else', 'anakin', 'the', 'other', 'describe', 'in', 'whereupon', 'wars', 'five', 'seeming', 'my', 'twenty', 'jurati', 'whereas', 'and', 'fett', 'anyway', 'beforehand', 'both', 'found', 'himself', 'somewhere', 'should', 'wan', 'except', 'less', 'three', 'inquisitor', 'eight', 'others', 'for', 'whether', 'whose', 'kenobi', 'much', 'most', 'this', 'former', 'contact', 'starfleet', 'neither', 'sometime', 'disney', 'mostly', 'on', 'whom', 'wherein', 'hers', 'leia', 'together', 'thick', 'beyond', 'amongst', 'un', 'no', 'least', 'namely', 'any', 'whenever'})}\n",
      "Training score: 0.9536370903277378\n",
      "Test score: 0.8769968051118211\n"
     ]
    }
   ],
   "source": [
    "# BEST MODEL 3.2, EXPANDED STOP WORDS: Training score: 0.9536370903277378 Test score: 0.8769968051118211\n",
    "\n",
    "pipe_params = [('tvec', TfidfVectorizer()), \n",
    "               ('nb', MultinomialNB())]\n",
    "\n",
    "grid_params = {\n",
    "    'tvec__ngram_range': [(1,1)],\n",
    "    'tvec__stop_words': [expanded_stop_words],\n",
    "    'tvec__max_df': [0.09],\n",
    "    'tvec__max_features': [4_900],\n",
    "    'nb__alpha': [0.5, 1.0, 1.5]\n",
    "    \n",
    "}\n",
    "\n",
    "pipe_grid(pipe_params, grid_params)\n",
    "\n",
    "t0 = time.time()\n",
    "gs.fit(X_train, y_train)\n",
    "print(time.time()-t0)\n",
    "\n",
    "print(f'Best parameters: {gs.best_params_}')\n",
    "print(f'Training score: {gs.score(X_train, y_train)}')\n",
    "print(f'Test score: {gs.score(X_test, y_test)}')"
   ]
  },
  {
   "cell_type": "code",
   "execution_count": 16,
   "id": "eb4ea1d0",
   "metadata": {},
   "outputs": [
    {
     "name": "stdout",
     "output_type": "stream",
     "text": [
      "Time to run function: 2.1457672119140625e-06\n",
      "2.170448064804077\n",
      "Best parameters: {'nb__alpha': 0.5, 'tvec__max_df': 0.09, 'tvec__max_features': 4900, 'tvec__ngram_range': (1, 1), 'tvec__stop_words': frozenset({'several', 'such', 'while', 'tng', 'serious', 'via', 'throughout', 'find', 'not', 'anyone', 'above', 'get', 'its', 'at', 'clone', 'up', 'amoungst', 'your', 'now', 'when', 'picard', 'thereby', 'keep', 'see', 'four', 'almost', 'ourselves', 'herein', 'further', 'forty', 'are', 'have', 'maul', 'mill', 'again', 'hereupon', 'onto', 'anyhow', 'show', 'will', 'during', 'you', 'per', 'give', 'be', 'sixty', 'everything', 'whoever', 'mandalorian', 'part', 'cry', 'must', 'meanwhile', 'amount', 'reva', 'klingons', 'many', 'him', 'though', 'own', 'republic', 'each', 'always', 'trek', 'yourself', 'towards', 'it', 'name', 'then', 'someone', 'eg', 'often', 'that', 'am', 'i', 'yet', 'besides', 'move', 'might', 'go', 'system', 'within', 'latterly', 'under', 'is', 'ours', 'nobody', 'themselves', 'whereby', 'a', 'what', 'nor', 'only', 'kirk', 'paramount', 'across', 'here', 'herself', 'too', 'whatever', 'would', 'than', 'enough', 'same', 'every', 'everywhere', 'side', 'perhaps', 'how', 'two', 'down', 'whither', 'due', 'becoming', 'sincere', 'pike', 'nevertheless', 'with', 'without', 'hundred', 'borg', 'twelve', 'his', 'detail', 'back', 'voyager', 'being', 'become', 'them', 'me', 'their', 'third', 'thereupon', 'eleven', 'prequels', 'seems', 'jedi', 'call', 'luke', 'if', 'over', 'palpatine', 'around', 'sith', 'fifteen', 'of', 'warp', 'darth', 'had', 'as', 'federation', 'whence', 'ie', 'one', 'discovery', 'could', 'de', 'moreover', 'hasnt', 'ever', 'empty', 'although', 'never', 'once', 'bottom', 'top', 'still', 'elsewhere', 'please', 'but', 'latter', 'put', 'done', 'through', 'cant', 'few', 'however', 'con', 'may', 'boba', 'they', 'behind', 'also', 'bill', 'thence', 'everyone', 'thus', 'seven', 'either', 'etc', 'our', 'indeed', 'who', 'full', 'he', 'co', 'first', 'afterwards', 're', 'along', 'nine', 'she', 'whereafter', 'fire', 'nothing', 'by', 'us', 'since', 'those', 'none', 'very', 'fifty', 'thought', 'off', 'against', 'obi', 'otherwise', 'so', 'made', 'to', 'enterprise', 'these', 'vader', 'inc', 'hereafter', 'hereby', 'becomes', 'order', 'seemed', 'interest', 'empire', 'all', 'couldnt', 'before', 'rather', 'into', 'cannot', 'captain', 'why', 'yourselves', 'tos', 'itself', 'nowhere', 'between', 'already', 'do', 'six', 'therein', 'whole', 'from', 'noone', 'well', 'spock', 'take', 'anything', 'anywhere', 'there', 'was', 'an', 'next', 'lightsaber', 'ds9', 'has', 'wherever', 'even', 'thin', 'thereafter', 'upon', 'ltd', 'formerly', 'klingon', 'riker', 'front', 'were', 'yours', 'toward', 'myself', 'beside', 'until', 'ten', 'been', 'trilogy', 'alone', 'somehow', 'rebels', 'something', 'below', 'out', 'after', 'fill', 'among', 'sometimes', 'can', 'thru', 'yoda', 'or', 'force', 'seem', 'skywalker', 'some', 'more', 'which', 'about', 'became', 'last', 'where', 'we', 'strange', 'because', 'her', 'therefore', 'mine', 'star', 'st', 'data', 'snw', 'another', 'worf', 'hence', 'else', 'anakin', 'the', 'other', 'describe', 'in', 'whereupon', 'wars', 'five', 'seeming', 'my', 'twenty', 'jurati', 'whereas', 'and', 'fett', 'anyway', 'beforehand', 'both', 'found', 'himself', 'somewhere', 'should', 'wan', 'except', 'less', 'three', 'inquisitor', 'eight', 'others', 'for', 'whether', 'whose', 'kenobi', 'much', 'most', 'this', 'former', 'contact', 'starfleet', 'neither', 'sometime', 'disney', 'mostly', 'on', 'whom', 'wherein', 'hers', 'leia', 'together', 'thick', 'beyond', 'amongst', 'un', 'no', 'least', 'namely', 'any', 'whenever'})}\n",
      "Training score: 0.9536370903277378\n",
      "Test score: 0.8769968051118211\n"
     ]
    }
   ],
   "source": [
    "# BEST MODEL 3.2, EXPANDED STOP WORDS: Training score: 0.9536370903277378 Test score: 0.8769968051118211\n",
    "\n",
    "pipe_params = [('tvec', TfidfVectorizer()), \n",
    "               ('nb', MultinomialNB())]\n",
    "\n",
    "grid_params = {\n",
    "    'tvec__ngram_range': [(1,1)],\n",
    "    'tvec__stop_words': [expanded_stop_words],\n",
    "    'tvec__max_df': [0.09],\n",
    "    'tvec__max_features': [4_900],\n",
    "    'nb__alpha': [0.5, 1.0, 1.5]\n",
    "    \n",
    "}\n",
    "\n",
    "pipe_grid(pipe_params, grid_params)\n",
    "\n",
    "t0 = time.time()\n",
    "gs.fit(X_train, y_train)\n",
    "print(time.time()-t0)\n",
    "\n",
    "print(f'Best parameters: {gs.best_params_}')\n",
    "print(f'Training score: {gs.score(X_train, y_train)}')\n",
    "print(f'Test score: {gs.score(X_test, y_test)}')"
   ]
  },
  {
   "cell_type": "code",
   "execution_count": 15,
   "id": "ad91c7dd-af1b-4f57-977d-75af3ba68fd4",
   "metadata": {},
   "outputs": [
    {
     "name": "stdout",
     "output_type": "stream",
     "text": [
      "Time to run function: 2.86102294921875e-06\n",
      "0.8099210262298584\n",
      "Best parameters: {'cvec__max_df': 0.24, 'cvec__max_features': 7000, 'cvec__ngram_range': (1, 1), 'cvec__stop_words': frozenset({'several', 'such', 'while', 'tng', 'serious', 'via', 'throughout', 'find', 'not', 'anyone', 'above', 'get', 'its', 'at', 'clone', 'up', 'amoungst', 'your', 'now', 'when', 'picard', 'thereby', 'keep', 'see', 'four', 'almost', 'ourselves', 'herein', 'further', 'forty', 'are', 'have', 'maul', 'mill', 'again', 'hereupon', 'onto', 'anyhow', 'show', 'will', 'during', 'you', 'per', 'give', 'be', 'sixty', 'everything', 'whoever', 'mandalorian', 'part', 'cry', 'must', 'meanwhile', 'amount', 'reva', 'klingons', 'many', 'him', 'though', 'own', 'republic', 'each', 'always', 'trek', 'yourself', 'towards', 'it', 'name', 'then', 'someone', 'eg', 'often', 'that', 'am', 'i', 'yet', 'besides', 'move', 'might', 'go', 'system', 'within', 'latterly', 'under', 'is', 'ours', 'nobody', 'themselves', 'whereby', 'a', 'what', 'nor', 'only', 'kirk', 'paramount', 'across', 'here', 'herself', 'too', 'whatever', 'would', 'than', 'enough', 'same', 'every', 'everywhere', 'side', 'perhaps', 'how', 'two', 'down', 'whither', 'due', 'becoming', 'sincere', 'pike', 'nevertheless', 'with', 'without', 'hundred', 'borg', 'twelve', 'his', 'detail', 'back', 'voyager', 'being', 'become', 'them', 'me', 'their', 'third', 'thereupon', 'eleven', 'prequels', 'seems', 'jedi', 'call', 'luke', 'if', 'over', 'palpatine', 'around', 'sith', 'fifteen', 'of', 'warp', 'darth', 'had', 'as', 'federation', 'whence', 'ie', 'one', 'discovery', 'could', 'de', 'moreover', 'hasnt', 'ever', 'empty', 'although', 'never', 'once', 'bottom', 'top', 'still', 'elsewhere', 'please', 'but', 'latter', 'put', 'done', 'through', 'cant', 'few', 'however', 'con', 'may', 'boba', 'they', 'behind', 'also', 'bill', 'thence', 'everyone', 'thus', 'seven', 'either', 'etc', 'our', 'indeed', 'who', 'full', 'he', 'co', 'first', 'afterwards', 're', 'along', 'nine', 'she', 'whereafter', 'fire', 'nothing', 'by', 'us', 'since', 'those', 'none', 'very', 'fifty', 'thought', 'off', 'against', 'obi', 'otherwise', 'so', 'made', 'to', 'enterprise', 'these', 'vader', 'inc', 'hereafter', 'hereby', 'becomes', 'order', 'seemed', 'interest', 'empire', 'all', 'couldnt', 'before', 'rather', 'into', 'cannot', 'captain', 'why', 'yourselves', 'tos', 'itself', 'nowhere', 'between', 'already', 'do', 'six', 'therein', 'whole', 'from', 'noone', 'well', 'spock', 'take', 'anything', 'anywhere', 'there', 'was', 'an', 'next', 'lightsaber', 'ds9', 'has', 'wherever', 'even', 'thin', 'thereafter', 'upon', 'ltd', 'formerly', 'klingon', 'riker', 'front', 'were', 'yours', 'toward', 'myself', 'beside', 'until', 'ten', 'been', 'trilogy', 'alone', 'somehow', 'rebels', 'something', 'below', 'out', 'after', 'fill', 'among', 'sometimes', 'can', 'thru', 'yoda', 'or', 'force', 'seem', 'skywalker', 'some', 'more', 'which', 'about', 'became', 'last', 'where', 'we', 'strange', 'because', 'her', 'therefore', 'mine', 'star', 'st', 'data', 'snw', 'another', 'worf', 'hence', 'else', 'anakin', 'the', 'other', 'describe', 'in', 'whereupon', 'wars', 'five', 'seeming', 'my', 'twenty', 'jurati', 'whereas', 'and', 'fett', 'anyway', 'beforehand', 'both', 'found', 'himself', 'somewhere', 'should', 'wan', 'except', 'less', 'three', 'inquisitor', 'eight', 'others', 'for', 'whether', 'whose', 'kenobi', 'much', 'most', 'this', 'former', 'contact', 'starfleet', 'neither', 'sometime', 'disney', 'mostly', 'on', 'whom', 'wherein', 'hers', 'leia', 'together', 'thick', 'beyond', 'amongst', 'un', 'no', 'least', 'namely', 'any', 'whenever'}), 'nb__alpha': 1.0}\n",
      "Training score: 0.9344524380495604\n",
      "Test score: 0.8801916932907349\n"
     ]
    }
   ],
   "source": [
    "# Best Model 2.2 Training score: 0.9344524380495604 Test score: 0.8801916932907349\n",
    "#BEST VERSION SO FAR\n",
    "\n",
    "pipe_params = [('cvec', CountVectorizer()), \n",
    "               ('nb', MultinomialNB())]\n",
    "\n",
    "grid_params = {\n",
    "    'cvec__ngram_range': [(1,1)],\n",
    "    'cvec__stop_words': [expanded_stop_words],\n",
    "    'cvec__max_df': [0.24],\n",
    "    'cvec__max_features': [7_000],\n",
    "    'nb__alpha': [1.0]    \n",
    "}\n",
    "\n",
    "pipe_grid(pipe_params, grid_params)\n",
    "\n",
    "t0 = time.time()\n",
    "gs.fit(X_train, y_train)\n",
    "print(time.time()-t0)\n",
    "\n",
    "print(f'Best parameters: {gs.best_params_}')\n",
    "print(f'Training score: {gs.score(X_train, y_train)}')\n",
    "print(f'Test score: {gs.score(X_test, y_test)}')"
   ]
  },
  {
   "cell_type": "code",
   "execution_count": 17,
   "id": "af5a9616-e124-4b2a-ba15-3c5f9e03eafb",
   "metadata": {},
   "outputs": [
    {
     "name": "stdout",
     "output_type": "stream",
     "text": [
      "Time to run function: 9.5367431640625e-07\n",
      "2.4627199172973633\n",
      "Best parameters: {'cvec__max_df': 0.09, 'cvec__max_features': 4500, 'cvec__ngram_range': (1, 1), 'cvec__stop_words': frozenset({'several', 'such', 'while', 'tng', 'serious', 'via', 'throughout', 'find', 'not', 'anyone', 'above', 'get', 'its', 'at', 'clone', 'up', 'amoungst', 'your', 'now', 'when', 'picard', 'thereby', 'keep', 'see', 'four', 'almost', 'ourselves', 'herein', 'further', 'forty', 'are', 'have', 'maul', 'mill', 'again', 'hereupon', 'onto', 'anyhow', 'show', 'will', 'during', 'you', 'per', 'give', 'be', 'sixty', 'everything', 'whoever', 'mandalorian', 'part', 'cry', 'must', 'meanwhile', 'amount', 'reva', 'klingons', 'many', 'him', 'though', 'own', 'republic', 'each', 'always', 'trek', 'yourself', 'towards', 'it', 'name', 'then', 'someone', 'eg', 'often', 'that', 'am', 'i', 'yet', 'besides', 'move', 'might', 'go', 'system', 'within', 'latterly', 'under', 'is', 'ours', 'nobody', 'themselves', 'whereby', 'a', 'what', 'nor', 'only', 'kirk', 'paramount', 'across', 'here', 'herself', 'too', 'whatever', 'would', 'than', 'enough', 'same', 'every', 'everywhere', 'side', 'perhaps', 'how', 'two', 'down', 'whither', 'due', 'becoming', 'sincere', 'pike', 'nevertheless', 'with', 'without', 'hundred', 'borg', 'twelve', 'his', 'detail', 'back', 'voyager', 'being', 'become', 'them', 'me', 'their', 'third', 'thereupon', 'eleven', 'prequels', 'seems', 'jedi', 'call', 'luke', 'if', 'over', 'palpatine', 'around', 'sith', 'fifteen', 'of', 'warp', 'darth', 'had', 'as', 'federation', 'whence', 'ie', 'one', 'discovery', 'could', 'de', 'moreover', 'hasnt', 'ever', 'empty', 'although', 'never', 'once', 'bottom', 'top', 'still', 'elsewhere', 'please', 'but', 'latter', 'put', 'done', 'through', 'cant', 'few', 'however', 'con', 'may', 'boba', 'they', 'behind', 'also', 'bill', 'thence', 'everyone', 'thus', 'seven', 'either', 'etc', 'our', 'indeed', 'who', 'full', 'he', 'co', 'first', 'afterwards', 're', 'along', 'nine', 'she', 'whereafter', 'fire', 'nothing', 'by', 'us', 'since', 'those', 'none', 'very', 'fifty', 'thought', 'off', 'against', 'obi', 'otherwise', 'so', 'made', 'to', 'enterprise', 'these', 'vader', 'inc', 'hereafter', 'hereby', 'becomes', 'order', 'seemed', 'interest', 'empire', 'all', 'couldnt', 'before', 'rather', 'into', 'cannot', 'captain', 'why', 'yourselves', 'tos', 'itself', 'nowhere', 'between', 'already', 'do', 'six', 'therein', 'whole', 'from', 'noone', 'well', 'spock', 'take', 'anything', 'anywhere', 'there', 'was', 'an', 'next', 'lightsaber', 'ds9', 'has', 'wherever', 'even', 'thin', 'thereafter', 'upon', 'ltd', 'formerly', 'klingon', 'riker', 'front', 'were', 'yours', 'toward', 'myself', 'beside', 'until', 'ten', 'been', 'trilogy', 'alone', 'somehow', 'rebels', 'something', 'below', 'out', 'after', 'fill', 'among', 'sometimes', 'can', 'thru', 'yoda', 'or', 'force', 'seem', 'skywalker', 'some', 'more', 'which', 'about', 'became', 'last', 'where', 'we', 'strange', 'because', 'her', 'therefore', 'mine', 'star', 'st', 'data', 'snw', 'another', 'worf', 'hence', 'else', 'anakin', 'the', 'other', 'describe', 'in', 'whereupon', 'wars', 'five', 'seeming', 'my', 'twenty', 'jurati', 'whereas', 'and', 'fett', 'anyway', 'beforehand', 'both', 'found', 'himself', 'somewhere', 'should', 'wan', 'except', 'less', 'three', 'inquisitor', 'eight', 'others', 'for', 'whether', 'whose', 'kenobi', 'much', 'most', 'this', 'former', 'contact', 'starfleet', 'neither', 'sometime', 'disney', 'mostly', 'on', 'whom', 'wherein', 'hers', 'leia', 'together', 'thick', 'beyond', 'amongst', 'un', 'no', 'least', 'namely', 'any', 'whenever'}), 'log__C': 1.5}\n",
      "Training score: 0.9746869171329603\n",
      "Test score: 0.8442492012779552\n"
     ]
    }
   ],
   "source": [
    "#best version of 1.2 with expanded stop word list Training score: 0.9746869171329603 # Test score: 0.8442492012779552\n",
    "#2.2 still superior\n",
    "pipe_params = [('cvec', CountVectorizer()), \n",
    "               ('log', LogisticRegression(max_iter = 10_000))]\n",
    "\n",
    "grid_params = {\n",
    "    'cvec__ngram_range': [(1,1)],\n",
    "    'cvec__stop_words': [expanded_stop_words],\n",
    "    'cvec__max_df': [0.09],\n",
    "    'cvec__max_features': [4_500],\n",
    "    'log__C': [1.5, 1.6]\n",
    "    \n",
    "}\n",
    "\n",
    "pipe_grid(pipe_params, grid_params)\n",
    "\n",
    "t0 = time.time()\n",
    "gs.fit(X_train, y_train)\n",
    "print(time.time()-t0)\n",
    "\n",
    "print(f'Best parameters: {gs.best_params_}')\n",
    "print(f'Training score: {gs.score(X_train, y_train)}')\n",
    "print(f'Test score: {gs.score(X_test, y_test)}')"
   ]
  },
  {
   "cell_type": "code",
   "execution_count": 18,
   "id": "54164d97-331e-4699-afc3-dbf9deaf39b6",
   "metadata": {},
   "outputs": [
    {
     "name": "stdout",
     "output_type": "stream",
     "text": [
      "Time to run function: 9.5367431640625e-07\n",
      "1.9262306690216064\n",
      "Best parameters: {'log__C': 1.5, 'tvec__max_df': 0.21, 'tvec__max_features': 4900, 'tvec__ngram_range': (1, 2), 'tvec__stop_words': frozenset({'several', 'such', 'while', 'tng', 'serious', 'via', 'throughout', 'find', 'not', 'anyone', 'above', 'get', 'its', 'at', 'clone', 'up', 'amoungst', 'your', 'now', 'when', 'picard', 'thereby', 'keep', 'see', 'four', 'almost', 'ourselves', 'herein', 'further', 'forty', 'are', 'have', 'maul', 'mill', 'again', 'hereupon', 'onto', 'anyhow', 'show', 'will', 'during', 'you', 'per', 'give', 'be', 'sixty', 'everything', 'whoever', 'mandalorian', 'part', 'cry', 'must', 'meanwhile', 'amount', 'reva', 'klingons', 'many', 'him', 'though', 'own', 'republic', 'each', 'always', 'trek', 'yourself', 'towards', 'it', 'name', 'then', 'someone', 'eg', 'often', 'that', 'am', 'i', 'yet', 'besides', 'move', 'might', 'go', 'system', 'within', 'latterly', 'under', 'is', 'ours', 'nobody', 'themselves', 'whereby', 'a', 'what', 'nor', 'only', 'kirk', 'paramount', 'across', 'here', 'herself', 'too', 'whatever', 'would', 'than', 'enough', 'same', 'every', 'everywhere', 'side', 'perhaps', 'how', 'two', 'down', 'whither', 'due', 'becoming', 'sincere', 'pike', 'nevertheless', 'with', 'without', 'hundred', 'borg', 'twelve', 'his', 'detail', 'back', 'voyager', 'being', 'become', 'them', 'me', 'their', 'third', 'thereupon', 'eleven', 'prequels', 'seems', 'jedi', 'call', 'luke', 'if', 'over', 'palpatine', 'around', 'sith', 'fifteen', 'of', 'warp', 'darth', 'had', 'as', 'federation', 'whence', 'ie', 'one', 'discovery', 'could', 'de', 'moreover', 'hasnt', 'ever', 'empty', 'although', 'never', 'once', 'bottom', 'top', 'still', 'elsewhere', 'please', 'but', 'latter', 'put', 'done', 'through', 'cant', 'few', 'however', 'con', 'may', 'boba', 'they', 'behind', 'also', 'bill', 'thence', 'everyone', 'thus', 'seven', 'either', 'etc', 'our', 'indeed', 'who', 'full', 'he', 'co', 'first', 'afterwards', 're', 'along', 'nine', 'she', 'whereafter', 'fire', 'nothing', 'by', 'us', 'since', 'those', 'none', 'very', 'fifty', 'thought', 'off', 'against', 'obi', 'otherwise', 'so', 'made', 'to', 'enterprise', 'these', 'vader', 'inc', 'hereafter', 'hereby', 'becomes', 'order', 'seemed', 'interest', 'empire', 'all', 'couldnt', 'before', 'rather', 'into', 'cannot', 'captain', 'why', 'yourselves', 'tos', 'itself', 'nowhere', 'between', 'already', 'do', 'six', 'therein', 'whole', 'from', 'noone', 'well', 'spock', 'take', 'anything', 'anywhere', 'there', 'was', 'an', 'next', 'lightsaber', 'ds9', 'has', 'wherever', 'even', 'thin', 'thereafter', 'upon', 'ltd', 'formerly', 'klingon', 'riker', 'front', 'were', 'yours', 'toward', 'myself', 'beside', 'until', 'ten', 'been', 'trilogy', 'alone', 'somehow', 'rebels', 'something', 'below', 'out', 'after', 'fill', 'among', 'sometimes', 'can', 'thru', 'yoda', 'or', 'force', 'seem', 'skywalker', 'some', 'more', 'which', 'about', 'became', 'last', 'where', 'we', 'strange', 'because', 'her', 'therefore', 'mine', 'star', 'st', 'data', 'snw', 'another', 'worf', 'hence', 'else', 'anakin', 'the', 'other', 'describe', 'in', 'whereupon', 'wars', 'five', 'seeming', 'my', 'twenty', 'jurati', 'whereas', 'and', 'fett', 'anyway', 'beforehand', 'both', 'found', 'himself', 'somewhere', 'should', 'wan', 'except', 'less', 'three', 'inquisitor', 'eight', 'others', 'for', 'whether', 'whose', 'kenobi', 'much', 'most', 'this', 'former', 'contact', 'starfleet', 'neither', 'sometime', 'disney', 'mostly', 'on', 'whom', 'wherein', 'hers', 'leia', 'together', 'thick', 'beyond', 'amongst', 'un', 'no', 'least', 'namely', 'any', 'whenever'})}\n",
      "Training score: 0.9509725552891021\n",
      "Test score: 0.8618210862619808\n"
     ]
    }
   ],
   "source": [
    "#PREFERRED VERSION OF THIS MODEL, 4.2, expanded stop word list Training score: 0.9547029043431922 Test score: 0.8618210862619808\n",
    "#2.2 is the best version, but this is the best logreg for purposes of inference.\n",
    "pipe_params = [('tvec', TfidfVectorizer()), \n",
    "               ('log', LogisticRegression(max_iter=10_000))]\n",
    "\n",
    "grid_params = {\n",
    "    'tvec__ngram_range': [(1,2)],\n",
    "    'tvec__stop_words': [expanded_stop_words],\n",
    "    'tvec__max_df': [0.21],\n",
    "    'tvec__max_features': [4_900],\n",
    "    'log__C': [1.5]\n",
    "    \n",
    "}\n",
    "\n",
    "pipe_grid(pipe_params, grid_params)\n",
    "\n",
    "t0 = time.time()\n",
    "gs.fit(X_train, y_train)\n",
    "print(time.time()-t0)\n",
    "\n",
    "print(f'Best parameters: {gs.best_params_}')\n",
    "print(f'Training score: {gs.score(X_train, y_train)}')\n",
    "print(f'Test score: {gs.score(X_test, y_test)}')"
   ]
  },
  {
   "cell_type": "code",
   "execution_count": null,
   "id": "204a7b28-d2b5-4e6e-b4f5-ed607b58a926",
   "metadata": {},
   "outputs": [],
   "source": []
  }
 ],
 "metadata": {
  "kernelspec": {
   "display_name": "Python [conda env:dsi]",
   "language": "python",
   "name": "conda-env-dsi-py"
  },
  "language_info": {
   "codemirror_mode": {
    "name": "ipython",
    "version": 3
   },
   "file_extension": ".py",
   "mimetype": "text/x-python",
   "name": "python",
   "nbconvert_exporter": "python",
   "pygments_lexer": "ipython3",
   "version": "3.9.12"
  }
 },
 "nbformat": 4,
 "nbformat_minor": 5
}
